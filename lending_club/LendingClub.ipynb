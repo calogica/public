{
 "cells": [
  {
   "cell_type": "markdown",
   "metadata": {},
   "source": [
    "# Lending Club Prediction Models"
   ]
  },
  {
   "cell_type": "markdown",
   "metadata": {},
   "source": [
    "The following was inspired by a very good yhat blog post that created a prediction model for Lending Club loans using R:\n",
    "http://blog.yhathq.com/posts/machine-learning-for-predicting-bad-loans.html\n",
    "\n",
    "The point of this exercise was to translate the yhat post into Python as much as possible and use sci-kit learn to evaluate several Machine Learning models."
   ]
  },
  {
   "cell_type": "code",
   "execution_count": 1,
   "metadata": {
    "collapsed": false
   },
   "outputs": [],
   "source": [
    "import pandas as pd\n",
    "import numpy as np\n",
    "import datetime as dt\n",
    "import matplotlib.pyplot as plt\n",
    "import seaborn as sns\n",
    "import datetime\n",
    "\n",
    "import model_eval\n",
    "\n",
    "pd.options.mode.chained_assignment = None\n",
    "\n",
    "sns.set(color_codes=True)\n",
    "\n",
    "%matplotlib inline"
   ]
  },
  {
   "cell_type": "markdown",
   "metadata": {},
   "source": [
    "## Data Acquisition\n",
    "Lending Club helpfully publishes anonymized loan data in csv format, which we'll use for this analysis.\n",
    "You have to have a Lending Club log in to access the data, which is available here:\n",
    "https://www.lendingclub.com/info/download-data.action\n",
    "\n",
    "I've copied the files used in this analysis to a public Dropbox folder here:\n",
    "https://dl.dropboxusercontent.com/u/12406727/Data/\n",
    "\n",
    "To start, we'll load the files into a single pandas data frame:"
   ]
  },
  {
   "cell_type": "code",
   "execution_count": 8,
   "metadata": {
    "collapsed": false
   },
   "outputs": [],
   "source": [
    "# file_base_url = \"https://dl.dropboxusercontent.com/u/12406727/Data/{0}\"\n",
    "file_base_url = '/Users/claus/Dropbox/Public/Data/{0}'"
   ]
  },
  {
   "cell_type": "code",
   "execution_count": null,
   "metadata": {
    "collapsed": true
   },
   "outputs": [],
   "source": [
    "files = ['LoanStats3a_securev1.csv', \n",
    "         'LoanStats3b_securev1.csv', \n",
    "         'LoanStats3c_securev1.csv', \n",
    "         'LoanStats3d_securev1.csv']\n",
    "\n",
    "df = pd.DataFrame()\n",
    "\n",
    "for f in files:\n",
    "    d = pd.read_csv(file_base_url.format(f), low_memory=False, \n",
    "                          index_col='id', header=1, parse_dates=['issue_d'])\n",
    "    print len(d)\n",
    "    df = df.append(d)"
   ]
  },
  {
   "cell_type": "code",
   "execution_count": 9,
   "metadata": {
    "collapsed": false
   },
   "outputs": [],
   "source": [
    "output_file = file_base_url.format('LoanStats.csv')\n",
    "df.to_csv(output_file,index=False)"
   ]
  },
  {
   "cell_type": "code",
   "execution_count": 17,
   "metadata": {
    "collapsed": true
   },
   "outputs": [],
   "source": [
    "data = df"
   ]
  },
  {
   "cell_type": "code",
   "execution_count": 10,
   "metadata": {
    "collapsed": false
   },
   "outputs": [
    {
     "name": "stdout",
     "output_type": "stream",
     "text": [
      "Records: 756887\n"
     ]
    }
   ],
   "source": [
    "print 'Records:', len(df)\n",
    "# df.describe()"
   ]
  },
  {
   "cell_type": "markdown",
   "metadata": {},
   "source": [
    "## Data Prep & Cleanup"
   ]
  },
  {
   "cell_type": "code",
   "execution_count": 11,
   "metadata": {
    "collapsed": false
   },
   "outputs": [],
   "source": [
    "del data['desc']\n",
    "del data['annual_inc_joint']\n",
    "del data['dti_joint']\n",
    "del data['verification_status_joint']"
   ]
  },
  {
   "cell_type": "code",
   "execution_count": 13,
   "metadata": {
    "collapsed": false
   },
   "outputs": [
    {
     "name": "stdout",
     "output_type": "stream",
     "text": [
      "756887\n"
     ]
    }
   ],
   "source": [
    "print len(data)"
   ]
  },
  {
   "cell_type": "code",
   "execution_count": 14,
   "metadata": {
    "collapsed": false
   },
   "outputs": [],
   "source": [
    "# print 'Dropped columns:'\n",
    "\n",
    "# for c in df.columns:\n",
    "#     if c not in data.columns:\n",
    "#         print '\\t', c"
   ]
  },
  {
   "cell_type": "code",
   "execution_count": 18,
   "metadata": {
    "collapsed": false
   },
   "outputs": [
    {
     "data": {
      "text/plain": [
       "Index([u'member_id', u'loan_amnt', u'funded_amnt', u'funded_amnt_inv', u'term',\n",
       "       u'int_rate', u'installment', u'grade', u'sub_grade', u'emp_title',\n",
       "       u'emp_length', u'home_ownership', u'annual_inc', u'verification_status',\n",
       "       u'issue_d', u'loan_status', u'pymnt_plan', u'url', u'purpose', u'title',\n",
       "       u'zip_code', u'addr_state', u'dti', u'delinq_2yrs', u'earliest_cr_line',\n",
       "       u'fico_range_low', u'fico_range_high', u'inq_last_6mths',\n",
       "       u'mths_since_last_delinq', u'mths_since_last_record', u'open_acc',\n",
       "       u'pub_rec', u'revol_bal', u'revol_util', u'total_acc',\n",
       "       u'initial_list_status', u'out_prncp', u'out_prncp_inv', u'total_pymnt',\n",
       "       u'total_pymnt_inv', u'total_rec_prncp', u'total_rec_int',\n",
       "       u'total_rec_late_fee', u'recoveries', u'collection_recovery_fee',\n",
       "       u'last_pymnt_d', u'last_pymnt_amnt', u'next_pymnt_d',\n",
       "       u'last_credit_pull_d', u'last_fico_range_high', u'last_fico_range_low',\n",
       "       u'collections_12_mths_ex_med', u'mths_since_last_major_derog',\n",
       "       u'policy_code', u'application_type'],\n",
       "      dtype='object')"
      ]
     },
     "execution_count": 18,
     "metadata": {},
     "output_type": "execute_result"
    }
   ],
   "source": [
    "data.columns"
   ]
  },
  {
   "cell_type": "markdown",
   "metadata": {},
   "source": [
    "### For members without prior records or delinquencies, we fill in 0s"
   ]
  },
  {
   "cell_type": "code",
   "execution_count": 21,
   "metadata": {
    "collapsed": true
   },
   "outputs": [],
   "source": [
    "prior_cols = ['delinq_2yrs', \n",
    "              'inq_last_6mths', \n",
    "              'mths_since_last_delinq', \n",
    "              'mths_since_last_record',\n",
    "              'mths_since_last_major_derog'\n",
    "             ]\n",
    "for c in prior_cols:\n",
    "    data.loc[:,c].fillna(0, inplace=True)"
   ]
  },
  {
   "cell_type": "code",
   "execution_count": 22,
   "metadata": {
    "collapsed": false
   },
   "outputs": [
    {
     "name": "stdout",
     "output_type": "stream",
     "text": [
      "delinq_2yrs \n",
      "\tRecords == 0:  613708 \tNA records:  0 \tType: float64 \n",
      "\n",
      "inq_last_6mths \n",
      "\tRecords == 0:  418335 \tNA records:  0 \tType: float64 \n",
      "\n",
      "mths_since_last_delinq \n",
      "\tRecords == 0:  392870 \tNA records:  0 \tType: float64 \n",
      "\n",
      "mths_since_last_record \n",
      "\tRecords == 0:  644243 \tNA records:  0 \tType: float64 \n",
      "\n",
      "mths_since_last_major_derog \n",
      "\tRecords == 0:  573628 \tNA records:  0 \tType: float64 \n",
      "\n"
     ]
    }
   ],
   "source": [
    "for c in prior_cols:\n",
    "    print c, '\\n\\tRecords == 0: ', data.loc[data[c] == 0].member_id.count(), '\\tNA records: ', data.loc[data[c].isnull()].member_id.count(), '\\tType:', data[c].dtypes,'\\n' "
   ]
  },
  {
   "cell_type": "markdown",
   "metadata": {},
   "source": [
    "### Tag bad loans"
   ]
  },
  {
   "cell_type": "code",
   "execution_count": 159,
   "metadata": {
    "collapsed": false
   },
   "outputs": [],
   "source": [
    "# data.groupby('last_fico_range_high').member_id.count();\n",
    "# last_fico_range_high', 'last_fico_range_low"
   ]
  },
  {
   "cell_type": "code",
   "execution_count": 23,
   "metadata": {
    "collapsed": true
   },
   "outputs": [],
   "source": [
    "bad_indicators = ['Late (16-30 days)', 'Late (31-120 days)', 'Default', 'Charged Off']\n",
    "# bad_indicators = ['Default', 'Charged Off']"
   ]
  },
  {
   "cell_type": "code",
   "execution_count": 24,
   "metadata": {
    "collapsed": false
   },
   "outputs": [],
   "source": [
    "# set is_bad indicator to true to loans in status with 'bad' indicators\n",
    "data.loc[:,'is_bad'] = False\n",
    "data.loc[data['loan_status'].isin(bad_indicators), 'is_bad'] = True\n",
    "data.loc[data['loan_status'] == '', 'is_bad'] = np.nan"
   ]
  },
  {
   "cell_type": "code",
   "execution_count": 25,
   "metadata": {
    "collapsed": false
   },
   "outputs": [
    {
     "name": "stdout",
     "output_type": "stream",
     "text": [
      "Total loans:\t756878\n",
      "Bad loans:\t50514\n",
      "Bad loan %:\t0.0667399501637\n"
     ]
    }
   ],
   "source": [
    "# how many bad loans overall?\n",
    "print 'Total loans:\\t', data.member_id.count()\n",
    "print 'Bad loans:\\t', data[data['is_bad']==True].member_id.count()\n",
    "print 'Bad loan %:\\t', data[data['is_bad']==True].member_id.count()*1./data.member_id.count()*1."
   ]
  },
  {
   "cell_type": "markdown",
   "metadata": {},
   "source": [
    "## Data Type Cleanup"
   ]
  },
  {
   "cell_type": "code",
   "execution_count": 212,
   "metadata": {
    "collapsed": false
   },
   "outputs": [],
   "source": [
    "def convert_date(x):\n",
    "    try:\n",
    "        return pd.datetime.strptime(x, '%b-%Y')\n",
    "    except:\n",
    "        print x\n",
    "        raise\n",
    "        \n",
    "# sometimes this necessary, sometimes not...probably depends on version of pandas installed\n",
    "# dateparse = lambda x: convert_date(x)\n",
    "# data.loc[:,'issue_d'] = data.issue_d.map(dateparse)"
   ]
  },
  {
   "cell_type": "markdown",
   "metadata": {},
   "source": [
    "### Dates"
   ]
  },
  {
   "cell_type": "code",
   "execution_count": 26,
   "metadata": {
    "collapsed": false
   },
   "outputs": [],
   "source": [
    "data.loc[:,'issue_d'] = pd.to_datetime(data.issue_d)\n",
    "data.loc[:,'year_issued'] = data.issue_d.dt.year\n",
    "data.loc[:,'month_issued'] = data.issue_d.dt.month\n",
    "data.loc[:,'earliest_cr_line'] = pd.to_datetime(data.earliest_cr_line)"
   ]
  },
  {
   "cell_type": "code",
   "execution_count": 27,
   "metadata": {
    "collapsed": true
   },
   "outputs": [],
   "source": [
    "from datetime import datetime\n",
    "\n",
    "def days_between(d1, d2):\n",
    "    d1 = datetime.strptime(d1, \"%Y-%m-%d\")\n",
    "    d2 = datetime.strptime(d2, \"%Y-%m-%d\")\n",
    "    return abs((d2 - d1).days)"
   ]
  },
  {
   "cell_type": "code",
   "execution_count": 43,
   "metadata": {
    "collapsed": false
   },
   "outputs": [
    {
     "data": {
      "text/plain": [
       "'2015-11-29'"
      ]
     },
     "execution_count": 43,
     "metadata": {},
     "output_type": "execute_result"
    }
   ],
   "source": [
    "str(datetime.today().date())"
   ]
  },
  {
   "cell_type": "code",
   "execution_count": 52,
   "metadata": {
    "collapsed": false
   },
   "outputs": [
    {
     "ename": "ValueError",
     "evalue": "time data '0001-255-255' does not match format '%Y-%m-%d'",
     "output_type": "error",
     "traceback": [
      "\u001b[0;31m---------------------------------------------------------------------------\u001b[0m",
      "\u001b[0;31mValueError\u001b[0m                                Traceback (most recent call last)",
      "\u001b[0;32m<ipython-input-52-998f602c8720>\u001b[0m in \u001b[0;36m<module>\u001b[0;34m()\u001b[0m\n\u001b[0;32m----> 1\u001b[0;31m data.loc[:,'loan_age_days'] = data.issue_d.map(lambda x: days_between(str(datetime.date(x)), \n\u001b[0m\u001b[1;32m      2\u001b[0m                                                                       \u001b[0mstr\u001b[0m\u001b[0;34m(\u001b[0m\u001b[0mdatetime\u001b[0m\u001b[0;34m.\u001b[0m\u001b[0mtoday\u001b[0m\u001b[0;34m(\u001b[0m\u001b[0;34m)\u001b[0m\u001b[0;34m.\u001b[0m\u001b[0mdate\u001b[0m\u001b[0;34m(\u001b[0m\u001b[0;34m)\u001b[0m\u001b[0;34m)\u001b[0m\u001b[0;34m\u001b[0m\u001b[0m\n\u001b[1;32m      3\u001b[0m                                                                      )\n\u001b[1;32m      4\u001b[0m                                                )\n",
      "\u001b[0;32m/Users/claus/anaconda/lib/python2.7/site-packages/pandas/core/series.pyc\u001b[0m in \u001b[0;36mmap\u001b[0;34m(self, arg, na_action)\u001b[0m\n\u001b[1;32m   2043\u001b[0m                                      index=self.index).__finalize__(self)\n\u001b[1;32m   2044\u001b[0m         \u001b[0;32melse\u001b[0m\u001b[0;34m:\u001b[0m\u001b[0;34m\u001b[0m\u001b[0m\n\u001b[0;32m-> 2045\u001b[0;31m             \u001b[0mmapped\u001b[0m \u001b[0;34m=\u001b[0m \u001b[0mmap_f\u001b[0m\u001b[0;34m(\u001b[0m\u001b[0mvalues\u001b[0m\u001b[0;34m,\u001b[0m \u001b[0marg\u001b[0m\u001b[0;34m)\u001b[0m\u001b[0;34m\u001b[0m\u001b[0m\n\u001b[0m\u001b[1;32m   2046\u001b[0m             return self._constructor(mapped,\n\u001b[1;32m   2047\u001b[0m                                      index=self.index).__finalize__(self)\n",
      "\u001b[0;32mpandas/src/inference.pyx\u001b[0m in \u001b[0;36mpandas.lib.map_infer (pandas/lib.c:62187)\u001b[0;34m()\u001b[0m\n",
      "\u001b[0;32m<ipython-input-52-998f602c8720>\u001b[0m in \u001b[0;36m<lambda>\u001b[0;34m(x)\u001b[0m\n\u001b[1;32m      1\u001b[0m data.loc[:,'loan_age_days'] = data.issue_d.map(lambda x: days_between(str(datetime.date(x)), \n\u001b[0;32m----> 2\u001b[0;31m                                                                       \u001b[0mstr\u001b[0m\u001b[0;34m(\u001b[0m\u001b[0mdatetime\u001b[0m\u001b[0;34m.\u001b[0m\u001b[0mtoday\u001b[0m\u001b[0;34m(\u001b[0m\u001b[0;34m)\u001b[0m\u001b[0;34m.\u001b[0m\u001b[0mdate\u001b[0m\u001b[0;34m(\u001b[0m\u001b[0;34m)\u001b[0m\u001b[0;34m)\u001b[0m\u001b[0;34m\u001b[0m\u001b[0m\n\u001b[0m\u001b[1;32m      3\u001b[0m                                                                      )\n\u001b[1;32m      4\u001b[0m                                                )\n",
      "\u001b[0;32m<ipython-input-27-28f0f1083de9>\u001b[0m in \u001b[0;36mdays_between\u001b[0;34m(d1, d2)\u001b[0m\n\u001b[1;32m      2\u001b[0m \u001b[0;34m\u001b[0m\u001b[0m\n\u001b[1;32m      3\u001b[0m \u001b[0;32mdef\u001b[0m \u001b[0mdays_between\u001b[0m\u001b[0;34m(\u001b[0m\u001b[0md1\u001b[0m\u001b[0;34m,\u001b[0m \u001b[0md2\u001b[0m\u001b[0;34m)\u001b[0m\u001b[0;34m:\u001b[0m\u001b[0;34m\u001b[0m\u001b[0m\n\u001b[0;32m----> 4\u001b[0;31m     \u001b[0md1\u001b[0m \u001b[0;34m=\u001b[0m \u001b[0mdatetime\u001b[0m\u001b[0;34m.\u001b[0m\u001b[0mstrptime\u001b[0m\u001b[0;34m(\u001b[0m\u001b[0md1\u001b[0m\u001b[0;34m,\u001b[0m \u001b[0;34m\"%Y-%m-%d\"\u001b[0m\u001b[0;34m)\u001b[0m\u001b[0;34m\u001b[0m\u001b[0m\n\u001b[0m\u001b[1;32m      5\u001b[0m     \u001b[0md2\u001b[0m \u001b[0;34m=\u001b[0m \u001b[0mdatetime\u001b[0m\u001b[0;34m.\u001b[0m\u001b[0mstrptime\u001b[0m\u001b[0;34m(\u001b[0m\u001b[0md2\u001b[0m\u001b[0;34m,\u001b[0m \u001b[0;34m\"%Y-%m-%d\"\u001b[0m\u001b[0;34m)\u001b[0m\u001b[0;34m\u001b[0m\u001b[0m\n\u001b[1;32m      6\u001b[0m     \u001b[0;32mreturn\u001b[0m \u001b[0mabs\u001b[0m\u001b[0;34m(\u001b[0m\u001b[0;34m(\u001b[0m\u001b[0md2\u001b[0m \u001b[0;34m-\u001b[0m \u001b[0md1\u001b[0m\u001b[0;34m)\u001b[0m\u001b[0;34m.\u001b[0m\u001b[0mdays\u001b[0m\u001b[0;34m)\u001b[0m\u001b[0;34m\u001b[0m\u001b[0m\n",
      "\u001b[0;32m/Users/claus/anaconda/lib/python2.7/_strptime.pyc\u001b[0m in \u001b[0;36m_strptime\u001b[0;34m(data_string, format)\u001b[0m\n\u001b[1;32m    323\u001b[0m     \u001b[0;32mif\u001b[0m \u001b[0;32mnot\u001b[0m \u001b[0mfound\u001b[0m\u001b[0;34m:\u001b[0m\u001b[0;34m\u001b[0m\u001b[0m\n\u001b[1;32m    324\u001b[0m         raise ValueError(\"time data %r does not match format %r\" %\n\u001b[0;32m--> 325\u001b[0;31m                          (data_string, format))\n\u001b[0m\u001b[1;32m    326\u001b[0m     \u001b[0;32mif\u001b[0m \u001b[0mlen\u001b[0m\u001b[0;34m(\u001b[0m\u001b[0mdata_string\u001b[0m\u001b[0;34m)\u001b[0m \u001b[0;34m!=\u001b[0m \u001b[0mfound\u001b[0m\u001b[0;34m.\u001b[0m\u001b[0mend\u001b[0m\u001b[0;34m(\u001b[0m\u001b[0;34m)\u001b[0m\u001b[0;34m:\u001b[0m\u001b[0;34m\u001b[0m\u001b[0m\n\u001b[1;32m    327\u001b[0m         raise ValueError(\"unconverted data remains: %s\" %\n",
      "\u001b[0;31mValueError\u001b[0m: time data '0001-255-255' does not match format '%Y-%m-%d'"
     ]
    }
   ],
   "source": [
    "data.loc[:,'loan_age_days'] = data.issue_d.map(lambda x: days_between(str(datetime.date(x)), \n",
    "                                                                      str(datetime.today().date())\n",
    "                                                                     )\n",
    "                                               )"
   ]
  },
  {
   "cell_type": "markdown",
   "metadata": {},
   "source": [
    "### Numeric Features"
   ]
  },
  {
   "cell_type": "code",
   "execution_count": 214,
   "metadata": {
    "collapsed": false
   },
   "outputs": [],
   "source": [
    "data.loc[:,'revol_util_perc'] = data['revol_util'].str.replace(\"[%]\", \"\").astype(float)"
   ]
  },
  {
   "cell_type": "code",
   "execution_count": 215,
   "metadata": {
    "collapsed": false
   },
   "outputs": [
    {
     "data": {
      "text/plain": [
       "2793"
      ]
     },
     "execution_count": 215,
     "metadata": {},
     "output_type": "execute_result"
    }
   ],
   "source": [
    "data[data['revol_util_perc'] > 100].member_id.count()"
   ]
  },
  {
   "cell_type": "code",
   "execution_count": 216,
   "metadata": {
    "collapsed": true
   },
   "outputs": [],
   "source": [
    "data.loc[data['revol_util_perc'] > 100, 'revol_util_perc'] = 100"
   ]
  },
  {
   "cell_type": "code",
   "execution_count": 217,
   "metadata": {
    "collapsed": false
   },
   "outputs": [
    {
     "data": {
      "text/plain": [
       "756878"
      ]
     },
     "execution_count": 217,
     "metadata": {},
     "output_type": "execute_result"
    }
   ],
   "source": [
    "len(data)"
   ]
  },
  {
   "cell_type": "code",
   "execution_count": 148,
   "metadata": {
    "collapsed": false
   },
   "outputs": [
    {
     "data": {
      "text/plain": [
       "dtype('float64')"
      ]
     },
     "execution_count": 148,
     "metadata": {},
     "output_type": "execute_result"
    }
   ],
   "source": [
    "data.loan_amnt.dtypes"
   ]
  },
  {
   "cell_type": "code",
   "execution_count": 220,
   "metadata": {
    "collapsed": false
   },
   "outputs": [
    {
     "name": "stdout",
     "output_type": "stream",
     "text": [
      "last_fico_range_low \n",
      "\tRecords == 0:  0 \tNA records:  0 \tType: float64 \n",
      "\n",
      "last_fico_range_high \n",
      "\tRecords == 0:  0 \tNA records:  0 \tType: float64 \n",
      "\n",
      "fico_range_low \n",
      "\tRecords == 0:  0 \tNA records:  0 \tType: float64 \n",
      "\n",
      "fico_range_high \n",
      "\tRecords == 0:  0 \tNA records:  0 \tType: float64 \n",
      "\n",
      "loan_amnt \n",
      "\tRecords == 0:  0 \tNA records:  0 \tType: float64 \n",
      "\n",
      "annual_inc \n",
      "\tRecords == 0:  0 \tNA records:  0 \tType: float64 \n",
      "\n",
      "inq_last_6mths \n",
      "\tRecords == 0:  414768 \tNA records:  0 \tType: float64 \n",
      "\n",
      "open_acc \n",
      "\tRecords == 0:  0 \tNA records:  0 \tType: float64 \n",
      "\n",
      "pub_rec \n",
      "\tRecords == 0:  636581 \tNA records:  0 \tType: float64 \n",
      "\n",
      "revol_bal \n",
      "\tRecords == 0:  2636 \tNA records:  0 \tType: float64 \n",
      "\n",
      "revol_util_perc \n",
      "\tRecords == 0:  3095 \tNA records:  0 \tType: float64 \n",
      "\n",
      "total_acc \n",
      "\tRecords == 0:  0 \tNA records:  0 \tType: float64 \n",
      "\n",
      "dti \n",
      "\tRecords == 0:  379 \tNA records:  0 \tType: float64 \n",
      "\n"
     ]
    }
   ],
   "source": [
    "na_cols = ['last_fico_range_low', \n",
    "            'last_fico_range_high', \n",
    "            'fico_range_low', \n",
    "            'fico_range_high', \n",
    "            'loan_amnt', \n",
    "            'annual_inc', \n",
    "            'inq_last_6mths', \n",
    "            'open_acc', \n",
    "            'pub_rec', \n",
    "            'revol_bal', \n",
    "            'revol_util_perc', \n",
    "            'total_acc',\n",
    "            'dti']\n",
    "\n",
    "for c in na_cols:\n",
    "    print c, '\\n\\tRecords == 0: ', data[data[c] == 0].member_id.count(), '\\tNA records: ', data[data[c].isnull()].member_id.count(), '\\tType:', data[c].dtypes,'\\n' "
   ]
  },
  {
   "cell_type": "code",
   "execution_count": 221,
   "metadata": {
    "collapsed": false
   },
   "outputs": [],
   "source": [
    "data = data.dropna(subset = na_cols)\n",
    "\n",
    "data = data[(data['last_fico_range_low'] > 0) & \n",
    "            (data['last_fico_range_high'] > 0) &\n",
    "            (data['fico_range_low'] > 0) & \n",
    "            (data['fico_range_high'] > 0) & \n",
    "            (data['loan_amnt'] > 0) & \n",
    "            (data['annual_inc'] > 0)\n",
    "           ]"
   ]
  },
  {
   "cell_type": "code",
   "execution_count": null,
   "metadata": {
    "collapsed": true
   },
   "outputs": [],
   "source": []
  },
  {
   "cell_type": "markdown",
   "metadata": {},
   "source": [
    "### Categorical Features"
   ]
  },
  {
   "cell_type": "code",
   "execution_count": 222,
   "metadata": {
    "collapsed": true
   },
   "outputs": [],
   "source": [
    "data.home_ownership = data.home_ownership.astype('category')\n",
    "data.loc[:,'is_rent'] = False\n",
    "data.loc[data['home_ownership'].isin(['RENT']), 'is_rent'] = True\n",
    "data.loc[:,'fico_range_low'] = data.fico_range_low.astype('category')\n",
    "data.loc[:,'fico_range_high'] = data.fico_range_high.astype('category')\n",
    "data.loc[:,'last_fico_range_low'] = data.last_fico_range_low.astype('category')\n",
    "data.loc[:,'last_fico_range_high'] = data.last_fico_range_high.astype('category')"
   ]
  },
  {
   "cell_type": "code",
   "execution_count": 223,
   "metadata": {
    "collapsed": false
   },
   "outputs": [],
   "source": [
    "data.loc[:,'fico_ordered_low'] = data.fico_range_low.astype('float')\n",
    "data.loc[:,'fico_ordered_high'] = data.fico_range_high.astype('float')"
   ]
  },
  {
   "cell_type": "code",
   "execution_count": null,
   "metadata": {
    "collapsed": true
   },
   "outputs": [],
   "source": []
  },
  {
   "cell_type": "code",
   "execution_count": 224,
   "metadata": {
    "collapsed": true
   },
   "outputs": [],
   "source": [
    "data.grade = data.grade.astype('category')\n",
    "data.loc[:,'grade_is_AB'] = False\n",
    "data.loc[data['grade'].isin(['A', 'B']), 'grade_is_AB'] = True"
   ]
  },
  {
   "cell_type": "markdown",
   "metadata": {},
   "source": [
    "### Dummy Features"
   ]
  },
  {
   "cell_type": "code",
   "execution_count": 225,
   "metadata": {
    "collapsed": false
   },
   "outputs": [],
   "source": [
    "grades = pd.get_dummies(data['grade'], prefix='grade')\n",
    "data = data.join(grades)"
   ]
  },
  {
   "cell_type": "code",
   "execution_count": 175,
   "metadata": {
    "collapsed": false
   },
   "outputs": [],
   "source": [
    "sub_grades = pd.get_dummies(data['sub_grade'], prefix='sub_grade')\n",
    "data = data.join(sub_grades)"
   ]
  },
  {
   "cell_type": "code",
   "execution_count": 176,
   "metadata": {
    "collapsed": true
   },
   "outputs": [],
   "source": [
    "# purposes = pd.get_dummies(data['purpose'], prefix='purpose')\n",
    "# data = data.join(purposes)"
   ]
  },
  {
   "cell_type": "code",
   "execution_count": 177,
   "metadata": {
    "collapsed": true
   },
   "outputs": [],
   "source": [
    "# application_types = pd.get_dummies(data['application_type'], prefix='application_type')\n",
    "# data = data.join(application_types)"
   ]
  },
  {
   "cell_type": "code",
   "execution_count": 178,
   "metadata": {
    "collapsed": false
   },
   "outputs": [],
   "source": [
    "# purposes.columns"
   ]
  },
  {
   "cell_type": "code",
   "execution_count": 23,
   "metadata": {
    "collapsed": false
   },
   "outputs": [
    {
     "data": {
      "text/plain": [
       "<matplotlib.axes._subplots.AxesSubplot at 0x108668290>"
      ]
     },
     "execution_count": 23,
     "metadata": {},
     "output_type": "execute_result"
    },
    {
     "data": {
      "image/png": "[encoded data removed]",
      "text/plain": [
       "<matplotlib.figure.Figure at 0x10a6f7d10>"
      ]
     },
     "metadata": {},
     "output_type": "display_data"
    }
   ],
   "source": [
    "data.groupby('revol_util_perc').member_id.count().plot(kind='bar')"
   ]
  },
  {
   "cell_type": "code",
   "execution_count": 226,
   "metadata": {
    "collapsed": false
   },
   "outputs": [
    {
     "data": {
      "text/plain": [
       "<matplotlib.axes._subplots.AxesSubplot at 0x1199bc250>"
      ]
     },
     "execution_count": 226,
     "metadata": {},
     "output_type": "execute_result"
    },
    {
     "data": {
      "image/png": "[encoded data removed]",
      "text/plain": [
       "<matplotlib.figure.Figure at 0x11251ced0>"
      ]
     },
     "metadata": {},
     "output_type": "display_data"
    }
   ],
   "source": [
    "data['dti'].hist()"
   ]
  },
  {
   "cell_type": "code",
   "execution_count": 239,
   "metadata": {
    "collapsed": false
   },
   "outputs": [
    {
     "data": {
      "text/plain": [
       "<matplotlib.axes._subplots.AxesSubplot at 0x10acdd150>"
      ]
     },
     "execution_count": 239,
     "metadata": {},
     "output_type": "execute_result"
    },
    {
     "data": {
      "image/png": "[encoded data removed]",
      "text/plain": [
       "<matplotlib.figure.Figure at 0x10ad0c650>"
      ]
     },
     "metadata": {},
     "output_type": "display_data"
    }
   ],
   "source": [
    "data['annual_inc'].hist(bins=20)"
   ]
  },
  {
   "cell_type": "code",
   "execution_count": 227,
   "metadata": {
    "collapsed": false
   },
   "outputs": [
    {
     "data": {
      "text/plain": [
       "<matplotlib.axes._subplots.AxesSubplot at 0x11a059b90>"
      ]
     },
     "execution_count": 227,
     "metadata": {},
     "output_type": "execute_result"
    },
    {
     "data": {
      "image/png": "[encoded data removed]",
      "text/plain": [
       "<matplotlib.figure.Figure at 0x11e3467d0>"
      ]
     },
     "metadata": {},
     "output_type": "display_data"
    }
   ],
   "source": [
    "(data.groupby('year_issued').is_bad.sum()/data.groupby('year_issued').member_id.count()).plot(kind='bar')"
   ]
  },
  {
   "cell_type": "code",
   "execution_count": 180,
   "metadata": {
    "collapsed": false
   },
   "outputs": [
    {
     "data": {
      "text/plain": [
       "<matplotlib.axes._subplots.AxesSubplot at 0x1175cb190>"
      ]
     },
     "execution_count": 180,
     "metadata": {},
     "output_type": "execute_result"
    },
    {
     "data": {
      "image/png": "[encoded data removed]",
      "text/plain": [
       "<matplotlib.figure.Figure at 0x10a6f7ed0>"
      ]
     },
     "metadata": {},
     "output_type": "display_data"
    }
   ],
   "source": [
    "(data[data.loan_status == 'Fully Paid'].groupby('year_issued').member_id.count()/data.groupby('year_issued').member_id.count()).plot(kind='bar')"
   ]
  },
  {
   "cell_type": "code",
   "execution_count": 228,
   "metadata": {
    "collapsed": false
   },
   "outputs": [
    {
     "data": {
      "text/html": [
       "<div>\n",
       "<table border=\"1\" class=\"dataframe\">\n",
       "  <thead>\n",
       "    <tr style=\"text-align: right;\">\n",
       "      <th>loan_status</th>\n",
       "      <th>Charged Off</th>\n",
       "      <th>Current</th>\n",
       "      <th>Default</th>\n",
       "      <th>Does not meet the credit policy.  Status:Charged Off</th>\n",
       "      <th>Does not meet the credit policy.  Status:Current</th>\n",
       "      <th>Does not meet the credit policy.  Status:Fully Paid</th>\n",
       "      <th>Fully Paid</th>\n",
       "      <th>In Grace Period</th>\n",
       "      <th>Issued</th>\n",
       "      <th>Late (16-30 days)</th>\n",
       "      <th>Late (31-120 days)</th>\n",
       "    </tr>\n",
       "    <tr>\n",
       "      <th>year_issued</th>\n",
       "      <th></th>\n",
       "      <th></th>\n",
       "      <th></th>\n",
       "      <th></th>\n",
       "      <th></th>\n",
       "      <th></th>\n",
       "      <th></th>\n",
       "      <th></th>\n",
       "      <th></th>\n",
       "      <th></th>\n",
       "      <th></th>\n",
       "    </tr>\n",
       "  </thead>\n",
       "  <tbody>\n",
       "    <tr>\n",
       "      <th>2007</th>\n",
       "      <td>20</td>\n",
       "      <td>0</td>\n",
       "      <td>0</td>\n",
       "      <td>39</td>\n",
       "      <td>0</td>\n",
       "      <td>193</td>\n",
       "      <td>201</td>\n",
       "      <td>0</td>\n",
       "      <td>0</td>\n",
       "      <td>0</td>\n",
       "      <td>0</td>\n",
       "    </tr>\n",
       "    <tr>\n",
       "      <th>2008</th>\n",
       "      <td>149</td>\n",
       "      <td>0</td>\n",
       "      <td>0</td>\n",
       "      <td>110</td>\n",
       "      <td>0</td>\n",
       "      <td>542</td>\n",
       "      <td>1284</td>\n",
       "      <td>0</td>\n",
       "      <td>0</td>\n",
       "      <td>0</td>\n",
       "      <td>0</td>\n",
       "    </tr>\n",
       "    <tr>\n",
       "      <th>2009</th>\n",
       "      <td>380</td>\n",
       "      <td>0</td>\n",
       "      <td>0</td>\n",
       "      <td>70</td>\n",
       "      <td>0</td>\n",
       "      <td>429</td>\n",
       "      <td>4067</td>\n",
       "      <td>0</td>\n",
       "      <td>0</td>\n",
       "      <td>0</td>\n",
       "      <td>0</td>\n",
       "    </tr>\n",
       "    <tr>\n",
       "      <th>2010</th>\n",
       "      <td>1102</td>\n",
       "      <td>274</td>\n",
       "      <td>0</td>\n",
       "      <td>187</td>\n",
       "      <td>15</td>\n",
       "      <td>708</td>\n",
       "      <td>9682</td>\n",
       "      <td>6</td>\n",
       "      <td>0</td>\n",
       "      <td>0</td>\n",
       "      <td>12</td>\n",
       "    </tr>\n",
       "    <tr>\n",
       "      <th>2011</th>\n",
       "      <td>2502</td>\n",
       "      <td>2191</td>\n",
       "      <td>1</td>\n",
       "      <td>0</td>\n",
       "      <td>0</td>\n",
       "      <td>0</td>\n",
       "      <td>16178</td>\n",
       "      <td>44</td>\n",
       "      <td>0</td>\n",
       "      <td>13</td>\n",
       "      <td>64</td>\n",
       "    </tr>\n",
       "    <tr>\n",
       "      <th>2012</th>\n",
       "      <td>6321</td>\n",
       "      <td>7549</td>\n",
       "      <td>8</td>\n",
       "      <td>0</td>\n",
       "      <td>0</td>\n",
       "      <td>0</td>\n",
       "      <td>37138</td>\n",
       "      <td>257</td>\n",
       "      <td>0</td>\n",
       "      <td>67</td>\n",
       "      <td>328</td>\n",
       "    </tr>\n",
       "    <tr>\n",
       "      <th>2013</th>\n",
       "      <td>11262</td>\n",
       "      <td>67988</td>\n",
       "      <td>47</td>\n",
       "      <td>0</td>\n",
       "      <td>0</td>\n",
       "      <td>0</td>\n",
       "      <td>49486</td>\n",
       "      <td>1262</td>\n",
       "      <td>0</td>\n",
       "      <td>388</td>\n",
       "      <td>1974</td>\n",
       "    </tr>\n",
       "    <tr>\n",
       "      <th>2014</th>\n",
       "      <td>9133</td>\n",
       "      <td>171781</td>\n",
       "      <td>80</td>\n",
       "      <td>0</td>\n",
       "      <td>0</td>\n",
       "      <td>0</td>\n",
       "      <td>44564</td>\n",
       "      <td>2556</td>\n",
       "      <td>0</td>\n",
       "      <td>982</td>\n",
       "      <td>4660</td>\n",
       "    </tr>\n",
       "    <tr>\n",
       "      <th>2015</th>\n",
       "      <td>831</td>\n",
       "      <td>270503</td>\n",
       "      <td>44</td>\n",
       "      <td>0</td>\n",
       "      <td>0</td>\n",
       "      <td>0</td>\n",
       "      <td>13042</td>\n",
       "      <td>2331</td>\n",
       "      <td>142</td>\n",
       "      <td>875</td>\n",
       "      <td>2469</td>\n",
       "    </tr>\n",
       "  </tbody>\n",
       "</table>\n",
       "</div>"
      ],
      "text/plain": [
       "loan_status  Charged Off  Current  Default  \\\n",
       "year_issued                                  \n",
       "2007                  20        0        0   \n",
       "2008                 149        0        0   \n",
       "2009                 380        0        0   \n",
       "2010                1102      274        0   \n",
       "2011                2502     2191        1   \n",
       "2012                6321     7549        8   \n",
       "2013               11262    67988       47   \n",
       "2014                9133   171781       80   \n",
       "2015                 831   270503       44   \n",
       "\n",
       "loan_status  Does not meet the credit policy.  Status:Charged Off  \\\n",
       "year_issued                                                         \n",
       "2007                                                        39      \n",
       "2008                                                       110      \n",
       "2009                                                        70      \n",
       "2010                                                       187      \n",
       "2011                                                         0      \n",
       "2012                                                         0      \n",
       "2013                                                         0      \n",
       "2014                                                         0      \n",
       "2015                                                         0      \n",
       "\n",
       "loan_status  Does not meet the credit policy.  Status:Current  \\\n",
       "year_issued                                                     \n",
       "2007                                                        0   \n",
       "2008                                                        0   \n",
       "2009                                                        0   \n",
       "2010                                                       15   \n",
       "2011                                                        0   \n",
       "2012                                                        0   \n",
       "2013                                                        0   \n",
       "2014                                                        0   \n",
       "2015                                                        0   \n",
       "\n",
       "loan_status  Does not meet the credit policy.  Status:Fully Paid  Fully Paid  \\\n",
       "year_issued                                                                    \n",
       "2007                                                       193           201   \n",
       "2008                                                       542          1284   \n",
       "2009                                                       429          4067   \n",
       "2010                                                       708          9682   \n",
       "2011                                                         0         16178   \n",
       "2012                                                         0         37138   \n",
       "2013                                                         0         49486   \n",
       "2014                                                         0         44564   \n",
       "2015                                                         0         13042   \n",
       "\n",
       "loan_status  In Grace Period  Issued  Late (16-30 days)  Late (31-120 days)  \n",
       "year_issued                                                                  \n",
       "2007                       0       0                  0                   0  \n",
       "2008                       0       0                  0                   0  \n",
       "2009                       0       0                  0                   0  \n",
       "2010                       6       0                  0                  12  \n",
       "2011                      44       0                 13                  64  \n",
       "2012                     257       0                 67                 328  \n",
       "2013                    1262       0                388                1974  \n",
       "2014                    2556       0                982                4660  \n",
       "2015                    2331     142                875                2469  "
      ]
     },
     "execution_count": 228,
     "metadata": {},
     "output_type": "execute_result"
    }
   ],
   "source": [
    "pd.crosstab(data.year_issued, data.loan_status)"
   ]
  },
  {
   "cell_type": "code",
   "execution_count": null,
   "metadata": {
    "collapsed": false
   },
   "outputs": [],
   "source": [
    "# ax = sns.boxplot(x=\"year_issued\", y=\"fico_ordered\", data=data.sort(\"year_issued\"))"
   ]
  },
  {
   "cell_type": "markdown",
   "metadata": {},
   "source": [
    "## Save to disk"
   ]
  },
  {
   "cell_type": "code",
   "execution_count": 85,
   "metadata": {
    "collapsed": true
   },
   "outputs": [],
   "source": [
    "data.to_csv('loans_cleaned.csv',index=False)\n",
    "# data = pd.read_csv('loans_cleaned.csv', low_memory=False)"
   ]
  },
  {
   "cell_type": "markdown",
   "metadata": {},
   "source": [
    "### Get only mature loans to make sure they had enough to be paid off "
   ]
  },
  {
   "cell_type": "code",
   "execution_count": 229,
   "metadata": {
    "collapsed": false
   },
   "outputs": [],
   "source": [
    "mature_loans = data[data['year_issued'] == 2012]"
   ]
  },
  {
   "cell_type": "code",
   "execution_count": 230,
   "metadata": {
    "collapsed": false
   },
   "outputs": [
    {
     "name": "stdout",
     "output_type": "stream",
     "text": [
      "Total loans:\t51668\n",
      "Bad loans:\t6724\n",
      "Bad loan %:\t0.130138577069\n"
     ]
    }
   ],
   "source": [
    "print 'Total loans:\\t', len(mature_loans)\n",
    "print 'Bad loans:\\t', len(mature_loans[mature_loans['is_bad']==True])\n",
    "print 'Bad loan %:\\t', len(mature_loans[mature_loans['is_bad']==True])*1./len(mature_loans)*1."
   ]
  },
  {
   "cell_type": "code",
   "execution_count": 231,
   "metadata": {
    "collapsed": false
   },
   "outputs": [
    {
     "data": {
      "text/plain": [
       "<matplotlib.axes._subplots.AxesSubplot at 0x1197fa450>"
      ]
     },
     "execution_count": 231,
     "metadata": {},
     "output_type": "execute_result"
    },
    {
     "data": {
      "image/png": "[encoded data removed]",
      "text/plain": [
       "<matplotlib.figure.Figure at 0x11c74a810>"
      ]
     },
     "metadata": {},
     "output_type": "display_data"
    }
   ],
   "source": [
    "(mature_loans.groupby('year_issued').is_bad.sum()/mature_loans.groupby('year_issued').member_id.count()).plot(kind='bar')"
   ]
  },
  {
   "cell_type": "code",
   "execution_count": 115,
   "metadata": {
    "collapsed": false
   },
   "outputs": [],
   "source": [
    "# mature_loans.to_csv('loans_2012.csv',index=False)\n",
    "# mature_loans = pd.read_csv('loans_2012.csv', low_memory=False)"
   ]
  },
  {
   "cell_type": "code",
   "execution_count": null,
   "metadata": {
    "collapsed": false
   },
   "outputs": [],
   "source": [
    "# mature_loans.describe()"
   ]
  },
  {
   "cell_type": "code",
   "execution_count": 232,
   "metadata": {
    "collapsed": true
   },
   "outputs": [],
   "source": [
    "feature_cols = ['loan_amnt', 'annual_inc', 'fico_range_low', 'fico_range_high', \n",
    "                'inq_last_6mths', 'open_acc', 'pub_rec', 'revol_bal', 'total_acc', \n",
    "                'out_prncp', 'out_prncp_inv', 'total_pymnt', 'total_pymnt_inv', \n",
    "                'total_rec_prncp', 'total_rec_int', 'total_rec_late_fee', \n",
    "                'recoveries', 'collection_recovery_fee', 'last_pymnt_amnt', \n",
    "                'last_fico_range_high', 'last_fico_range_low',\n",
    "                'is_rent']\n",
    "\n",
    "# features only available on new loans\n",
    "# new_features = ['grade_is_AB',\n",
    "# #                 'grade_A', 'grade_B', 'grade_C', 'grade_D', 'grade_E', 'grade_F', 'grade_G', \n",
    "#                 'loan_amnt', 'annual_inc', 'fico_range_low', \n",
    "#                 'inq_last_6mths', 'open_acc', 'pub_rec', 'revol_bal', 'total_acc', \n",
    "#                 'is_rent'\n",
    "# #                 ,\n",
    "# #                    'purpose_car', 'purpose_credit_card', 'purpose_debt_consolidation',\n",
    "# #                    'purpose_educational', 'purpose_home_improvement', 'purpose_house',\n",
    "# #                    'purpose_major_purchase', 'purpose_medical', 'purpose_moving',\n",
    "# #                    'purpose_other', 'purpose_renewable_energy',\n",
    "# #                    'purpose_small_business', 'purpose_vacation', 'purpose_wedding'\n",
    "#                ]\n",
    "\n",
    "# 'last_fico_range_high', 'last_fico_range_low',\n",
    "new_features = ['fico_range_low', 'dti','pub_rec', 'revol_util_perc',\n",
    "                'inq_last_6mths', 'is_rent', 'loan_amnt', 'annual_inc' ]\n",
    "label = ['is_bad']"
   ]
  },
  {
   "cell_type": "code",
   "execution_count": null,
   "metadata": {
    "collapsed": false
   },
   "outputs": [],
   "source": [
    "g = sns.pairplot(mature_loans[label+new_features])"
   ]
  },
  {
   "cell_type": "code",
   "execution_count": null,
   "metadata": {
    "collapsed": true
   },
   "outputs": [],
   "source": []
  },
  {
   "cell_type": "code",
   "execution_count": 184,
   "metadata": {
    "collapsed": false
   },
   "outputs": [
    {
     "name": "stdout",
     "output_type": "stream",
     "text": [
      "X: (51668, 8)\n",
      "y: (51668, 1)\n"
     ]
    }
   ],
   "source": [
    "X = mature_loans[new_features]\n",
    "y = mature_loans[label]\n",
    "print 'X:', X.shape\n",
    "print 'y:', y.shape\n"
   ]
  },
  {
   "cell_type": "code",
   "execution_count": 91,
   "metadata": {
    "collapsed": false
   },
   "outputs": [],
   "source": [
    "X.describe();"
   ]
  },
  {
   "cell_type": "markdown",
   "metadata": {},
   "source": [
    "### Scale numeric columns\n",
    "We'll scale all numeric columns by adjusting them by their means and standard deviations."
   ]
  },
  {
   "cell_type": "code",
   "execution_count": 200,
   "metadata": {
    "collapsed": false
   },
   "outputs": [
    {
     "ename": "ValueError",
     "evalue": "Shape of passed values is (2, 51668), indices imply (8, 51668)",
     "output_type": "error",
     "traceback": [
      "\u001b[0;31m---------------------------------------------------------------------------\u001b[0m",
      "\u001b[0;31mValueError\u001b[0m                                Traceback (most recent call last)",
      "\u001b[0;32m<ipython-input-200-aa452b396d58>\u001b[0m in \u001b[0;36m<module>\u001b[0;34m()\u001b[0m\n\u001b[1;32m      3\u001b[0m \u001b[0mstdsc\u001b[0m \u001b[0;34m=\u001b[0m \u001b[0mStandardScaler\u001b[0m\u001b[0;34m(\u001b[0m\u001b[0;34m)\u001b[0m\u001b[0;34m\u001b[0m\u001b[0m\n\u001b[1;32m      4\u001b[0m \u001b[0;34m\u001b[0m\u001b[0m\n\u001b[0;32m----> 5\u001b[0;31m \u001b[0mX_scaled\u001b[0m \u001b[0;34m=\u001b[0m \u001b[0mpd\u001b[0m\u001b[0;34m.\u001b[0m\u001b[0mDataFrame\u001b[0m\u001b[0;34m(\u001b[0m\u001b[0mstdsc\u001b[0m\u001b[0;34m.\u001b[0m\u001b[0mfit_transform\u001b[0m\u001b[0;34m(\u001b[0m\u001b[0mX\u001b[0m\u001b[0;34m)\u001b[0m\u001b[0;34m,\u001b[0m \u001b[0mcolumns\u001b[0m\u001b[0;34m=\u001b[0m\u001b[0mnew_features\u001b[0m\u001b[0;34m)\u001b[0m\u001b[0;34m\u001b[0m\u001b[0m\n\u001b[0m",
      "\u001b[0;32m/Users/claus/anaconda/lib/python2.7/site-packages/pandas/core/frame.pyc\u001b[0m in \u001b[0;36m__init__\u001b[0;34m(self, data, index, columns, dtype, copy)\u001b[0m\n\u001b[1;32m    256\u001b[0m             \u001b[0;32melse\u001b[0m\u001b[0;34m:\u001b[0m\u001b[0;34m\u001b[0m\u001b[0m\n\u001b[1;32m    257\u001b[0m                 mgr = self._init_ndarray(data, index, columns, dtype=dtype,\n\u001b[0;32m--> 258\u001b[0;31m                                          copy=copy)\n\u001b[0m\u001b[1;32m    259\u001b[0m         \u001b[0;32melif\u001b[0m \u001b[0misinstance\u001b[0m\u001b[0;34m(\u001b[0m\u001b[0mdata\u001b[0m\u001b[0;34m,\u001b[0m \u001b[0;34m(\u001b[0m\u001b[0mlist\u001b[0m\u001b[0;34m,\u001b[0m \u001b[0mtypes\u001b[0m\u001b[0;34m.\u001b[0m\u001b[0mGeneratorType\u001b[0m\u001b[0;34m)\u001b[0m\u001b[0;34m)\u001b[0m\u001b[0;34m:\u001b[0m\u001b[0;34m\u001b[0m\u001b[0m\n\u001b[1;32m    260\u001b[0m             \u001b[0;32mif\u001b[0m \u001b[0misinstance\u001b[0m\u001b[0;34m(\u001b[0m\u001b[0mdata\u001b[0m\u001b[0;34m,\u001b[0m \u001b[0mtypes\u001b[0m\u001b[0;34m.\u001b[0m\u001b[0mGeneratorType\u001b[0m\u001b[0;34m)\u001b[0m\u001b[0;34m:\u001b[0m\u001b[0;34m\u001b[0m\u001b[0m\n",
      "\u001b[0;32m/Users/claus/anaconda/lib/python2.7/site-packages/pandas/core/frame.pyc\u001b[0m in \u001b[0;36m_init_ndarray\u001b[0;34m(self, values, index, columns, dtype, copy)\u001b[0m\n\u001b[1;32m    434\u001b[0m             \u001b[0mvalues\u001b[0m \u001b[0;34m=\u001b[0m \u001b[0m_possibly_infer_to_datetimelike\u001b[0m\u001b[0;34m(\u001b[0m\u001b[0mvalues\u001b[0m\u001b[0;34m)\u001b[0m\u001b[0;34m\u001b[0m\u001b[0m\n\u001b[1;32m    435\u001b[0m \u001b[0;34m\u001b[0m\u001b[0m\n\u001b[0;32m--> 436\u001b[0;31m         \u001b[0;32mreturn\u001b[0m \u001b[0mcreate_block_manager_from_blocks\u001b[0m\u001b[0;34m(\u001b[0m\u001b[0;34m[\u001b[0m\u001b[0mvalues\u001b[0m\u001b[0;34m]\u001b[0m\u001b[0;34m,\u001b[0m \u001b[0;34m[\u001b[0m\u001b[0mcolumns\u001b[0m\u001b[0;34m,\u001b[0m \u001b[0mindex\u001b[0m\u001b[0;34m]\u001b[0m\u001b[0;34m)\u001b[0m\u001b[0;34m\u001b[0m\u001b[0m\n\u001b[0m\u001b[1;32m    437\u001b[0m \u001b[0;34m\u001b[0m\u001b[0m\n\u001b[1;32m    438\u001b[0m     \u001b[0;34m@\u001b[0m\u001b[0mproperty\u001b[0m\u001b[0;34m\u001b[0m\u001b[0m\n",
      "\u001b[0;32m/Users/claus/anaconda/lib/python2.7/site-packages/pandas/core/internals.pyc\u001b[0m in \u001b[0;36mcreate_block_manager_from_blocks\u001b[0;34m(blocks, axes)\u001b[0m\n\u001b[1;32m   3792\u001b[0m         \u001b[0mblocks\u001b[0m \u001b[0;34m=\u001b[0m \u001b[0;34m[\u001b[0m\u001b[0mgetattr\u001b[0m\u001b[0;34m(\u001b[0m\u001b[0mb\u001b[0m\u001b[0;34m,\u001b[0m \u001b[0;34m'values'\u001b[0m\u001b[0;34m,\u001b[0m \u001b[0mb\u001b[0m\u001b[0;34m)\u001b[0m \u001b[0;32mfor\u001b[0m \u001b[0mb\u001b[0m \u001b[0;32min\u001b[0m \u001b[0mblocks\u001b[0m\u001b[0;34m]\u001b[0m\u001b[0;34m\u001b[0m\u001b[0m\n\u001b[1;32m   3793\u001b[0m         \u001b[0mtot_items\u001b[0m \u001b[0;34m=\u001b[0m \u001b[0msum\u001b[0m\u001b[0;34m(\u001b[0m\u001b[0mb\u001b[0m\u001b[0;34m.\u001b[0m\u001b[0mshape\u001b[0m\u001b[0;34m[\u001b[0m\u001b[0;36m0\u001b[0m\u001b[0;34m]\u001b[0m \u001b[0;32mfor\u001b[0m \u001b[0mb\u001b[0m \u001b[0;32min\u001b[0m \u001b[0mblocks\u001b[0m\u001b[0;34m)\u001b[0m\u001b[0;34m\u001b[0m\u001b[0m\n\u001b[0;32m-> 3794\u001b[0;31m         \u001b[0mconstruction_error\u001b[0m\u001b[0;34m(\u001b[0m\u001b[0mtot_items\u001b[0m\u001b[0;34m,\u001b[0m \u001b[0mblocks\u001b[0m\u001b[0;34m[\u001b[0m\u001b[0;36m0\u001b[0m\u001b[0;34m]\u001b[0m\u001b[0;34m.\u001b[0m\u001b[0mshape\u001b[0m\u001b[0;34m[\u001b[0m\u001b[0;36m1\u001b[0m\u001b[0;34m:\u001b[0m\u001b[0;34m]\u001b[0m\u001b[0;34m,\u001b[0m \u001b[0maxes\u001b[0m\u001b[0;34m,\u001b[0m \u001b[0me\u001b[0m\u001b[0;34m)\u001b[0m\u001b[0;34m\u001b[0m\u001b[0m\n\u001b[0m\u001b[1;32m   3795\u001b[0m \u001b[0;34m\u001b[0m\u001b[0m\n\u001b[1;32m   3796\u001b[0m \u001b[0;34m\u001b[0m\u001b[0m\n",
      "\u001b[0;32m/Users/claus/anaconda/lib/python2.7/site-packages/pandas/core/internals.pyc\u001b[0m in \u001b[0;36mconstruction_error\u001b[0;34m(tot_items, block_shape, axes, e)\u001b[0m\n\u001b[1;32m   3769\u001b[0m         \u001b[0;32mraise\u001b[0m \u001b[0me\u001b[0m\u001b[0;34m\u001b[0m\u001b[0m\n\u001b[1;32m   3770\u001b[0m     raise ValueError(\"Shape of passed values is {0}, indices imply {1}\".format(\n\u001b[0;32m-> 3771\u001b[0;31m         passed,implied))\n\u001b[0m\u001b[1;32m   3772\u001b[0m \u001b[0;34m\u001b[0m\u001b[0m\n\u001b[1;32m   3773\u001b[0m \u001b[0;34m\u001b[0m\u001b[0m\n",
      "\u001b[0;31mValueError\u001b[0m: Shape of passed values is (2, 51668), indices imply (8, 51668)"
     ]
    }
   ],
   "source": [
    "from sklearn.preprocessing import StandardScaler\n",
    "\n",
    "stdsc = StandardScaler()\n",
    "\n",
    "X_scaled = pd.DataFrame(stdsc.fit_transform(X), columns=new_features)"
   ]
  },
  {
   "cell_type": "code",
   "execution_count": 91,
   "metadata": {
    "collapsed": false
   },
   "outputs": [
    {
     "data": {
      "text/html": [
       "<div>\n",
       "<table border=\"1\" class=\"dataframe\">\n",
       "  <thead>\n",
       "    <tr style=\"text-align: right;\">\n",
       "      <th></th>\n",
       "      <th>is_bad</th>\n",
       "    </tr>\n",
       "    <tr>\n",
       "      <th>id</th>\n",
       "      <th></th>\n",
       "    </tr>\n",
       "  </thead>\n",
       "  <tbody>\n",
       "    <tr>\n",
       "      <th>1077501</th>\n",
       "      <td>0</td>\n",
       "    </tr>\n",
       "    <tr>\n",
       "      <th>1077430</th>\n",
       "      <td>1</td>\n",
       "    </tr>\n",
       "    <tr>\n",
       "      <th>1077175</th>\n",
       "      <td>0</td>\n",
       "    </tr>\n",
       "    <tr>\n",
       "      <th>1076863</th>\n",
       "      <td>0</td>\n",
       "    </tr>\n",
       "    <tr>\n",
       "      <th>1075358</th>\n",
       "      <td>0</td>\n",
       "    </tr>\n",
       "  </tbody>\n",
       "</table>\n",
       "</div>"
      ],
      "text/plain": [
       "         is_bad\n",
       "id             \n",
       "1077501       0\n",
       "1077430       1\n",
       "1077175       0\n",
       "1076863       0\n",
       "1075358       0"
      ]
     },
     "execution_count": 91,
     "metadata": {},
     "output_type": "execute_result"
    }
   ],
   "source": [
    "y.head()"
   ]
  },
  {
   "cell_type": "markdown",
   "metadata": {},
   "source": [
    "## Prediction Modeling\n",
    "We'll use sci-kit learn for all models, to create a model designed to predict whether a loan will be 'bad'. "
   ]
  },
  {
   "cell_type": "code",
   "execution_count": 186,
   "metadata": {
    "collapsed": false
   },
   "outputs": [],
   "source": [
    "from sklearn.cross_validation import train_test_split\n",
    "from sklearn.cross_validation import cross_val_score\n",
    "from sklearn.metrics import roc_curve, auc\n",
    "from sklearn.cross_validation import StratifiedKFold\n",
    "from sklearn import metrics\n",
    "\n",
    "#models\n",
    "from sklearn.linear_model import LogisticRegression\n",
    "from sklearn.linear_model import LogisticRegressionCV\n",
    "# print sklearn\n",
    "\n",
    "import numpy as np\n",
    "import matplotlib.pyplot as plt"
   ]
  },
  {
   "cell_type": "code",
   "execution_count": null,
   "metadata": {
    "collapsed": false
   },
   "outputs": [],
   "source": []
  },
  {
   "cell_type": "markdown",
   "metadata": {},
   "source": [
    "### Let's try some basic logistic regression first"
   ]
  },
  {
   "cell_type": "code",
   "execution_count": 188,
   "metadata": {
    "collapsed": false
   },
   "outputs": [
    {
     "name": "stdout",
     "output_type": "stream",
     "text": [
      "C:  10\n",
      "Accuracy of model:\t0.57664021676\n",
      "MSE\t0.42335978324\n",
      "RMSE\t0.650661035594\n",
      "\n",
      "\n",
      "-----------------------------------------\n",
      "Scores:\n",
      "-----------------------------------------\n",
      "Train\t0.587966323124\n",
      "Test\t0.57664021676\n",
      "-----------------------------------------\n",
      "\n",
      "CPU times: user 592 ms, sys: 26.3 ms, total: 618 ms\n",
      "Wall time: 610 ms\n"
     ]
    }
   ],
   "source": [
    "%%time\n",
    "# C=1e3, \n",
    "# using CV log regression, which does stratified k-fold cv by default\n",
    "model = LogisticRegressionCV(penalty='l2', class_weight='auto')\n",
    "X_train, X_test, y_train, y_test = train_test_split(X_scaled, y, test_size=.2)\n",
    "    \n",
    "#fit on training data\n",
    "fit = model.fit(X_train, y_train.as_matrix().ravel())\n",
    "\n",
    "print 'C: ', model.Cs\n",
    "\n",
    "# predict on test data\n",
    "y_pred = model.predict(X_test)\n",
    "accuracy = metrics.accuracy_score(y_test, y_pred)\n",
    "print \"Accuracy of model:\\t\", accuracy\n",
    "print 'MSE\\t', metrics.mean_squared_error(y_test, y_pred)\n",
    "print 'RMSE\\t', np.sqrt(metrics.mean_squared_error(y_test, y_pred))\n",
    "\n",
    "score_train = model.score(X_train, y_train)\n",
    "score_test = model.score(X_test, y_test)\n",
    "\n",
    "print '\\n'\n",
    "print '-----------------------------------------'\n",
    "print 'Scores:'\n",
    "print '-----------------------------------------'\n",
    "print 'Train\\t', score_train\n",
    "print 'Test\\t', score_test\n",
    "print '-----------------------------------------\\n'"
   ]
  },
  {
   "cell_type": "code",
   "execution_count": 124,
   "metadata": {
    "collapsed": false
   },
   "outputs": [
    {
     "name": "stdout",
     "output_type": "stream",
     "text": [
      "auto\n"
     ]
    }
   ],
   "source": [
    "print model.class_weight"
   ]
  },
  {
   "cell_type": "code",
   "execution_count": 189,
   "metadata": {
    "collapsed": false
   },
   "outputs": [
    {
     "name": "stderr",
     "output_type": "stream",
     "text": [
      "[Parallel(n_jobs=1)]: Done   1 jobs       | elapsed:    0.6s\n",
      "[Parallel(n_jobs=1)]: Done  10 out of  10 | elapsed:    6.0s finished\n"
     ]
    },
    {
     "name": "stdout",
     "output_type": "stream",
     "text": [
      "Mean Cross-Val Score: 0.587078048176\n"
     ]
    }
   ],
   "source": [
    "cv = StratifiedKFold(y['is_bad'].values, n_folds=10)\n",
    "scores = cross_val_score(model, X_scaled, y['is_bad'].values, cv=cv, scoring='accuracy', n_jobs=1, verbose=1)\n",
    "score_cross_val_mean = scores.mean()\n",
    "print 'Mean Cross-Val Score:', score_cross_val_mean"
   ]
  },
  {
   "cell_type": "code",
   "execution_count": 190,
   "metadata": {
    "collapsed": false
   },
   "outputs": [
    {
     "name": "stdout",
     "output_type": "stream",
     "text": [
      "[[5158 3883]\n",
      " [ 492  801]]\n",
      "[[ 0.571  0.429]\n",
      " [ 0.381  0.619]]\n"
     ]
    },
    {
     "data": {
      "image/png": "[encoded data removed]",
      "text/plain": [
       "<matplotlib.figure.Figure at 0x11c926ed0>"
      ]
     },
     "metadata": {},
     "output_type": "display_data"
    }
   ],
   "source": [
    "cm, cm_norm = model_eval.confusion_matrix(y_test, y_pred)\n",
    "\n",
    "print cm\n",
    "print cm_norm\n",
    "model_eval.plot_confusion_matrix(cm_norm, labels=['Bad', 'Good'])\n",
    "# test_score = model_eval.model_metrics(log, X, y, log_data_split)\n"
   ]
  },
  {
   "cell_type": "code",
   "execution_count": 191,
   "metadata": {
    "collapsed": false
   },
   "outputs": [
    {
     "name": "stdout",
     "output_type": "stream",
     "text": [
      "\n",
      "\n",
      "Coefficients for each X:\n",
      "\n"
     ]
    },
    {
     "data": {
      "text/html": [
       "<div>\n",
       "<table border=\"1\" class=\"dataframe\">\n",
       "  <thead>\n",
       "    <tr style=\"text-align: right;\">\n",
       "      <th></th>\n",
       "      <th>Feature</th>\n",
       "      <th>Weight</th>\n",
       "      <th>FeatureImportance</th>\n",
       "    </tr>\n",
       "  </thead>\n",
       "  <tbody>\n",
       "    <tr>\n",
       "      <th>7</th>\n",
       "      <td>annual_inc</td>\n",
       "      <td>-0.405550</td>\n",
       "      <td>0.271000</td>\n",
       "    </tr>\n",
       "    <tr>\n",
       "      <th>0</th>\n",
       "      <td>fico_range_low</td>\n",
       "      <td>-0.391514</td>\n",
       "      <td>0.261620</td>\n",
       "    </tr>\n",
       "    <tr>\n",
       "      <th>6</th>\n",
       "      <td>loan_amnt</td>\n",
       "      <td>0.345921</td>\n",
       "      <td>0.231154</td>\n",
       "    </tr>\n",
       "    <tr>\n",
       "      <th>4</th>\n",
       "      <td>inq_last_6mths</td>\n",
       "      <td>0.192792</td>\n",
       "      <td>0.128829</td>\n",
       "    </tr>\n",
       "    <tr>\n",
       "      <th>1</th>\n",
       "      <td>dti</td>\n",
       "      <td>0.085167</td>\n",
       "      <td>0.056911</td>\n",
       "    </tr>\n",
       "    <tr>\n",
       "      <th>2</th>\n",
       "      <td>pub_rec</td>\n",
       "      <td>0.055538</td>\n",
       "      <td>0.037112</td>\n",
       "    </tr>\n",
       "    <tr>\n",
       "      <th>3</th>\n",
       "      <td>revol_util_perc</td>\n",
       "      <td>-0.016423</td>\n",
       "      <td>0.010974</td>\n",
       "    </tr>\n",
       "    <tr>\n",
       "      <th>5</th>\n",
       "      <td>is_rent</td>\n",
       "      <td>0.003592</td>\n",
       "      <td>0.002400</td>\n",
       "    </tr>\n",
       "  </tbody>\n",
       "</table>\n",
       "</div>"
      ],
      "text/plain": [
       "           Feature    Weight  FeatureImportance\n",
       "7       annual_inc -0.405550           0.271000\n",
       "0   fico_range_low -0.391514           0.261620\n",
       "6        loan_amnt  0.345921           0.231154\n",
       "4   inq_last_6mths  0.192792           0.128829\n",
       "1              dti  0.085167           0.056911\n",
       "2          pub_rec  0.055538           0.037112\n",
       "3  revol_util_perc -0.016423           0.010974\n",
       "5          is_rent  0.003592           0.002400"
      ]
     },
     "execution_count": 191,
     "metadata": {},
     "output_type": "execute_result"
    }
   ],
   "source": [
    "print '\\n'\n",
    "print 'Coefficients for each X:\\n'\n",
    "coeff = pd.DataFrame(zip(new_features, model.coef_[0]), columns=['Feature', 'Weight'])\n",
    "coeff['FeatureImportance'] = np.abs(coeff.Weight)/np.abs(coeff.Weight).sum()\n",
    "coeff.sort_values(by='FeatureImportance', ascending=False)"
   ]
  },
  {
   "cell_type": "code",
   "execution_count": 192,
   "metadata": {
    "collapsed": false
   },
   "outputs": [
    {
     "name": "stdout",
     "output_type": "stream",
     "text": [
      "thresholds: [ 2.  1.  0.]\n",
      "AUC: 0.595000835328\n"
     ]
    },
    {
     "data": {
      "image/png": "[encoded data removed]",
      "text/plain": [
       "<matplotlib.figure.Figure at 0x11c960810>"
      ]
     },
     "metadata": {},
     "output_type": "display_data"
    },
    {
     "data": {
      "text/plain": [
       "(array([ 0.   ,  0.429,  1.   ]),\n",
       " array([ 0.   ,  0.619,  1.   ]),\n",
       " array([ 2.,  1.,  0.]),\n",
       " 0.59500083532841241)"
      ]
     },
     "execution_count": 192,
     "metadata": {},
     "output_type": "execute_result"
    }
   ],
   "source": [
    "model_eval.plot_roc(y_test, y_pred)"
   ]
  },
  {
   "cell_type": "code",
   "execution_count": 193,
   "metadata": {
    "collapsed": false
   },
   "outputs": [
    {
     "data": {
      "image/png": "[encoded data removed]",
      "text/plain": [
       "<matplotlib.figure.Figure at 0x13144bfd0>"
      ]
     },
     "metadata": {},
     "output_type": "display_data"
    }
   ],
   "source": [
    "p = model.predict_proba(X_test)\n",
    "model_eval.plot_histogram(p[:,1])"
   ]
  },
  {
   "cell_type": "code",
   "execution_count": 60,
   "metadata": {
    "collapsed": false
   },
   "outputs": [
    {
     "data": {
      "image/png": "[encoded data removed]",
      "text/plain": [
       "<matplotlib.figure.Figure at 0x11c828090>"
      ]
     },
     "metadata": {},
     "output_type": "display_data"
    }
   ],
   "source": [
    "p = model.decision_function(X_test)\n",
    "model_eval.plot_histogram(p)"
   ]
  },
  {
   "cell_type": "markdown",
   "metadata": {},
   "source": [
    "## Multi-Label Logistic Regression"
   ]
  },
  {
   "cell_type": "code",
   "execution_count": 240,
   "metadata": {
    "collapsed": false
   },
   "outputs": [
    {
     "name": "stdout",
     "output_type": "stream",
     "text": [
      "X: (51668, 2)\n",
      "y: (51668, 1)\n"
     ]
    }
   ],
   "source": [
    "label = ['is_bad'] #loan_status'\n",
    "features_small = ['loan_amnt', 'fico_range_low']\n",
    "X = mature_loans[features_small]\n",
    "y = mature_loans[label]\n",
    "print 'X:', X.shape\n",
    "print 'y:', y.shape"
   ]
  },
  {
   "cell_type": "code",
   "execution_count": 241,
   "metadata": {
    "collapsed": false
   },
   "outputs": [
    {
     "data": {
      "image/png": "[encoded data removed]",
      "text/plain": [
       "<matplotlib.figure.Figure at 0x10ad0cf90>"
      ]
     },
     "metadata": {},
     "output_type": "display_data"
    }
   ],
   "source": [
    "g = sns.pairplot(mature_loans[label+features_small])"
   ]
  },
  {
   "cell_type": "code",
   "execution_count": 242,
   "metadata": {
    "collapsed": true
   },
   "outputs": [],
   "source": [
    "from sklearn.preprocessing import StandardScaler\n",
    "\n",
    "stdsc = StandardScaler()\n",
    "\n",
    "X_scaled = pd.DataFrame(stdsc.fit_transform(X), columns=features_small)"
   ]
  },
  {
   "cell_type": "code",
   "execution_count": 243,
   "metadata": {
    "collapsed": false
   },
   "outputs": [
    {
     "name": "stdout",
     "output_type": "stream",
     "text": [
      "Accuracy of model:\t0.545093864912\n",
      "\n",
      "\n",
      "-----------------------------------------\n",
      "Scores:\n",
      "-----------------------------------------\n",
      "Train\t0.547757294237\n",
      "Test\t0.545093864912\n",
      "-----------------------------------------\n",
      "\n",
      "CPU times: user 98.5 ms, sys: 11.2 ms, total: 110 ms\n",
      "Wall time: 112 ms\n"
     ]
    }
   ],
   "source": [
    "%%time\n",
    "# C=1e3, \n",
    "# using CV log regression, which does stratified k-fold cv by default\n",
    "model = LogisticRegression(C=1e5, penalty='l2', class_weight='auto')\n",
    "X_train, X_test, y_train, y_test = train_test_split(X_scaled, y, test_size=.2)\n",
    "    \n",
    "#fit on training data\n",
    "fit = model.fit(X_train, y_train.as_matrix().ravel())\n",
    "\n",
    "# print 'C: ', model.Cs\n",
    "\n",
    "# predict on test data\n",
    "y_pred = model.predict(X_test)\n",
    "accuracy = metrics.accuracy_score(y_test, y_pred)\n",
    "print \"Accuracy of model:\\t\", accuracy\n",
    "\n",
    "score_train = model.score(X_train, y_train)\n",
    "score_test = model.score(X_test, y_test)\n",
    "\n",
    "print '\\n'\n",
    "print '-----------------------------------------'\n",
    "print 'Scores:'\n",
    "print '-----------------------------------------'\n",
    "print 'Train\\t', score_train\n",
    "print 'Test\\t', score_test\n",
    "print '-----------------------------------------\\n'"
   ]
  },
  {
   "cell_type": "markdown",
   "metadata": {},
   "source": [
    "### Random Forest"
   ]
  },
  {
   "cell_type": "code",
   "execution_count": 48,
   "metadata": {
    "collapsed": false
   },
   "outputs": [
    {
     "name": "stdout",
     "output_type": "stream",
     "text": [
      "Accuracy of model:\t0.93325020041\n",
      "MSE\t0.0667497995903\n",
      "RMSE\t0.258359825806\n",
      "\n",
      "\n",
      "-----------------------------------------\n",
      "Scores:\n",
      "-----------------------------------------\n",
      "Train\t0.994554728835\n",
      "Test\t0.93325020041\n",
      "-----------------------------------------\n",
      "\n",
      "CPU times: user 6.3 s, sys: 156 ms, total: 6.46 s\n",
      "Wall time: 2.32 s\n"
     ]
    },
    {
     "name": "stderr",
     "output_type": "stream",
     "text": [
      "/Users/claus/anaconda/lib/python2.7/site-packages/ipykernel/__main__.py:9: DataConversionWarning: A column-vector y was passed when a 1d array was expected. Please change the shape of y to (n_samples,), for example using ravel().\n"
     ]
    }
   ],
   "source": [
    "%%time\n",
    "\n",
    "from sklearn.ensemble import RandomForestClassifier\n",
    "\n",
    "model = RandomForestClassifier(n_jobs=5)\n",
    "\n",
    "X_train, X_test, y_train, y_test = train_test_split(X_scaled, y, test_size=.25)\n",
    "    \n",
    "#fit on training data\n",
    "fit = model.fit(X_train, y_train)\n",
    "\n",
    "# predict on test data\n",
    "y_pred = model.predict(X_test)\n",
    "accuracy = metrics.accuracy_score(y_test, y_pred)\n",
    "print \"Accuracy of model:\\t\", accuracy\n",
    "print 'MSE\\t', metrics.mean_squared_error(y_test, y_pred)\n",
    "print 'RMSE\\t', np.sqrt(metrics.mean_squared_error(y_test, y_pred))\n",
    "\n",
    "score_train = model.score(X_train, y_train)\n",
    "score_test = model.score(X_test, y_test)\n",
    "\n",
    "print '\\n'\n",
    "print '-----------------------------------------'\n",
    "print 'Scores:'\n",
    "print '-----------------------------------------'\n",
    "print 'Train\\t', score_train\n",
    "print 'Test\\t', score_test\n",
    "print '-----------------------------------------\\n'"
   ]
  },
  {
   "cell_type": "code",
   "execution_count": null,
   "metadata": {
    "collapsed": false
   },
   "outputs": [],
   "source": [
    "# # 0.977352599188\n",
    "# p = model.predict_proba(X_test)\n",
    "# model_eval.plot_histogram(p[:,1])"
   ]
  },
  {
   "cell_type": "code",
   "execution_count": null,
   "metadata": {
    "collapsed": false
   },
   "outputs": [],
   "source": [
    "# plot_roc(rf_data_split['y_test'], rf_y_score)\n",
    "print pd.DataFrame(zip(new_features, model.feature_importances_)).sort(1, ascending=False)"
   ]
  },
  {
   "cell_type": "code",
   "execution_count": null,
   "metadata": {
    "collapsed": false
   },
   "outputs": [],
   "source": [
    "model_eval.plot_roc(y_test, y_pred)"
   ]
  },
  {
   "cell_type": "markdown",
   "metadata": {},
   "source": [
    "## SVM"
   ]
  },
  {
   "cell_type": "code",
   "execution_count": 245,
   "metadata": {
    "collapsed": false
   },
   "outputs": [
    {
     "name": "stdout",
     "output_type": "stream",
     "text": [
      "X: (51668, 2)\n",
      "y: (51668, 1)\n"
     ]
    }
   ],
   "source": [
    "label = ['is_bad'] #loan_status'\n",
    "features_small = ['loan_amnt', 'fico_range_low']\n",
    "X = mature_loans[features_small]\n",
    "y = mature_loans[label]\n",
    "print 'X:', X.shape\n",
    "print 'y:', y.shape"
   ]
  },
  {
   "cell_type": "code",
   "execution_count": 246,
   "metadata": {
    "collapsed": true
   },
   "outputs": [],
   "source": [
    "stdsc = StandardScaler()\n",
    "\n",
    "X_scaled = pd.DataFrame(stdsc.fit_transform(X), columns=features_small)"
   ]
  },
  {
   "cell_type": "code",
   "execution_count": 249,
   "metadata": {
    "collapsed": false
   },
   "outputs": [
    {
     "name": "stdout",
     "output_type": "stream",
     "text": [
      "Accuracy of model:\t0.536579701169\n",
      "MSE\t0.463420298831\n",
      "RMSE\t0.680749806339\n",
      "\n",
      "\n",
      "-----------------------------------------\n",
      "Scores:\n",
      "-----------------------------------------\n",
      "Train\t0.54406337901\n",
      "Test\t0.536579701169\n",
      "-----------------------------------------\n",
      "\n",
      "CPU times: user 2.14 s, sys: 25.9 ms, total: 2.17 s\n",
      "Wall time: 2.25 s\n"
     ]
    },
    {
     "name": "stderr",
     "output_type": "stream",
     "text": [
      "/Users/claus/anaconda/lib/python2.7/site-packages/sklearn/utils/validation.py:449: DataConversionWarning: A column-vector y was passed when a 1d array was expected. Please change the shape of y to (n_samples, ), for example using ravel().\n",
      "  converted to the first listed format.\n"
     ]
    }
   ],
   "source": [
    "%%time\n",
    "from sklearn import svm\n",
    "model = svm.LinearSVC(class_weight='auto')\n",
    "X_train, X_test, y_train, y_test = train_test_split(X_scaled, y, test_size=.25)\n",
    "    \n",
    "#fit on training data\n",
    "fit = model.fit(X_train, y_train)\n",
    "\n",
    "# predict on test data\n",
    "y_pred = model.predict(X_test)\n",
    "accuracy = metrics.accuracy_score(y_test, y_pred)\n",
    "print \"Accuracy of model:\\t\", accuracy\n",
    "print 'MSE\\t', metrics.mean_squared_error(y_test, y_pred)\n",
    "print 'RMSE\\t', np.sqrt(metrics.mean_squared_error(y_test, y_pred))\n",
    "\n",
    "score_train = model.score(X_train, y_train)\n",
    "score_test = model.score(X_test, y_test)\n",
    "\n",
    "print '\\n'\n",
    "print '-----------------------------------------'\n",
    "print 'Scores:'\n",
    "print '-----------------------------------------'\n",
    "print 'Train\\t', score_train\n",
    "print 'Test\\t', score_test\n",
    "print '-----------------------------------------\\n'"
   ]
  },
  {
   "cell_type": "code",
   "execution_count": 248,
   "metadata": {
    "collapsed": false
   },
   "outputs": [
    {
     "name": "stdout",
     "output_type": "stream",
     "text": [
      "[[11218     0]\n",
      " [ 1699     0]]\n",
      "[[ 1.  0.]\n",
      " [ 1.  0.]]\n"
     ]
    },
    {
     "data": {
      "image/png": "[encoded data removed]",
      "text/plain": [
       "<matplotlib.figure.Figure at 0x11575af50>"
      ]
     },
     "metadata": {},
     "output_type": "display_data"
    }
   ],
   "source": [
    "cm, cm_norm = model_eval.confusion_matrix(y_test, y_pred)\n",
    "\n",
    "print cm\n",
    "print cm_norm\n",
    "model_eval.plot_confusion_matrix(cm_norm)"
   ]
  },
  {
   "cell_type": "code",
   "execution_count": 51,
   "metadata": {
    "collapsed": false
   },
   "outputs": [
    {
     "name": "stdout",
     "output_type": "stream",
     "text": [
      "thresholds: [ 2.  1.  0.]\n",
      "AUC: 0.827906941061\n"
     ]
    },
    {
     "data": {
      "image/png": "[encoded data removed]",
      "text/plain": [
       "<matplotlib.figure.Figure at 0x10a840550>"
      ]
     },
     "metadata": {},
     "output_type": "display_data"
    },
    {
     "data": {
      "text/plain": [
       "(array([ 0.   ,  0.029,  1.   ]),\n",
       " array([ 0.   ,  0.684,  1.   ]),\n",
       " array([ 2.,  1.,  0.]),\n",
       " 0.82790694106076734)"
      ]
     },
     "execution_count": 51,
     "metadata": {},
     "output_type": "execute_result"
    }
   ],
   "source": [
    "model_eval.plot_roc(y_test, y_pred)"
   ]
  },
  {
   "cell_type": "code",
   "execution_count": null,
   "metadata": {
    "collapsed": false
   },
   "outputs": [],
   "source": [
    "print '\\n'\n",
    "print 'Coefficients for each X:\\n'\n",
    "coeff = pd.DataFrame(zip(new_features, model.coef_[0]), columns=['Feature', 'Weight'])\n",
    "coeff['FeatureImportance'] = np.abs(coeff.Weight)/np.abs(coeff.Weight).sum()\n",
    "coeff.sort_values(by='FeatureImportance', ascending=False)"
   ]
  },
  {
   "cell_type": "code",
   "execution_count": null,
   "metadata": {
    "collapsed": true
   },
   "outputs": [],
   "source": []
  },
  {
   "cell_type": "markdown",
   "metadata": {},
   "source": [
    "## Gradient Boosted Regression Tree"
   ]
  },
  {
   "cell_type": "code",
   "execution_count": null,
   "metadata": {
    "collapsed": false
   },
   "outputs": [],
   "source": [
    "%%time\n",
    "\n",
    "from sklearn.ensemble import GradientBoostingClassifier\n",
    "\n",
    "model = GradientBoostingClassifier(n_estimators=1000, max_features=1.0, learning_rate=0.01, \n",
    "                                    max_depth=4, min_samples_leaf=5)\n",
    "\n",
    "X_train, X_test, y_train, y_test = train_test_split(X_scaled, y, test_size=.25)\n",
    "    \n",
    "#fit on training data\n",
    "fit = model.fit(X_train, y_train)\n",
    "\n",
    "# predict on test data\n",
    "y_pred = model.predict(X_test)\n",
    "accuracy = metrics.accuracy_score(y_test, y_pred)\n",
    "print \"Accuracy of model:\\t\", accuracy\n",
    "print 'MSE\\t', metrics.mean_squared_error(y_test, y_pred)\n",
    "print 'RMSE\\t', np.sqrt(metrics.mean_squared_error(y_test, y_pred))\n",
    "\n",
    "score_train = model.score(X_train, y_train)\n",
    "score_test = model.score(X_test, y_test)\n",
    "\n",
    "print '\\n'\n",
    "print '-----------------------------------------'\n",
    "print 'Scores:'\n",
    "print '-----------------------------------------'\n",
    "print 'Train\\t', score_train\n",
    "print 'Test\\t', score_test\n",
    "print '-----------------------------------------\\n'"
   ]
  },
  {
   "cell_type": "code",
   "execution_count": null,
   "metadata": {
    "collapsed": false
   },
   "outputs": [],
   "source": [
    "print pd.DataFrame(zip(new_features, model.feature_importances_)).sort(1, ascending=False)"
   ]
  },
  {
   "cell_type": "code",
   "execution_count": null,
   "metadata": {
    "collapsed": false
   },
   "outputs": [],
   "source": [
    "p = gb.predict_proba(data_split['X_test'])\n",
    "plot_histogram(p[:,1])"
   ]
  }
 ],
 "metadata": {
  "kernelspec": {
   "display_name": "Python 2",
   "language": "python",
   "name": "python2"
  },
  "language_info": {
   "codemirror_mode": {
    "name": "ipython",
    "version": 2
   },
   "file_extension": ".py",
   "mimetype": "text/x-python",
   "name": "python",
   "nbconvert_exporter": "python",
   "pygments_lexer": "ipython2",
   "version": "2.7.10"
  }
 },
 "nbformat": 4,
 "nbformat_minor": 0
}
