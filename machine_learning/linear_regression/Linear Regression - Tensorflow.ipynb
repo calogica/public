{
 "cells": [
  {
   "cell_type": "code",
   "execution_count": 1,
   "metadata": {
    "ExecuteTime": {
     "end_time": "2017-05-30T23:41:39.617264Z",
     "start_time": "2017-05-30T23:41:37.654030Z"
    }
   },
   "outputs": [
    {
     "data": {
      "text/plain": [
       "'1.1.0'"
      ]
     },
     "execution_count": 1,
     "metadata": {},
     "output_type": "execute_result"
    }
   ],
   "source": [
    "import numpy as np\n",
    "import pandas as pd\n",
    "import tensorflow as tf\n",
    "from sklearn.preprocessing import StandardScaler\n",
    "from sklearn.utils import shuffle\n",
    "\n",
    "import matplotlib.pyplot as plt\n",
    "\n",
    "%matplotlib inline\n",
    "tf.__version__"
   ]
  },
  {
   "cell_type": "markdown",
   "metadata": {},
   "source": [
    "### Get Housing Data"
   ]
  },
  {
   "cell_type": "code",
   "execution_count": 2,
   "metadata": {
    "ExecuteTime": {
     "end_time": "2017-05-30T23:41:40.759316Z",
     "start_time": "2017-05-30T23:41:40.645870Z"
    }
   },
   "outputs": [
    {
     "data": {
      "text/html": [
       "<div>\n",
       "<style>\n",
       "    .dataframe thead tr:only-child th {\n",
       "        text-align: right;\n",
       "    }\n",
       "\n",
       "    .dataframe thead th {\n",
       "        text-align: left;\n",
       "    }\n",
       "\n",
       "    .dataframe tbody tr th {\n",
       "        vertical-align: top;\n",
       "    }\n",
       "</style>\n",
       "<table border=\"1\" class=\"dataframe\">\n",
       "  <thead>\n",
       "    <tr style=\"text-align: right;\">\n",
       "      <th></th>\n",
       "      <th>CRIM</th>\n",
       "      <th>ZN</th>\n",
       "      <th>INDUS</th>\n",
       "      <th>CHAS</th>\n",
       "      <th>NOX</th>\n",
       "      <th>RM</th>\n",
       "      <th>AGE</th>\n",
       "      <th>DIS</th>\n",
       "      <th>RAD</th>\n",
       "      <th>TAX</th>\n",
       "      <th>PTRATIO</th>\n",
       "      <th>B</th>\n",
       "      <th>LSTAT</th>\n",
       "      <th>MEDV</th>\n",
       "    </tr>\n",
       "  </thead>\n",
       "  <tbody>\n",
       "    <tr>\n",
       "      <th>0</th>\n",
       "      <td>0.00632</td>\n",
       "      <td>18.0</td>\n",
       "      <td>2.31</td>\n",
       "      <td>0</td>\n",
       "      <td>0.538</td>\n",
       "      <td>6.575</td>\n",
       "      <td>65.2</td>\n",
       "      <td>4.0900</td>\n",
       "      <td>1</td>\n",
       "      <td>296.0</td>\n",
       "      <td>15.3</td>\n",
       "      <td>396.90</td>\n",
       "      <td>4.98</td>\n",
       "      <td>24.0</td>\n",
       "    </tr>\n",
       "    <tr>\n",
       "      <th>1</th>\n",
       "      <td>0.02731</td>\n",
       "      <td>0.0</td>\n",
       "      <td>7.07</td>\n",
       "      <td>0</td>\n",
       "      <td>0.469</td>\n",
       "      <td>6.421</td>\n",
       "      <td>78.9</td>\n",
       "      <td>4.9671</td>\n",
       "      <td>2</td>\n",
       "      <td>242.0</td>\n",
       "      <td>17.8</td>\n",
       "      <td>396.90</td>\n",
       "      <td>9.14</td>\n",
       "      <td>21.6</td>\n",
       "    </tr>\n",
       "    <tr>\n",
       "      <th>2</th>\n",
       "      <td>0.02729</td>\n",
       "      <td>0.0</td>\n",
       "      <td>7.07</td>\n",
       "      <td>0</td>\n",
       "      <td>0.469</td>\n",
       "      <td>7.185</td>\n",
       "      <td>61.1</td>\n",
       "      <td>4.9671</td>\n",
       "      <td>2</td>\n",
       "      <td>242.0</td>\n",
       "      <td>17.8</td>\n",
       "      <td>392.83</td>\n",
       "      <td>4.03</td>\n",
       "      <td>34.7</td>\n",
       "    </tr>\n",
       "    <tr>\n",
       "      <th>3</th>\n",
       "      <td>0.03237</td>\n",
       "      <td>0.0</td>\n",
       "      <td>2.18</td>\n",
       "      <td>0</td>\n",
       "      <td>0.458</td>\n",
       "      <td>6.998</td>\n",
       "      <td>45.8</td>\n",
       "      <td>6.0622</td>\n",
       "      <td>3</td>\n",
       "      <td>222.0</td>\n",
       "      <td>18.7</td>\n",
       "      <td>394.63</td>\n",
       "      <td>2.94</td>\n",
       "      <td>33.4</td>\n",
       "    </tr>\n",
       "    <tr>\n",
       "      <th>4</th>\n",
       "      <td>0.06905</td>\n",
       "      <td>0.0</td>\n",
       "      <td>2.18</td>\n",
       "      <td>0</td>\n",
       "      <td>0.458</td>\n",
       "      <td>7.147</td>\n",
       "      <td>54.2</td>\n",
       "      <td>6.0622</td>\n",
       "      <td>3</td>\n",
       "      <td>222.0</td>\n",
       "      <td>18.7</td>\n",
       "      <td>396.90</td>\n",
       "      <td>5.33</td>\n",
       "      <td>36.2</td>\n",
       "    </tr>\n",
       "  </tbody>\n",
       "</table>\n",
       "</div>"
      ],
      "text/plain": [
       "      CRIM    ZN  INDUS  CHAS    NOX     RM   AGE     DIS  RAD    TAX  \\\n",
       "0  0.00632  18.0   2.31     0  0.538  6.575  65.2  4.0900    1  296.0   \n",
       "1  0.02731   0.0   7.07     0  0.469  6.421  78.9  4.9671    2  242.0   \n",
       "2  0.02729   0.0   7.07     0  0.469  7.185  61.1  4.9671    2  242.0   \n",
       "3  0.03237   0.0   2.18     0  0.458  6.998  45.8  6.0622    3  222.0   \n",
       "4  0.06905   0.0   2.18     0  0.458  7.147  54.2  6.0622    3  222.0   \n",
       "\n",
       "   PTRATIO       B  LSTAT  MEDV  \n",
       "0     15.3  396.90   4.98  24.0  \n",
       "1     17.8  396.90   9.14  21.6  \n",
       "2     17.8  392.83   4.03  34.7  \n",
       "3     18.7  394.63   2.94  33.4  \n",
       "4     18.7  396.90   5.33  36.2  "
      ]
     },
     "execution_count": 2,
     "metadata": {},
     "output_type": "execute_result"
    }
   ],
   "source": [
    "df = pd.read_csv('https://archive.ics.uci.edu/ml/machine-learning-databases/'\n",
    "                 'housing/housing.data',\n",
    "                 header=None,\n",
    "                 sep='\\s+')\n",
    "\n",
    "df.columns = ['CRIM', 'ZN', 'INDUS', 'CHAS', \n",
    "              'NOX', 'RM', 'AGE', 'DIS', 'RAD', \n",
    "              'TAX', 'PTRATIO', 'B', 'LSTAT', 'MEDV']\n",
    "df.head()"
   ]
  },
  {
   "cell_type": "markdown",
   "metadata": {},
   "source": [
    "We only take the number of rooms as our feature and the median value as our target"
   ]
  },
  {
   "cell_type": "code",
   "execution_count": 3,
   "metadata": {
    "ExecuteTime": {
     "end_time": "2017-05-30T23:41:41.937316Z",
     "start_time": "2017-05-30T23:41:41.933245Z"
    },
    "collapsed": true
   },
   "outputs": [],
   "source": [
    "X = df[['RM']].values\n",
    "y = df['MEDV'].values"
   ]
  },
  {
   "cell_type": "code",
   "execution_count": 4,
   "metadata": {
    "ExecuteTime": {
     "end_time": "2017-05-30T23:41:42.675580Z",
     "start_time": "2017-05-30T23:41:42.494440Z"
    }
   },
   "outputs": [
    {
     "data": {
      "image/png": "[encoded data removed]",
      "text/plain": [
       "<matplotlib.figure.Figure at 0x12043a6a0>"
      ]
     },
     "metadata": {},
     "output_type": "display_data"
    }
   ],
   "source": [
    "plt.scatter(X, y);"
   ]
  },
  {
   "cell_type": "markdown",
   "metadata": {},
   "source": [
    "We scale the feature and target which helps with convergence etc."
   ]
  },
  {
   "cell_type": "code",
   "execution_count": 5,
   "metadata": {
    "ExecuteTime": {
     "end_time": "2017-05-30T23:41:44.640656Z",
     "start_time": "2017-05-30T23:41:44.485222Z"
    }
   },
   "outputs": [
    {
     "data": {
      "image/png": "[encoded data removed]",
      "text/plain": [
       "<matplotlib.figure.Figure at 0x1205c7710>"
      ]
     },
     "metadata": {},
     "output_type": "display_data"
    }
   ],
   "source": [
    "sc_x = StandardScaler()\n",
    "sc_y = StandardScaler()\n",
    "X_std = sc_x.fit_transform(X)\n",
    "y_std = sc_y.fit_transform(y[:, np.newaxis]).flatten()\n",
    "plt.scatter(X_std, y_std);"
   ]
  },
  {
   "cell_type": "markdown",
   "metadata": {},
   "source": [
    "As a check, we run LR through scikit-learn:"
   ]
  },
  {
   "cell_type": "code",
   "execution_count": 6,
   "metadata": {
    "ExecuteTime": {
     "end_time": "2017-05-30T23:41:46.266340Z",
     "start_time": "2017-05-30T23:41:46.197177Z"
    }
   },
   "outputs": [
    {
     "name": "stdout",
     "output_type": "stream",
     "text": [
      "Cost\t 0.516475\n",
      "w_0\t -0.0000000000\n",
      "w_1\t 0.695360\n"
     ]
    }
   ],
   "source": [
    "from sklearn.linear_model import LinearRegression\n",
    "X_train = X_std\n",
    "y_train = y_std\n",
    "sk_lr = LinearRegression()\n",
    "sk_lr.fit(X_train, y_train)\n",
    "loss = np.mean(np.square(y_train - sk_lr.predict(X_train)))\n",
    "print('Cost\\t {:.6f}'.format(loss))\n",
    "print('w_0\\t {:.10f}'.format(sk_lr.intercept_))\n",
    "print('w_1\\t {:.6f}'.format(sk_lr.coef_[0]))"
   ]
  },
  {
   "cell_type": "markdown",
   "metadata": {},
   "source": [
    "### Tensorflow Version"
   ]
  },
  {
   "cell_type": "code",
   "execution_count": 37,
   "metadata": {
    "ExecuteTime": {
     "end_time": "2017-05-30T23:53:32.827272Z",
     "start_time": "2017-05-30T23:53:32.697042Z"
    }
   },
   "outputs": [],
   "source": [
    "class LinearRegressionTF(object):\n",
    "\n",
    "    def __init__(self, eta=0.01, epochs=50, display_step = 10, batch_size=10):\n",
    "        self.eta = eta\n",
    "        self.epochs = epochs\n",
    "        self.display_step_ = display_step\n",
    "        self.batch_size_ = batch_size\n",
    "        \n",
    "    def get_minibatches(self, X):\n",
    "        return zip(range(0, len(X), self.batch_size_), \n",
    "                                      range(self.batch_size_, \n",
    "                                      len(X)+1, self.batch_size_))\n",
    "        \n",
    "    def train(self, X, y):\n",
    "        n, m = X.shape\n",
    "        self.cost_ = []\n",
    "    \n",
    "        X_ = tf.placeholder(tf.float32)\n",
    "        Y_ = tf.placeholder(tf.float32)\n",
    "        \n",
    "        W_ = tf.Variable(1., tf.float32, name=\"weight\")\n",
    "        \n",
    "        b_ = tf.Variable(0., tf.float32, name=\"bias\")\n",
    "\n",
    "        output = W_ * tf.transpose(X_) + b_\n",
    "        \n",
    "        loss = tf.reduce_mean(tf.square(output - Y_))\n",
    "        optimizer = tf.train.GradientDescentOptimizer(self.eta)\n",
    "        train_step = optimizer.minimize(loss)\n",
    "        \n",
    "        init = tf.global_variables_initializer()\n",
    "        with tf.Session() as sess:\n",
    "            sess.run(init)\n",
    "            \n",
    "            for i in range(self.epochs):\n",
    "                X, y = shuffle(X, y)\n",
    "                \n",
    "                for start, end in self.get_minibatches(X):\n",
    "                    sess.run(train_step, feed_dict={\n",
    "                                                    X_: X[start:end], \n",
    "                                                    Y_: y[start:end]\n",
    "                                                    })\n",
    "                \n",
    "                c = sess.run(loss, feed_dict={X_: X, Y_:y})                \n",
    "                if (i+1) % self.display_step_ == 0:\n",
    "                    print(\"Iteration %d | Cost: %f\" % (i+1, c))\n",
    "\n",
    "                self.cost_.append(c)\n",
    "            \n",
    "            final_W, final_b, final_loss = sess.run([W_, b_, loss], \n",
    "                                                    feed_dict={X_: X, Y_: y})\n",
    "            self.W = final_W\n",
    "            self.b = final_b\n",
    "\n",
    "            print(\"Training cost=\", final_loss, \"W=\", final_W, \"b=\", final_b, '\\n')\n",
    "\n",
    "        return self\n",
    "    \n",
    "    def predict(self, X):        \n",
    "        return self.W * X + self.b"
   ]
  },
  {
   "cell_type": "code",
   "execution_count": 38,
   "metadata": {
    "ExecuteTime": {
     "end_time": "2017-05-30T23:53:33.659336Z",
     "start_time": "2017-05-30T23:53:33.656505Z"
    },
    "collapsed": true
   },
   "outputs": [],
   "source": [
    "X_train = X_std\n",
    "y_train = y_std"
   ]
  },
  {
   "cell_type": "code",
   "execution_count": 45,
   "metadata": {
    "ExecuteTime": {
     "end_time": "2017-05-30T23:55:28.270507Z",
     "start_time": "2017-05-30T23:55:26.359575Z"
    }
   },
   "outputs": [
    {
     "name": "stdout",
     "output_type": "stream",
     "text": [
      "Iteration 10 | Cost: 0.528805\n",
      "Iteration 20 | Cost: 0.518207\n",
      "Iteration 30 | Cost: 0.516778\n",
      "Iteration 40 | Cost: 0.516548\n",
      "Iteration 50 | Cost: 0.516478\n",
      "Iteration 60 | Cost: 0.516495\n",
      "Iteration 70 | Cost: 0.516480\n",
      "Iteration 80 | Cost: 0.516478\n",
      "Iteration 90 | Cost: 0.516475\n",
      "Iteration 100 | Cost: 0.516475\n",
      "Training cost= 0.516475 W= 0.694985 b= -0.000166305 \n",
      "\n"
     ]
    }
   ],
   "source": [
    "n_iter = 100\n",
    "eta=0.001\n",
    "\n",
    "lr_tf = LinearRegressionTF(eta, n_iter, display_step=10, batch_size=10)\n",
    "lr_tf = lr_tf.train(X_train, y_train)"
   ]
  },
  {
   "cell_type": "code",
   "execution_count": 46,
   "metadata": {
    "ExecuteTime": {
     "end_time": "2017-05-30T23:55:29.927743Z",
     "start_time": "2017-05-30T23:55:29.766773Z"
    }
   },
   "outputs": [
    {
     "data": {
      "image/png": "[encoded data removed]",
      "text/plain": [
       "<matplotlib.figure.Figure at 0x12521bb70>"
      ]
     },
     "metadata": {},
     "output_type": "display_data"
    }
   ],
   "source": [
    "plt.plot(range(1, lr_tf.epochs+1), lr_tf.cost_)\n",
    "plt.ylabel('RMSE')\n",
    "plt.xlabel('Epoch')\n",
    "plt.tight_layout()\n",
    "plt.show()"
   ]
  },
  {
   "cell_type": "code",
   "execution_count": 47,
   "metadata": {
    "ExecuteTime": {
     "end_time": "2017-05-30T23:55:31.520125Z",
     "start_time": "2017-05-30T23:55:31.517217Z"
    },
    "collapsed": true
   },
   "outputs": [],
   "source": [
    "from sklearn.metrics import r2_score"
   ]
  },
  {
   "cell_type": "code",
   "execution_count": 48,
   "metadata": {
    "ExecuteTime": {
     "end_time": "2017-05-30T23:55:31.650125Z",
     "start_time": "2017-05-30T23:55:31.647107Z"
    }
   },
   "outputs": [],
   "source": [
    "y_hat = lr_tf.predict(X_train.astype(np.float32))"
   ]
  },
  {
   "cell_type": "code",
   "execution_count": 49,
   "metadata": {
    "ExecuteTime": {
     "end_time": "2017-05-30T23:55:32.385808Z",
     "start_time": "2017-05-30T23:55:32.381083Z"
    }
   },
   "outputs": [
    {
     "data": {
      "text/plain": [
       "0.4835252894386578"
      ]
     },
     "execution_count": 49,
     "metadata": {},
     "output_type": "execute_result"
    }
   ],
   "source": [
    "r2_score(y_train, y_hat)"
   ]
  },
  {
   "cell_type": "code",
   "execution_count": 50,
   "metadata": {
    "ExecuteTime": {
     "end_time": "2017-05-30T23:55:33.784849Z",
     "start_time": "2017-05-30T23:55:33.604815Z"
    }
   },
   "outputs": [
    {
     "data": {
      "image/png": "[encoded data removed]",
      "text/plain": [
       "<matplotlib.figure.Figure at 0x1259dc630>"
      ]
     },
     "metadata": {},
     "output_type": "display_data"
    }
   ],
   "source": [
    "plt.scatter(X_train, y_train, c='lightblue')\n",
    "plt.plot(X_train, y_hat, color='red', linewidth=2)   \n",
    "# plt.plot(X_train, y_hat_sk, color='blue', linewidth=2)   \n",
    "plt.xlabel('Average number of rooms [RM] (standardized)')\n",
    "plt.ylabel('Price in $1000\\'s [MEDV] (standardized)')\n",
    "plt.tight_layout()\n",
    "plt.show()"
   ]
  }
 ],
 "metadata": {
  "kernelspec": {
   "display_name": "Python 3",
   "language": "python",
   "name": "python3"
  },
  "language_info": {
   "codemirror_mode": {
    "name": "ipython",
    "version": 3
   },
   "file_extension": ".py",
   "mimetype": "text/x-python",
   "name": "python",
   "nbconvert_exporter": "python",
   "pygments_lexer": "ipython3",
   "version": "3.6.1"
  }
 },
 "nbformat": 4,
 "nbformat_minor": 2
}
