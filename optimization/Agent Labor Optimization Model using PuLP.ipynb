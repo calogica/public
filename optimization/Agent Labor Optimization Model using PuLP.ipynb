{
 "cells": [
  {
   "cell_type": "code",
   "execution_count": 1,
   "metadata": {
    "ExecuteTime": {
     "end_time": "2017-08-29T15:16:04.779438Z",
     "start_time": "2017-08-29T15:16:03.409542Z"
    },
    "collapsed": true
   },
   "outputs": [],
   "source": [
    "from pulp import *\n",
    "import numpy as np\n",
    "import pandas as pd\n",
    "import matplotlib.pyplot as plt\n",
    "\n",
    "from scipy.optimize import minimize\n",
    "\n",
    "%matplotlib inline"
   ]
  },
  {
   "cell_type": "markdown",
   "metadata": {},
   "source": [
    "The following model shows how to calculate two models for scheduling call center agents given some (estimated) demand for customer calls or contacts for a given week. \n",
    "\n",
    "We differentiate between permanent employees and temporary call center employees that have different efficiencies, measured in calls per hour, as well cost (per hour).\n",
    "- We estimate the overall labor requirements by type, and we also\n",
    "- Estimate the requirements by type by day given a distribution of calls per day"
   ]
  },
  {
   "cell_type": "markdown",
   "metadata": {},
   "source": [
    "We'll use the [PuLP library](https://github.com/coin-or/pulp) to do the optimization calculation for us using integer programming and discrete optimization."
   ]
  },
  {
   "cell_type": "markdown",
   "metadata": {
    "ExecuteTime": {
     "end_time": "2017-08-28T23:53:35.473419Z",
     "start_time": "2017-08-28T23:53:35.470934Z"
    }
   },
   "source": [
    "### Inputs"
   ]
  },
  {
   "cell_type": "code",
   "execution_count": 2,
   "metadata": {
    "ExecuteTime": {
     "end_time": "2017-08-29T15:16:04.801350Z",
     "start_time": "2017-08-29T15:16:04.781611Z"
    },
    "collapsed": true
   },
   "outputs": [],
   "source": [
    "total_calls = 7000\n",
    "hours_per_shift = 9\n",
    "\n",
    "labor_types = ['perm', 'temp']\n",
    "\n",
    "# Minimum and maximum number of agents per type\n",
    "min_agents = {'perm': 10, 'temp': 0}\n",
    "max_agents = {'perm': 50, 'temp': 30}\n",
    "\n",
    "# Efficiency assumptions\n",
    "# We assume 5 calls per permanent agent and 3 per temp agent\n",
    "calls_per_hour_per_agent = {'perm': 5, 'temp': 3}\n",
    "\n",
    "# The hourly cost in $ per agent per type \n",
    "cost_per_agent_hour = {'perm': 20, 'temp': 10}\n",
    "\n",
    "# We assume agents work 5 day weeks \n",
    "days_per_week = 5\n",
    "\n",
    "# To simplify things, we calculate the number of calls an agent can handle per day \n",
    "calls_per_day_per_agent = {'perm': calls_per_hour_per_agent['perm'] * hours_per_shift,\n",
    "                            'temp': calls_per_hour_per_agent['temp'] * hours_per_shift}"
   ]
  },
  {
   "cell_type": "markdown",
   "metadata": {},
   "source": [
    "### Total Agent Mix"
   ]
  },
  {
   "cell_type": "code",
   "execution_count": 16,
   "metadata": {
    "ExecuteTime": {
     "end_time": "2017-08-29T15:16:59.463687Z",
     "start_time": "2017-08-29T15:16:59.444795Z"
    },
    "collapsed": true
   },
   "outputs": [],
   "source": [
    "agents = LpVariable.dicts(\"Agents\",labor_types, 0, None, cat=LpInteger)\n",
    "\n",
    "# We want to minimize the Labor Cost function\n",
    "model = LpProblem(\"Number of Agents\", LpMinimize) \n",
    "\n",
    "model += lpSum(\n",
    "    [agents[t] * hours_per_shift * days_per_week * cost_per_agent_hour[t]\n",
    "               for t in labor_types]\n",
    "    ), \"LaborCost\"\n",
    "\n",
    "# -----------------\n",
    "# Constraints \n",
    "# -----------------\n",
    "\n",
    "# Must satisfy total demand\n",
    "model += lpSum([agents[t] * calls_per_day_per_agent[t] * days_per_week\n",
    "               for t in labor_types]\n",
    "            ) >= total_calls, 'TotalDemand'\n",
    "\n",
    "# No more than N agents per type\n",
    "for t in labor_types:\n",
    "    model += lpSum([agents[t]]) <= max_agents[t], 'Max_{:}'.format(t)\n",
    "\n",
    "# Minimum of N agents per type\n",
    "for t in labor_types:\n",
    "    model += lpSum([agents[t]]) >= min_agents[t], 'Min_{:}'.format(t)"
   ]
  },
  {
   "cell_type": "markdown",
   "metadata": {},
   "source": [
    "Let's solve our model:"
   ]
  },
  {
   "cell_type": "code",
   "execution_count": 17,
   "metadata": {
    "ExecuteTime": {
     "end_time": "2017-08-29T15:17:01.719513Z",
     "start_time": "2017-08-29T15:17:01.662150Z"
    }
   },
   "outputs": [
    {
     "name": "stdout",
     "output_type": "stream",
     "text": [
      "Optimal\n"
     ]
    }
   ],
   "source": [
    "model.solve(pulp.GLPK())\n",
    "print (pulp.LpStatus[model.status])"
   ]
  },
  {
   "cell_type": "markdown",
   "metadata": {},
   "source": [
    "We'll turn the model outputs into a dataframe for reporting:"
   ]
  },
  {
   "cell_type": "code",
   "execution_count": 21,
   "metadata": {
    "ExecuteTime": {
     "end_time": "2017-08-29T15:19:11.721503Z",
     "start_time": "2017-08-29T15:19:11.696607Z"
    }
   },
   "outputs": [
    {
     "name": "stdout",
     "output_type": "stream",
     "text": [
      "Cost:\t\t  25650\n"
     ]
    },
    {
     "data": {
      "text/html": [
       "<div>\n",
       "<style>\n",
       "    .dataframe thead tr:only-child th {\n",
       "        text-align: right;\n",
       "    }\n",
       "\n",
       "    .dataframe thead th {\n",
       "        text-align: left;\n",
       "    }\n",
       "\n",
       "    .dataframe tbody tr th {\n",
       "        vertical-align: top;\n",
       "    }\n",
       "</style>\n",
       "<table border=\"1\" class=\"dataframe\">\n",
       "  <thead>\n",
       "    <tr style=\"text-align: right;\">\n",
       "      <th></th>\n",
       "      <th>type</th>\n",
       "      <th>agents</th>\n",
       "      <th>call_capacity</th>\n",
       "    </tr>\n",
       "  </thead>\n",
       "  <tbody>\n",
       "    <tr>\n",
       "      <th>0</th>\n",
       "      <td>perm</td>\n",
       "      <td>14</td>\n",
       "      <td>3150.0</td>\n",
       "    </tr>\n",
       "    <tr>\n",
       "      <th>1</th>\n",
       "      <td>temp</td>\n",
       "      <td>29</td>\n",
       "      <td>3915.0</td>\n",
       "    </tr>\n",
       "  </tbody>\n",
       "</table>\n",
       "</div>"
      ],
      "text/plain": [
       "   type  agents  call_capacity\n",
       "0  perm      14         3150.0\n",
       "1  temp      29         3915.0"
      ]
     },
     "execution_count": 21,
     "metadata": {},
     "output_type": "execute_result"
    }
   ],
   "source": [
    "print ('Cost:\\t\\t ', pulp.value(model.objective) )\n",
    "# for var in model.variables():\n",
    "#     print(var, var.varValue)\n",
    "    \n",
    "sol_1 = [\n",
    "    (v.name.split('_')[1], \n",
    "       int(v.varValue)\n",
    "    ) \n",
    "       for v in model.variables()\n",
    "     ]\n",
    "\n",
    "df_sol_1 = pd.DataFrame(sol_1, columns=['type', 'agents'])\n",
    "\n",
    "# We'll calculate the total call capacity of our agent pool\n",
    "for t in labor_types:\n",
    "    calls_capacity = calls_per_day_per_agent[t] * days_per_week\n",
    "    agent_call_capacity = df_sol_1.loc[df_sol_1['type'] == t, 'agents'] * calls_capacity\n",
    "    df_sol_1.loc[df_sol_1['type'] == t, 'call_capacity'] = agent_call_capacity\n",
    "\n",
    "df_sol_1"
   ]
  },
  {
   "cell_type": "markdown",
   "metadata": {},
   "source": [
    "So, based on our first model, we'll need 14 permanent and 29 temp employees to satisfy our call demand."
   ]
  },
  {
   "cell_type": "markdown",
   "metadata": {},
   "source": [
    "### Agent Mix By Weekday\n",
    "Our second model breaks out the labor requirements by day, given a set of % of weekly volume for each day"
   ]
  },
  {
   "cell_type": "markdown",
   "metadata": {},
   "source": [
    "We start the week on Mondays and set the target %s for each weekday"
   ]
  },
  {
   "cell_type": "code",
   "execution_count": 22,
   "metadata": {
    "ExecuteTime": {
     "end_time": "2017-08-29T15:19:15.633361Z",
     "start_time": "2017-08-29T15:19:15.628323Z"
    }
   },
   "outputs": [
    {
     "data": {
      "text/plain": [
       "{1: 'M', 2: 'T', 3: 'W', 4: 'Th', 5: 'F', 6: 'S', 7: 'Su'}"
      ]
     },
     "execution_count": 22,
     "metadata": {},
     "output_type": "execute_result"
    }
   ],
   "source": [
    "weekdays = {1: 'M', 2: 'T', 3: 'W', 4: 'Th', 5: 'F', 6: 'S', 7: 'Su'}\n",
    "weekdays"
   ]
  },
  {
   "cell_type": "code",
   "execution_count": 23,
   "metadata": {
    "ExecuteTime": {
     "end_time": "2017-08-29T15:19:16.161831Z",
     "start_time": "2017-08-29T15:19:16.155845Z"
    }
   },
   "outputs": [
    {
     "data": {
      "text/plain": [
       "1.0"
      ]
     },
     "execution_count": 23,
     "metadata": {},
     "output_type": "execute_result"
    }
   ],
   "source": [
    "wdays = [i for i in range(1, len(weekdays)+1)]\n",
    "weekday_perc = np.array([.20,.18,.16,.16, .12,.10,.08])\n",
    "np.sum(weekday_perc)"
   ]
  },
  {
   "cell_type": "code",
   "execution_count": 24,
   "metadata": {
    "ExecuteTime": {
     "end_time": "2017-08-29T15:19:16.833944Z",
     "start_time": "2017-08-29T15:19:16.829432Z"
    }
   },
   "outputs": [
    {
     "data": {
      "text/plain": [
       "{1: 0.20000000000000001,\n",
       " 2: 0.17999999999999999,\n",
       " 3: 0.16,\n",
       " 4: 0.16,\n",
       " 5: 0.12,\n",
       " 6: 0.10000000000000001,\n",
       " 7: 0.080000000000000002}"
      ]
     },
     "execution_count": 24,
     "metadata": {},
     "output_type": "execute_result"
    }
   ],
   "source": [
    "weekday_dist = dict(zip(weekdays, weekday_perc))\n",
    "weekday_dist"
   ]
  },
  {
   "cell_type": "markdown",
   "metadata": {},
   "source": [
    "Let's look at what this distribution looks like:"
   ]
  },
  {
   "cell_type": "code",
   "execution_count": 25,
   "metadata": {
    "ExecuteTime": {
     "end_time": "2017-08-29T15:19:19.516587Z",
     "start_time": "2017-08-29T15:19:19.332768Z"
    }
   },
   "outputs": [
    {
     "data": {
      "image/png": "[encoded data removed]",
      "text/plain": [
       "<matplotlib.figure.Figure at 0x10cb33358>"
      ]
     },
     "metadata": {},
     "output_type": "display_data"
    }
   ],
   "source": [
    "fig, ax = plt.subplots(1, 1)\n",
    "ax.bar([w for w in range(1, len(weekday_dist.keys())+1)], \n",
    "       [v for v in weekday_dist.values()])\n",
    "ax.set_ylim(0, np.round(np.max([v for v in weekday_dist.values()]), 1));"
   ]
  },
  {
   "cell_type": "code",
   "execution_count": 28,
   "metadata": {
    "ExecuteTime": {
     "end_time": "2017-08-29T15:20:24.328574Z",
     "start_time": "2017-08-29T15:20:24.268965Z"
    },
    "scrolled": true
   },
   "outputs": [
    {
     "name": "stdout",
     "output_type": "stream",
     "text": [
      "Number of Agents by Day:\n",
      "MINIMIZE\n",
      "180*Agents_1_perm + 90*Agents_1_temp + 180*Agents_2_perm + 90*Agents_2_temp + 180*Agents_3_perm + 90*Agents_3_temp + 180*Agents_4_perm + 90*Agents_4_temp + 180*Agents_5_perm + 90*Agents_5_temp + 180*Agents_6_perm + 90*Agents_6_temp + 180*Agents_7_perm + 90*Agents_7_temp + 0\n",
      "SUBJECT TO\n",
      "TotalDemand: 45 Agents_1_perm + 27 Agents_1_temp + 45 Agents_2_perm\n",
      " + 27 Agents_2_temp + 45 Agents_3_perm + 27 Agents_3_temp + 45 Agents_4_perm\n",
      " + 27 Agents_4_temp + 45 Agents_5_perm + 27 Agents_5_temp + 45 Agents_6_perm\n",
      " + 27 Agents_6_temp + 45 Agents_7_perm + 27 Agents_7_temp >= 7000\n",
      "\n",
      "MinCallsDays_1: 45 Agents_1_perm + 27 Agents_1_temp >= 1400\n",
      "\n",
      "MinCallsDays_2: 45 Agents_2_perm + 27 Agents_2_temp >= 1260\n",
      "\n",
      "MinCallsDays_3: 45 Agents_3_perm + 27 Agents_3_temp >= 1120\n",
      "\n",
      "MinCallsDays_4: 45 Agents_4_perm + 27 Agents_4_temp >= 1120\n",
      "\n",
      "MinCallsDays_5: 45 Agents_5_perm + 27 Agents_5_temp >= 840\n",
      "\n",
      "MinCallsDays_6: 45 Agents_6_perm + 27 Agents_6_temp >= 700\n",
      "\n",
      "MinCallsDays_7: 45 Agents_7_perm + 27 Agents_7_temp >= 560\n",
      "\n",
      "Max_perm_1: Agents_1_perm <= 50\n",
      "\n",
      "Max_perm_2: Agents_2_perm <= 50\n",
      "\n",
      "Max_perm_3: Agents_3_perm <= 50\n",
      "\n",
      "Max_perm_4: Agents_4_perm <= 50\n",
      "\n",
      "Max_perm_5: Agents_5_perm <= 50\n",
      "\n",
      "Max_perm_6: Agents_6_perm <= 2\n",
      "\n",
      "Max_perm_7: Agents_7_perm <= 2\n",
      "\n",
      "Max_temp_1: Agents_1_temp <= 30\n",
      "\n",
      "Max_temp_2: Agents_2_temp <= 30\n",
      "\n",
      "Max_temp_3: Agents_3_temp <= 30\n",
      "\n",
      "Max_temp_4: Agents_4_temp <= 30\n",
      "\n",
      "Max_temp_5: Agents_5_temp <= 30\n",
      "\n",
      "Max_temp_6: Agents_6_temp <= 30\n",
      "\n",
      "Max_temp_7: Agents_7_temp <= 30\n",
      "\n",
      "Min_perm_1: Agents_1_perm >= 10\n",
      "\n",
      "Min_perm_2: Agents_2_perm >= 10\n",
      "\n",
      "Min_perm_3: Agents_3_perm >= 10\n",
      "\n",
      "Min_perm_4: Agents_4_perm >= 10\n",
      "\n",
      "Min_perm_5: Agents_5_perm >= 10\n",
      "\n",
      "Min_perm_6: Agents_6_perm >= 2\n",
      "\n",
      "Min_perm_7: Agents_7_perm >= 2\n",
      "\n",
      "Min_temp_1: Agents_1_temp >= 0\n",
      "\n",
      "Min_temp_2: Agents_2_temp >= 0\n",
      "\n",
      "Min_temp_3: Agents_3_temp >= 0\n",
      "\n",
      "Min_temp_4: Agents_4_temp >= 0\n",
      "\n",
      "Min_temp_5: Agents_5_temp >= 0\n",
      "\n",
      "Min_temp_6: Agents_6_temp >= 0\n",
      "\n",
      "Min_temp_7: Agents_7_temp >= 0\n",
      "\n",
      "VARIABLES\n",
      "0 <= Agents_1_perm Integer\n",
      "0 <= Agents_1_temp Integer\n",
      "0 <= Agents_2_perm Integer\n",
      "0 <= Agents_2_temp Integer\n",
      "0 <= Agents_3_perm Integer\n",
      "0 <= Agents_3_temp Integer\n",
      "0 <= Agents_4_perm Integer\n",
      "0 <= Agents_4_temp Integer\n",
      "0 <= Agents_5_perm Integer\n",
      "0 <= Agents_5_temp Integer\n",
      "0 <= Agents_6_perm Integer\n",
      "0 <= Agents_6_temp Integer\n",
      "0 <= Agents_7_perm Integer\n",
      "0 <= Agents_7_temp Integer\n",
      "\n"
     ]
    }
   ],
   "source": [
    "agents = LpVariable.dicts(\"Agents\",(weekdays, labor_types), 0, None, cat=LpInteger)\n",
    "\n",
    "# We want to minimize the Labor Cost function\n",
    "model = LpProblem(\"Number of Agents by Day\", LpMinimize) \n",
    "\n",
    "model += lpSum(\n",
    "    [agents[d][t] * hours_per_shift * cost_per_agent_hour[t]\n",
    "               for d in weekdays\n",
    "               for t in labor_types]\n",
    "    ), \"LaborCost\"\n",
    "\n",
    "# -----------------\n",
    "# Constraints \n",
    "# -----------------\n",
    "\n",
    "# Must satisfy total demand\n",
    "model += lpSum(\n",
    "    [agents[d][t] * calls_per_day_per_agent[t]\n",
    "               for d in weekdays\n",
    "               for t in labor_types]\n",
    ") >= total_calls, 'TotalDemand'\n",
    "\n",
    "# Must satisfy daily demand\n",
    "for d in weekdays:\n",
    "    daily_demand = np.ceil(total_calls * weekday_dist[d])\n",
    "    model += lpSum(\n",
    "            [agents[d][t] * calls_per_day_per_agent[t] for t in labor_types]\n",
    "            ) >= daily_demand, 'MinCallsDays_{:}'.format(d)\n",
    "\n",
    "\n",
    "# No more than N agents per type per weekday\n",
    "for t in labor_types:\n",
    "    for d in weekdays:\n",
    "        max_agnt = 2 if d in (6, 7) and t == 'perm' else max_agents[t] \n",
    "        model += lpSum([agents[d][t]]) <= max_agnt, 'Max_{:}_{:}'.format(t, d)\n",
    "\n",
    "# Minimum of N agents per type per weekday\n",
    "for t in labor_types:\n",
    "    for d in weekdays:\n",
    "        # on the weekends, only 2 minimum perms\n",
    "        min_agnt = 2 if d in (6, 7) and t == 'perm' else min_agents[t] \n",
    "        model += lpSum([agents[d][t]]) >= min_agnt, 'Min_{:}_{:}'.format(t, d)\n",
    "\n",
    "print(model)"
   ]
  },
  {
   "cell_type": "code",
   "execution_count": 29,
   "metadata": {
    "ExecuteTime": {
     "end_time": "2017-08-29T15:20:30.412156Z",
     "start_time": "2017-08-29T15:20:30.389200Z"
    }
   },
   "outputs": [
    {
     "name": "stdout",
     "output_type": "stream",
     "text": [
      "Optimal\n"
     ]
    }
   ],
   "source": [
    "model.solve(pulp.GLPK())\n",
    "print (pulp.LpStatus[model.status])"
   ]
  },
  {
   "cell_type": "code",
   "execution_count": 31,
   "metadata": {
    "ExecuteTime": {
     "end_time": "2017-08-29T15:20:48.812427Z",
     "start_time": "2017-08-29T15:20:48.805065Z"
    }
   },
   "outputs": [
    {
     "name": "stdout",
     "output_type": "stream",
     "text": [
      "Cost:\t\t  25290\n"
     ]
    }
   ],
   "source": [
    "print ('Cost:\\t\\t ', pulp.value(model.objective) )\n",
    "\n",
    "# Extract variable values from the solution\n",
    "sol = [(v.name.split('_')[1], \n",
    "        v.name.split('_')[2],\n",
    "       int(v.varValue)) \n",
    "       for v in model.variables()\n",
    "      ]\n"
   ]
  },
  {
   "cell_type": "markdown",
   "metadata": {},
   "source": [
    "We turn the solution's variable values into a dataframe to make reporting easier:"
   ]
  },
  {
   "cell_type": "code",
   "execution_count": 32,
   "metadata": {
    "ExecuteTime": {
     "end_time": "2017-08-29T15:21:52.199504Z",
     "start_time": "2017-08-29T15:21:52.171842Z"
    }
   },
   "outputs": [
    {
     "data": {
      "text/html": [
       "<div>\n",
       "<style>\n",
       "    .dataframe thead tr:only-child th {\n",
       "        text-align: right;\n",
       "    }\n",
       "\n",
       "    .dataframe thead th {\n",
       "        text-align: left;\n",
       "    }\n",
       "\n",
       "    .dataframe tbody tr th {\n",
       "        vertical-align: top;\n",
       "    }\n",
       "</style>\n",
       "<table border=\"1\" class=\"dataframe\">\n",
       "  <thead>\n",
       "    <tr style=\"text-align: right;\">\n",
       "      <th>type</th>\n",
       "      <th>perm</th>\n",
       "      <th>temp</th>\n",
       "    </tr>\n",
       "    <tr>\n",
       "      <th>weekday</th>\n",
       "      <th></th>\n",
       "      <th></th>\n",
       "    </tr>\n",
       "  </thead>\n",
       "  <tbody>\n",
       "    <tr>\n",
       "      <th>1</th>\n",
       "      <td>14</td>\n",
       "      <td>29</td>\n",
       "    </tr>\n",
       "    <tr>\n",
       "      <th>2</th>\n",
       "      <td>10</td>\n",
       "      <td>30</td>\n",
       "    </tr>\n",
       "    <tr>\n",
       "      <th>3</th>\n",
       "      <td>10</td>\n",
       "      <td>25</td>\n",
       "    </tr>\n",
       "    <tr>\n",
       "      <th>4</th>\n",
       "      <td>10</td>\n",
       "      <td>25</td>\n",
       "    </tr>\n",
       "    <tr>\n",
       "      <th>5</th>\n",
       "      <td>11</td>\n",
       "      <td>13</td>\n",
       "    </tr>\n",
       "    <tr>\n",
       "      <th>6</th>\n",
       "      <td>2</td>\n",
       "      <td>23</td>\n",
       "    </tr>\n",
       "    <tr>\n",
       "      <th>7</th>\n",
       "      <td>2</td>\n",
       "      <td>18</td>\n",
       "    </tr>\n",
       "  </tbody>\n",
       "</table>\n",
       "</div>"
      ],
      "text/plain": [
       "type     perm  temp\n",
       "weekday            \n",
       "1          14    29\n",
       "2          10    30\n",
       "3          10    25\n",
       "4          10    25\n",
       "5          11    13\n",
       "6           2    23\n",
       "7           2    18"
      ]
     },
     "execution_count": 32,
     "metadata": {},
     "output_type": "execute_result"
    }
   ],
   "source": [
    "df_sol = pd.DataFrame(sol, columns=['weekday', 'type', 'agents'])\n",
    "\n",
    "for t in labor_types:\n",
    "    \n",
    "    calls_capacity = calls_per_day_per_agent[t] \n",
    "    agent_call_capacity = df_sol.loc[df_sol['type'] == t, 'agents'] * calls_capacity\n",
    "    df_sol.loc[df_sol['type'] == t, 'call_capacity'] = agent_call_capacity\n",
    "\n",
    "df_sol.pivot_table('agents', 'weekday', 'type', aggfunc='sum')"
   ]
  },
  {
   "cell_type": "code",
   "execution_count": 33,
   "metadata": {
    "ExecuteTime": {
     "end_time": "2017-08-29T15:21:53.537501Z",
     "start_time": "2017-08-29T15:21:53.522836Z"
    }
   },
   "outputs": [
    {
     "data": {
      "text/html": [
       "<div>\n",
       "<style>\n",
       "    .dataframe thead tr:only-child th {\n",
       "        text-align: right;\n",
       "    }\n",
       "\n",
       "    .dataframe thead th {\n",
       "        text-align: left;\n",
       "    }\n",
       "\n",
       "    .dataframe tbody tr th {\n",
       "        vertical-align: top;\n",
       "    }\n",
       "</style>\n",
       "<table border=\"1\" class=\"dataframe\">\n",
       "  <thead>\n",
       "    <tr style=\"text-align: right;\">\n",
       "      <th>type</th>\n",
       "      <th>perm</th>\n",
       "      <th>temp</th>\n",
       "    </tr>\n",
       "    <tr>\n",
       "      <th>weekday</th>\n",
       "      <th></th>\n",
       "      <th></th>\n",
       "    </tr>\n",
       "  </thead>\n",
       "  <tbody>\n",
       "    <tr>\n",
       "      <th>1</th>\n",
       "      <td>630.0</td>\n",
       "      <td>783.0</td>\n",
       "    </tr>\n",
       "    <tr>\n",
       "      <th>2</th>\n",
       "      <td>450.0</td>\n",
       "      <td>810.0</td>\n",
       "    </tr>\n",
       "    <tr>\n",
       "      <th>3</th>\n",
       "      <td>450.0</td>\n",
       "      <td>675.0</td>\n",
       "    </tr>\n",
       "    <tr>\n",
       "      <th>4</th>\n",
       "      <td>450.0</td>\n",
       "      <td>675.0</td>\n",
       "    </tr>\n",
       "    <tr>\n",
       "      <th>5</th>\n",
       "      <td>495.0</td>\n",
       "      <td>351.0</td>\n",
       "    </tr>\n",
       "    <tr>\n",
       "      <th>6</th>\n",
       "      <td>90.0</td>\n",
       "      <td>621.0</td>\n",
       "    </tr>\n",
       "    <tr>\n",
       "      <th>7</th>\n",
       "      <td>90.0</td>\n",
       "      <td>486.0</td>\n",
       "    </tr>\n",
       "  </tbody>\n",
       "</table>\n",
       "</div>"
      ],
      "text/plain": [
       "type      perm   temp\n",
       "weekday              \n",
       "1        630.0  783.0\n",
       "2        450.0  810.0\n",
       "3        450.0  675.0\n",
       "4        450.0  675.0\n",
       "5        495.0  351.0\n",
       "6         90.0  621.0\n",
       "7         90.0  486.0"
      ]
     },
     "execution_count": 33,
     "metadata": {},
     "output_type": "execute_result"
    }
   ],
   "source": [
    "df_sol.pivot_table('call_capacity', 'weekday', 'type', aggfunc='sum')"
   ]
  },
  {
   "cell_type": "code",
   "execution_count": 34,
   "metadata": {
    "ExecuteTime": {
     "end_time": "2017-08-29T15:21:55.388292Z",
     "start_time": "2017-08-29T15:21:55.378371Z"
    }
   },
   "outputs": [
    {
     "data": {
      "text/html": [
       "<div>\n",
       "<style>\n",
       "    .dataframe thead tr:only-child th {\n",
       "        text-align: right;\n",
       "    }\n",
       "\n",
       "    .dataframe thead th {\n",
       "        text-align: left;\n",
       "    }\n",
       "\n",
       "    .dataframe tbody tr th {\n",
       "        vertical-align: top;\n",
       "    }\n",
       "</style>\n",
       "<table border=\"1\" class=\"dataframe\">\n",
       "  <thead>\n",
       "    <tr style=\"text-align: right;\">\n",
       "      <th></th>\n",
       "      <th>agents</th>\n",
       "      <th>call_capacity</th>\n",
       "    </tr>\n",
       "    <tr>\n",
       "      <th>weekday</th>\n",
       "      <th></th>\n",
       "      <th></th>\n",
       "    </tr>\n",
       "  </thead>\n",
       "  <tbody>\n",
       "    <tr>\n",
       "      <th>1</th>\n",
       "      <td>43</td>\n",
       "      <td>1413.0</td>\n",
       "    </tr>\n",
       "    <tr>\n",
       "      <th>2</th>\n",
       "      <td>40</td>\n",
       "      <td>1260.0</td>\n",
       "    </tr>\n",
       "    <tr>\n",
       "      <th>3</th>\n",
       "      <td>35</td>\n",
       "      <td>1125.0</td>\n",
       "    </tr>\n",
       "    <tr>\n",
       "      <th>4</th>\n",
       "      <td>35</td>\n",
       "      <td>1125.0</td>\n",
       "    </tr>\n",
       "    <tr>\n",
       "      <th>5</th>\n",
       "      <td>24</td>\n",
       "      <td>846.0</td>\n",
       "    </tr>\n",
       "    <tr>\n",
       "      <th>6</th>\n",
       "      <td>25</td>\n",
       "      <td>711.0</td>\n",
       "    </tr>\n",
       "    <tr>\n",
       "      <th>7</th>\n",
       "      <td>20</td>\n",
       "      <td>576.0</td>\n",
       "    </tr>\n",
       "  </tbody>\n",
       "</table>\n",
       "</div>"
      ],
      "text/plain": [
       "         agents  call_capacity\n",
       "weekday                       \n",
       "1            43         1413.0\n",
       "2            40         1260.0\n",
       "3            35         1125.0\n",
       "4            35         1125.0\n",
       "5            24          846.0\n",
       "6            25          711.0\n",
       "7            20          576.0"
      ]
     },
     "execution_count": 34,
     "metadata": {},
     "output_type": "execute_result"
    }
   ],
   "source": [
    "df_sol.groupby('weekday').sum()"
   ]
  }
 ],
 "metadata": {
  "kernelspec": {
   "display_name": "Python 3",
   "language": "python",
   "name": "python3"
  },
  "language_info": {
   "codemirror_mode": {
    "name": "ipython",
    "version": 3
   },
   "file_extension": ".py",
   "mimetype": "text/x-python",
   "name": "python",
   "nbconvert_exporter": "python",
   "pygments_lexer": "ipython3",
   "version": "3.6.2"
  }
 },
 "nbformat": 4,
 "nbformat_minor": 2
}
