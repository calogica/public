{
 "cells": [
  {
   "cell_type": "code",
   "execution_count": 1,
   "metadata": {},
   "outputs": [],
   "source": [
    "using JuMP, GLPKMathProgInterface"
   ]
  },
  {
   "cell_type": "markdown",
   "metadata": {},
   "source": [
    "The following model shows how to calculate two models for scheduling call center agents given some (estimated) demand for customer calls or contacts for a given week. \n",
    "\n",
    "We differentiate between permanent employees and temporary call center employees that have different efficiencies, measured in calls per hour, as well cost (per hour).\n",
    "- We estimate the overall labor requirements by type, and we also\n",
    "- Estimate the requirements by type by day given a distribution of calls per day\n",
    "\n",
    "We'll use the [JuMP package](https://github.com/JuliaOpt/JuMP.jl) to do the optimization calculation for us using integer programming and discrete optimization."
   ]
  },
  {
   "cell_type": "markdown",
   "metadata": {},
   "source": [
    "## Inputs"
   ]
  },
  {
   "cell_type": "code",
   "execution_count": 2,
   "metadata": {},
   "outputs": [],
   "source": [
    "total_calls = 7000\n",
    "hours_per_shift = 9\n",
    "\n",
    "labor_types = [\"perm\"; \"temp\"]\n",
    "\n",
    "# Minimum and maximum number of agents per type\n",
    "min_agents = Dict(\"perm\" => 10, \"temp\" => 0)\n",
    "max_agents = Dict(\"perm\" => 50, \"temp\" => 30)\n",
    "\n",
    "# Efficiency assumptions\n",
    "# We assume 5 calls per permanent agent and 3 per temp agent\n",
    "calls_per_hour_per_agent = Dict(\"perm\" => 5, \"temp\" => 3)\n",
    "\n",
    "# The hourly cost in $ per agent per type \n",
    "cost_per_agent_hour = Dict(\"perm\" => 20, \"temp\" => 10)\n",
    "\n",
    "# # We assume agents work 5 day weeks \n",
    "# days_per_week = 5\n",
    "\n",
    "# To simplify things, we calculate the number of calls an agent can handle per day \n",
    "calls_per_day_per_agent = Dict()\n",
    "for labor_type in labor_types\n",
    "   calls_per_day_per_agent[labor_type] = calls_per_hour_per_agent[labor_type] * hours_per_shift\n",
    "end"
   ]
  },
  {
   "cell_type": "code",
   "execution_count": 3,
   "metadata": {},
   "outputs": [
    {
     "data": {
      "text/plain": [
       "Dict{Any,Any} with 2 entries:\n",
       "  \"temp\" => 27\n",
       "  \"perm\" => 45"
      ]
     },
     "execution_count": 3,
     "metadata": {},
     "output_type": "execute_result"
    }
   ],
   "source": [
    "calls_per_day_per_agent"
   ]
  },
  {
   "cell_type": "markdown",
   "metadata": {},
   "source": [
    "## Model 1: Total Agent Mix"
   ]
  },
  {
   "cell_type": "code",
   "execution_count": 4,
   "metadata": {},
   "outputs": [
    {
     "data": {
      "text/latex": [
       "$$ \\begin{alignat*}{1}\\min\\quad & 900 agents_{perm} + 450 agents_{temp}\\\\\n",
       "\\text{Subject to} \\quad & 225 agents_{perm} + 135 agents_{temp} \\geq 7000\\\\\n",
       " & agents_{perm} \\leq 50\\\\\n",
       " & agents_{temp} \\leq 30\\\\\n",
       " & agents_{perm} \\geq 10\\\\\n",
       " & agents_{temp} \\geq 0\\\\\n",
       " & agents_{i} \\geq 0, \\in \\mathbb{Z}, \\quad\\forall i \\in \\{perm,temp\\}\\\\\n",
       "\\end{alignat*}\n",
       " $$"
      ],
      "text/plain": [
       "Minimization problem with:\n",
       " * 5 linear constraints\n",
       " * 2 variables: 2 integer\n",
       "Solver is GLPKInterfaceMIP"
      ]
     },
     "execution_count": 4,
     "metadata": {},
     "output_type": "execute_result"
    }
   ],
   "source": [
    "model = Model(solver=GLPKSolverMIP())\n",
    "\n",
    "# We need an agent variable for each type of labor\n",
    "@variable(model, agents[labor_types] >= 0, Int)\n",
    "\n",
    "# We want to minimize the Labor Cost function\n",
    "@objective(model, Min, sum(hours_per_shift * days_per_week * cost_per_agent_hour[t] * agents[t] for t in labor_types))\n",
    "\n",
    "# Constraints\n",
    "\n",
    "# Must satisfy total demand\n",
    "@constraint(model, sum(agents[t] * calls_per_day_per_agent[t] * days_per_week for t in labor_types) >= total_calls)\n",
    "# No more than N agents per type\n",
    "@constraint(model, max_agent_constraint[t=labor_types], sum(agents[t]) <= max_agents[t])\n",
    "# Minimum of N agents per type\n",
    "@constraint(model, min_agent_constraint[t=labor_types], sum(agents[t]) >= min_agents[t])\n",
    "\n",
    "model"
   ]
  },
  {
   "cell_type": "code",
   "execution_count": 5,
   "metadata": {},
   "outputs": [
    {
     "name": "stdout",
     "output_type": "stream",
     "text": [
      "Objective value: 25650.0\n",
      "Solution:  agents: 1 dimensions:\n",
      "[perm] = 14.0\n",
      "[temp] = 29.0\n"
     ]
    }
   ],
   "source": [
    "status = solve(model)\n",
    "\n",
    "println(\"Objective value: \", getobjectivevalue(model))\n",
    "println(\"Solution:  \", getvalue(agents))"
   ]
  },
  {
   "cell_type": "markdown",
   "metadata": {},
   "source": [
    "So, based on our first model, we'll need 14 permanent and 29 temp employees to satisfy our call demand. Our total labor cost is $25,650.\n",
    "\n",
    "We also want to know our total call capacity given this optimal number of agents: "
   ]
  },
  {
   "cell_type": "code",
   "execution_count": 6,
   "metadata": {},
   "outputs": [
    {
     "data": {
      "text/plain": [
       "7065.0"
      ]
     },
     "execution_count": 6,
     "metadata": {},
     "output_type": "execute_result"
    }
   ],
   "source": [
    "# Call Capacity:\n",
    "calls_capacity = sum(calls_per_day_per_agent[t] * days_per_week * getvalue(agents[t]) for t in labor_types)"
   ]
  },
  {
   "cell_type": "markdown",
   "metadata": {},
   "source": [
    "Thus, with 14 permanent and 29 temp agents, we'll be able to handle 7,065 calls, less than 1% more than we needed."
   ]
  },
  {
   "cell_type": "markdown",
   "metadata": {},
   "source": [
    "## Model 2: Agent Mix By Weekday\n",
    "Our second model breaks out the labor requirements by day, given a set of % of weekly volume for each day.\n",
    "\n",
    "We start the week on Mondays and set the target %s for each weekday"
   ]
  },
  {
   "cell_type": "code",
   "execution_count": 7,
   "metadata": {},
   "outputs": [],
   "source": [
    "# using DataFrames"
   ]
  },
  {
   "cell_type": "code",
   "execution_count": 159,
   "metadata": {},
   "outputs": [
    {
     "data": {
      "text/plain": [
       "7-element Array{Int64,1}:\n",
       " 1\n",
       " 2\n",
       " 3\n",
       " 4\n",
       " 5\n",
       " 6\n",
       " 7"
      ]
     },
     "execution_count": 159,
     "metadata": {},
     "output_type": "execute_result"
    }
   ],
   "source": [
    "weekdays = collect(1:7)\n",
    "weekdays"
   ]
  },
  {
   "cell_type": "code",
   "execution_count": 160,
   "metadata": {},
   "outputs": [
    {
     "data": {
      "text/plain": [
       "1.0"
      ]
     },
     "execution_count": 160,
     "metadata": {},
     "output_type": "execute_result"
    }
   ],
   "source": [
    "weekday_perc = [.20,.18,.16,.16, .12,.10,.08]\n",
    "sum(weekday_perc)"
   ]
  },
  {
   "cell_type": "code",
   "execution_count": 161,
   "metadata": {},
   "outputs": [],
   "source": [
    "# weekday_dist = Dict(zip(weekdays, weekday_perc))\n",
    "# weekday_dist = DataFrame(weekday = weekdays, weekday_perc = weekday_perc)"
   ]
  },
  {
   "cell_type": "markdown",
   "metadata": {},
   "source": [
    "Let's look at what this distribution looks like:"
   ]
  },
  {
   "cell_type": "code",
   "execution_count": 162,
   "metadata": {},
   "outputs": [],
   "source": [
    "using PyPlot"
   ]
  },
  {
   "cell_type": "code",
   "execution_count": 163,
   "metadata": {},
   "outputs": [
    {
     "data": {
      "image/png": "[encoded data removed]",
      "text/plain": [
       "PyPlot.Figure(PyObject <Figure size 640x480 with 1 Axes>)"
      ]
     },
     "metadata": {},
     "output_type": "display_data"
    }
   ],
   "source": [
    "fig = figure(\"weekday_dist\")\n",
    "b = bar(weekdays, weekday_perc);"
   ]
  },
  {
   "cell_type": "markdown",
   "metadata": {},
   "source": [
    "We create a dictionary that holds the total number of calls we need to support based on our total goal of 7,000 and our historic breakdown of calls per week day. "
   ]
  },
  {
   "cell_type": "code",
   "execution_count": 164,
   "metadata": {},
   "outputs": [
    {
     "data": {
      "text/plain": [
       "Dict{Any,Any} with 7 entries:\n",
       "  7 => 560.0\n",
       "  4 => 1120.0\n",
       "  2 => 1260.0\n",
       "  3 => 1120.0\n",
       "  5 => 840.0\n",
       "  6 => 700.0\n",
       "  1 => 1400.0"
      ]
     },
     "execution_count": 164,
     "metadata": {},
     "output_type": "execute_result"
    }
   ],
   "source": [
    "weekday_totalcalls = Dict()\n",
    "for d in weekdays\n",
    "   weekday_totalcalls[d] = weekday_perc[d] * total_calls\n",
    "end\n",
    "weekday_totalcalls"
   ]
  },
  {
   "cell_type": "code",
   "execution_count": 165,
   "metadata": {},
   "outputs": [
    {
     "data": {
      "text/latex": [
       "$$ \\begin{alignat*}{1}\\min\\quad & 180 agents_{1,perm} + 90 agents_{1,temp} + 180 agents_{2,perm} + 90 agents_{2,temp} + 180 agents_{3,perm} + 90 agents_{3,temp} + 180 agents_{4,perm} + 90 agents_{4,temp} + 180 agents_{5,perm} + 90 agents_{5,temp} + 180 agents_{6,perm} + 90 agents_{6,temp} + 180 agents_{7,perm} + 90 agents_{7,temp}\\\\\n",
       "\\text{Subject to} \\quad & 45 agents_{1,perm} + 27 agents_{1,temp} + 45 agents_{2,perm} + 27 agents_{2,temp} + 45 agents_{3,perm} + 27 agents_{3,temp} + 45 agents_{4,perm} + 27 agents_{4,temp} + 45 agents_{5,perm} + 27 agents_{5,temp} + 45 agents_{6,perm} + 27 agents_{6,temp} + 45 agents_{7,perm} + 27 agents_{7,temp} \\geq 7000\\\\\n",
       " & 45 agents_{1,perm} + 27 agents_{1,temp} \\geq 1400\\\\\n",
       " & 45 agents_{2,perm} + 27 agents_{2,temp} \\geq 1260\\\\\n",
       " & 45 agents_{3,perm} + 27 agents_{3,temp} \\geq 1120\\\\\n",
       " & 45 agents_{4,perm} + 27 agents_{4,temp} \\geq 1120\\\\\n",
       " & 45 agents_{5,perm} + 27 agents_{5,temp} \\geq 840\\\\\n",
       " & 45 agents_{6,perm} + 27 agents_{6,temp} \\geq 700\\\\\n",
       " & 45 agents_{7,perm} + 27 agents_{7,temp} \\geq 560\\\\\n",
       " & agents_{1,perm} \\geq 10\\\\\n",
       " & agents_{1,temp} \\geq 0\\\\\n",
       " & agents_{2,perm} \\geq 10\\\\\n",
       " & agents_{2,temp} \\geq 0\\\\\n",
       " & agents_{3,perm} \\geq 10\\\\\n",
       " & agents_{3,temp} \\geq 0\\\\\n",
       " & agents_{4,perm} \\geq 10\\\\\n",
       " & agents_{4,temp} \\geq 0\\\\\n",
       " & agents_{5,perm} \\geq 10\\\\\n",
       " & agents_{5,temp} \\geq 0\\\\\n",
       " & agents_{6,perm} \\geq 2\\\\\n",
       " & agents_{6,temp} \\geq 0\\\\\n",
       " & agents_{7,perm} \\geq 2\\\\\n",
       " & agents_{7,temp} \\geq 0\\\\\n",
       " & agents_{1,perm} \\leq 50\\\\\n",
       " & agents_{1,temp} \\leq 30\\\\\n",
       " & agents_{2,perm} \\leq 50\\\\\n",
       " & agents_{2,temp} \\leq 30\\\\\n",
       " & agents_{3,perm} \\leq 50\\\\\n",
       " & agents_{3,temp} \\leq 30\\\\\n",
       " & agents_{4,perm} \\leq 50\\\\\n",
       " & agents_{4,temp} \\leq 30\\\\\n",
       " & agents_{5,perm} \\leq 50\\\\\n",
       " & agents_{5,temp} \\leq 30\\\\\n",
       " & agents_{6,perm} \\leq 2\\\\\n",
       " & agents_{6,temp} \\leq 30\\\\\n",
       " & agents_{7,perm} \\leq 2\\\\\n",
       " & agents_{7,temp} \\leq 30\\\\\n",
       " & agents_{i,j} \\geq 0, \\in \\mathbb{Z}, \\quad\\forall i \\in \\{1,2,\\dots,6,7\\}, j \\in \\{perm,temp\\}\\\\\n",
       "\\end{alignat*}\n",
       " $$"
      ],
      "text/plain": [
       "Minimization problem with:\n",
       " * 36 linear constraints\n",
       " * 14 variables: 14 integer\n",
       "Solver is GLPKInterfaceMIP"
      ]
     },
     "execution_count": 165,
     "metadata": {},
     "output_type": "execute_result"
    }
   ],
   "source": [
    "weekday_model = Model(solver=GLPKSolverMIP())\n",
    "\n",
    "# We need an agent variable for each type of labor\n",
    "@variable(weekday_model, agents[weekdays, labor_types] >= 0, Int)\n",
    "\n",
    "# We want to minimize the Labor Cost function\n",
    "@objective(weekday_model, Min, sum(hours_per_shift * cost_per_agent_hour[t] * agents[d, t] \n",
    "        for d in weekdays\n",
    "            for t in labor_types))\n",
    "\n",
    "# Must satisfy total demand\n",
    "@constraint(weekday_model, sum(agents[d, t] * calls_per_day_per_agent[t] \n",
    "                        for d in weekdays\n",
    "                            for t in labor_types) >= total_calls)\n",
    "\n",
    "@constraint(weekday_model, min_demand_constraint[d=weekdays], \n",
    "                sum(agents[d, t] * calls_per_day_per_agent[t] \n",
    "                        for t in labor_types) >= weekday_totalcalls[d])\n",
    "\n",
    "# We modify our min/max agent constraints a bit to make sure we have exactly two permanent employees staffed on weekends:\n",
    "@constraint(weekday_model, min_agent_constraint[d=weekdays, t=labor_types], \n",
    "                agents[d, t] >= (d in (6,7) && t == \"perm\" ? 2 : min_agents[t]))\n",
    "                                \n",
    "@constraint(weekday_model, max_agent_constraint[d=weekdays, t=labor_types], \n",
    "                agents[d, t] <= (d in (6,7) && t == \"perm\" ? 2 : max_agents[t]))\n",
    "                                \n",
    "weekday_model"
   ]
  },
  {
   "cell_type": "code",
   "execution_count": 166,
   "metadata": {},
   "outputs": [
    {
     "name": "stdout",
     "output_type": "stream",
     "text": [
      "Objective value: 25290.0\n",
      "Solution:  agents: 2 dimensions:\n",
      "[1,:]\n",
      "  [1,perm] = 14.0\n",
      "  [1,temp] = 29.0\n",
      "[2,:]\n",
      "  [2,perm] = 10.0\n",
      "  [2,temp] = 30.0\n",
      "[3,:]\n",
      "  [3,perm] = 10.0\n",
      "  [3,temp] = 25.0\n",
      "[4,:]\n",
      "  [4,perm] = 10.0\n",
      "  [4,temp] = 25.0\n",
      "[5,:]\n",
      "  [5,perm] = 11.0\n",
      "  [5,temp] = 13.0\n",
      "[6,:]\n",
      "  [6,perm] = 2.0\n",
      "  [6,temp] = 23.0\n",
      "[7,:]\n",
      "  [7,perm] = 2.0\n",
      "  [7,temp] = 18.0\n"
     ]
    }
   ],
   "source": [
    "status = solve(weekday_model)\n",
    "\n",
    "println(\"Objective value: \", getobjectivevalue(weekday_model))\n",
    "println(\"Solution:  \", getvalue(agents))"
   ]
  },
  {
   "cell_type": "markdown",
   "metadata": {},
   "source": [
    "Our total labor cost is slightly lower at $25,290, likely b/c we shifted the weekend schedule towards more temp agents."
   ]
  },
  {
   "cell_type": "markdown",
   "metadata": {},
   "source": [
    "We'll convert the results to a dataframe and also calculate the total call capacity per day:"
   ]
  },
  {
   "cell_type": "code",
   "execution_count": 42,
   "metadata": {},
   "outputs": [],
   "source": [
    "using DataFrames"
   ]
  },
  {
   "cell_type": "code",
   "execution_count": 168,
   "metadata": {},
   "outputs": [
    {
     "data": {
      "text/html": [
       "<table class=\"data-frame\"><thead><tr><th></th><th>weekday</th><th>labor_type</th><th>agents</th><th>call_capacity</th></tr></thead><tbody><tr><th>1</th><td>1</td><td>perm</td><td>14.0</td><td>630.0</td></tr><tr><th>2</th><td>2</td><td>perm</td><td>10.0</td><td>450.0</td></tr><tr><th>3</th><td>3</td><td>perm</td><td>10.0</td><td>450.0</td></tr><tr><th>4</th><td>4</td><td>perm</td><td>10.0</td><td>450.0</td></tr><tr><th>5</th><td>5</td><td>perm</td><td>11.0</td><td>495.0</td></tr><tr><th>6</th><td>6</td><td>perm</td><td>2.0</td><td>90.0</td></tr><tr><th>7</th><td>7</td><td>perm</td><td>2.0</td><td>90.0</td></tr><tr><th>8</th><td>1</td><td>temp</td><td>29.0</td><td>783.0</td></tr><tr><th>9</th><td>2</td><td>temp</td><td>30.0</td><td>810.0</td></tr><tr><th>10</th><td>3</td><td>temp</td><td>25.0</td><td>675.0</td></tr><tr><th>11</th><td>4</td><td>temp</td><td>25.0</td><td>675.0</td></tr><tr><th>12</th><td>5</td><td>temp</td><td>13.0</td><td>351.0</td></tr><tr><th>13</th><td>6</td><td>temp</td><td>23.0</td><td>621.0</td></tr><tr><th>14</th><td>7</td><td>temp</td><td>18.0</td><td>486.0</td></tr></tbody></table>"
      ],
      "text/plain": [
       "14×4 DataFrames.DataFrame\n",
       "│ Row │ weekday │ labor_type │ agents │ call_capacity │\n",
       "├─────┼─────────┼────────────┼────────┼───────────────┤\n",
       "│ 1   │ 1       │ \"perm\"     │ 14.0   │ 630.0         │\n",
       "│ 2   │ 2       │ \"perm\"     │ 10.0   │ 450.0         │\n",
       "│ 3   │ 3       │ \"perm\"     │ 10.0   │ 450.0         │\n",
       "│ 4   │ 4       │ \"perm\"     │ 10.0   │ 450.0         │\n",
       "│ 5   │ 5       │ \"perm\"     │ 11.0   │ 495.0         │\n",
       "│ 6   │ 6       │ \"perm\"     │ 2.0    │ 90.0          │\n",
       "│ 7   │ 7       │ \"perm\"     │ 2.0    │ 90.0          │\n",
       "│ 8   │ 1       │ \"temp\"     │ 29.0   │ 783.0         │\n",
       "│ 9   │ 2       │ \"temp\"     │ 30.0   │ 810.0         │\n",
       "│ 10  │ 3       │ \"temp\"     │ 25.0   │ 675.0         │\n",
       "│ 11  │ 4       │ \"temp\"     │ 25.0   │ 675.0         │\n",
       "│ 12  │ 5       │ \"temp\"     │ 13.0   │ 351.0         │\n",
       "│ 13  │ 6       │ \"temp\"     │ 23.0   │ 621.0         │\n",
       "│ 14  │ 7       │ \"temp\"     │ 18.0   │ 486.0         │"
      ]
     },
     "execution_count": 168,
     "metadata": {},
     "output_type": "execute_result"
    }
   ],
   "source": [
    "df_solution = vcat([DataFrame(weekday=weekdays, labor_type=t,\n",
    "                agents=[getvalue(agents[d, t]) for d in weekdays],\n",
    "                call_capacity=[sum(getvalue(agents[d, t]) * calls_per_day_per_agent[t]) for d in weekdays]\n",
    "                )\n",
    "                for t in labor_types])"
   ]
  },
  {
   "cell_type": "markdown",
   "metadata": {},
   "source": [
    "From there, we can summarize the solution by weekday:"
   ]
  },
  {
   "cell_type": "code",
   "execution_count": 173,
   "metadata": {},
   "outputs": [
    {
     "data": {
      "text/html": [
       "<table class=\"data-frame\"><thead><tr><th></th><th>weekday</th><th>agents</th><th>call_capacity</th></tr></thead><tbody><tr><th>1</th><td>1</td><td>43.0</td><td>1413.0</td></tr><tr><th>2</th><td>2</td><td>40.0</td><td>1260.0</td></tr><tr><th>3</th><td>3</td><td>35.0</td><td>1125.0</td></tr><tr><th>4</th><td>4</td><td>35.0</td><td>1125.0</td></tr><tr><th>5</th><td>5</td><td>24.0</td><td>846.0</td></tr><tr><th>6</th><td>6</td><td>25.0</td><td>711.0</td></tr><tr><th>7</th><td>7</td><td>20.0</td><td>576.0</td></tr></tbody></table>"
      ],
      "text/plain": [
       "7×3 DataFrames.DataFrame\n",
       "│ Row │ weekday │ agents │ call_capacity │\n",
       "├─────┼─────────┼────────┼───────────────┤\n",
       "│ 1   │ 1       │ 43.0   │ 1413.0        │\n",
       "│ 2   │ 2       │ 40.0   │ 1260.0        │\n",
       "│ 3   │ 3       │ 35.0   │ 1125.0        │\n",
       "│ 4   │ 4       │ 35.0   │ 1125.0        │\n",
       "│ 5   │ 5       │ 24.0   │ 846.0         │\n",
       "│ 6   │ 6       │ 25.0   │ 711.0         │\n",
       "│ 7   │ 7       │ 20.0   │ 576.0         │"
      ]
     },
     "execution_count": 173,
     "metadata": {},
     "output_type": "execute_result"
    }
   ],
   "source": [
    "by(df_solution, :weekday, d -> DataFrame(agents=sum(d[:agents]), call_capacity=sum(d[:call_capacity])))"
   ]
  },
  {
   "cell_type": "markdown",
   "metadata": {},
   "source": [
    "Or pivot the number of needed agents by labor type:"
   ]
  },
  {
   "cell_type": "code",
   "execution_count": 175,
   "metadata": {},
   "outputs": [
    {
     "data": {
      "text/html": [
       "<table class=\"data-frame\"><thead><tr><th></th><th>weekday</th><th>perm</th><th>temp</th></tr></thead><tbody><tr><th>1</th><td>1</td><td>14.0</td><td>29.0</td></tr><tr><th>2</th><td>2</td><td>10.0</td><td>30.0</td></tr><tr><th>3</th><td>3</td><td>10.0</td><td>25.0</td></tr><tr><th>4</th><td>4</td><td>10.0</td><td>25.0</td></tr><tr><th>5</th><td>5</td><td>11.0</td><td>13.0</td></tr><tr><th>6</th><td>6</td><td>2.0</td><td>23.0</td></tr><tr><th>7</th><td>7</td><td>2.0</td><td>18.0</td></tr></tbody></table>"
      ],
      "text/plain": [
       "7×3 DataFrames.DataFrame\n",
       "│ Row │ weekday │ perm │ temp │\n",
       "├─────┼─────────┼──────┼──────┤\n",
       "│ 1   │ 1       │ 14.0 │ 29.0 │\n",
       "│ 2   │ 2       │ 10.0 │ 30.0 │\n",
       "│ 3   │ 3       │ 10.0 │ 25.0 │\n",
       "│ 4   │ 4       │ 10.0 │ 25.0 │\n",
       "│ 5   │ 5       │ 11.0 │ 13.0 │\n",
       "│ 6   │ 6       │ 2.0  │ 23.0 │\n",
       "│ 7   │ 7       │ 2.0  │ 18.0 │"
      ]
     },
     "execution_count": 175,
     "metadata": {},
     "output_type": "execute_result"
    }
   ],
   "source": [
    "unstack(df_solution, :weekday, :labor_type, :agents)"
   ]
  },
  {
   "cell_type": "markdown",
   "metadata": {},
   "source": [
    "Or pivot call capacity by labor type:"
   ]
  },
  {
   "cell_type": "code",
   "execution_count": 176,
   "metadata": {},
   "outputs": [
    {
     "data": {
      "text/html": [
       "<table class=\"data-frame\"><thead><tr><th></th><th>weekday</th><th>perm</th><th>temp</th></tr></thead><tbody><tr><th>1</th><td>1</td><td>630.0</td><td>783.0</td></tr><tr><th>2</th><td>2</td><td>450.0</td><td>810.0</td></tr><tr><th>3</th><td>3</td><td>450.0</td><td>675.0</td></tr><tr><th>4</th><td>4</td><td>450.0</td><td>675.0</td></tr><tr><th>5</th><td>5</td><td>495.0</td><td>351.0</td></tr><tr><th>6</th><td>6</td><td>90.0</td><td>621.0</td></tr><tr><th>7</th><td>7</td><td>90.0</td><td>486.0</td></tr></tbody></table>"
      ],
      "text/plain": [
       "7×3 DataFrames.DataFrame\n",
       "│ Row │ weekday │ perm  │ temp  │\n",
       "├─────┼─────────┼───────┼───────┤\n",
       "│ 1   │ 1       │ 630.0 │ 783.0 │\n",
       "│ 2   │ 2       │ 450.0 │ 810.0 │\n",
       "│ 3   │ 3       │ 450.0 │ 675.0 │\n",
       "│ 4   │ 4       │ 450.0 │ 675.0 │\n",
       "│ 5   │ 5       │ 495.0 │ 351.0 │\n",
       "│ 6   │ 6       │ 90.0  │ 621.0 │\n",
       "│ 7   │ 7       │ 90.0  │ 486.0 │"
      ]
     },
     "execution_count": 176,
     "metadata": {},
     "output_type": "execute_result"
    }
   ],
   "source": [
    "unstack(df_solution, :weekday, :labor_type, :call_capacity)"
   ]
  },
  {
   "cell_type": "code",
   "execution_count": null,
   "metadata": {},
   "outputs": [],
   "source": []
  }
 ],
 "metadata": {
  "kernelspec": {
   "display_name": "Julia 0.6.2",
   "language": "julia",
   "name": "julia-0.6"
  },
  "language_info": {
   "file_extension": ".jl",
   "mimetype": "application/julia",
   "name": "julia",
   "version": "0.6.2"
  }
 },
 "nbformat": 4,
 "nbformat_minor": 2
}
