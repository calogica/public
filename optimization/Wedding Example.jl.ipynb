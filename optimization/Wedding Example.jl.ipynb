{
 "cells": [
  {
   "cell_type": "markdown",
   "metadata": {},
   "source": [
    "This is a port from Python of the Wedding Table Assignment example from [PuLP](https://github.com/coin-or/pulp/blob/master/examples/wedding.py)."
   ]
  },
  {
   "cell_type": "code",
   "execution_count": 1,
   "metadata": {},
   "outputs": [],
   "source": [
    "using JuMP, Cbc\n",
    "using Combinatorics"
   ]
  },
  {
   "cell_type": "markdown",
   "metadata": {},
   "source": [
    "This is an example of a **set partitioning** problem. We have a _universe_ of guests and subsets of tables that have to _exactly_ cover our universe, i.e. the guests."
   ]
  },
  {
   "cell_type": "markdown",
   "metadata": {},
   "source": [
    "Silly function to calculate \"happiness\" of a table, determined by how close the guests are (by their letter):"
   ]
  },
  {
   "cell_type": "code",
   "execution_count": 2,
   "metadata": {},
   "outputs": [
    {
     "data": {
      "text/plain": [
       "happiness (generic function with 1 method)"
      ]
     },
     "execution_count": 2,
     "metadata": {},
     "output_type": "execute_result"
    }
   ],
   "source": [
    "function happiness(table):\n",
    "    \"\"\"\n",
    "    Find the happiness of the table\n",
    "    - by calculating the maximum distance between the letters\n",
    "    \"\"\"\n",
    "    return abs(Int(table[1][1]) - Int(table[end][1]))\n",
    "end"
   ]
  },
  {
   "cell_type": "code",
   "execution_count": 3,
   "metadata": {},
   "outputs": [
    {
     "data": {
      "text/plain": [
       "1×17 Array{String,2}:\n",
       " \"A\"  \"B\"  \"C\"  \"D\"  \"E\"  \"F\"  \"G\"  \"I\"  …  \"L\"  \"M\"  \"N\"  \"O\"  \"P\"  \"Q\"  \"R\""
      ]
     },
     "execution_count": 3,
     "metadata": {},
     "output_type": "execute_result"
    }
   ],
   "source": [
    "max_tables = 5\n",
    "max_table_size = 4\n",
    "guests = [\"A\" \"B\" \"C\" \"D\" \"E\" \"F\" \"G\" \"I\" \"J\" \"K\" \"L\" \"M\" \"N\" \"O\" \"P\" \"Q\" \"R\"]"
   ]
  },
  {
   "cell_type": "code",
   "execution_count": 4,
   "metadata": {},
   "outputs": [],
   "source": [
    "table_combos = [collect(combinations(guests, t)) for t in 1:max_table_size];"
   ]
  },
  {
   "cell_type": "code",
   "execution_count": 5,
   "metadata": {},
   "outputs": [
    {
     "data": {
      "text/plain": [
       "4-element Array{String,1}:\n",
       " \"O\"\n",
       " \"P\"\n",
       " \"Q\"\n",
       " \"R\""
      ]
     },
     "execution_count": 5,
     "metadata": {},
     "output_type": "execute_result"
    }
   ],
   "source": [
    "table_combos[end][end]    "
   ]
  },
  {
   "cell_type": "code",
   "execution_count": 6,
   "metadata": {},
   "outputs": [],
   "source": [
    "# this seems suboptimal, there's probably a better to flatten out these combinations\n",
    "possible_tables = []\n",
    "for c in table_combos\n",
    "    for t in c\n",
    "        append!(possible_tables, [t])\n",
    "    end\n",
    "end"
   ]
  },
  {
   "cell_type": "code",
   "execution_count": 7,
   "metadata": {},
   "outputs": [
    {
     "data": {
      "text/html": [
       "3213"
      ],
      "text/plain": [
       "3213"
      ]
     },
     "execution_count": 7,
     "metadata": {},
     "output_type": "execute_result"
    }
   ],
   "source": [
    "length(possible_tables)"
   ]
  },
  {
   "cell_type": "code",
   "execution_count": 8,
   "metadata": {},
   "outputs": [],
   "source": [
    "m = Model(solver=CbcSolver())\n",
    "num_possible_tables = length(possible_tables)\n",
    "idx_possible_tables = 1:num_possible_tables\n",
    "\n",
    "@variable(m, table_assignment[idx_possible_tables], Bin)\n",
    "\n",
    "# Objective: maximize happiness = minimize happiness value\n",
    "@objective(m, Min, sum([happiness(possible_tables[t]) * table_assignment[t] for t in idx_possible_tables]))\n",
    "\n",
    "@constraint(m, sum([table_assignment[t] for t in idx_possible_tables]) <= max_tables)\n",
    "\n",
    "\n",
    "# because this is a set partitioning problem, we enforce a strict equality constraint\n",
    "for guest in guests\n",
    "    @constraint(m, sum([table_assignment[t] for t in idx_possible_tables if guest in possible_tables[t]]) == 1)\n",
    "end\n",
    "\n",
    ";"
   ]
  },
  {
   "cell_type": "code",
   "execution_count": 9,
   "metadata": {},
   "outputs": [
    {
     "name": "stdout",
     "output_type": "stream",
     "text": [
      "Objective value: 12.0\n"
     ]
    }
   ],
   "source": [
    "status = solve(m)\n",
    "\n",
    "println(\"Objective value: \", getobjectivevalue(m))"
   ]
  },
  {
   "cell_type": "code",
   "execution_count": 10,
   "metadata": {},
   "outputs": [
    {
     "data": {
      "text/latex": [
       "$$ table_assignment_{i} \\in \\{0,1\\} \\quad\\forall i \\in \\{1,2,\\dots,3212,3213\\} $$"
      ],
      "text/plain": [
       "table_assignment[i] ∈ {0,1} ∀ i ∈ {1,2,…,3212,3213}"
      ]
     },
     "execution_count": 10,
     "metadata": {},
     "output_type": "execute_result"
    }
   ],
   "source": [
    "table_assignment"
   ]
  },
  {
   "cell_type": "code",
   "execution_count": 11,
   "metadata": {},
   "outputs": [
    {
     "data": {
      "text/plain": [
       "5-element Array{Tuple{String,Array{String,1},String,Int64},1}:\n",
       " (\"Table: \", String[\"Q\", \"R\"], \"Happiness: \", 1)          \n",
       " (\"Table: \", String[\"E\", \"F\", \"G\"], \"Happiness: \", 2)     \n",
       " (\"Table: \", String[\"A\", \"B\", \"C\", \"D\"], \"Happiness: \", 3)\n",
       " (\"Table: \", String[\"I\", \"J\", \"K\", \"L\"], \"Happiness: \", 3)\n",
       " (\"Table: \", String[\"M\", \"N\", \"O\", \"P\"], \"Happiness: \", 3)"
      ]
     },
     "execution_count": 11,
     "metadata": {},
     "output_type": "execute_result"
    }
   ],
   "source": [
    "[(\"Table: \", possible_tables[i], \"Happiness: \", happiness(possible_tables[i])) for i=1:length(table_assignment) if getvalue(table_assignment[i]) == 1 ]"
   ]
  },
  {
   "cell_type": "code",
   "execution_count": null,
   "metadata": {},
   "outputs": [],
   "source": []
  }
 ],
 "metadata": {
  "kernelspec": {
   "display_name": "Julia 0.6.2",
   "language": "julia",
   "name": "julia-0.6"
  },
  "language_info": {
   "file_extension": ".jl",
   "mimetype": "application/julia",
   "name": "julia",
   "version": "0.6.2"
  }
 },
 "nbformat": 4,
 "nbformat_minor": 2
}
