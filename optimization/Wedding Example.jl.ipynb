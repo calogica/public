{
 "cells": [
  {
   "cell_type": "markdown",
   "metadata": {},
   "source": [
    "This is a port from Python of the Wedding Table Assignment example from [PuLP](https://github.com/coin-or/pulp/blob/master/examples/wedding.py)."
   ]
  },
  {
   "cell_type": "code",
   "execution_count": 9,
   "metadata": {},
   "outputs": [],
   "source": [
    "using JuMP, Cbc\n",
    "using Combinatorics"
   ]
  },
  {
   "cell_type": "markdown",
   "metadata": {},
   "source": [
    "This is an example of a **set partitioning** problem. We have a _universe_ of guests and subsets of tables that have to _exactly_ cover our universe, i.e. the guests."
   ]
  },
  {
   "cell_type": "markdown",
   "metadata": {},
   "source": [
    "Silly function to calculate \"happiness\" of a table, determined by how close the guests are (by their letter):"
   ]
  },
  {
   "cell_type": "code",
   "execution_count": 14,
   "metadata": {},
   "outputs": [
    {
     "data": {
      "text/plain": [
       "happiness (generic function with 1 method)"
      ]
     },
     "execution_count": 14,
     "metadata": {},
     "output_type": "execute_result"
    }
   ],
   "source": [
    "function happiness(table)\n",
    "    \"\"\"\n",
    "    Find the happiness of the table\n",
    "    - by calculating the maximum distance between the letters\n",
    "    \"\"\"\n",
    "    return abs(Int(table[1][1]) - Int(table[end][1]))\n",
    "end"
   ]
  },
  {
   "cell_type": "code",
   "execution_count": 15,
   "metadata": {},
   "outputs": [
    {
     "data": {
      "text/plain": [
       "1×17 Array{String,2}:\n",
       " \"A\"  \"B\"  \"C\"  \"D\"  \"E\"  \"F\"  \"G\"  \"I\"  …  \"L\"  \"M\"  \"N\"  \"O\"  \"P\"  \"Q\"  \"R\""
      ]
     },
     "execution_count": 15,
     "metadata": {},
     "output_type": "execute_result"
    }
   ],
   "source": [
    "max_tables = 5\n",
    "max_table_size = 4\n",
    "guests = [\"A\" \"B\" \"C\" \"D\" \"E\" \"F\" \"G\" \"I\" \"J\" \"K\" \"L\" \"M\" \"N\" \"O\" \"P\" \"Q\" \"R\"]"
   ]
  },
  {
   "cell_type": "code",
   "execution_count": 16,
   "metadata": {},
   "outputs": [],
   "source": [
    "table_combos = [collect(combinations(guests, t)) for t in 1:max_table_size];"
   ]
  },
  {
   "cell_type": "code",
   "execution_count": 17,
   "metadata": {},
   "outputs": [
    {
     "data": {
      "text/plain": [
       "4-element Array{String,1}:\n",
       " \"O\"\n",
       " \"P\"\n",
       " \"Q\"\n",
       " \"R\""
      ]
     },
     "execution_count": 17,
     "metadata": {},
     "output_type": "execute_result"
    }
   ],
   "source": [
    "table_combos[end][end]    "
   ]
  },
  {
   "cell_type": "code",
   "execution_count": 18,
   "metadata": {},
   "outputs": [],
   "source": [
    "# this seems suboptimal, there's probably a better to flatten out these combinations\n",
    "possible_tables = []\n",
    "for i in 1:length(table_combos)\n",
    "    append!(possible_tables, table_combos[i])\n",
    "end"
   ]
  },
  {
   "cell_type": "code",
   "execution_count": 19,
   "metadata": {},
   "outputs": [
    {
     "data": {
      "text/plain": [
       "3213"
      ]
     },
     "execution_count": 19,
     "metadata": {},
     "output_type": "execute_result"
    }
   ],
   "source": [
    "length(possible_tables)"
   ]
  },
  {
   "cell_type": "code",
   "execution_count": 20,
   "metadata": {},
   "outputs": [
    {
     "name": "stderr",
     "output_type": "stream",
     "text": [
      "┌ Warning: Deprecated syntax `implicit assignment to global variable `#3###368``.\n",
      "│ Use `global #3###368` instead.\n",
      "└ @ nothing none:0\n",
      "┌ Warning: Deprecated syntax `implicit assignment to global variable `#3###368``.\n",
      "│ Use `global #3###368` instead.\n",
      "└ @ nothing none:0\n"
     ]
    }
   ],
   "source": [
    "m = Model(solver=CbcSolver())\n",
    "num_possible_tables = length(possible_tables)\n",
    "idx_possible_tables = 1:num_possible_tables\n",
    "\n",
    "@variable(m, table_assignment[idx_possible_tables], Bin)\n",
    "\n",
    "# Objective: maximize happiness = minimize happiness value\n",
    "@objective(m, Min, sum([happiness(possible_tables[t]) * table_assignment[t] for t in idx_possible_tables]))\n",
    "\n",
    "@constraint(m, sum([table_assignment[t] for t in idx_possible_tables]) <= max_tables)\n",
    "\n",
    "\n",
    "# because this is a set partitioning problem, we enforce a strict equality constraint \n",
    "# - i.e. every guest has to be seated\n",
    "for guest in guests\n",
    "    @constraint(m, sum([table_assignment[t] for t in idx_possible_tables if guest in possible_tables[t]]) == 1)\n",
    "end\n",
    "\n",
    ";"
   ]
  },
  {
   "cell_type": "code",
   "execution_count": 21,
   "metadata": {},
   "outputs": [
    {
     "name": "stdout",
     "output_type": "stream",
     "text": [
      "Objective value: 12.0\n"
     ]
    }
   ],
   "source": [
    "status = solve(m)\n",
    "\n",
    "println(\"Objective value: \", getobjectivevalue(m))"
   ]
  },
  {
   "cell_type": "code",
   "execution_count": 22,
   "metadata": {},
   "outputs": [
    {
     "data": {
      "text/latex": [
       "$$ table_assignment_{i} \\in \\{0,1\\} \\quad\\forall i \\in \\{1,2,\\dots,3212,3213\\} $$"
      ],
      "text/plain": [
       "table_assignment[i] ∈ {0,1} ∀ i ∈ {1,2,…,3212,3213}"
      ]
     },
     "execution_count": 22,
     "metadata": {},
     "output_type": "execute_result"
    }
   ],
   "source": [
    "table_assignment"
   ]
  },
  {
   "cell_type": "code",
   "execution_count": 23,
   "metadata": {},
   "outputs": [
    {
     "data": {
      "text/plain": [
       "5-element Array{Tuple{String,Array{String,1},String,Int64},1}:\n",
       " (\"Table: \", [\"Q\", \"R\"], \"Happiness: \", 1)          \n",
       " (\"Table: \", [\"E\", \"F\", \"G\"], \"Happiness: \", 2)     \n",
       " (\"Table: \", [\"A\", \"B\", \"C\", \"D\"], \"Happiness: \", 3)\n",
       " (\"Table: \", [\"I\", \"J\", \"K\", \"L\"], \"Happiness: \", 3)\n",
       " (\"Table: \", [\"M\", \"N\", \"O\", \"P\"], \"Happiness: \", 3)"
      ]
     },
     "execution_count": 23,
     "metadata": {},
     "output_type": "execute_result"
    }
   ],
   "source": [
    "[(\"Table: \", possible_tables[i], \"Happiness: \", happiness(possible_tables[i])) for i=1:length(table_assignment) if getvalue(table_assignment[i]) == 1 ]"
   ]
  },
  {
   "cell_type": "code",
   "execution_count": null,
   "metadata": {},
   "outputs": [],
   "source": []
  }
 ],
 "metadata": {
  "kernelspec": {
   "display_name": "Julia 0.7.0",
   "language": "julia",
   "name": "julia-0.7"
  },
  "language_info": {
   "file_extension": ".jl",
   "mimetype": "application/julia",
   "name": "julia",
   "version": "0.7.0"
  }
 },
 "nbformat": 4,
 "nbformat_minor": 2
}
