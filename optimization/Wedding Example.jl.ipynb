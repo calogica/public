{
 "cells": [
  {
   "cell_type": "markdown",
   "metadata": {},
   "source": [
    "This is a port from Python of the Wedding Table Assignment example from [PuLP](https://github.com/coin-or/pulp/blob/master/examples/wedding.py)."
   ]
  },
  {
   "cell_type": "code",
   "execution_count": null,
   "metadata": {},
   "outputs": [],
   "source": [
    "using JuMP, Cbc\n",
    "using Combinatorics"
   ]
  },
  {
   "cell_type": "code",
   "execution_count": null,
   "metadata": {},
   "outputs": [],
   "source": [
    "function happiness(table):\n",
    "    \"\"\"\n",
    "    Find the happiness of the table\n",
    "    - by calculating the maximum distance between the letters\n",
    "    \"\"\"\n",
    "    return abs(Int(table[1][1]) - Int(table[end][1]))\n",
    "end"
   ]
  },
  {
   "cell_type": "code",
   "execution_count": null,
   "metadata": {},
   "outputs": [],
   "source": [
    "max_tables = 5\n",
    "max_table_size = 4\n",
    "guests = [\"A\" \"B\" \"C\" \"D\" \"E\" \"F\" \"G\" \"I\" \"J\" \"K\" \"L\" \"M\" \"N\" \"O\" \"P\" \"Q\" \"R\"]"
   ]
  },
  {
   "cell_type": "code",
   "execution_count": null,
   "metadata": {},
   "outputs": [],
   "source": [
    "table_combos = [collect(combinations(guests, t)) for t in 1:max_table_size]\n",
    ";"
   ]
  },
  {
   "cell_type": "code",
   "execution_count": null,
   "metadata": {},
   "outputs": [],
   "source": [
    "# this seems suboptimal, there's probably a better to flatten out these combinations\n",
    "possible_tables = []\n",
    "for c in table_combos\n",
    "    for t in c\n",
    "        append!(possible_tables, [t])\n",
    "    end\n",
    "end"
   ]
  },
  {
   "cell_type": "code",
   "execution_count": null,
   "metadata": {},
   "outputs": [],
   "source": [
    "m = Model(solver=CbcSolver())\n",
    "num_possible_tables = length(possible_tables)\n",
    "idx_possible_tables = 1:num_possible_tables\n",
    "\n",
    "@variable(m, table_assignment[idx_possible_tables], Bin)\n",
    "\n",
    "# Objective: maximize happiness = minimize happiness value\n",
    "@objective(m, Min, sum([happiness(possible_tables[t]) * table_assignment[t] for t in idx_possible_tables]))\n",
    "\n",
    "@constraint(m, sum([table_assignment[t] for t in idx_possible_tables]) <= max_tables)\n",
    "\n",
    "for guest in guests\n",
    "    @constraint(m, sum([table_assignment[t] for t in idx_possible_tables if guest in possible_tables[t]]) == 1)\n",
    "end\n",
    "\n",
    ";\n"
   ]
  },
  {
   "cell_type": "code",
   "execution_count": null,
   "metadata": {},
   "outputs": [],
   "source": [
    "print(m)"
   ]
  },
  {
   "cell_type": "code",
   "execution_count": null,
   "metadata": {},
   "outputs": [],
   "source": [
    "status = solve(m)\n",
    "\n",
    "println(\"Objective value: \", getobjectivevalue(m))"
   ]
  },
  {
   "cell_type": "code",
   "execution_count": null,
   "metadata": {},
   "outputs": [],
   "source": [
    "table_assignment"
   ]
  },
  {
   "cell_type": "code",
   "execution_count": null,
   "metadata": {},
   "outputs": [],
   "source": [
    "# println(\"Solution:  \", getvalue(table_assignment))"
   ]
  },
  {
   "cell_type": "code",
   "execution_count": null,
   "metadata": {},
   "outputs": [],
   "source": [
    "for i=1:length(table_assignment)\n",
    "    if getvalue(table_assignment[i]) == 1\n",
    "        println(possible_tables[i], \" - \", happiness(possible_tables[i]))\n",
    "    end\n",
    "end"
   ]
  },
  {
   "cell_type": "code",
   "execution_count": null,
   "metadata": {},
   "outputs": [],
   "source": []
  }
 ],
 "metadata": {
  "kernelspec": {
   "display_name": "Julia 0.6.2",
   "language": "julia",
   "name": "julia-0.6"
  },
  "language_info": {
   "file_extension": ".jl",
   "mimetype": "application/julia",
   "name": "julia",
   "version": "0.6.2"
  }
 },
 "nbformat": 4,
 "nbformat_minor": 2
}
