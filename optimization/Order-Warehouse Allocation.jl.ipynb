{
 "cells": [
  {
   "cell_type": "code",
   "execution_count": 56,
   "metadata": {},
   "outputs": [],
   "source": [
    "# Pkg.add(\"StatsBase\")"
   ]
  },
  {
   "cell_type": "code",
   "execution_count": 55,
   "metadata": {},
   "outputs": [
    {
     "name": "stderr",
     "output_type": "stream",
     "text": [
      "\u001b[1m\u001b[36mINFO: \u001b[39m\u001b[22m\u001b[36mPrecompiling module StatsBase.\n",
      "\u001b[39m"
     ]
    }
   ],
   "source": [
    "using JuMP, Cbc\n",
    "using Combinatorics\n",
    "using StatsBase"
   ]
  },
  {
   "cell_type": "code",
   "execution_count": 75,
   "metadata": {},
   "outputs": [
    {
     "data": {
      "text/plain": [
       "3-element Array{Int64,1}:\n",
       " 1\n",
       " 2\n",
       " 3"
      ]
     },
     "execution_count": 75,
     "metadata": {},
     "output_type": "execute_result"
    }
   ],
   "source": [
    "skus = [1,2,3]"
   ]
  },
  {
   "cell_type": "code",
   "execution_count": 76,
   "metadata": {},
   "outputs": [
    {
     "data": {
      "text/plain": [
       "2-element Array{Int64,1}:\n",
       " 1\n",
       " 2"
      ]
     },
     "execution_count": 76,
     "metadata": {},
     "output_type": "execute_result"
    }
   ],
   "source": [
    "warehouses = [1,2]"
   ]
  },
  {
   "cell_type": "code",
   "execution_count": 89,
   "metadata": {},
   "outputs": [
    {
     "data": {
      "text/plain": [
       "3×2 Array{Int64,2}:\n",
       " 3  1\n",
       " 3  1\n",
       " 1  3"
      ]
     },
     "execution_count": 89,
     "metadata": {},
     "output_type": "execute_result"
    }
   ],
   "source": [
    "max_inventory = 3\n",
    "inventory = rand(1:max_inventory,length(skus),length(warehouses))"
   ]
  },
  {
   "cell_type": "code",
   "execution_count": 90,
   "metadata": {},
   "outputs": [
    {
     "data": {
      "text/plain": [
       "3-element Array{Int64,1}:\n",
       " 3\n",
       " 3\n",
       " 1"
      ]
     },
     "execution_count": 90,
     "metadata": {},
     "output_type": "execute_result"
    }
   ],
   "source": [
    "inventory[:,1]"
   ]
  },
  {
   "cell_type": "code",
   "execution_count": 96,
   "metadata": {},
   "outputs": [
    {
     "data": {
      "text/html": [
       "3"
      ],
      "text/plain": [
       "3"
      ]
     },
     "execution_count": 96,
     "metadata": {},
     "output_type": "execute_result"
    }
   ],
   "source": [
    "min_order_size = 1\n",
    "max_order_size = length(skus)"
   ]
  },
  {
   "cell_type": "code",
   "execution_count": 97,
   "metadata": {},
   "outputs": [],
   "source": [
    "# sku_combos = [collect(combinations(skus, max_order_size))]"
   ]
  },
  {
   "cell_type": "code",
   "execution_count": 98,
   "metadata": {},
   "outputs": [],
   "source": [
    "sku_combos = [collect(combinations(skus, o)) for o in min_order_size:max_order_size];"
   ]
  },
  {
   "cell_type": "code",
   "execution_count": 99,
   "metadata": {},
   "outputs": [],
   "source": [
    "orders = []\n",
    "for i in 1:length(sku_combos)\n",
    "    append!(orders, sku_combos[i])\n",
    "end"
   ]
  },
  {
   "cell_type": "code",
   "execution_count": 100,
   "metadata": {},
   "outputs": [
    {
     "data": {
      "text/plain": [
       "7-element Array{Any,1}:\n",
       " [1]      \n",
       " [2]      \n",
       " [3]      \n",
       " [1, 2]   \n",
       " [1, 3]   \n",
       " [2, 3]   \n",
       " [1, 2, 3]"
      ]
     },
     "execution_count": 100,
     "metadata": {},
     "output_type": "execute_result"
    }
   ],
   "source": [
    "orders"
   ]
  },
  {
   "cell_type": "code",
   "execution_count": 123,
   "metadata": {},
   "outputs": [
    {
     "data": {
      "text/plain": [
       "7-element Array{Array{Any,1},1}:\n",
       " Any[[1], 1]      \n",
       " Any[[2], 2]      \n",
       " Any[[3], 1]      \n",
       " Any[[1, 2], 1]   \n",
       " Any[[1, 3], 1]   \n",
       " Any[[2, 3], 2]   \n",
       " Any[[1, 2, 3], 1]"
      ]
     },
     "execution_count": 123,
     "metadata": {},
     "output_type": "execute_result"
    }
   ],
   "source": [
    "wh_1_allocation = .3\n",
    "orders_wh_1 = sample(orders, Int(round(length(orders) * wh_1_allocation, 0)), replace=false)\n",
    "orders_wh = [[o, o in wc ? 1 : 2] for o in orders]"
   ]
  },
  {
   "cell_type": "code",
   "execution_count": 107,
   "metadata": {},
   "outputs": [
    {
     "data": {
      "text/plain": [
       "5×5 Array{Int64,2}:\n",
       " 1  1  0  0  0\n",
       " 1  1  0  0  1\n",
       " 0  0  1  1  0\n",
       " 0  0  1  1  1\n",
       " 0  1  0  1  1"
      ]
     },
     "execution_count": 107,
     "metadata": {},
     "output_type": "execute_result"
    }
   ],
   "source": [
    "A = [Int(D[i, j] <= max_miles) for i=1:m, j=1:m]"
   ]
  },
  {
   "cell_type": "code",
   "execution_count": null,
   "metadata": {},
   "outputs": [],
   "source": []
  },
  {
   "cell_type": "code",
   "execution_count": null,
   "metadata": {},
   "outputs": [],
   "source": []
  },
  {
   "cell_type": "code",
   "execution_count": null,
   "metadata": {},
   "outputs": [],
   "source": []
  },
  {
   "cell_type": "code",
   "execution_count": null,
   "metadata": {},
   "outputs": [],
   "source": []
  },
  {
   "cell_type": "code",
   "execution_count": null,
   "metadata": {},
   "outputs": [],
   "source": []
  },
  {
   "cell_type": "code",
   "execution_count": 124,
   "metadata": {},
   "outputs": [
    {
     "data": {
      "text/latex": [
       "$$ \\begin{alignat*}{1}\\min\\quad & y_{1} + y_{2} + y_{3} + y_{4} + y_{5}\\\\\n",
       "\\text{Subject to} \\quad & y_{1} + y_{2} \\geq 1\\\\\n",
       " & y_{1} + y_{2} + y_{5} \\geq 1\\\\\n",
       " & y_{3} + y_{4} \\geq 1\\\\\n",
       " & y_{3} + y_{4} + y_{5} \\geq 1\\\\\n",
       " & y_{2} + y_{4} + y_{5} \\geq 1\\\\\n",
       " & y_{i} \\in \\{0,1\\} \\quad\\forall i \\in \\{1,2,3,4,5\\}\\\\\n",
       "\\end{alignat*}\n",
       " $$"
      ],
      "text/plain": [
       "Minimization problem with:\n",
       " * 5 linear constraints\n",
       " * 5 variables: 5 binary\n",
       "Solver is CbcMathProg"
      ]
     },
     "execution_count": 124,
     "metadata": {},
     "output_type": "execute_result"
    }
   ],
   "source": [
    "model = Model(solver=CbcSolver())\n",
    "\n",
    "# decision variable (binary): whether to build warehouse near distribution center i\n",
    "@variable(model, y[1:m], Bin)\n",
    "\n",
    "# Objective: minimize number of warehouses\n",
    "@objective(model, Min, sum(y))\n",
    "\n",
    "# Constraint: has to cover all warehouses\n",
    "# (.>= is the element-wise dot comparison operator)\n",
    "@constraint(model, A*y .>= 1)\n",
    "\n",
    "model"
   ]
  },
  {
   "cell_type": "markdown",
   "metadata": {},
   "source": [
    "We have an additional constraint that at least 1 warehouse should be within 10 miles of distribution center 1, but our activity matrix $A$ already covers that, so technically we do not need this explicit constraint."
   ]
  },
  {
   "cell_type": "code",
   "execution_count": 125,
   "metadata": {},
   "outputs": [
    {
     "data": {
      "text/latex": [
       "$$ y_{1} + y_{2} \\geq 1 $$"
      ],
      "text/plain": [
       "y[1] + y[2] ≥ 1"
      ]
     },
     "execution_count": 125,
     "metadata": {},
     "output_type": "execute_result"
    }
   ],
   "source": [
    "@constraint(model, y[1] + y[2] >= 1)"
   ]
  },
  {
   "cell_type": "code",
   "execution_count": 126,
   "metadata": {},
   "outputs": [
    {
     "data": {
      "text/plain": [
       ":Optimal"
      ]
     },
     "execution_count": 126,
     "metadata": {},
     "output_type": "execute_result"
    }
   ],
   "source": [
    "# Solve problem using MIP solver\n",
    "status = solve(model)"
   ]
  },
  {
   "cell_type": "code",
   "execution_count": 137,
   "metadata": {},
   "outputs": [
    {
     "name": "stdout",
     "output_type": "stream",
     "text": [
      "Total # of warehouses: 2.0\n",
      "Build warehouses at distribution center(s):\n"
     ]
    },
    {
     "data": {
      "text/plain": [
       "2-element Array{Int64,1}:\n",
       " 2\n",
       " 3"
      ]
     },
     "execution_count": 137,
     "metadata": {},
     "output_type": "execute_result"
    }
   ],
   "source": [
    "println(\"Total # of warehouses: \", getobjectivevalue(model))\n",
    "\n",
    "println(\"Build warehouses at distribution center(s):\")\n",
    "\n",
    "[i for i=1:m if getvalue(y[i]) == 1 ]"
   ]
  },
  {
   "cell_type": "code",
   "execution_count": null,
   "metadata": {},
   "outputs": [],
   "source": []
  }
 ],
 "metadata": {
  "kernelspec": {
   "display_name": "Julia 0.6.2",
   "language": "julia",
   "name": "julia-0.6"
  },
  "language_info": {
   "file_extension": ".jl",
   "mimetype": "application/julia",
   "name": "julia",
   "version": "0.6.2"
  }
 },
 "nbformat": 4,
 "nbformat_minor": 2
}
