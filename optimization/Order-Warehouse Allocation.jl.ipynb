{
 "cells": [
  {
   "cell_type": "code",
   "execution_count": 56,
   "metadata": {},
   "outputs": [],
   "source": [
    "# Pkg.add(\"Iterators\")"
   ]
  },
  {
   "cell_type": "code",
   "execution_count": 57,
   "metadata": {},
   "outputs": [],
   "source": [
    "# Pkg.update()"
   ]
  },
  {
   "cell_type": "code",
   "execution_count": 58,
   "metadata": {},
   "outputs": [],
   "source": [
    "using JuMP, Cbc\n",
    "using Combinatorics, Iterators\n",
    "using StatsBase"
   ]
  },
  {
   "cell_type": "code",
   "execution_count": 135,
   "metadata": {},
   "outputs": [
    {
     "data": {
      "text/html": [
       "3"
      ],
      "text/plain": [
       "3"
      ]
     },
     "execution_count": 135,
     "metadata": {},
     "output_type": "execute_result"
    }
   ],
   "source": [
    "I_skus = [1,2,3]\n",
    "m = length(I_skus)"
   ]
  },
  {
   "cell_type": "code",
   "execution_count": 136,
   "metadata": {},
   "outputs": [
    {
     "data": {
      "text/html": [
       "2"
      ],
      "text/plain": [
       "2"
      ]
     },
     "execution_count": 136,
     "metadata": {},
     "output_type": "execute_result"
    }
   ],
   "source": [
    "K_warehouses = [1,2]\n",
    "k = length(K_warehouses)"
   ]
  },
  {
   "cell_type": "code",
   "execution_count": 137,
   "metadata": {},
   "outputs": [
    {
     "data": {
      "text/plain": [
       "3×2 Array{Int64,2}:\n",
       " 3  3\n",
       " 2  2\n",
       " 2  1"
      ]
     },
     "execution_count": 137,
     "metadata": {},
     "output_type": "execute_result"
    }
   ],
   "source": [
    "max_inventory = 5\n",
    "inventory = rand(1:max_inventory, m, k)"
   ]
  },
  {
   "cell_type": "code",
   "execution_count": 144,
   "metadata": {},
   "outputs": [
    {
     "data": {
      "text/html": [
       "3"
      ],
      "text/plain": [
       "3"
      ]
     },
     "execution_count": 144,
     "metadata": {},
     "output_type": "execute_result"
    }
   ],
   "source": [
    "min_order_size = 2\n",
    "max_order_size = m"
   ]
  },
  {
   "cell_type": "code",
   "execution_count": 145,
   "metadata": {},
   "outputs": [],
   "source": [
    "sku_combos = [collect(combinations(I_skus, o)) for o in min_order_size:max_order_size];"
   ]
  },
  {
   "cell_type": "code",
   "execution_count": 146,
   "metadata": {},
   "outputs": [],
   "source": [
    "J_orders = []\n",
    "for i in 1:length(sku_combos)\n",
    "    append!(J_orders, sku_combos[i])\n",
    "end"
   ]
  },
  {
   "cell_type": "code",
   "execution_count": 147,
   "metadata": {},
   "outputs": [
    {
     "data": {
      "text/plain": [
       "4-element Array{Any,1}:\n",
       " [1, 2]   \n",
       " [1, 3]   \n",
       " [2, 3]   \n",
       " [1, 2, 3]"
      ]
     },
     "execution_count": 147,
     "metadata": {},
     "output_type": "execute_result"
    }
   ],
   "source": [
    "J_orders"
   ]
  },
  {
   "cell_type": "code",
   "execution_count": 157,
   "metadata": {},
   "outputs": [
    {
     "data": {
      "text/html": [
       "4"
      ],
      "text/plain": [
       "4"
      ]
     },
     "execution_count": 157,
     "metadata": {},
     "output_type": "execute_result"
    }
   ],
   "source": [
    "j =length(J_orders)"
   ]
  },
  {
   "cell_type": "code",
   "execution_count": 50,
   "metadata": {},
   "outputs": [],
   "source": [
    "# wh_allocation = [.3, .7]\n",
    "# orders_wh = [sample(orders, Int(round(length(orders) * wh, 0)), replace=false) for wh in wh_allocation]\n",
    "# # orders_wh = [[o, o in wc ? 1 : 2] for o in orders]"
   ]
  },
  {
   "cell_type": "code",
   "execution_count": 173,
   "metadata": {},
   "outputs": [
    {
     "data": {
      "text/plain": [
       "4-element Array{Array{Int64,1},1}:\n",
       " [1, 2]   \n",
       " [1, 3]   \n",
       " [2, 3]   \n",
       " [1, 2, 3]"
      ]
     },
     "execution_count": 173,
     "metadata": {},
     "output_type": "execute_result"
    }
   ],
   "source": [
    "I_j = [unique(s) for s in J_orders]"
   ]
  },
  {
   "cell_type": "code",
   "execution_count": 174,
   "metadata": {},
   "outputs": [
    {
     "data": {
      "text/plain": [
       "4-element Array{Array{Array{Int64,1},1},1}:\n",
       " Array{Int64,1}[Int64[], [1], [2], [1, 2]]                                \n",
       " Array{Int64,1}[Int64[], [1], [3], [1, 3]]                                \n",
       " Array{Int64,1}[Int64[], [2], [3], [2, 3]]                                \n",
       " Array{Int64,1}[Int64[], [1], [2], [1, 2], [3], [1, 3], [2, 3], [1, 2, 3]]"
      ]
     },
     "execution_count": 174,
     "metadata": {},
     "output_type": "execute_result"
    }
   ],
   "source": [
    "N = [collect(subsets(j)) for j in J_orders]"
   ]
  },
  {
   "cell_type": "code",
   "execution_count": 175,
   "metadata": {},
   "outputs": [
    {
     "data": {
      "text/html": [
       "20"
      ],
      "text/plain": [
       "20"
      ]
     },
     "execution_count": 175,
     "metadata": {},
     "output_type": "execute_result"
    }
   ],
   "source": [
    "n = sum([length(n_j) for n_j in N])"
   ]
  },
  {
   "cell_type": "code",
   "execution_count": 176,
   "metadata": {},
   "outputs": [
    {
     "data": {
      "text/plain": [
       "1-element Array{Int64,1}:\n",
       " 3"
      ]
     },
     "execution_count": 176,
     "metadata": {},
     "output_type": "execute_result"
    }
   ],
   "source": [
    "N[3][3]"
   ]
  },
  {
   "cell_type": "code",
   "execution_count": 154,
   "metadata": {},
   "outputs": [
    {
     "name": "stdout",
     "output_type": "stream",
     "text": [
      "l = [1]\n",
      "l = [2]\n",
      "l = [1, 2]\n",
      "l = [1]\n",
      "l = [3]\n",
      "l = [1, 3]\n",
      "l = [2]\n",
      "l = [3]\n",
      "l = [2, 3]\n",
      "l = [1]\n",
      "l = [2]\n",
      "l = [1, 2]\n",
      "l = [3]\n",
      "l = [1, 3]\n",
      "l = [2, 3]\n",
      "l = [1, 2, 3]\n"
     ]
    }
   ],
   "source": [
    "for n_j in N\n",
    "    for l in n_j\n",
    "        if length(l) > 0\n",
    "            @show l\n",
    "        end\n",
    "    end\n",
    "end"
   ]
  },
  {
   "cell_type": "code",
   "execution_count": 195,
   "metadata": {},
   "outputs": [
    {
     "data": {
      "text/plain": [
       "(3, 20, 4)"
      ]
     },
     "execution_count": 195,
     "metadata": {},
     "output_type": "execute_result"
    }
   ],
   "source": [
    "m, n, j"
   ]
  },
  {
   "cell_type": "code",
   "execution_count": 191,
   "metadata": {},
   "outputs": [
    {
     "data": {
      "text/html": [
       "true"
      ],
      "text/plain": [
       "true"
      ]
     },
     "execution_count": 191,
     "metadata": {},
     "output_type": "execute_result"
    }
   ],
   "source": [
    "N[1][2] == [1]"
   ]
  },
  {
   "cell_type": "code",
   "execution_count": 181,
   "metadata": {},
   "outputs": [
    {
     "data": {
      "text/html": [
       "20"
      ],
      "text/plain": [
       "20"
      ]
     },
     "execution_count": 181,
     "metadata": {},
     "output_type": "execute_result"
    }
   ],
   "source": [
    "n"
   ]
  },
  {
   "cell_type": "code",
   "execution_count": 194,
   "metadata": {},
   "outputs": [
    {
     "data": {
      "text/plain": [
       "4×4×3 Array{Array{Int64,1},3}:\n",
       "[:, :, 1] =\n",
       " Int64[]  [1]  [2]  [1, 2]\n",
       " Int64[]  [1]  [3]  [1, 3]\n",
       " Int64[]  [2]  [3]  [2, 3]\n",
       " Int64[]  [1]  [2]  [1, 2]\n",
       "\n",
       "[:, :, 2] =\n",
       " Int64[]  [1]  [2]  [1, 2]\n",
       " Int64[]  [1]  [3]  [1, 3]\n",
       " Int64[]  [2]  [3]  [2, 3]\n",
       " Int64[]  [1]  [2]  [1, 2]\n",
       "\n",
       "[:, :, 3] =\n",
       " Int64[]  [1]  [2]  [1, 2]\n",
       " Int64[]  [1]  [3]  [1, 3]\n",
       " Int64[]  [2]  [3]  [2, 3]\n",
       " Int64[]  [1]  [2]  [1, 2]"
      ]
     },
     "execution_count": 194,
     "metadata": {},
     "output_type": "execute_result"
    }
   ],
   "source": [
    "A = [N[o][l] for o=1:j, l=1:4, i=1:m]"
   ]
  },
  {
   "cell_type": "code",
   "execution_count": 200,
   "metadata": {},
   "outputs": [
    {
     "data": {
      "text/plain": [
       "4×3×4 Array{Int64,3}:\n",
       "[:, :, 1] =\n",
       " 0  0  0\n",
       " 1  0  0\n",
       " 0  1  0\n",
       " 1  1  0\n",
       "\n",
       "[:, :, 2] =\n",
       " 0  0  0\n",
       " 1  0  0\n",
       " 0  0  1\n",
       " 1  0  1\n",
       "\n",
       "[:, :, 3] =\n",
       " 0  0  0\n",
       " 0  1  0\n",
       " 0  0  1\n",
       " 0  1  1\n",
       "\n",
       "[:, :, 4] =\n",
       " 0  0  0\n",
       " 1  0  0\n",
       " 0  1  0\n",
       " 1  1  0"
      ]
     },
     "execution_count": 200,
     "metadata": {},
     "output_type": "execute_result"
    }
   ],
   "source": [
    "A = [Int(i in (N[o][l])) for l=1:4, i=1:m, o=1:j]"
   ]
  },
  {
   "cell_type": "code",
   "execution_count": 189,
   "metadata": {},
   "outputs": [
    {
     "data": {
      "text/latex": [
       "$$ \\begin{alignat*}{1}\\min\\quad & y_{1,1,1} + y_{2,1,1} + y_{3,1,1} + y_{4,1,1} + y_{5,1,1} + y_{6,1,1} + y_{7,1,1} + y_{8,1,1} + y_{9,1,1} + y_{10,1,1} + y_{11,1,1} + y_{12,1,1} + y_{13,1,1} + y_{14,1,1} + y_{15,1,1} + y_{16,1,1} + y_{17,1,1} + y_{18,1,1} + y_{19,1,1} + y_{20,1,1} + y_{1,2,1} + y_{2,2,1} + y_{3,2,1} + y_{4,2,1} + y_{5,2,1} + y_{6,2,1} + y_{7,2,1} + y_{8,2,1} + y_{9,2,1} + y_{10,2,1} + y_{11,2,1} + y_{12,2,1} + y_{13,2,1} + y_{14,2,1} + y_{15,2,1} + y_{16,2,1} + y_{17,2,1} + y_{18,2,1} + y_{19,2,1} + y_{20,2,1} + y_{1,3,1} + y_{2,3,1} + y_{3,3,1} + y_{4,3,1} + y_{5,3,1} + y_{6,3,1} + y_{7,3,1} + y_{8,3,1} + y_{9,3,1} + y_{10,3,1} + y_{11,3,1} + y_{12,3,1} + y_{13,3,1} + y_{14,3,1} + y_{15,3,1} + y_{16,3,1} + y_{17,3,1} + y_{18,3,1} + y_{19,3,1} + y_{20,3,1} + y_{1,4,1} + y_{2,4,1} + y_{3,4,1} + y_{4,4,1} + y_{5,4,1} + y_{6,4,1} + y_{7,4,1} + y_{8,4,1} + y_{9,4,1} + y_{10,4,1} + y_{11,4,1} + y_{12,4,1} + y_{13,4,1} + y_{14,4,1} + y_{15,4,1} + y_{16,4,1} + y_{17,4,1} + y_{18,4,1} + y_{19,4,1} + y_{20,4,1} + y_{1,1,2} + y_{2,1,2} + y_{3,1,2} + y_{4,1,2} + y_{5,1,2} + y_{6,1,2} + y_{7,1,2} + y_{8,1,2} + y_{9,1,2} + y_{10,1,2} + y_{11,1,2} + y_{12,1,2} + y_{13,1,2} + y_{14,1,2} + y_{15,1,2} + y_{16,1,2} + y_{17,1,2} + y_{18,1,2} + y_{19,1,2} + y_{20,1,2} + y_{1,2,2} + y_{2,2,2} + y_{3,2,2} + y_{4,2,2} + y_{5,2,2} + y_{6,2,2} + y_{7,2,2} + y_{8,2,2} + y_{9,2,2} + y_{10,2,2} + y_{11,2,2} + y_{12,2,2} + y_{13,2,2} + y_{14,2,2} + y_{15,2,2} + y_{16,2,2} + y_{17,2,2} + y_{18,2,2} + y_{19,2,2} + y_{20,2,2} + y_{1,3,2} + y_{2,3,2} + y_{3,3,2} + y_{4,3,2} + y_{5,3,2} + y_{6,3,2} + y_{7,3,2} + y_{8,3,2} + y_{9,3,2} + y_{10,3,2} + y_{11,3,2} + y_{12,3,2} + y_{13,3,2} + y_{14,3,2} + y_{15,3,2} + y_{16,3,2} + y_{17,3,2} + y_{18,3,2} + y_{19,3,2} + y_{20,3,2} + y_{1,4,2} + y_{2,4,2} + y_{3,4,2} + y_{4,4,2} + y_{5,4,2} + y_{6,4,2} + y_{7,4,2} + y_{8,4,2} + y_{9,4,2} + y_{10,4,2} + y_{11,4,2} + y_{12,4,2} + y_{13,4,2} + y_{14,4,2} + y_{15,4,2} + y_{16,4,2} + y_{17,4,2} + y_{18,4,2} + y_{19,4,2} + y_{20,4,2}\\\\\n",
       "\\text{Subject to} \\quad & y_{i,j,k} \\in \\{0,1\\} \\quad\\forall i \\in \\{1,2,\\dots,19,20\\}, j \\in \\{1,2,3,4\\}, k \\in \\{1,2\\}\\\\\n",
       "\\end{alignat*}\n",
       " $$"
      ],
      "text/plain": [
       "Minimization problem with:\n",
       " * 0 linear constraints\n",
       " * 160 variables: 160 binary\n",
       "Solver is CbcMathProg"
      ]
     },
     "execution_count": 189,
     "metadata": {},
     "output_type": "execute_result"
    }
   ],
   "source": [
    "model = Model(solver=CbcSolver())\n",
    "\n",
    "# decision variable (binary): whether to ship subset C_l from warehouse k\n",
    "@variable(model, y[1:n, 1:j, 1:k], Bin)\n",
    "\n",
    "# # Objective: minimize number of shipments\n",
    "@objective(model, Min, sum(y))\n",
    "\n",
    "# # Constraint: has to cover all warehouses\n",
    "# # (.>= is the element-wise dot comparison operator)\n",
    "# @constraint(model, A*y .>= 1)\n",
    "\n",
    "model"
   ]
  },
  {
   "cell_type": "markdown",
   "metadata": {},
   "source": [
    "We have an additional constraint that at least 1 warehouse should be within 10 miles of distribution center 1, but our activity matrix $A$ already covers that, so technically we do not need this explicit constraint."
   ]
  },
  {
   "cell_type": "code",
   "execution_count": 125,
   "metadata": {},
   "outputs": [
    {
     "data": {
      "text/latex": [
       "$$ y_{1} + y_{2} \\geq 1 $$"
      ],
      "text/plain": [
       "y[1] + y[2] ≥ 1"
      ]
     },
     "execution_count": 125,
     "metadata": {},
     "output_type": "execute_result"
    }
   ],
   "source": [
    "@constraint(model, y[1] + y[2] >= 1)"
   ]
  },
  {
   "cell_type": "code",
   "execution_count": 126,
   "metadata": {},
   "outputs": [
    {
     "data": {
      "text/plain": [
       ":Optimal"
      ]
     },
     "execution_count": 126,
     "metadata": {},
     "output_type": "execute_result"
    }
   ],
   "source": [
    "# Solve problem using MIP solver\n",
    "status = solve(model)"
   ]
  },
  {
   "cell_type": "code",
   "execution_count": 137,
   "metadata": {},
   "outputs": [
    {
     "name": "stdout",
     "output_type": "stream",
     "text": [
      "Total # of warehouses: 2.0\n",
      "Build warehouses at distribution center(s):\n"
     ]
    },
    {
     "data": {
      "text/plain": [
       "2-element Array{Int64,1}:\n",
       " 2\n",
       " 3"
      ]
     },
     "execution_count": 137,
     "metadata": {},
     "output_type": "execute_result"
    }
   ],
   "source": [
    "println(\"Total # of warehouses: \", getobjectivevalue(model))\n",
    "\n",
    "println(\"Build warehouses at distribution center(s):\")\n",
    "\n",
    "[i for i=1:m if getvalue(y[i]) == 1 ]"
   ]
  },
  {
   "cell_type": "code",
   "execution_count": null,
   "metadata": {},
   "outputs": [],
   "source": []
  }
 ],
 "metadata": {
  "kernelspec": {
   "display_name": "Julia 0.6.2",
   "language": "julia",
   "name": "julia-0.6"
  },
  "language_info": {
   "file_extension": ".jl",
   "mimetype": "application/julia",
   "name": "julia",
   "version": "0.6.2"
  }
 },
 "nbformat": 4,
 "nbformat_minor": 2
}
