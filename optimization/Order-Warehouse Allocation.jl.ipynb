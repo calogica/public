{
 "cells": [
  {
   "cell_type": "code",
   "execution_count": null,
   "metadata": {},
   "outputs": [],
   "source": [
    "# Pkg.update()"
   ]
  },
  {
   "cell_type": "code",
   "execution_count": 1,
   "metadata": {},
   "outputs": [
    {
     "name": "stderr",
     "output_type": "stream",
     "text": [
      "\u001b[1m\u001b[36mINFO: \u001b[39m\u001b[22m\u001b[36mPrecompiling module StaticArrays.\n",
      "\u001b[39m\u001b[1m\u001b[36mINFO: \u001b[39m\u001b[22m\u001b[36mRecompiling stale cache file /Users/claus/.julia/lib/v0.6/DiffResults.ji for module DiffResults.\n",
      "\u001b[39m\u001b[1m\u001b[36mINFO: \u001b[39m\u001b[22m\u001b[36mRecompiling stale cache file /Users/claus/.julia/lib/v0.6/ForwardDiff.ji for module ForwardDiff.\n",
      "\u001b[39m\u001b[1m\u001b[36mINFO: \u001b[39m\u001b[22m\u001b[36mRecompiling stale cache file /Users/claus/.julia/lib/v0.6/JuMP.ji for module JuMP.\n",
      "\u001b[39m\u001b[1m\u001b[36mINFO: \u001b[39m\u001b[22m\u001b[36mRecompiling stale cache file /Users/claus/.julia/lib/v0.6/Cbc.ji for module Cbc.\n",
      "\u001b[39m\u001b[1m\u001b[36mINFO: \u001b[39m\u001b[22m\u001b[36mRecompiling stale cache file /Users/claus/.julia/lib/v0.6/Polynomials.ji for module Polynomials.\n",
      "\u001b[39m\u001b[1m\u001b[36mINFO: \u001b[39m\u001b[22m\u001b[36mRecompiling stale cache file /Users/claus/.julia/lib/v0.6/Combinatorics.ji for module Combinatorics.\n",
      "\u001b[39m\u001b[1m\u001b[36mINFO: \u001b[39m\u001b[22m\u001b[36mRecompiling stale cache file /Users/claus/.julia/lib/v0.6/StatsBase.ji for module StatsBase.\n",
      "\u001b[39m"
     ]
    }
   ],
   "source": [
    "using JuMP, Cbc\n",
    "using Combinatorics, Iterators\n",
    "using StatsBase\n",
    "# using PaddedViews"
   ]
  },
  {
   "cell_type": "markdown",
   "metadata": {},
   "source": [
    "## (This is a WIP)"
   ]
  },
  {
   "cell_type": "markdown",
   "metadata": {},
   "source": [
    "### Introduction\n",
    "In a multi-warehouse eCommerce setting, we want to optimize the allocation of orders to warehouses on a number of criteria. We may choose to optimize freight cost, delivery time, customer experience or inventory holding cost. In many eCommerce settings, minimizing the number of shipments per orders minimized freight cost while also maximizing positive customer experience, while upholding customer delivery expectations if this is clearly communicated to customers are checkout time, or soon thereafter.\n",
    "\n",
    "We will try to use Julia to optimize a multi-SKU, multi-warehouse scenario, minimizing the number of shipments in the face of limited inventory.\n",
    "\n",
    "(Inspired by \"Order Fulfillment in Online Retailing: What Goes Where\" by Ping Josephine Xu, pg. 49\n",
    "https://www.researchgate.net/publication/37994759_Order_fulfillment_in_online_retailing_what_goes_where)"
   ]
  },
  {
   "cell_type": "markdown",
   "metadata": {},
   "source": [
    "### Setup"
   ]
  },
  {
   "cell_type": "markdown",
   "metadata": {},
   "source": [
    "$k$&nbsp;&nbsp;&nbsp;&nbsp;index for warehouses\n",
    "\n",
    "$I$&nbsp;&nbsp;&nbsp;&nbsp;set of SKUs, where $|I| = m$ and $i$ is the index.\n",
    "\n",
    "$N = {1, . . . , n}$&nbsp;&nbsp;&nbsp;&nbsp;a collection of all possible subsets of\n",
    "the order, i.e., $C_l$, $l ∈ N$, is the $lth$ subset of the order \n",
    "\n",
    "$A$&nbsp;&nbsp;&nbsp;&nbsp;a $m$ by $n$ matrix such that $a_{il}$ is the number of\n",
    "of SKU $i$ included in subset $C_l$\n",
    "\n",
    "$d_i$&nbsp;&nbsp;&nbsp;&nbsp;units of SKU $i$ in the order\n",
    "\n",
    "$u$&nbsp;&nbsp;&nbsp;&nbsp;order size, or the number of units in the order, $u = \\sum_{i}d_i$\n",
    "\n",
    "$e_n$&nbsp;&nbsp;&nbsp;&nbsp;a $n$ by $1$ vector of 1’s\n",
    "\n",
    "$y_{lk}$ = $1$ if subset $C_l$ is shipped out of warehouse $k$; $=0$ otherwise\n",
    "\n",
    "$s_{ik}$&nbsp;&nbsp;&nbsp;&nbsp;inventory units of SKU $i$ available at warehouse $k$\n"
   ]
  },
  {
   "cell_type": "markdown",
   "metadata": {},
   "source": [
    "We'll start with **3** SKUs"
   ]
  },
  {
   "cell_type": "code",
   "execution_count": 2,
   "metadata": {},
   "outputs": [
    {
     "data": {
      "text/html": [
       "3"
      ],
      "text/plain": [
       "3"
      ]
     },
     "execution_count": 2,
     "metadata": {},
     "output_type": "execute_result"
    }
   ],
   "source": [
    "I_skus = [1,2,3]\n",
    "m = length(I_skus)"
   ]
  },
  {
   "cell_type": "markdown",
   "metadata": {},
   "source": [
    "and **2** warehouses:"
   ]
  },
  {
   "cell_type": "code",
   "execution_count": 3,
   "metadata": {},
   "outputs": [
    {
     "data": {
      "text/html": [
       "2"
      ],
      "text/plain": [
       "2"
      ]
     },
     "execution_count": 3,
     "metadata": {},
     "output_type": "execute_result"
    }
   ],
   "source": [
    "K_warehouses = [1,2]\n",
    "k = length(K_warehouses)"
   ]
  },
  {
   "cell_type": "markdown",
   "metadata": {},
   "source": [
    "Each warehouse can carry up to `max_inventory` of each SKU"
   ]
  },
  {
   "cell_type": "code",
   "execution_count": 11,
   "metadata": {},
   "outputs": [
    {
     "data": {
      "text/plain": [
       "3×2 Array{Int64,2}:\n",
       " 3  1\n",
       " 3  3\n",
       " 2  1"
      ]
     },
     "execution_count": 11,
     "metadata": {},
     "output_type": "execute_result"
    }
   ],
   "source": [
    "max_inventory = 3\n",
    "inventory = rand(1:max_inventory, m, k)"
   ]
  },
  {
   "cell_type": "markdown",
   "metadata": {},
   "source": [
    "Then we make combination of SKUs up between 2 and the number of unique SKUs we have (3)"
   ]
  },
  {
   "cell_type": "code",
   "execution_count": 12,
   "metadata": {},
   "outputs": [
    {
     "data": {
      "text/html": [
       "3"
      ],
      "text/plain": [
       "3"
      ]
     },
     "execution_count": 12,
     "metadata": {},
     "output_type": "execute_result"
    }
   ],
   "source": [
    "min_order_size = 2\n",
    "max_order_size = m"
   ]
  },
  {
   "cell_type": "code",
   "execution_count": 13,
   "metadata": {},
   "outputs": [],
   "source": [
    "sku_combos = [collect(combinations(I_skus, o)) for o in min_order_size:max_order_size];"
   ]
  },
  {
   "cell_type": "code",
   "execution_count": 14,
   "metadata": {},
   "outputs": [
    {
     "data": {
      "text/plain": [
       "2-element Array{Array{Array{Int64,1},1},1}:\n",
       " Array{Int64,1}[[1, 2], [1, 3], [2, 3]]\n",
       " Array{Int64,1}[[1, 2, 3]]             "
      ]
     },
     "execution_count": 14,
     "metadata": {},
     "output_type": "execute_result"
    }
   ],
   "source": [
    "sku_combos"
   ]
  },
  {
   "cell_type": "markdown",
   "metadata": {},
   "source": [
    "We flatten this into an array of orders:"
   ]
  },
  {
   "cell_type": "code",
   "execution_count": 15,
   "metadata": {},
   "outputs": [],
   "source": [
    "J_orders = []\n",
    "for i in 1:length(sku_combos)\n",
    "    append!(J_orders, sku_combos[i])\n",
    "end"
   ]
  },
  {
   "cell_type": "code",
   "execution_count": 16,
   "metadata": {},
   "outputs": [
    {
     "data": {
      "text/plain": [
       "4-element Array{Any,1}:\n",
       " [1, 2]   \n",
       " [1, 3]   \n",
       " [2, 3]   \n",
       " [1, 2, 3]"
      ]
     },
     "execution_count": 16,
     "metadata": {},
     "output_type": "execute_result"
    }
   ],
   "source": [
    "J_orders"
   ]
  },
  {
   "cell_type": "code",
   "execution_count": 18,
   "metadata": {},
   "outputs": [
    {
     "data": {
      "text/html": [
       "4"
      ],
      "text/plain": [
       "4"
      ]
     },
     "execution_count": 18,
     "metadata": {},
     "output_type": "execute_result"
    }
   ],
   "source": [
    "j =length(J_orders)"
   ]
  },
  {
   "cell_type": "code",
   "execution_count": 19,
   "metadata": {},
   "outputs": [],
   "source": [
    "# wh_allocation = [.3, .7]\n",
    "# orders_wh = [sample(orders, Int(round(length(orders) * wh, 0)), replace=false) for wh in wh_allocation]\n",
    "# # orders_wh = [[o, o in wc ? 1 : 2] for o in orders]"
   ]
  },
  {
   "cell_type": "code",
   "execution_count": 20,
   "metadata": {},
   "outputs": [
    {
     "data": {
      "text/plain": [
       "4-element Array{Array{Int64,1},1}:\n",
       " [1, 2]   \n",
       " [1, 3]   \n",
       " [2, 3]   \n",
       " [1, 2, 3]"
      ]
     },
     "execution_count": 20,
     "metadata": {},
     "output_type": "execute_result"
    }
   ],
   "source": [
    "I_j = [unique(s) for s in J_orders]"
   ]
  },
  {
   "cell_type": "markdown",
   "metadata": {},
   "source": [
    "Then we determine all possible subsets we can make out of those orders:"
   ]
  },
  {
   "cell_type": "code",
   "execution_count": 21,
   "metadata": {},
   "outputs": [
    {
     "data": {
      "text/plain": [
       "4-element Array{Array{Array{Int64,1},1},1}:\n",
       " Array{Int64,1}[Int64[], [1], [2], [1, 2]]                                \n",
       " Array{Int64,1}[Int64[], [1], [3], [1, 3]]                                \n",
       " Array{Int64,1}[Int64[], [2], [3], [2, 3]]                                \n",
       " Array{Int64,1}[Int64[], [1], [2], [1, 2], [3], [1, 3], [2, 3], [1, 2, 3]]"
      ]
     },
     "execution_count": 21,
     "metadata": {},
     "output_type": "execute_result"
    }
   ],
   "source": [
    "N = [collect(subsets(j)) for j in J_orders]"
   ]
  },
  {
   "cell_type": "code",
   "execution_count": 22,
   "metadata": {},
   "outputs": [
    {
     "data": {
      "text/html": [
       "20"
      ],
      "text/plain": [
       "20"
      ]
     },
     "execution_count": 22,
     "metadata": {},
     "output_type": "execute_result"
    }
   ],
   "source": [
    "n = sum([length(n_j) for n_j in N])"
   ]
  },
  {
   "cell_type": "code",
   "execution_count": 26,
   "metadata": {},
   "outputs": [],
   "source": [
    "# for n_j in N\n",
    "#     for l in n_j\n",
    "#         if length(l) > 0\n",
    "#             @show l\n",
    "#         end\n",
    "#     end\n",
    "# end"
   ]
  },
  {
   "cell_type": "code",
   "execution_count": 24,
   "metadata": {},
   "outputs": [
    {
     "data": {
      "text/plain": [
       "(3, 20, 4)"
      ]
     },
     "execution_count": 24,
     "metadata": {},
     "output_type": "execute_result"
    }
   ],
   "source": [
    "m, n, j"
   ]
  },
  {
   "cell_type": "code",
   "execution_count": 28,
   "metadata": {},
   "outputs": [],
   "source": [
    "# A = [N[o][l] for o=1:j, l=1:4, i=1:m]"
   ]
  },
  {
   "cell_type": "code",
   "execution_count": 30,
   "metadata": {},
   "outputs": [],
   "source": [
    "# maximum([size(n,1) for n in N[4]])"
   ]
  },
  {
   "cell_type": "code",
   "execution_count": 31,
   "metadata": {},
   "outputs": [],
   "source": [
    "# for o=1:j\n",
    "#     for i=1:m\n",
    "#         for l=2:maximum([size(n,1) for n in N[o]])\n",
    "#             @show o, i, l, N[o][l]\n",
    "#         end\n",
    "#     end\n",
    "# end"
   ]
  },
  {
   "cell_type": "markdown",
   "metadata": {},
   "source": [
    "$A$ is a $m$ by $n$ matrix such that $a_{il}$ is the number of SKU $i$ included in subset $C_l$"
   ]
  },
  {
   "cell_type": "code",
   "execution_count": 37,
   "metadata": {},
   "outputs": [
    {
     "data": {
      "text/plain": [
       "3×3×4 Array{Int64,3}:\n",
       "[:, :, 1] =\n",
       " 1  0  0\n",
       " 0  1  0\n",
       " 1  1  0\n",
       "\n",
       "[:, :, 2] =\n",
       " 1  0  0\n",
       " 0  0  1\n",
       " 1  0  1\n",
       "\n",
       "[:, :, 3] =\n",
       " 0  1  0\n",
       " 0  0  1\n",
       " 0  1  1\n",
       "\n",
       "[:, :, 4] =\n",
       " 1  0  0\n",
       " 0  1  0\n",
       " 1  1  0"
      ]
     },
     "execution_count": 37,
     "metadata": {},
     "output_type": "execute_result"
    }
   ],
   "source": [
    "A = [Int(i in (N[o][l])) for l=2:4, i=1:m, o=1:j]"
   ]
  },
  {
   "cell_type": "code",
   "execution_count": 33,
   "metadata": {},
   "outputs": [
    {
     "data": {
      "text/latex": [
       "$$ \\begin{alignat*}{1}\\min\\quad & y_{1,1,1} + y_{2,1,1} + y_{3,1,1} + y_{4,1,1} + y_{5,1,1} + y_{6,1,1} + y_{7,1,1} + y_{8,1,1} + y_{9,1,1} + y_{10,1,1} + y_{11,1,1} + y_{12,1,1} + y_{13,1,1} + y_{14,1,1} + y_{15,1,1} + y_{16,1,1} + y_{17,1,1} + y_{18,1,1} + y_{19,1,1} + y_{20,1,1} + y_{1,2,1} + y_{2,2,1} + y_{3,2,1} + y_{4,2,1} + y_{5,2,1} + y_{6,2,1} + y_{7,2,1} + y_{8,2,1} + y_{9,2,1} + y_{10,2,1} + y_{11,2,1} + y_{12,2,1} + y_{13,2,1} + y_{14,2,1} + y_{15,2,1} + y_{16,2,1} + y_{17,2,1} + y_{18,2,1} + y_{19,2,1} + y_{20,2,1} + y_{1,3,1} + y_{2,3,1} + y_{3,3,1} + y_{4,3,1} + y_{5,3,1} + y_{6,3,1} + y_{7,3,1} + y_{8,3,1} + y_{9,3,1} + y_{10,3,1} + y_{11,3,1} + y_{12,3,1} + y_{13,3,1} + y_{14,3,1} + y_{15,3,1} + y_{16,3,1} + y_{17,3,1} + y_{18,3,1} + y_{19,3,1} + y_{20,3,1} + y_{1,4,1} + y_{2,4,1} + y_{3,4,1} + y_{4,4,1} + y_{5,4,1} + y_{6,4,1} + y_{7,4,1} + y_{8,4,1} + y_{9,4,1} + y_{10,4,1} + y_{11,4,1} + y_{12,4,1} + y_{13,4,1} + y_{14,4,1} + y_{15,4,1} + y_{16,4,1} + y_{17,4,1} + y_{18,4,1} + y_{19,4,1} + y_{20,4,1} + y_{1,1,2} + y_{2,1,2} + y_{3,1,2} + y_{4,1,2} + y_{5,1,2} + y_{6,1,2} + y_{7,1,2} + y_{8,1,2} + y_{9,1,2} + y_{10,1,2} + y_{11,1,2} + y_{12,1,2} + y_{13,1,2} + y_{14,1,2} + y_{15,1,2} + y_{16,1,2} + y_{17,1,2} + y_{18,1,2} + y_{19,1,2} + y_{20,1,2} + y_{1,2,2} + y_{2,2,2} + y_{3,2,2} + y_{4,2,2} + y_{5,2,2} + y_{6,2,2} + y_{7,2,2} + y_{8,2,2} + y_{9,2,2} + y_{10,2,2} + y_{11,2,2} + y_{12,2,2} + y_{13,2,2} + y_{14,2,2} + y_{15,2,2} + y_{16,2,2} + y_{17,2,2} + y_{18,2,2} + y_{19,2,2} + y_{20,2,2} + y_{1,3,2} + y_{2,3,2} + y_{3,3,2} + y_{4,3,2} + y_{5,3,2} + y_{6,3,2} + y_{7,3,2} + y_{8,3,2} + y_{9,3,2} + y_{10,3,2} + y_{11,3,2} + y_{12,3,2} + y_{13,3,2} + y_{14,3,2} + y_{15,3,2} + y_{16,3,2} + y_{17,3,2} + y_{18,3,2} + y_{19,3,2} + y_{20,3,2} + y_{1,4,2} + y_{2,4,2} + y_{3,4,2} + y_{4,4,2} + y_{5,4,2} + y_{6,4,2} + y_{7,4,2} + y_{8,4,2} + y_{9,4,2} + y_{10,4,2} + y_{11,4,2} + y_{12,4,2} + y_{13,4,2} + y_{14,4,2} + y_{15,4,2} + y_{16,4,2} + y_{17,4,2} + y_{18,4,2} + y_{19,4,2} + y_{20,4,2}\\\\\n",
       "\\text{Subject to} \\quad & y_{i,j,k} \\in \\{0,1\\} \\quad\\forall i \\in \\{1,2,\\dots,19,20\\}, j \\in \\{1,2,3,4\\}, k \\in \\{1,2\\}\\\\\n",
       "\\end{alignat*}\n",
       " $$"
      ],
      "text/plain": [
       "Minimization problem with:\n",
       " * 0 linear constraints\n",
       " * 160 variables: 160 binary\n",
       "Solver is CbcMathProg"
      ]
     },
     "execution_count": 33,
     "metadata": {},
     "output_type": "execute_result"
    }
   ],
   "source": [
    "model = Model(solver=CbcSolver())\n",
    "\n",
    "# decision variable (binary): whether to ship subset C_l from warehouse k\n",
    "@variable(model, y[1:n, 1:j, 1:k], Bin)\n",
    "\n",
    "# # Objective: minimize number of shipments\n",
    "@objective(model, Min, sum(y))\n",
    "\n",
    "model"
   ]
  },
  {
   "cell_type": "code",
   "execution_count": null,
   "metadata": {},
   "outputs": [],
   "source": [
    "@constraint(model, y[1] + y[2] >= 1)"
   ]
  },
  {
   "cell_type": "code",
   "execution_count": null,
   "metadata": {},
   "outputs": [],
   "source": [
    "# Solve problem using MIP solver\n",
    "# status = solve(model)"
   ]
  },
  {
   "cell_type": "code",
   "execution_count": null,
   "metadata": {},
   "outputs": [],
   "source": [
    "# println(\"Total # of warehouses: \", getobjectivevalue(model))\n",
    "\n",
    "# println(\"Build warehouses at distribution center(s):\")\n",
    "\n",
    "# [i for i=1:m if getvalue(y[i]) == 1 ]"
   ]
  },
  {
   "cell_type": "code",
   "execution_count": null,
   "metadata": {},
   "outputs": [],
   "source": []
  }
 ],
 "metadata": {
  "kernelspec": {
   "display_name": "Julia 0.6.2",
   "language": "julia",
   "name": "julia-0.6"
  },
  "language_info": {
   "file_extension": ".jl",
   "mimetype": "application/julia",
   "name": "julia",
   "version": "0.6.2"
  }
 },
 "nbformat": 4,
 "nbformat_minor": 2
}
