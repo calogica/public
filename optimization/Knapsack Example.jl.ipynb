{
 "cells": [
  {
   "cell_type": "code",
   "execution_count": 5,
   "metadata": {},
   "outputs": [],
   "source": [
    "using JuMP, Cbc\n",
    "using LinearAlgebra"
   ]
  },
  {
   "cell_type": "code",
   "execution_count": 6,
   "metadata": {},
   "outputs": [
    {
     "data": {
      "text/plain": [
       "5-element Array{Int64,1}:\n",
       " 2\n",
       " 8\n",
       " 4\n",
       " 2\n",
       " 5"
      ]
     },
     "execution_count": 6,
     "metadata": {},
     "output_type": "execute_result"
    }
   ],
   "source": [
    "capacity = 10\n",
    "\n",
    "profit = [ 5, 3, 2, 7, 4 ]\n",
    "weight = [ 2, 8, 4, 2, 5 ]"
   ]
  },
  {
   "cell_type": "code",
   "execution_count": 13,
   "metadata": {},
   "outputs": [
    {
     "name": "stderr",
     "output_type": "stream",
     "text": [
      "┌ Warning: Deprecated syntax `implicit assignment to global variable `#78###396``.\n",
      "│ Use `global #78###396` instead.\n",
      "└ @ nothing none:0\n",
      "┌ Warning: Deprecated syntax `implicit assignment to global variable `#78###396``.\n",
      "│ Use `global #78###396` instead.\n",
      "└ @ nothing none:0\n"
     ]
    },
    {
     "data": {
      "text/latex": [
       "$$ 2 x_{1} + 8 x_{2} + 4 x_{3} + 2 x_{4} + 5 x_{5} \\leq 10 $$"
      ],
      "text/plain": [
       "2 x[1] + 8 x[2] + 4 x[3] + 2 x[4] + 5 x[5] ≤ 10"
      ]
     },
     "execution_count": 13,
     "metadata": {},
     "output_type": "execute_result"
    }
   ],
   "source": [
    "# Maximization problem\n",
    "m = Model(solver=CbcSolver())\n",
    "\n",
    "@variable(m, x[1:5], Bin)\n",
    "\n",
    "\n",
    "# Objective: maximize profit\n",
    "@objective(m, Max, LinearAlgebra.dot(profit, x))\n",
    "\n",
    "# Constraint: can carry all\n",
    "@constraint(m, LinearAlgebra.dot(weight, x) <= capacity)"
   ]
  },
  {
   "cell_type": "code",
   "execution_count": 11,
   "metadata": {},
   "outputs": [
    {
     "name": "stdout",
     "output_type": "stream",
     "text": [
      "Objective is: 16.0\n",
      "Total weight is: 9.0\n",
      "Solution is:\n",
      "x[1] = 1.0, p[1]/w[1] = 2.5\n",
      "x[2] = 0.0, p[2]/w[2] = 0.375\n",
      "x[3] = 0.0, p[3]/w[3] = 0.5\n",
      "x[4] = 1.0, p[4]/w[4] = 3.5\n",
      "x[5] = 1.0, p[5]/w[5] = 0.8\n",
      "Presolve 0 (-1) rows, 0 (-5) columns and 0 (-5) elements\n",
      "Optimal - objective value 16\n",
      "After Postsolve, objective 16, infeasibilities - dual 0 (0), primal 0 (0)\n",
      "Optimal objective 16 - 0 iterations time 0.002, Presolve 0.00\n",
      "Cbc0045I Solution with objective value -16 saved\n",
      "Coin0505I Presolved problem not optimal, resolve after postsolve\n",
      "Coin0505I Presolved problem not optimal, resolve after postsolve\n"
     ]
    }
   ],
   "source": [
    "# Solve problem using MIP solver\n",
    "status = solve(m)\n",
    "\n",
    "println(\"Objective is: \", getobjectivevalue(m))\n",
    "println(\"Total weight is: \", LinearAlgebra.dot(weight, getvalue(x)))\n",
    "\n",
    "println(\"Solution is:\")\n",
    "for i = 1:5\n",
    "    print(\"x[$i] = \", getvalue(x[i]))\n",
    "    println(\", p[$i]/w[$i] = \", profit[i]/weight[i])\n",
    "end"
   ]
  },
  {
   "cell_type": "code",
   "execution_count": null,
   "metadata": {},
   "outputs": [],
   "source": []
  }
 ],
 "metadata": {
  "kernelspec": {
   "display_name": "Julia 0.7.0",
   "language": "julia",
   "name": "julia-0.7"
  },
  "language_info": {
   "file_extension": ".jl",
   "mimetype": "application/julia",
   "name": "julia",
   "version": "0.7.0"
  }
 },
 "nbformat": 4,
 "nbformat_minor": 2
}
