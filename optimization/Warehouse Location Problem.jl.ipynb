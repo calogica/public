{
 "cells": [
  {
   "cell_type": "code",
   "execution_count": 103,
   "metadata": {},
   "outputs": [],
   "source": [
    "using JuMP, Cbc"
   ]
  },
  {
   "cell_type": "markdown",
   "metadata": {},
   "source": [
    "## Location of Warehouses\n",
    "This is based on _Example 5.1 (Location of Warehouses)_ from [Applied Linear Programming](https://www.wiley.com/en-us/Applied+Integer+Programming%3A+Modeling+and+Solution-p-9780470373064)\n",
    "\n",
    "A firm has 5 distribution centers and we want to dertermine which subset of these should serve as a site for a warehouse. The goal is the build a minimum number of warehouses that can cover all distribution centers so that every warehouse is within 10 miles of each distribution center."
   ]
  },
  {
   "cell_type": "markdown",
   "metadata": {},
   "source": [
    "Per the problem statement, $m$ is the number of distribution centers. \n",
    "\n",
    "We are given a table of distances between distribution centers, $D$:"
   ]
  },
  {
   "cell_type": "code",
   "execution_count": 106,
   "metadata": {},
   "outputs": [
    {
     "data": {
      "text/plain": [
       "5×5 Array{Int64,2}:\n",
       "  0  10  15  20  18\n",
       " 10   0  20  15  10\n",
       " 15  20   0   8  17\n",
       " 20  15   8   0   5\n",
       " 18  10  17   5   0"
      ]
     },
     "execution_count": 106,
     "metadata": {},
     "output_type": "execute_result"
    }
   ],
   "source": [
    "m = 5\n",
    "max_miles = 10\n",
    "\n",
    "D = [0 10 15 20 18;\n",
    "     10 0 20 15 10;\n",
    "     15 20 0 8 17;\n",
    "     20 15 8 0 5;\n",
    "     18 10 17 5 0\n",
    "    ]"
   ]
  },
  {
   "cell_type": "markdown",
   "metadata": {},
   "source": [
    "For example, it is *18* miles between distribution centers *1* (column 1) and *5* (row 5)."
   ]
  },
  {
   "cell_type": "markdown",
   "metadata": {},
   "source": [
    "To convert this to a binary coverage vector $A$, we convert each distance into a binary variable indicating whether the distribution centers are 10 or fewer miles from one another:"
   ]
  },
  {
   "cell_type": "code",
   "execution_count": 107,
   "metadata": {},
   "outputs": [
    {
     "data": {
      "text/plain": [
       "5×5 Array{Int64,2}:\n",
       " 1  1  0  0  0\n",
       " 1  1  0  0  1\n",
       " 0  0  1  1  0\n",
       " 0  0  1  1  1\n",
       " 0  1  0  1  1"
      ]
     },
     "execution_count": 107,
     "metadata": {},
     "output_type": "execute_result"
    }
   ],
   "source": [
    "A = [Int(D[i, j] <= max_miles) for i=1:m, j=1:m]"
   ]
  },
  {
   "cell_type": "markdown",
   "metadata": {},
   "source": [
    "Now we can model this problem using the [JuMP](https://www.juliaopt.org/) package and the (open source) Cbc solver:"
   ]
  },
  {
   "cell_type": "code",
   "execution_count": 124,
   "metadata": {},
   "outputs": [
    {
     "data": {
      "text/latex": [
       "$$ \\begin{alignat*}{1}\\min\\quad & y_{1} + y_{2} + y_{3} + y_{4} + y_{5}\\\\\n",
       "\\text{Subject to} \\quad & y_{1} + y_{2} \\geq 1\\\\\n",
       " & y_{1} + y_{2} + y_{5} \\geq 1\\\\\n",
       " & y_{3} + y_{4} \\geq 1\\\\\n",
       " & y_{3} + y_{4} + y_{5} \\geq 1\\\\\n",
       " & y_{2} + y_{4} + y_{5} \\geq 1\\\\\n",
       " & y_{i} \\in \\{0,1\\} \\quad\\forall i \\in \\{1,2,3,4,5\\}\\\\\n",
       "\\end{alignat*}\n",
       " $$"
      ],
      "text/plain": [
       "Minimization problem with:\n",
       " * 5 linear constraints\n",
       " * 5 variables: 5 binary\n",
       "Solver is CbcMathProg"
      ]
     },
     "execution_count": 124,
     "metadata": {},
     "output_type": "execute_result"
    }
   ],
   "source": [
    "model = Model(solver=CbcSolver())\n",
    "\n",
    "# decision variable (binary): whether to build warehouse near distribution center i\n",
    "@variable(model, y[1:m], Bin)\n",
    "\n",
    "# Objective: minimize number of warehouses\n",
    "@objective(model, Min, sum(y))\n",
    "\n",
    "# Constraint: has to cover all warehouses\n",
    "# (.>= is the element-wise dot comparison operator)\n",
    "@constraint(model, A*y .>= 1)\n",
    "\n",
    "model"
   ]
  },
  {
   "cell_type": "markdown",
   "metadata": {},
   "source": [
    "We have an additional constraint that at least 1 warehouse should be within 10 miles of distribution center 1, but our activity matrix $A$ already covers that, so technically we do not need this explicit constraint."
   ]
  },
  {
   "cell_type": "code",
   "execution_count": 125,
   "metadata": {},
   "outputs": [
    {
     "data": {
      "text/latex": [
       "$$ y_{1} + y_{2} \\geq 1 $$"
      ],
      "text/plain": [
       "y[1] + y[2] ≥ 1"
      ]
     },
     "execution_count": 125,
     "metadata": {},
     "output_type": "execute_result"
    }
   ],
   "source": [
    "@constraint(model, y[1] + y[2] >= 1)"
   ]
  },
  {
   "cell_type": "code",
   "execution_count": 126,
   "metadata": {},
   "outputs": [
    {
     "data": {
      "text/plain": [
       ":Optimal"
      ]
     },
     "execution_count": 126,
     "metadata": {},
     "output_type": "execute_result"
    }
   ],
   "source": [
    "# Solve problem using MIP solver\n",
    "status = solve(model)"
   ]
  },
  {
   "cell_type": "code",
   "execution_count": 137,
   "metadata": {},
   "outputs": [
    {
     "name": "stdout",
     "output_type": "stream",
     "text": [
      "Total # of warehouses: 2.0\n",
      "Build warehouses at distribution center(s):\n"
     ]
    },
    {
     "data": {
      "text/plain": [
       "2-element Array{Int64,1}:\n",
       " 2\n",
       " 3"
      ]
     },
     "execution_count": 137,
     "metadata": {},
     "output_type": "execute_result"
    }
   ],
   "source": [
    "println(\"Total # of warehouses: \", getobjectivevalue(model))\n",
    "\n",
    "println(\"Build warehouses at distribution center(s):\")\n",
    "\n",
    "[i for i=1:m if getvalue(y[i]) == 1 ]"
   ]
  },
  {
   "cell_type": "code",
   "execution_count": null,
   "metadata": {},
   "outputs": [],
   "source": []
  }
 ],
 "metadata": {
  "kernelspec": {
   "display_name": "Julia 0.6.2",
   "language": "julia",
   "name": "julia-0.6"
  },
  "language_info": {
   "file_extension": ".jl",
   "mimetype": "application/julia",
   "name": "julia",
   "version": "0.6.2"
  }
 },
 "nbformat": 4,
 "nbformat_minor": 2
}
