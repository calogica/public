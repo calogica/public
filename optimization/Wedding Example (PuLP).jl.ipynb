{
 "cells": [
  {
   "cell_type": "code",
   "execution_count": 1,
   "metadata": {},
   "outputs": [],
   "source": [
    "using JuMP, Cbc\n",
    "using Combinatorics"
   ]
  },
  {
   "cell_type": "code",
   "execution_count": 2,
   "metadata": {},
   "outputs": [
    {
     "data": {
      "text/plain": [
       "happiness (generic function with 1 method)"
      ]
     },
     "execution_count": 2,
     "metadata": {},
     "output_type": "execute_result"
    }
   ],
   "source": [
    "function happiness(table):\n",
    "    \"\"\"\n",
    "    Find the happiness of the table\n",
    "    - by calculating the maximum distance between the letters\n",
    "    \"\"\"\n",
    "    return abs(Int(table[1][1]) - Int(table[end][1]))\n",
    "end"
   ]
  },
  {
   "cell_type": "code",
   "execution_count": 85,
   "metadata": {},
   "outputs": [
    {
     "data": {
      "text/plain": [
       "1×17 Array{String,2}:\n",
       " \"A\"  \"B\"  \"C\"  \"D\"  \"E\"  \"F\"  \"G\"  \"I\"  …  \"L\"  \"M\"  \"N\"  \"O\"  \"P\"  \"Q\"  \"R\""
      ]
     },
     "execution_count": 85,
     "metadata": {},
     "output_type": "execute_result"
    }
   ],
   "source": [
    "max_tables = 5\n",
    "max_table_size = 4\n",
    "guests = [\"A\" \"B\" \"C\" \"D\" \"E\" \"F\" \"G\" \"I\" \"J\" \"K\" \"L\" \"M\" \"N\" \"O\" \"P\" \"Q\" \"R\"]"
   ]
  },
  {
   "cell_type": "code",
   "execution_count": 87,
   "metadata": {},
   "outputs": [
    {
     "data": {
      "text/html": [
       "17"
      ],
      "text/plain": [
       "17"
      ]
     },
     "execution_count": 87,
     "metadata": {},
     "output_type": "execute_result"
    }
   ],
   "source": [
    "length(guests)"
   ]
  },
  {
   "cell_type": "code",
   "execution_count": 88,
   "metadata": {},
   "outputs": [],
   "source": [
    "table_combos = [collect(combinations(guests, t)) for t in 1:max_table_size]\n",
    ";"
   ]
  },
  {
   "cell_type": "code",
   "execution_count": 89,
   "metadata": {},
   "outputs": [],
   "source": [
    "# this seems suboptimal, there's probably a better to flatten out these combinations\n",
    "possible_tables = []\n",
    "for c in table_combos\n",
    "    for t in c\n",
    "        append!(possible_tables, [t])\n",
    "    end\n",
    "end"
   ]
  },
  {
   "cell_type": "code",
   "execution_count": 90,
   "metadata": {},
   "outputs": [],
   "source": [
    "m = Model(solver=CbcSolver())\n",
    "num_possible_tables = length(possible_tables)\n",
    "idx_possible_tables = 1:num_possible_tables\n",
    "\n",
    "@variable(m, table_assignment[idx_possible_tables], Bin)\n",
    "\n",
    "# Objective: maximize happiness = minimize happiness value\n",
    "@objective(m, Min, sum([happiness(possible_tables[t]) * table_assignment[t] for t in idx_possible_tables]))\n",
    "\n",
    "@constraint(m, sum([table_assignment[t] for t in idx_possible_tables]) <= max_tables)\n",
    "\n",
    "for guest in guests\n",
    "    @constraint(m, sum([table_assignment[t] for t in idx_possible_tables if guest in possible_tables[t]]) == 1)\n",
    "end\n",
    "\n",
    ";\n"
   ]
  },
  {
   "cell_type": "code",
   "execution_count": 91,
   "metadata": {},
   "outputs": [
    {
     "name": "stdout",
     "output_type": "stream",
     "text": [
      "Objective value: 12.0\n"
     ]
    }
   ],
   "source": [
    "status = solve(m)\n",
    "\n",
    "println(\"Objective value: \", getobjectivevalue(m))"
   ]
  },
  {
   "cell_type": "code",
   "execution_count": 92,
   "metadata": {},
   "outputs": [
    {
     "data": {
      "text/latex": [
       "$$ table_assignment_{i} \\in \\{0,1\\} \\quad\\forall i \\in \\{1,2,\\dots,3212,3213\\} $$"
      ],
      "text/plain": [
       "table_assignment[i] ∈ {0,1} ∀ i ∈ {1,2,…,3212,3213}"
      ]
     },
     "execution_count": 92,
     "metadata": {},
     "output_type": "execute_result"
    }
   ],
   "source": [
    "table_assignment"
   ]
  },
  {
   "cell_type": "code",
   "execution_count": 93,
   "metadata": {},
   "outputs": [],
   "source": [
    "# println(\"Solution:  \", getvalue(table_assignment))"
   ]
  },
  {
   "cell_type": "code",
   "execution_count": 96,
   "metadata": {},
   "outputs": [
    {
     "name": "stdout",
     "output_type": "stream",
     "text": [
      "String[\"Q\", \"R\"] - 1\n",
      "String[\"E\", \"F\", \"G\"] - 2\n",
      "String[\"A\", \"B\", \"C\", \"D\"] - 3\n",
      "String[\"I\", \"J\", \"K\", \"L\"] - 3\n",
      "String[\"M\", \"N\", \"O\", \"P\"] - 3\n"
     ]
    }
   ],
   "source": [
    "for i=1:length(table_assignment)\n",
    "    if getvalue(table_assignment[i]) == 1\n",
    "        println(possible_tables[i], \" - \", happiness(possible_tables[i]))\n",
    "    end\n",
    "end"
   ]
  },
  {
   "cell_type": "code",
   "execution_count": null,
   "metadata": {},
   "outputs": [],
   "source": []
  }
 ],
 "metadata": {
  "kernelspec": {
   "display_name": "Julia 0.6.2",
   "language": "julia",
   "name": "julia-0.6"
  },
  "language_info": {
   "file_extension": ".jl",
   "mimetype": "application/julia",
   "name": "julia",
   "version": "0.6.2"
  }
 },
 "nbformat": 4,
 "nbformat_minor": 2
}
