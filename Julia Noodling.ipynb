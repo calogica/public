{
 "cells": [
  {
   "cell_type": "code",
   "execution_count": 15,
   "metadata": {
    "ExecuteTime": {
     "end_time": "2017-07-12T15:40:15.760000-07:00",
     "start_time": "2017-07-12T22:39:47.954Z"
    }
   },
   "outputs": [
    {
     "name": "stderr",
     "output_type": "stream",
     "text": [
      "\u001b[1m\u001b[36mINFO: \u001b[39m\u001b[22m\u001b[36mCloning cache of DataArrays from https://github.com/JuliaStats/DataArrays.jl.git\n",
      "\u001b[39m\u001b[1m\u001b[36mINFO: \u001b[39m\u001b[22m\u001b[36mCloning cache of DataFrames from https://github.com/JuliaStats/DataFrames.jl.git\n",
      "\u001b[39m\u001b[1m\u001b[36mINFO: \u001b[39m\u001b[22m\u001b[36mCloning cache of FileIO from https://github.com/JuliaIO/FileIO.jl.git\n",
      "\u001b[39m\u001b[1m\u001b[36mINFO: \u001b[39m\u001b[22m\u001b[36mCloning cache of GZip from https://github.com/JuliaIO/GZip.jl.git\n",
      "\u001b[39m\u001b[1m\u001b[36mINFO: \u001b[39m\u001b[22m\u001b[36mCloning cache of Reexport from https://github.com/simonster/Reexport.jl.git\n",
      "\u001b[39m\u001b[1m\u001b[36mINFO: \u001b[39m\u001b[22m\u001b[36mCloning cache of SortingAlgorithms from https://github.com/JuliaCollections/SortingAlgorithms.jl.git\n",
      "\u001b[39m\u001b[1m\u001b[36mINFO: \u001b[39m\u001b[22m\u001b[36mCloning cache of StatsBase from https://github.com/JuliaStats/StatsBase.jl.git\n",
      "\u001b[39m\u001b[1m\u001b[36mINFO: \u001b[39m\u001b[22m\u001b[36mInstalling DataArrays v0.6.1\n",
      "\u001b[39m\u001b[1m\u001b[36mINFO: \u001b[39m\u001b[22m\u001b[36mInstalling DataFrames v0.10.0\n",
      "\u001b[39m\u001b[1m\u001b[36mINFO: \u001b[39m\u001b[22m\u001b[36mInstalling FileIO v0.5.1\n",
      "\u001b[39m\u001b[1m\u001b[36mINFO: \u001b[39m\u001b[22m\u001b[36mInstalling GZip v0.3.0\n",
      "\u001b[39m\u001b[1m\u001b[36mINFO: \u001b[39m\u001b[22m\u001b[36mInstalling Reexport v0.0.3\n",
      "\u001b[39m\u001b[1m\u001b[36mINFO: \u001b[39m\u001b[22m\u001b[36mInstalling SortingAlgorithms v0.1.1\n",
      "\u001b[39m\u001b[1m\u001b[36mINFO: \u001b[39m\u001b[22m\u001b[36mInstalling StatsBase v0.17.0\n",
      "\u001b[39m\u001b[1m\u001b[36mINFO: \u001b[39m\u001b[22m\u001b[36mPackage database updated\n",
      "\u001b[39m"
     ]
    }
   ],
   "source": [
    "Pkg.add(\"DataFrames\")"
   ]
  },
  {
   "cell_type": "code",
   "execution_count": 31,
   "metadata": {
    "ExecuteTime": {
     "end_time": "2017-07-12T15:50:32.713000-07:00",
     "start_time": "2017-07-12T22:50:18.123Z"
    }
   },
   "outputs": [
    {
     "name": "stderr",
     "output_type": "stream",
     "text": [
      "\u001b[1m\u001b[36mINFO: \u001b[39m\u001b[22m\u001b[36mCloning cache of DataValues from https://github.com/davidanthoff/DataValues.jl.git\n",
      "\u001b[39m\u001b[1m\u001b[36mINFO: \u001b[39m\u001b[22m\u001b[36mCloning cache of DocStringExtensions from https://github.com/JuliaDocs/DocStringExtensions.jl.git\n",
      "\u001b[39m\u001b[1m\u001b[36mINFO: \u001b[39m\u001b[22m\u001b[36mCloning cache of Documenter from https://github.com/JuliaDocs/Documenter.jl.git\n",
      "\u001b[39m\u001b[1m\u001b[36mINFO: \u001b[39m\u001b[22m\u001b[36mCloning cache of IterableTables from https://github.com/davidanthoff/IterableTables.jl.git\n",
      "\u001b[39m\u001b[1m\u001b[36mINFO: \u001b[39m\u001b[22m\u001b[36mCloning cache of NamedTuples from https://github.com/blackrock/NamedTuples.jl.git\n",
      "\u001b[39m\u001b[1m\u001b[36mINFO: \u001b[39m\u001b[22m\u001b[36mCloning cache of Query from https://github.com/davidanthoff/Query.jl.git\n",
      "\u001b[39m\u001b[1m\u001b[36mINFO: \u001b[39m\u001b[22m\u001b[36mCloning cache of Requires from https://github.com/MikeInnes/Requires.jl.git\n",
      "\u001b[39m\u001b[1m\u001b[36mINFO: \u001b[39m\u001b[22m\u001b[36mInstalling DataValues v0.1.1\n",
      "\u001b[39m\u001b[1m\u001b[36mINFO: \u001b[39m\u001b[22m\u001b[36mInstalling DocStringExtensions v0.3.3\n",
      "\u001b[39m\u001b[1m\u001b[36mINFO: \u001b[39m\u001b[22m\u001b[36mInstalling Documenter v0.11.1\n",
      "\u001b[39m\u001b[1m\u001b[36mINFO: \u001b[39m\u001b[22m\u001b[36mInstalling IterableTables v0.4.1\n",
      "\u001b[39m\u001b[1m\u001b[36mINFO: \u001b[39m\u001b[22m\u001b[36mInstalling NamedTuples v4.0.0\n",
      "\u001b[39m\u001b[1m\u001b[36mINFO: \u001b[39m\u001b[22m\u001b[36mInstalling Query v0.6.0\n",
      "\u001b[39m\u001b[1m\u001b[36mINFO: \u001b[39m\u001b[22m\u001b[36mInstalling Requires v0.4.3\n",
      "\u001b[39m\u001b[1m\u001b[36mINFO: \u001b[39m\u001b[22m\u001b[36mBuilding DataValues\n",
      "\u001b[39m\u001b[1m\u001b[36mINFO: \u001b[39m\u001b[22m\u001b[36mPackage database updated\n",
      "\u001b[39m"
     ]
    }
   ],
   "source": [
    "Pkg.add(\"Query\")"
   ]
  },
  {
   "cell_type": "code",
   "execution_count": 16,
   "metadata": {
    "ExecuteTime": {
     "end_time": "2017-07-12T15:40:45.710000-07:00",
     "start_time": "2017-07-12T22:40:27.597Z"
    }
   },
   "outputs": [
    {
     "name": "stderr",
     "output_type": "stream",
     "text": [
      "\u001b[1m\u001b[36mINFO: \u001b[39m\u001b[22m\u001b[36mPrecompiling module DataFrames.\n",
      "\u001b[39m"
     ]
    }
   ],
   "source": [
    "using DataFrames"
   ]
  },
  {
   "cell_type": "code",
   "execution_count": 21,
   "metadata": {
    "ExecuteTime": {
     "end_time": "2017-07-12T15:42:27.302000-07:00",
     "start_time": "2017-07-12T22:42:27.218Z"
    }
   },
   "outputs": [],
   "source": [
    "df = readtable(\"order_data.dat\");"
   ]
  },
  {
   "cell_type": "code",
   "execution_count": 25,
   "metadata": {
    "ExecuteTime": {
     "end_time": "2017-07-12T15:46:43.572000-07:00",
     "start_time": "2017-07-12T22:46:43.077Z"
    }
   },
   "outputs": [
    {
     "data": {
      "text/html": [
       "<table class=\"data-frame\"><thead><tr><th></th><th>product_price</th><th>x1</th></tr></thead><tbody><tr><th>1</th><td>95.0</td><td>(20775, 5)</td></tr><tr><th>2</th><td>110.0</td><td>(13629, 5)</td></tr><tr><th>3</th><td>125.0</td><td>(6615, 5)</td></tr><tr><th>4</th><td>145.0</td><td>(80, 5)</td></tr></tbody></table>"
      ],
      "text/plain": [
       "4×2 DataFrames.DataFrame\n",
       "│ Row │ product_price │ x1         │\n",
       "├─────┼───────────────┼────────────┤\n",
       "│ 1   │ 95.0          │ (20775, 5) │\n",
       "│ 2   │ 110.0         │ (13629, 5) │\n",
       "│ 3   │ 125.0         │ (6615, 5)  │\n",
       "│ 4   │ 145.0         │ (80, 5)    │"
      ]
     },
     "execution_count": 25,
     "metadata": {},
     "output_type": "execute_result"
    }
   ],
   "source": [
    "by(df, :product_price, size)"
   ]
  },
  {
   "cell_type": "code",
   "execution_count": 40,
   "metadata": {
    "ExecuteTime": {
     "end_time": "2017-07-12T15:55:17.243000-07:00",
     "start_time": "2017-07-12T22:55:17.090Z"
    }
   },
   "outputs": [],
   "source": [
    "using Query\n",
    "\n",
    "q1 = @from i in df begin\n",
    "     @where i.product_price >= 125\n",
    "     @select {product_name=i.product_name}\n",
    "     @collect DataFrame\n",
    "    end;"
   ]
  },
  {
   "cell_type": "code",
   "execution_count": 42,
   "metadata": {
    "ExecuteTime": {
     "end_time": "2017-07-12T15:55:19.575000-07:00",
     "start_time": "2017-07-12T22:55:19.570Z"
    }
   },
   "outputs": [
    {
     "data": {
      "text/html": [
       "<table class=\"data-frame\"><thead><tr><th></th><th>product_name</th><th>x1</th></tr></thead><tbody><tr><th>1</th><td>Barre Pinstripe Tuxedo</td><td>1</td></tr><tr><th>2</th><td>Black &amp; Tartan Tuxedo</td><td>36</td></tr><tr><th>3</th><td>Black Watch Tartan Tuxedo</td><td>10</td></tr><tr><th>4</th><td>Chambray Tuxedo</td><td>42</td></tr><tr><th>5</th><td>Contrast Shawl Jacket Tuxedo</td><td>164</td></tr><tr><th>6</th><td>Double Breasted Tuxedo</td><td>101</td></tr><tr><th>7</th><td>Gingham Jacket Tuxedo</td><td>39</td></tr><tr><th>8</th><td>Grosgrain Bound Tuxedo</td><td>277</td></tr><tr><th>9</th><td>Midnight Blue Tuxedo</td><td>3329</td></tr><tr><th>10</th><td>Midnight Pin Dot Tuxedo</td><td>493</td></tr><tr><th>11</th><td>Rose Shawl Collar Tuxedo</td><td>20</td></tr><tr><th>12</th><td>Rose Shawl Jacket Tuxedo</td><td>15</td></tr><tr><th>13</th><td>Shawl Collar Tuxedo</td><td>2033</td></tr><tr><th>14</th><td>Silver Shawl Black Tuxedo</td><td>2</td></tr><tr><th>15</th><td>Velvet Jacket Tuxedo</td><td>31</td></tr><tr><th>16</th><td>White Dinner Jacket Tuxedo</td><td>102</td></tr></tbody></table>"
      ],
      "text/plain": [
       "16×2 DataFrames.DataFrame\n",
       "│ Row │ product_name                   │ x1   │\n",
       "├─────┼────────────────────────────────┼──────┤\n",
       "│ 1   │ \"Barre Pinstripe Tuxedo\"       │ 1    │\n",
       "│ 2   │ \"Black & Tartan Tuxedo\"        │ 36   │\n",
       "│ 3   │ \"Black Watch Tartan Tuxedo\"    │ 10   │\n",
       "│ 4   │ \"Chambray Tuxedo\"              │ 42   │\n",
       "│ 5   │ \"Contrast Shawl Jacket Tuxedo\" │ 164  │\n",
       "│ 6   │ \"Double Breasted Tuxedo\"       │ 101  │\n",
       "│ 7   │ \"Gingham Jacket Tuxedo\"        │ 39   │\n",
       "│ 8   │ \"Grosgrain Bound Tuxedo\"       │ 277  │\n",
       "│ 9   │ \"Midnight Blue Tuxedo\"         │ 3329 │\n",
       "│ 10  │ \"Midnight Pin Dot Tuxedo\"      │ 493  │\n",
       "│ 11  │ \"Rose Shawl Collar Tuxedo\"     │ 20   │\n",
       "│ 12  │ \"Rose Shawl Jacket Tuxedo\"     │ 15   │\n",
       "│ 13  │ \"Shawl Collar Tuxedo\"          │ 2033 │\n",
       "│ 14  │ \"Silver Shawl Black Tuxedo\"    │ 2    │\n",
       "│ 15  │ \"Velvet Jacket Tuxedo\"         │ 31   │\n",
       "│ 16  │ \"White Dinner Jacket Tuxedo\"   │ 102  │"
      ]
     },
     "execution_count": 42,
     "metadata": {},
     "output_type": "execute_result"
    }
   ],
   "source": [
    "by(q1, :product_name, nrow)"
   ]
  },
  {
   "cell_type": "code",
   "execution_count": null,
   "metadata": {
    "collapsed": true
   },
   "outputs": [],
   "source": []
  }
 ],
 "metadata": {
  "kernelspec": {
   "display_name": "Julia 0.6.0",
   "language": "julia",
   "name": "julia-0.6"
  },
  "language_info": {
   "file_extension": ".jl",
   "mimetype": "application/julia",
   "name": "julia",
   "version": "0.6.0"
  }
 },
 "nbformat": 4,
 "nbformat_minor": 2
}
