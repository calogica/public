{
 "cells": [
  {
   "cell_type": "markdown",
   "metadata": {},
   "source": [
    "The following are three different implementations of Linear Regression to demonstrate basic principles such as Gradient Descent, mini-batching in both numpy and Tensorflow.\n",
    "\n",
    "Much credit goes to Sebastian Raschka, Aymeric Damien and Michelle Fullwood for their code, blogposts and presentations:\n",
    "\n",
    "- Sebastian Raschka \"Single-Layer Neural Networks and Gradient Descent\" https://sebastianraschka.com/Articles/2015_singlelayer_neurons.html#gradient-descent\n",
    "- Aymeric Damien Linear Regression in Tensorflow example: https://github.com/aymericdamien/TensorFlow-Examples/blob/master/notebooks/2_BasicModels/linear_regression.ipynb\n",
    "- Michelle Fullwood \"A gentle introduction to deep learning with TensorFlow\" at PyCon 2017\n",
    "https://www.youtube.com/watch?v=5e0TbyCkbCY&list=WL&index=5\n",
    "https://github.com/michelleful/PyCon2017/blob/master/notebooks/Sample%20TensorFlow%20code.ipynb\n"
   ]
  },
  {
   "cell_type": "code",
   "execution_count": 3,
   "metadata": {
    "ExecuteTime": {
     "end_time": "2017-05-30T22:48:32.839837Z",
     "start_time": "2017-05-30T22:48:32.831476Z"
    }
   },
   "outputs": [
    {
     "data": {
      "text/plain": [
       "'1.1.0'"
      ]
     },
     "execution_count": 3,
     "metadata": {},
     "output_type": "execute_result"
    }
   ],
   "source": [
    "import numpy as np\n",
    "import pandas as pd\n",
    "import tensorflow as tf\n",
    "from sklearn.preprocessing import StandardScaler\n",
    "from sklearn.utils import shuffle\n",
    "\n",
    "import matplotlib.pyplot as plt\n",
    "\n",
    "%matplotlib inline\n",
    "tf.__version__"
   ]
  },
  {
   "cell_type": "markdown",
   "metadata": {},
   "source": [
    "### Get Housing Data"
   ]
  },
  {
   "cell_type": "code",
   "execution_count": 4,
   "metadata": {
    "ExecuteTime": {
     "end_time": "2017-05-30T22:48:34.897524Z",
     "start_time": "2017-05-30T22:48:34.377622Z"
    }
   },
   "outputs": [
    {
     "data": {
      "text/html": [
       "<div>\n",
       "<style>\n",
       "    .dataframe thead tr:only-child th {\n",
       "        text-align: right;\n",
       "    }\n",
       "\n",
       "    .dataframe thead th {\n",
       "        text-align: left;\n",
       "    }\n",
       "\n",
       "    .dataframe tbody tr th {\n",
       "        vertical-align: top;\n",
       "    }\n",
       "</style>\n",
       "<table border=\"1\" class=\"dataframe\">\n",
       "  <thead>\n",
       "    <tr style=\"text-align: right;\">\n",
       "      <th></th>\n",
       "      <th>CRIM</th>\n",
       "      <th>ZN</th>\n",
       "      <th>INDUS</th>\n",
       "      <th>CHAS</th>\n",
       "      <th>NOX</th>\n",
       "      <th>RM</th>\n",
       "      <th>AGE</th>\n",
       "      <th>DIS</th>\n",
       "      <th>RAD</th>\n",
       "      <th>TAX</th>\n",
       "      <th>PTRATIO</th>\n",
       "      <th>B</th>\n",
       "      <th>LSTAT</th>\n",
       "      <th>MEDV</th>\n",
       "    </tr>\n",
       "  </thead>\n",
       "  <tbody>\n",
       "    <tr>\n",
       "      <th>0</th>\n",
       "      <td>0.00632</td>\n",
       "      <td>18.0</td>\n",
       "      <td>2.31</td>\n",
       "      <td>0</td>\n",
       "      <td>0.538</td>\n",
       "      <td>6.575</td>\n",
       "      <td>65.2</td>\n",
       "      <td>4.0900</td>\n",
       "      <td>1</td>\n",
       "      <td>296.0</td>\n",
       "      <td>15.3</td>\n",
       "      <td>396.90</td>\n",
       "      <td>4.98</td>\n",
       "      <td>24.0</td>\n",
       "    </tr>\n",
       "    <tr>\n",
       "      <th>1</th>\n",
       "      <td>0.02731</td>\n",
       "      <td>0.0</td>\n",
       "      <td>7.07</td>\n",
       "      <td>0</td>\n",
       "      <td>0.469</td>\n",
       "      <td>6.421</td>\n",
       "      <td>78.9</td>\n",
       "      <td>4.9671</td>\n",
       "      <td>2</td>\n",
       "      <td>242.0</td>\n",
       "      <td>17.8</td>\n",
       "      <td>396.90</td>\n",
       "      <td>9.14</td>\n",
       "      <td>21.6</td>\n",
       "    </tr>\n",
       "    <tr>\n",
       "      <th>2</th>\n",
       "      <td>0.02729</td>\n",
       "      <td>0.0</td>\n",
       "      <td>7.07</td>\n",
       "      <td>0</td>\n",
       "      <td>0.469</td>\n",
       "      <td>7.185</td>\n",
       "      <td>61.1</td>\n",
       "      <td>4.9671</td>\n",
       "      <td>2</td>\n",
       "      <td>242.0</td>\n",
       "      <td>17.8</td>\n",
       "      <td>392.83</td>\n",
       "      <td>4.03</td>\n",
       "      <td>34.7</td>\n",
       "    </tr>\n",
       "    <tr>\n",
       "      <th>3</th>\n",
       "      <td>0.03237</td>\n",
       "      <td>0.0</td>\n",
       "      <td>2.18</td>\n",
       "      <td>0</td>\n",
       "      <td>0.458</td>\n",
       "      <td>6.998</td>\n",
       "      <td>45.8</td>\n",
       "      <td>6.0622</td>\n",
       "      <td>3</td>\n",
       "      <td>222.0</td>\n",
       "      <td>18.7</td>\n",
       "      <td>394.63</td>\n",
       "      <td>2.94</td>\n",
       "      <td>33.4</td>\n",
       "    </tr>\n",
       "    <tr>\n",
       "      <th>4</th>\n",
       "      <td>0.06905</td>\n",
       "      <td>0.0</td>\n",
       "      <td>2.18</td>\n",
       "      <td>0</td>\n",
       "      <td>0.458</td>\n",
       "      <td>7.147</td>\n",
       "      <td>54.2</td>\n",
       "      <td>6.0622</td>\n",
       "      <td>3</td>\n",
       "      <td>222.0</td>\n",
       "      <td>18.7</td>\n",
       "      <td>396.90</td>\n",
       "      <td>5.33</td>\n",
       "      <td>36.2</td>\n",
       "    </tr>\n",
       "  </tbody>\n",
       "</table>\n",
       "</div>"
      ],
      "text/plain": [
       "      CRIM    ZN  INDUS  CHAS    NOX     RM   AGE     DIS  RAD    TAX  \\\n",
       "0  0.00632  18.0   2.31     0  0.538  6.575  65.2  4.0900    1  296.0   \n",
       "1  0.02731   0.0   7.07     0  0.469  6.421  78.9  4.9671    2  242.0   \n",
       "2  0.02729   0.0   7.07     0  0.469  7.185  61.1  4.9671    2  242.0   \n",
       "3  0.03237   0.0   2.18     0  0.458  6.998  45.8  6.0622    3  222.0   \n",
       "4  0.06905   0.0   2.18     0  0.458  7.147  54.2  6.0622    3  222.0   \n",
       "\n",
       "   PTRATIO       B  LSTAT  MEDV  \n",
       "0     15.3  396.90   4.98  24.0  \n",
       "1     17.8  396.90   9.14  21.6  \n",
       "2     17.8  392.83   4.03  34.7  \n",
       "3     18.7  394.63   2.94  33.4  \n",
       "4     18.7  396.90   5.33  36.2  "
      ]
     },
     "execution_count": 4,
     "metadata": {},
     "output_type": "execute_result"
    }
   ],
   "source": [
    "df = pd.read_csv('https://archive.ics.uci.edu/ml/machine-learning-databases/'\n",
    "                 'housing/housing.data',\n",
    "                 header=None,\n",
    "                 sep='\\s+')\n",
    "\n",
    "df.columns = ['CRIM', 'ZN', 'INDUS', 'CHAS', \n",
    "              'NOX', 'RM', 'AGE', 'DIS', 'RAD', \n",
    "              'TAX', 'PTRATIO', 'B', 'LSTAT', 'MEDV']\n",
    "df.head()"
   ]
  },
  {
   "cell_type": "markdown",
   "metadata": {},
   "source": [
    "We only take the number of rooms as our feature and the median value as our target"
   ]
  },
  {
   "cell_type": "code",
   "execution_count": 5,
   "metadata": {
    "ExecuteTime": {
     "end_time": "2017-05-30T22:48:36.139209Z",
     "start_time": "2017-05-30T22:48:36.134776Z"
    },
    "collapsed": true
   },
   "outputs": [],
   "source": [
    "X = df[['RM']].values\n",
    "y = df['MEDV'].values"
   ]
  },
  {
   "cell_type": "code",
   "execution_count": 6,
   "metadata": {
    "ExecuteTime": {
     "end_time": "2017-05-30T22:48:36.749531Z",
     "start_time": "2017-05-30T22:48:36.567013Z"
    }
   },
   "outputs": [
    {
     "data": {
      "text/plain": [
       "<matplotlib.collections.PathCollection at 0x11979f080>"
      ]
     },
     "execution_count": 6,
     "metadata": {},
     "output_type": "execute_result"
    },
    {
     "data": {
      "image/png": "[encoded data removed]",
      "text/plain": [
       "<matplotlib.figure.Figure at 0x11534e2b0>"
      ]
     },
     "metadata": {},
     "output_type": "display_data"
    }
   ],
   "source": [
    "plt.scatter(X, y)"
   ]
  },
  {
   "cell_type": "markdown",
   "metadata": {},
   "source": [
    "We scale the feature and target which helps with convergence etc."
   ]
  },
  {
   "cell_type": "code",
   "execution_count": 8,
   "metadata": {
    "ExecuteTime": {
     "end_time": "2017-05-30T22:48:45.754426Z",
     "start_time": "2017-05-30T22:48:45.599542Z"
    }
   },
   "outputs": [
    {
     "data": {
      "text/plain": [
       "<matplotlib.collections.PathCollection at 0x11991c2e8>"
      ]
     },
     "execution_count": 8,
     "metadata": {},
     "output_type": "execute_result"
    },
    {
     "data": {
      "image/png": "[encoded data removed]",
      "text/plain": [
       "<matplotlib.figure.Figure at 0x11998f9b0>"
      ]
     },
     "metadata": {},
     "output_type": "display_data"
    }
   ],
   "source": [
    "\n",
    "sc_x = StandardScaler()\n",
    "sc_y = StandardScaler()\n",
    "X_std = sc_x.fit_transform(X)\n",
    "y_std = sc_y.fit_transform(y[:, np.newaxis]).flatten()\n",
    "plt.scatter(X_std, y_std)"
   ]
  },
  {
   "cell_type": "markdown",
   "metadata": {},
   "source": [
    "### Numpy version"
   ]
  },
  {
   "cell_type": "markdown",
   "metadata": {},
   "source": [
    "#### Linear, Numpy, Gradient Descent\n"
   ]
  },
  {
   "cell_type": "markdown",
   "metadata": {},
   "source": [
    "First we implement LR with Gradient Descent (GD) in numpy"
   ]
  },
  {
   "cell_type": "code",
   "execution_count": 9,
   "metadata": {
    "ExecuteTime": {
     "end_time": "2017-05-30T22:48:47.157951Z",
     "start_time": "2017-05-30T22:48:47.110854Z"
    },
    "collapsed": true
   },
   "outputs": [],
   "source": [
    "class LinearRegressionGD(object):\n",
    "\n",
    "    def __init__(self, eta=0.01, epochs=50):\n",
    "        self.eta = eta\n",
    "        self.epochs = epochs\n",
    "        \n",
    "    def train(self, X, y):\n",
    "\n",
    "        n, m = X.shape \n",
    "        \n",
    "        # add bias unit\n",
    "        b = np.ones(n)\n",
    "        self.w_ = np.zeros(1 + m)\n",
    "        self.cost_ = []\n",
    "\n",
    "        for i in range(self.epochs):\n",
    "\n",
    "            output = self.net_input(X)\n",
    "            \n",
    "            loss = (y - output)\n",
    "            cost = np.mean(np.square(loss)) #/ (2.0)\n",
    "            \n",
    "            print(\"Iteration %d | Cost: %f\" % (i, cost))\n",
    "            # update weights\n",
    "            self.w_[1:] += self.eta * np.dot(X.T, loss)\n",
    "            self.w_[0] += self.eta * np.dot(b.T, loss)\n",
    "            \n",
    "            self.cost_.append(cost)\n",
    "\n",
    "        return self\n",
    "    \n",
    "    def net_input(self, X):\n",
    "        return np.dot(X, self.w_[1:]) + self.w_[0]\n",
    "    \n",
    "    def predict(self, X):\n",
    "        return self.net_input(X)"
   ]
  },
  {
   "cell_type": "code",
   "execution_count": 17,
   "metadata": {
    "ExecuteTime": {
     "end_time": "2017-05-30T22:50:29.401164Z",
     "start_time": "2017-05-30T22:50:29.389102Z"
    }
   },
   "outputs": [
    {
     "name": "stdout",
     "output_type": "stream",
     "text": [
      "Iteration 0 | Cost: 1.000000\n",
      "Iteration 1 | Cost: 0.634472\n",
      "Iteration 2 | Cost: 0.545270\n",
      "Iteration 3 | Cost: 0.523502\n",
      "Iteration 4 | Cost: 0.518189\n",
      "Iteration 5 | Cost: 0.516893\n",
      "Iteration 6 | Cost: 0.516577\n",
      "Iteration 7 | Cost: 0.516499\n",
      "Iteration 8 | Cost: 0.516481\n",
      "Iteration 9 | Cost: 0.516476\n",
      "Iteration 10 | Cost: 0.516475\n",
      "Iteration 11 | Cost: 0.516475\n",
      "Iteration 12 | Cost: 0.516475\n",
      "Iteration 13 | Cost: 0.516475\n",
      "Iteration 14 | Cost: 0.516475\n",
      "Iteration 15 | Cost: 0.516475\n",
      "Iteration 16 | Cost: 0.516475\n",
      "Iteration 17 | Cost: 0.516475\n",
      "Iteration 18 | Cost: 0.516475\n",
      "Iteration 19 | Cost: 0.516475\n",
      "Iteration 20 | Cost: 0.516475\n",
      "Iteration 21 | Cost: 0.516475\n",
      "Iteration 22 | Cost: 0.516475\n",
      "Iteration 23 | Cost: 0.516475\n",
      "Iteration 24 | Cost: 0.516475\n",
      "Iteration 25 | Cost: 0.516475\n",
      "Iteration 26 | Cost: 0.516475\n",
      "Iteration 27 | Cost: 0.516475\n",
      "Iteration 28 | Cost: 0.516475\n",
      "Iteration 29 | Cost: 0.516475\n"
     ]
    }
   ],
   "source": [
    "X_train = X_std\n",
    "y_train = y_std\n",
    "n_iter = 30\n",
    "eta=0.001\n",
    "lr_gd = LinearRegressionGD(eta, n_iter)\n",
    "lr_gd.train(X_train, y_train);"
   ]
  },
  {
   "cell_type": "code",
   "execution_count": 28,
   "metadata": {
    "ExecuteTime": {
     "end_time": "2017-05-30T22:53:12.462972Z",
     "start_time": "2017-05-30T22:53:12.457745Z"
    }
   },
   "outputs": [
    {
     "name": "stdout",
     "output_type": "stream",
     "text": [
      "Cost\t0.516475\n",
      "w_0\t-0.000000\n",
      "w_1\t0.695360\n"
     ]
    }
   ],
   "source": [
    "print('Cost\\t{:.6f}'.format(np.min(lr_gd.cost_)))\n",
    "[print('w_{:}\\t{:.6f}'.format(i, w)) for i, w in enumerate(lr_gd.w_)];"
   ]
  },
  {
   "cell_type": "code",
   "execution_count": 29,
   "metadata": {
    "ExecuteTime": {
     "end_time": "2017-05-30T22:53:18.085742Z",
     "start_time": "2017-05-30T22:53:17.865782Z"
    }
   },
   "outputs": [
    {
     "data": {
      "image/png": "[encoded data removed]",
      "text/plain": [
       "<matplotlib.figure.Figure at 0x119a7aac8>"
      ]
     },
     "metadata": {},
     "output_type": "display_data"
    }
   ],
   "source": [
    "plt.plot(range(1, lr_gd.epochs+1), lr_gd.cost_)\n",
    "plt.ylabel('MSE')\n",
    "plt.xlabel('Epoch')\n",
    "plt.tight_layout()\n",
    "# plt.savefig('./figures/cost.png', dpi=300)\n",
    "plt.show()"
   ]
  },
  {
   "cell_type": "markdown",
   "metadata": {},
   "source": [
    "#### Linear, Numpy, Stochastic Gradient Descent\n"
   ]
  },
  {
   "cell_type": "markdown",
   "metadata": {},
   "source": [
    "Then we implement the same using Stochastic Gradient Descent (SGD) in numpy:"
   ]
  },
  {
   "cell_type": "code",
   "execution_count": 10,
   "metadata": {
    "ExecuteTime": {
     "end_time": "2017-05-30T22:48:48.548867Z",
     "start_time": "2017-05-30T22:48:48.486668Z"
    },
    "collapsed": true
   },
   "outputs": [],
   "source": [
    "class LinearRegressionSGD(object):\n",
    "\n",
    "    def __init__(self, eta=0.01, epochs=50):\n",
    "        self.eta = eta\n",
    "        self.epochs = epochs\n",
    "        \n",
    "    def train(self, X, y, reinitialize_weights=True):\n",
    "\n",
    "        n, m = X.shape\n",
    "        \n",
    "        if reinitialize_weights:\n",
    "            self.w_ = np.zeros(1 + m)\n",
    "\n",
    "        self.cost_ = []\n",
    "\n",
    "        for i in range(self.epochs):\n",
    "            X, y = shuffle(X, y)\n",
    "\n",
    "            for xi, target in zip(X, y):\n",
    "\n",
    "                output = self.net_input(xi)\n",
    "                loss = (target - output)\n",
    "                upd = self.eta * xi.dot(loss)\n",
    "                self.w_[1:] += upd\n",
    "                self.w_[0] += self.eta * loss\n",
    "            \n",
    "            cost = np.mean(np.square(y - self.activation(X)))\n",
    "            print(\"Iteration %d | Cost: %f\" % (i, cost))\n",
    "            self.cost_.append(cost)\n",
    "\n",
    "        return self\n",
    "    \n",
    "    def net_input(self, X):\n",
    "        return np.dot(X, self.w_[1:]) + self.w_[0]\n",
    "    \n",
    "    def activation(self, X):\n",
    "        return self.net_input(X)\n",
    "\n",
    "    def predict(self, X):\n",
    "        return self.net_input(X)"
   ]
  },
  {
   "cell_type": "code",
   "execution_count": 32,
   "metadata": {
    "ExecuteTime": {
     "end_time": "2017-05-30T22:54:50.080931Z",
     "start_time": "2017-05-30T22:54:49.951146Z"
    }
   },
   "outputs": [
    {
     "name": "stdout",
     "output_type": "stream",
     "text": [
      "Iteration 0 | Cost: 0.688054\n",
      "Iteration 1 | Cost: 0.576598\n",
      "Iteration 2 | Cost: 0.537441\n",
      "Iteration 3 | Cost: 0.523460\n",
      "Iteration 4 | Cost: 0.518768\n",
      "Iteration 5 | Cost: 0.517055\n",
      "Iteration 6 | Cost: 0.516563\n",
      "Iteration 7 | Cost: 0.516589\n",
      "Iteration 8 | Cost: 0.516501\n",
      "Iteration 9 | Cost: 0.516583\n",
      "Iteration 10 | Cost: 0.516508\n",
      "Iteration 11 | Cost: 0.516489\n",
      "Iteration 12 | Cost: 0.516476\n",
      "Iteration 13 | Cost: 0.516475\n",
      "Iteration 14 | Cost: 0.516476\n",
      "Iteration 15 | Cost: 0.516480\n",
      "Iteration 16 | Cost: 0.516493\n",
      "Iteration 17 | Cost: 0.516493\n",
      "Iteration 18 | Cost: 0.516482\n",
      "Iteration 19 | Cost: 0.516475\n",
      "Iteration 20 | Cost: 0.516477\n",
      "Iteration 21 | Cost: 0.516486\n",
      "Iteration 22 | Cost: 0.516478\n",
      "Iteration 23 | Cost: 0.516493\n",
      "Iteration 24 | Cost: 0.516475\n",
      "Iteration 25 | Cost: 0.516505\n",
      "Iteration 26 | Cost: 0.516488\n",
      "Iteration 27 | Cost: 0.516498\n",
      "Iteration 28 | Cost: 0.516481\n",
      "Iteration 29 | Cost: 0.516475\n"
     ]
    }
   ],
   "source": [
    "n_iter = 30\n",
    "eta=0.001\n",
    "\n",
    "lr_sgd = LinearRegressionSGD(eta, n_iter)\n",
    "lr_sgd.train(X_train, y_train);"
   ]
  },
  {
   "cell_type": "code",
   "execution_count": 33,
   "metadata": {
    "ExecuteTime": {
     "end_time": "2017-05-30T22:54:54.259203Z",
     "start_time": "2017-05-30T22:54:54.253934Z"
    }
   },
   "outputs": [
    {
     "name": "stdout",
     "output_type": "stream",
     "text": [
      "Cost\t0.516475\n",
      "w_0\t0.000053\n",
      "w_1\t0.695194\n"
     ]
    }
   ],
   "source": [
    "print('Cost\\t{:.6f}'.format(np.min(lr_sgd.cost_)))\n",
    "[print('w_{:}\\t{:.6f}'.format(i, w)) for i, w in enumerate(lr_sgd.w_)];"
   ]
  },
  {
   "cell_type": "code",
   "execution_count": 34,
   "metadata": {
    "ExecuteTime": {
     "end_time": "2017-05-30T22:54:58.266018Z",
     "start_time": "2017-05-30T22:54:58.104745Z"
    }
   },
   "outputs": [
    {
     "data": {
      "image/png": "[encoded data removed]",
      "text/plain": [
       "<matplotlib.figure.Figure at 0x1199a9a90>"
      ]
     },
     "metadata": {},
     "output_type": "display_data"
    }
   ],
   "source": [
    "plt.plot(range(1, lr_sgd.epochs+1), lr_sgd.cost_)\n",
    "plt.ylabel('RMSE')\n",
    "plt.xlabel('Epoch')\n",
    "plt.tight_layout()\n",
    "# plt.savefig('./figures/cost.png', dpi=300)\n",
    "plt.show()"
   ]
  },
  {
   "cell_type": "markdown",
   "metadata": {},
   "source": [
    "As a check, we run LR through scikit-learn:"
   ]
  },
  {
   "cell_type": "code",
   "execution_count": 39,
   "metadata": {
    "ExecuteTime": {
     "end_time": "2017-05-30T22:56:24.896180Z",
     "start_time": "2017-05-30T22:56:24.887081Z"
    }
   },
   "outputs": [
    {
     "name": "stdout",
     "output_type": "stream",
     "text": [
      "Cost\t 0.516475\n",
      "w_0\t -0.0000000000\n",
      "w_1\t 0.695360\n"
     ]
    }
   ],
   "source": [
    "from sklearn.linear_model import LinearRegression\n",
    "sk_lr = LinearRegression()\n",
    "sk_lr.fit(X_train, y_train)\n",
    "loss = np.mean(np.square(y_train - sk_lr.predict(X_train)))\n",
    "print('Cost\\t {:.6f}'.format(loss))\n",
    "print('w_0\\t {:.10f}'.format(sk_lr.intercept_))\n",
    "print('w_1\\t {:.6f}'.format(sk_lr.coef_[0]))"
   ]
  },
  {
   "cell_type": "code",
   "execution_count": 40,
   "metadata": {
    "ExecuteTime": {
     "end_time": "2017-05-30T22:56:40.429334Z",
     "start_time": "2017-05-30T22:56:40.426641Z"
    },
    "collapsed": true
   },
   "outputs": [],
   "source": [
    "y_hat = lr_gd.predict(X_train)"
   ]
  },
  {
   "cell_type": "code",
   "execution_count": 41,
   "metadata": {
    "ExecuteTime": {
     "end_time": "2017-05-30T22:56:40.787984Z",
     "start_time": "2017-05-30T22:56:40.603008Z"
    }
   },
   "outputs": [
    {
     "data": {
      "image/png": "[encoded data removed]",
      "text/plain": [
       "<matplotlib.figure.Figure at 0x119f6bb38>"
      ]
     },
     "metadata": {},
     "output_type": "display_data"
    }
   ],
   "source": [
    "plt.scatter(X_train, y_train, c='lightblue')\n",
    "plt.plot(X_train, y_hat, color='red', linewidth=2)   \n",
    "# plt.plot(X_train, y_hat_sk, color='blue', linewidth=2)   \n",
    "plt.xlabel('Average number of rooms [RM] (standardized)')\n",
    "plt.ylabel('Price in $1000\\'s [MEDV] (standardized)')\n",
    "plt.tight_layout()\n",
    "plt.show()"
   ]
  },
  {
   "cell_type": "code",
   "execution_count": 42,
   "metadata": {
    "ExecuteTime": {
     "end_time": "2017-05-30T22:56:43.070048Z",
     "start_time": "2017-05-30T22:56:43.067341Z"
    },
    "collapsed": true
   },
   "outputs": [],
   "source": [
    "from sklearn.metrics import r2_score"
   ]
  },
  {
   "cell_type": "code",
   "execution_count": 43,
   "metadata": {
    "ExecuteTime": {
     "end_time": "2017-05-30T22:56:43.231087Z",
     "start_time": "2017-05-30T22:56:43.227020Z"
    }
   },
   "outputs": [
    {
     "data": {
      "text/plain": [
       "0.48352545599133401"
      ]
     },
     "execution_count": 43,
     "metadata": {},
     "output_type": "execute_result"
    }
   ],
   "source": [
    "r2_score(y_train, y_hat)"
   ]
  },
  {
   "cell_type": "markdown",
   "metadata": {},
   "source": [
    "### Tensorflow Version"
   ]
  },
  {
   "cell_type": "code",
   "execution_count": 44,
   "metadata": {
    "ExecuteTime": {
     "end_time": "2017-05-30T22:56:46.272740Z",
     "start_time": "2017-05-30T22:56:46.149577Z"
    },
    "collapsed": true
   },
   "outputs": [],
   "source": [
    "class LinearRegressionTF(object):\n",
    "\n",
    "    def __init__(self, eta=0.01, epochs=50, display_step = 10, batch_size=10):\n",
    "        self.eta = eta\n",
    "        self.epochs = epochs\n",
    "        self.display_step_ = display_step\n",
    "        self.batch_size_ = batch_size\n",
    "        \n",
    "    def get_minibatches(self, X):\n",
    "        return zip(range(0, len(X), self.batch_size_), \n",
    "                                      range(self.batch_size_, \n",
    "                                      len(X)+1, self.batch_size_))\n",
    "        \n",
    "    def train(self, X, y):\n",
    "        n, m = X.shape\n",
    "        self.cost_ = []\n",
    "    \n",
    "        X_ = tf.placeholder(tf.float32)\n",
    "        Y_ = tf.placeholder(tf.float32)\n",
    "        \n",
    "        W_ = tf.Variable(1., tf.float32, name=\"weight\")\n",
    "        \n",
    "        b_ = tf.Variable(0., tf.float32, name=\"bias\")\n",
    "\n",
    "        output = W_ * tf.transpose(X_) + b_\n",
    "        \n",
    "        loss = tf.reduce_mean(tf.square(output - Y_))\n",
    "        optimizer = tf.train.GradientDescentOptimizer(self.eta)\n",
    "        train_step = optimizer.minimize(loss)\n",
    "        \n",
    "        init = tf.global_variables_initializer()\n",
    "        with tf.Session() as sess:\n",
    "            sess.run(init)\n",
    "            \n",
    "            for i in range(self.epochs):\n",
    "                X, y = shuffle(X, y)\n",
    "                \n",
    "                for start, end in self.get_minibatches(X):\n",
    "                    sess.run(train_step, feed_dict={\n",
    "                                                    X_: X[start:end], \n",
    "                                                    Y_: y[start:end]\n",
    "                                                    })\n",
    "                \n",
    "                c = sess.run(loss, feed_dict={X_: X, Y_:y})                \n",
    "                if (i+1) % self.display_step_ == 0:\n",
    "                    print(\"Iteration %d | Cost: %f\" % (i+1, c))\n",
    "\n",
    "                self.cost_.append(c)\n",
    "                # update weights\n",
    "#                 cost_history = np.append(self.cost_,sess.run(cost,feed_dict={X: X_train,Y: y_train}))\n",
    "            \n",
    "            final_W, final_b, final_loss = sess.run([W_, b_, loss], \n",
    "                                                    feed_dict={X_: X, Y_: y})\n",
    "\n",
    "            print(\"Training cost=\", final_loss, \"W=\", final_W, \"b=\", final_b, '\\n')\n",
    "\n",
    "        return self\n",
    "    \n",
    "    def net_input(self, X):\n",
    "        return tf.add(tf.multiply(X, self.W_), self.b_)\n",
    "    \n",
    "    def predict(self, X):\n",
    "        return self.net_input(X)"
   ]
  },
  {
   "cell_type": "code",
   "execution_count": 45,
   "metadata": {
    "ExecuteTime": {
     "end_time": "2017-05-30T22:56:46.981920Z",
     "start_time": "2017-05-30T22:56:46.978827Z"
    },
    "collapsed": true
   },
   "outputs": [],
   "source": [
    "X_train = X_std\n",
    "y_train = y_std"
   ]
  },
  {
   "cell_type": "code",
   "execution_count": 48,
   "metadata": {
    "ExecuteTime": {
     "end_time": "2017-05-30T22:57:18.489482Z",
     "start_time": "2017-05-30T22:57:17.831630Z"
    }
   },
   "outputs": [
    {
     "name": "stdout",
     "output_type": "stream",
     "text": [
      "506 1\n",
      "Iteration 10 | Cost: 0.529150\n",
      "Iteration 20 | Cost: 0.518103\n",
      "Iteration 30 | Cost: 0.516676\n",
      "Training cost= 0.516676 W= 0.709458 b= -0.0015076 \n",
      "\n"
     ]
    }
   ],
   "source": [
    "n_iter = 30\n",
    "eta=0.001\n",
    "n, m = X_train.shape\n",
    "print(n, m)\n",
    "\n",
    "lr_tf = LinearRegressionTF(eta, n_iter, display_step=10, batch_size=10)\n",
    "lr_tf = lr_tf.train(X_train, y_train)"
   ]
  },
  {
   "cell_type": "code",
   "execution_count": 49,
   "metadata": {
    "ExecuteTime": {
     "end_time": "2017-05-30T22:57:22.278117Z",
     "start_time": "2017-05-30T22:57:22.047508Z"
    }
   },
   "outputs": [
    {
     "data": {
      "image/png": "[encoded data removed]",
      "text/plain": [
       "<matplotlib.figure.Figure at 0x11a383f28>"
      ]
     },
     "metadata": {},
     "output_type": "display_data"
    }
   ],
   "source": [
    "plt.plot(range(1, lr_tf.epochs+1), lr_tf.cost_)\n",
    "plt.ylabel('RMSE')\n",
    "plt.xlabel('Epoch')\n",
    "plt.tight_layout()\n",
    "# plt.savefig('./figures/cost.png', dpi=300)\n",
    "plt.show()"
   ]
  },
  {
   "cell_type": "code",
   "execution_count": null,
   "metadata": {
    "collapsed": true
   },
   "outputs": [],
   "source": []
  }
 ],
 "metadata": {
  "kernelspec": {
   "display_name": "Python 3",
   "language": "python",
   "name": "python3"
  },
  "language_info": {
   "codemirror_mode": {
    "name": "ipython",
    "version": 3
   },
   "file_extension": ".py",
   "mimetype": "text/x-python",
   "name": "python",
   "nbconvert_exporter": "python",
   "pygments_lexer": "ipython3",
   "version": "3.6.1"
  }
 },
 "nbformat": 4,
 "nbformat_minor": 2
}
