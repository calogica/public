{
 "cells": [
  {
   "cell_type": "markdown",
   "metadata": {},
   "source": [
    "The following are three different implementations of Linear Regression to demonstrate basic principles such as Gradient Descent, mini-batching in both numpy and Tensorflow.\n",
    "\n",
    "Much credit goes to Sebastian Raschka and Michelle Fullwood for their code, blogposts and presentations."
   ]
  },
  {
   "cell_type": "code",
   "execution_count": 1,
   "metadata": {
    "ExecuteTime": {
     "end_time": "2017-05-30T21:48:45.107722Z",
     "start_time": "2017-05-30T21:48:44.644493Z"
    },
    "collapsed": true
   },
   "outputs": [],
   "source": [
    "import numpy as np\n",
    "import pandas as pd\n",
    "import tensorflow as tf\n",
    "from sklearn.preprocessing import StandardScaler\n",
    "from sklearn.utils import shuffle\n",
    "\n",
    "import matplotlib.pyplot as plt\n",
    "\n",
    "%matplotlib inline"
   ]
  },
  {
   "cell_type": "markdown",
   "metadata": {},
   "source": [
    "### Get Housing Data"
   ]
  },
  {
   "cell_type": "code",
   "execution_count": 2,
   "metadata": {
    "ExecuteTime": {
     "end_time": "2017-05-30T21:48:45.536779Z",
     "start_time": "2017-05-30T21:48:45.109109Z"
    }
   },
   "outputs": [
    {
     "data": {
      "text/html": [
       "<div>\n",
       "<style>\n",
       "    .dataframe thead tr:only-child th {\n",
       "        text-align: right;\n",
       "    }\n",
       "\n",
       "    .dataframe thead th {\n",
       "        text-align: left;\n",
       "    }\n",
       "\n",
       "    .dataframe tbody tr th {\n",
       "        vertical-align: top;\n",
       "    }\n",
       "</style>\n",
       "<table border=\"1\" class=\"dataframe\">\n",
       "  <thead>\n",
       "    <tr style=\"text-align: right;\">\n",
       "      <th></th>\n",
       "      <th>CRIM</th>\n",
       "      <th>ZN</th>\n",
       "      <th>INDUS</th>\n",
       "      <th>CHAS</th>\n",
       "      <th>NOX</th>\n",
       "      <th>RM</th>\n",
       "      <th>AGE</th>\n",
       "      <th>DIS</th>\n",
       "      <th>RAD</th>\n",
       "      <th>TAX</th>\n",
       "      <th>PTRATIO</th>\n",
       "      <th>B</th>\n",
       "      <th>LSTAT</th>\n",
       "      <th>MEDV</th>\n",
       "    </tr>\n",
       "  </thead>\n",
       "  <tbody>\n",
       "    <tr>\n",
       "      <th>0</th>\n",
       "      <td>0.00632</td>\n",
       "      <td>18.0</td>\n",
       "      <td>2.31</td>\n",
       "      <td>0</td>\n",
       "      <td>0.538</td>\n",
       "      <td>6.575</td>\n",
       "      <td>65.2</td>\n",
       "      <td>4.0900</td>\n",
       "      <td>1</td>\n",
       "      <td>296.0</td>\n",
       "      <td>15.3</td>\n",
       "      <td>396.90</td>\n",
       "      <td>4.98</td>\n",
       "      <td>24.0</td>\n",
       "    </tr>\n",
       "    <tr>\n",
       "      <th>1</th>\n",
       "      <td>0.02731</td>\n",
       "      <td>0.0</td>\n",
       "      <td>7.07</td>\n",
       "      <td>0</td>\n",
       "      <td>0.469</td>\n",
       "      <td>6.421</td>\n",
       "      <td>78.9</td>\n",
       "      <td>4.9671</td>\n",
       "      <td>2</td>\n",
       "      <td>242.0</td>\n",
       "      <td>17.8</td>\n",
       "      <td>396.90</td>\n",
       "      <td>9.14</td>\n",
       "      <td>21.6</td>\n",
       "    </tr>\n",
       "    <tr>\n",
       "      <th>2</th>\n",
       "      <td>0.02729</td>\n",
       "      <td>0.0</td>\n",
       "      <td>7.07</td>\n",
       "      <td>0</td>\n",
       "      <td>0.469</td>\n",
       "      <td>7.185</td>\n",
       "      <td>61.1</td>\n",
       "      <td>4.9671</td>\n",
       "      <td>2</td>\n",
       "      <td>242.0</td>\n",
       "      <td>17.8</td>\n",
       "      <td>392.83</td>\n",
       "      <td>4.03</td>\n",
       "      <td>34.7</td>\n",
       "    </tr>\n",
       "    <tr>\n",
       "      <th>3</th>\n",
       "      <td>0.03237</td>\n",
       "      <td>0.0</td>\n",
       "      <td>2.18</td>\n",
       "      <td>0</td>\n",
       "      <td>0.458</td>\n",
       "      <td>6.998</td>\n",
       "      <td>45.8</td>\n",
       "      <td>6.0622</td>\n",
       "      <td>3</td>\n",
       "      <td>222.0</td>\n",
       "      <td>18.7</td>\n",
       "      <td>394.63</td>\n",
       "      <td>2.94</td>\n",
       "      <td>33.4</td>\n",
       "    </tr>\n",
       "    <tr>\n",
       "      <th>4</th>\n",
       "      <td>0.06905</td>\n",
       "      <td>0.0</td>\n",
       "      <td>2.18</td>\n",
       "      <td>0</td>\n",
       "      <td>0.458</td>\n",
       "      <td>7.147</td>\n",
       "      <td>54.2</td>\n",
       "      <td>6.0622</td>\n",
       "      <td>3</td>\n",
       "      <td>222.0</td>\n",
       "      <td>18.7</td>\n",
       "      <td>396.90</td>\n",
       "      <td>5.33</td>\n",
       "      <td>36.2</td>\n",
       "    </tr>\n",
       "  </tbody>\n",
       "</table>\n",
       "</div>"
      ],
      "text/plain": [
       "      CRIM    ZN  INDUS  CHAS    NOX     RM   AGE     DIS  RAD    TAX  \\\n",
       "0  0.00632  18.0   2.31     0  0.538  6.575  65.2  4.0900    1  296.0   \n",
       "1  0.02731   0.0   7.07     0  0.469  6.421  78.9  4.9671    2  242.0   \n",
       "2  0.02729   0.0   7.07     0  0.469  7.185  61.1  4.9671    2  242.0   \n",
       "3  0.03237   0.0   2.18     0  0.458  6.998  45.8  6.0622    3  222.0   \n",
       "4  0.06905   0.0   2.18     0  0.458  7.147  54.2  6.0622    3  222.0   \n",
       "\n",
       "   PTRATIO       B  LSTAT  MEDV  \n",
       "0     15.3  396.90   4.98  24.0  \n",
       "1     17.8  396.90   9.14  21.6  \n",
       "2     17.8  392.83   4.03  34.7  \n",
       "3     18.7  394.63   2.94  33.4  \n",
       "4     18.7  396.90   5.33  36.2  "
      ]
     },
     "execution_count": 2,
     "metadata": {},
     "output_type": "execute_result"
    }
   ],
   "source": [
    "df = pd.read_csv('https://archive.ics.uci.edu/ml/machine-learning-databases/'\n",
    "                 'housing/housing.data',\n",
    "                 header=None,\n",
    "                 sep='\\s+')\n",
    "\n",
    "df.columns = ['CRIM', 'ZN', 'INDUS', 'CHAS', \n",
    "              'NOX', 'RM', 'AGE', 'DIS', 'RAD', \n",
    "              'TAX', 'PTRATIO', 'B', 'LSTAT', 'MEDV']\n",
    "df.head()"
   ]
  },
  {
   "cell_type": "markdown",
   "metadata": {},
   "source": [
    "We only take the number of rooms as our feature and the median value as our target"
   ]
  },
  {
   "cell_type": "code",
   "execution_count": 30,
   "metadata": {
    "ExecuteTime": {
     "end_time": "2017-05-30T21:50:50.905931Z",
     "start_time": "2017-05-30T21:50:50.901828Z"
    },
    "collapsed": true
   },
   "outputs": [],
   "source": [
    "X = df[['RM']].values\n",
    "y = df['MEDV'].values"
   ]
  },
  {
   "cell_type": "code",
   "execution_count": 5,
   "metadata": {
    "ExecuteTime": {
     "end_time": "2017-05-30T21:48:45.712029Z",
     "start_time": "2017-05-30T21:48:45.547919Z"
    }
   },
   "outputs": [
    {
     "data": {
      "text/plain": [
       "<matplotlib.collections.PathCollection at 0x10d126668>"
      ]
     },
     "execution_count": 5,
     "metadata": {},
     "output_type": "execute_result"
    },
    {
     "data": {
      "image/png": "[encoded data removed]",
      "text/plain": [
       "<matplotlib.figure.Figure at 0x1091c0128>"
      ]
     },
     "metadata": {},
     "output_type": "display_data"
    }
   ],
   "source": [
    "plt.scatter(X, y)"
   ]
  },
  {
   "cell_type": "markdown",
   "metadata": {},
   "source": [
    "We scale the feature and target which helps with conversion etc."
   ]
  },
  {
   "cell_type": "code",
   "execution_count": 6,
   "metadata": {
    "ExecuteTime": {
     "end_time": "2017-05-30T21:48:46.091806Z",
     "start_time": "2017-05-30T21:48:45.713493Z"
    }
   },
   "outputs": [
    {
     "data": {
      "text/plain": [
       "<matplotlib.collections.PathCollection at 0x11200ecc0>"
      ]
     },
     "execution_count": 6,
     "metadata": {},
     "output_type": "execute_result"
    },
    {
     "data": {
      "image/png": "[encoded data removed]",
      "text/plain": [
       "<matplotlib.figure.Figure at 0x10d0ec470>"
      ]
     },
     "metadata": {},
     "output_type": "display_data"
    }
   ],
   "source": [
    "\n",
    "sc_x = StandardScaler()\n",
    "sc_y = StandardScaler()\n",
    "X_std = sc_x.fit_transform(X)\n",
    "y_std = sc_y.fit_transform(y[:, np.newaxis]).flatten()\n",
    "plt.scatter(X_std, y_std)"
   ]
  },
  {
   "cell_type": "markdown",
   "metadata": {},
   "source": [
    "### Numpy version"
   ]
  },
  {
   "cell_type": "markdown",
   "metadata": {},
   "source": [
    "First we implement LR with Gradient Descent (GD) in numpy"
   ]
  },
  {
   "cell_type": "code",
   "execution_count": 31,
   "metadata": {
    "ExecuteTime": {
     "end_time": "2017-05-30T21:56:45.078200Z",
     "start_time": "2017-05-30T21:56:45.034410Z"
    },
    "collapsed": true
   },
   "outputs": [],
   "source": [
    "class LinearRegressionGD(object):\n",
    "\n",
    "    def __init__(self, eta=0.01, epochs=50):\n",
    "        self.eta = eta\n",
    "        self.epochs = epochs\n",
    "        \n",
    "    def train(self, X, y):\n",
    "\n",
    "        n, m = X.shape \n",
    "        \n",
    "        # add bias unit\n",
    "        b = np.ones(n)\n",
    "        self.w_ = np.zeros(1 + m)\n",
    "        self.cost_ = []\n",
    "\n",
    "        for i in range(self.epochs):\n",
    "\n",
    "            output = self.net_input(X)\n",
    "            \n",
    "            loss = (y - output)\n",
    "            cost = np.mean(np.square(loss)) #/ (2.0)\n",
    "            \n",
    "            print(\"Iteration %d | Cost: %f\" % (i, cost))\n",
    "            # update weights\n",
    "            self.w_[1:] += self.eta * np.dot(X.T, loss)\n",
    "            self.w_[0] += self.eta * np.dot(b.T, loss)\n",
    "            \n",
    "            self.cost_.append(cost)\n",
    "\n",
    "        return self\n",
    "    \n",
    "    def net_input(self, X):\n",
    "        return np.dot(X, self.w_[1:]) + self.w_[0]\n",
    "    \n",
    "    def predict(self, X):\n",
    "        return self.net_input(X)"
   ]
  },
  {
   "cell_type": "markdown",
   "metadata": {},
   "source": [
    "Then we implement the same using Stochastic Gradient Descent (SGD) in numpy:"
   ]
  },
  {
   "cell_type": "code",
   "execution_count": 32,
   "metadata": {
    "ExecuteTime": {
     "end_time": "2017-05-30T21:56:46.183524Z",
     "start_time": "2017-05-30T21:56:46.128886Z"
    },
    "collapsed": true
   },
   "outputs": [],
   "source": [
    "class LinearRegressionSGD(object):\n",
    "\n",
    "    def __init__(self, eta=0.01, epochs=50):\n",
    "        self.eta = eta\n",
    "        self.epochs = epochs\n",
    "        \n",
    "    def train(self, X, y, reinitialize_weights=True):\n",
    "\n",
    "        n, m = X.shape\n",
    "        \n",
    "        if reinitialize_weights:\n",
    "            self.w_ = np.zeros(1 + m)\n",
    "\n",
    "        self.cost_ = []\n",
    "\n",
    "        for i in range(self.epochs):\n",
    "            X, y = shuffle(X, y)\n",
    "\n",
    "            for xi, target in zip(X, y):\n",
    "\n",
    "                output = self.net_input(xi)\n",
    "                loss = (target - output)\n",
    "                upd = self.eta * xi.dot(loss)\n",
    "                self.w_[1:] += upd\n",
    "                self.w_[0] += self.eta * loss\n",
    "            \n",
    "            cost = np.mean(np.square(y - self.activation(X)))\n",
    "            print(\"Iteration %d | Cost: %f\" % (i, cost))\n",
    "            self.cost_.append(cost)\n",
    "\n",
    "        return self\n",
    "    \n",
    "    def net_input(self, X):\n",
    "        return np.dot(X, self.w_[1:]) + self.w_[0]\n",
    "    \n",
    "    def activation(self, X):\n",
    "        return self.net_input(X)\n",
    "\n",
    "    def predict(self, X):\n",
    "        return self.net_input(X)"
   ]
  },
  {
   "cell_type": "code",
   "execution_count": 33,
   "metadata": {
    "ExecuteTime": {
     "end_time": "2017-05-30T21:56:47.775083Z",
     "start_time": "2017-05-30T21:56:47.761506Z"
    }
   },
   "outputs": [
    {
     "name": "stdout",
     "output_type": "stream",
     "text": [
      "Iteration 0 | Cost: 1.000000\n",
      "Iteration 1 | Cost: 0.634472\n",
      "Iteration 2 | Cost: 0.545270\n",
      "Iteration 3 | Cost: 0.523502\n",
      "Iteration 4 | Cost: 0.518189\n",
      "Iteration 5 | Cost: 0.516893\n",
      "Iteration 6 | Cost: 0.516577\n",
      "Iteration 7 | Cost: 0.516499\n",
      "Iteration 8 | Cost: 0.516481\n",
      "Iteration 9 | Cost: 0.516476\n",
      "Iteration 10 | Cost: 0.516475\n",
      "Iteration 11 | Cost: 0.516475\n",
      "Iteration 12 | Cost: 0.516475\n",
      "Iteration 13 | Cost: 0.516475\n",
      "Iteration 14 | Cost: 0.516475\n",
      "Iteration 15 | Cost: 0.516475\n",
      "Iteration 16 | Cost: 0.516475\n",
      "Iteration 17 | Cost: 0.516475\n",
      "Iteration 18 | Cost: 0.516475\n",
      "Iteration 19 | Cost: 0.516475\n",
      "Iteration 20 | Cost: 0.516475\n",
      "Iteration 21 | Cost: 0.516475\n",
      "Iteration 22 | Cost: 0.516475\n",
      "Iteration 23 | Cost: 0.516475\n",
      "Iteration 24 | Cost: 0.516475\n",
      "Iteration 25 | Cost: 0.516475\n",
      "Iteration 26 | Cost: 0.516475\n",
      "Iteration 27 | Cost: 0.516475\n",
      "Iteration 28 | Cost: 0.516475\n",
      "Iteration 29 | Cost: 0.516475\n"
     ]
    },
    {
     "data": {
      "text/plain": [
       "['-0.000000', '0.695360']"
      ]
     },
     "execution_count": 33,
     "metadata": {},
     "output_type": "execute_result"
    }
   ],
   "source": [
    "X_train = X_std\n",
    "y_train = y_std\n",
    "n_iter = 30\n",
    "eta=0.001\n",
    "lr_gd = LinearRegressionGD(eta, n_iter)\n",
    "lr_gd.train(X_train, y_train)\n",
    "['{:.6f}'.format(w) for w in lr_gd.w_]"
   ]
  },
  {
   "cell_type": "code",
   "execution_count": 9,
   "metadata": {
    "ExecuteTime": {
     "end_time": "2017-05-30T21:48:46.445100Z",
     "start_time": "2017-05-30T21:48:46.292363Z"
    }
   },
   "outputs": [
    {
     "data": {
      "image/png": "[encoded data removed]",
      "text/plain": [
       "<matplotlib.figure.Figure at 0x112052dd8>"
      ]
     },
     "metadata": {},
     "output_type": "display_data"
    }
   ],
   "source": [
    "plt.plot(range(1, lr_gd.epochs+1), lr_gd.cost_)\n",
    "plt.ylabel('MSE')\n",
    "plt.xlabel('Epoch')\n",
    "plt.tight_layout()\n",
    "# plt.savefig('./figures/cost.png', dpi=300)\n",
    "plt.show()"
   ]
  },
  {
   "cell_type": "code",
   "execution_count": 34,
   "metadata": {
    "ExecuteTime": {
     "end_time": "2017-05-30T21:57:02.411516Z",
     "start_time": "2017-05-30T21:57:02.298258Z"
    }
   },
   "outputs": [
    {
     "name": "stdout",
     "output_type": "stream",
     "text": [
      "Iteration 0 | Cost: 0.689801\n",
      "Iteration 1 | Cost: 0.578081\n",
      "Iteration 2 | Cost: 0.539371\n",
      "Iteration 3 | Cost: 0.525180\n",
      "Iteration 4 | Cost: 0.519919\n",
      "Iteration 5 | Cost: 0.517747\n",
      "Iteration 6 | Cost: 0.517025\n",
      "Iteration 7 | Cost: 0.516705\n",
      "Iteration 8 | Cost: 0.516576\n",
      "Iteration 9 | Cost: 0.516482\n",
      "Iteration 10 | Cost: 0.516484\n",
      "Iteration 11 | Cost: 0.516475\n",
      "Iteration 12 | Cost: 0.516486\n",
      "Iteration 13 | Cost: 0.516509\n",
      "Iteration 14 | Cost: 0.516492\n",
      "Iteration 15 | Cost: 0.516485\n",
      "Iteration 16 | Cost: 0.516479\n",
      "Iteration 17 | Cost: 0.516516\n",
      "Iteration 18 | Cost: 0.516479\n",
      "Iteration 19 | Cost: 0.516488\n",
      "Iteration 20 | Cost: 0.516519\n",
      "Iteration 21 | Cost: 0.516485\n",
      "Iteration 22 | Cost: 0.516485\n",
      "Iteration 23 | Cost: 0.516570\n",
      "Iteration 24 | Cost: 0.516601\n",
      "Iteration 25 | Cost: 0.516521\n",
      "Iteration 26 | Cost: 0.516498\n",
      "Iteration 27 | Cost: 0.516517\n",
      "Iteration 28 | Cost: 0.516520\n",
      "Iteration 29 | Cost: 0.516515\n"
     ]
    },
    {
     "data": {
      "text/plain": [
       "['-0.001902', '0.701462']"
      ]
     },
     "execution_count": 34,
     "metadata": {},
     "output_type": "execute_result"
    }
   ],
   "source": [
    "n_iter = 30\n",
    "eta=0.001\n",
    "\n",
    "lr_sgd = LinearRegressionSGD(eta, n_iter)\n",
    "lr_sgd.train(X_train, y_train)\n",
    "['{:.6f}'.format(w) for w in lr_sgd.w_]"
   ]
  },
  {
   "cell_type": "code",
   "execution_count": 35,
   "metadata": {
    "ExecuteTime": {
     "end_time": "2017-05-30T21:57:05.668502Z",
     "start_time": "2017-05-30T21:57:05.512904Z"
    }
   },
   "outputs": [
    {
     "data": {
      "image/png": "[encoded data removed]",
      "text/plain": [
       "<matplotlib.figure.Figure at 0x11a098a58>"
      ]
     },
     "metadata": {},
     "output_type": "display_data"
    }
   ],
   "source": [
    "plt.plot(range(1, lr_sgd.epochs+1), lr_sgd.cost_)\n",
    "plt.ylabel('RMSE')\n",
    "plt.xlabel('Epoch')\n",
    "plt.tight_layout()\n",
    "# plt.savefig('./figures/cost.png', dpi=300)\n",
    "plt.show()"
   ]
  },
  {
   "cell_type": "code",
   "execution_count": 38,
   "metadata": {
    "ExecuteTime": {
     "end_time": "2017-05-30T21:58:51.305203Z",
     "start_time": "2017-05-30T21:58:51.296878Z"
    }
   },
   "outputs": [
    {
     "data": {
      "text/plain": [
       "('b: -0.0000000000', 'w: 0.695360', 'loss: 0.516475')"
      ]
     },
     "execution_count": 38,
     "metadata": {},
     "output_type": "execute_result"
    }
   ],
   "source": [
    "from sklearn.linear_model import LinearRegression\n",
    "sk_lr = LinearRegression()\n",
    "sk_lr.fit(X_train, y_train)\n",
    "loss = np.mean(np.square(y_train - sk_lr.predict(X_train)))\n",
    "'b: {:.10f}'.format(sk_lr.intercept_), 'w: {:.6f}'.format(sk_lr.coef_[0]), 'loss: {:.6f}'.format(loss)"
   ]
  },
  {
   "cell_type": "code",
   "execution_count": 39,
   "metadata": {
    "ExecuteTime": {
     "end_time": "2017-05-30T21:59:02.434809Z",
     "start_time": "2017-05-30T21:59:02.431726Z"
    },
    "collapsed": true
   },
   "outputs": [],
   "source": [
    "y_hat = lr_gd.predict(X_train)"
   ]
  },
  {
   "cell_type": "code",
   "execution_count": 40,
   "metadata": {
    "ExecuteTime": {
     "end_time": "2017-05-30T21:59:03.089124Z",
     "start_time": "2017-05-30T21:59:02.847606Z"
    }
   },
   "outputs": [
    {
     "data": {
      "image/png": "[encoded data removed]",
      "text/plain": [
       "<matplotlib.figure.Figure at 0x11a5f59b0>"
      ]
     },
     "metadata": {},
     "output_type": "display_data"
    }
   ],
   "source": [
    "plt.scatter(X_train, y_train, c='lightblue')\n",
    "plt.plot(X_train, y_hat, color='red', linewidth=2)   \n",
    "# plt.plot(X_train, y_hat_sk, color='blue', linewidth=2)   \n",
    "plt.xlabel('Average number of rooms [RM] (standardized)')\n",
    "plt.ylabel('Price in $1000\\'s [MEDV] (standardized)')\n",
    "plt.tight_layout()\n",
    "plt.show()"
   ]
  },
  {
   "cell_type": "code",
   "execution_count": 41,
   "metadata": {
    "ExecuteTime": {
     "end_time": "2017-05-30T21:59:11.761492Z",
     "start_time": "2017-05-30T21:59:11.758820Z"
    },
    "collapsed": true
   },
   "outputs": [],
   "source": [
    "from sklearn.metrics import r2_score"
   ]
  },
  {
   "cell_type": "code",
   "execution_count": 42,
   "metadata": {
    "ExecuteTime": {
     "end_time": "2017-05-30T21:59:13.364224Z",
     "start_time": "2017-05-30T21:59:13.359703Z"
    }
   },
   "outputs": [
    {
     "data": {
      "text/plain": [
       "0.48352545599133401"
      ]
     },
     "execution_count": 42,
     "metadata": {},
     "output_type": "execute_result"
    }
   ],
   "source": [
    "r2_score(y_train, y_hat)"
   ]
  },
  {
   "cell_type": "markdown",
   "metadata": {},
   "source": [
    "### Tensorflow Version"
   ]
  },
  {
   "cell_type": "code",
   "execution_count": 44,
   "metadata": {
    "ExecuteTime": {
     "end_time": "2017-05-30T21:59:21.929958Z",
     "start_time": "2017-05-30T21:59:21.805250Z"
    },
    "collapsed": true
   },
   "outputs": [],
   "source": [
    "class LinearRegressionTF(object):\n",
    "\n",
    "    def __init__(self, eta=0.01, epochs=50, display_step = 10, batch_size=10):\n",
    "        self.eta = eta\n",
    "        self.epochs = epochs\n",
    "        self.display_step_ = display_step\n",
    "        self.batch_size_ = batch_size\n",
    "        \n",
    "    def get_minibatches(self, X):\n",
    "        return zip(range(0, len(X), self.batch_size_), \n",
    "                                      range(self.batch_size_, \n",
    "                                      len(X)+1, self.batch_size_))\n",
    "        \n",
    "    def train(self, X, y):\n",
    "        n, m = X.shape\n",
    "        self.cost_ = []\n",
    "    \n",
    "        X_ = tf.placeholder(tf.float32)\n",
    "        Y_ = tf.placeholder(tf.float32)\n",
    "        \n",
    "        W_ = tf.Variable(1., tf.float32, name=\"weight\")\n",
    "        \n",
    "        b_ = tf.Variable(0., tf.float32, name=\"bias\")\n",
    "\n",
    "        output = W_ * tf.transpose(X_) + b_\n",
    "        \n",
    "        loss = tf.reduce_mean(tf.square(output - Y_))\n",
    "        optimizer = tf.train.GradientDescentOptimizer(self.eta)\n",
    "        train_step = optimizer.minimize(loss)\n",
    "        \n",
    "        init = tf.global_variables_initializer()\n",
    "        with tf.Session() as sess:\n",
    "            sess.run(init)\n",
    "            \n",
    "            for i in range(self.epochs):\n",
    "                X, y = shuffle(X, y)\n",
    "                \n",
    "                for start, end in self.get_minibatches(X):\n",
    "                    sess.run(train_step, feed_dict={\n",
    "                                                    X_: X[start:end], \n",
    "                                                    Y_: y[start:end]\n",
    "                                                    })\n",
    "                \n",
    "                c = sess.run(loss, feed_dict={X_: X, Y_:y})                \n",
    "                if (i+1) % self.display_step_ == 0:\n",
    "                    print(\"Iteration %d | Cost: %f\" % (i+1, c))\n",
    "\n",
    "                self.cost_.append(c)\n",
    "                # update weights\n",
    "#                 cost_history = np.append(self.cost_,sess.run(cost,feed_dict={X: X_train,Y: y_train}))\n",
    "            \n",
    "            final_W, final_b, final_loss = sess.run([W_, b_, loss], \n",
    "                                                    feed_dict={X_: X, Y_: y})\n",
    "\n",
    "            print(\"Training cost=\", final_loss, \"W=\", final_W, \"b=\", final_b, '\\n')\n",
    "\n",
    "        return self\n",
    "    \n",
    "    def net_input(self, X):\n",
    "        return tf.add(tf.multiply(X, self.W_), self.b_)\n",
    "    \n",
    "    def predict(self, X):\n",
    "        return self.net_input(X)"
   ]
  },
  {
   "cell_type": "code",
   "execution_count": 45,
   "metadata": {
    "ExecuteTime": {
     "end_time": "2017-05-30T21:59:23.688769Z",
     "start_time": "2017-05-30T21:59:23.685996Z"
    },
    "collapsed": true
   },
   "outputs": [],
   "source": [
    "X_train = X_std\n",
    "y_train = y_std"
   ]
  },
  {
   "cell_type": "code",
   "execution_count": 46,
   "metadata": {
    "ExecuteTime": {
     "end_time": "2017-05-30T21:59:29.696165Z",
     "start_time": "2017-05-30T21:59:24.477287Z"
    }
   },
   "outputs": [
    {
     "name": "stdout",
     "output_type": "stream",
     "text": [
      "506 1\n",
      "Iteration 50 | Cost: 0.516475\n",
      "Iteration 100 | Cost: 0.516476\n",
      "Iteration 150 | Cost: 0.516475\n",
      "Iteration 200 | Cost: 0.516475\n",
      "Iteration 250 | Cost: 0.516479\n",
      "Iteration 300 | Cost: 0.516475\n",
      "Training cost= 0.516475 W= 0.694945 b= 0.000277529 \n",
      "\n"
     ]
    }
   ],
   "source": [
    "n_iter = 300\n",
    "eta=0.001\n",
    "n, m = X_train.shape\n",
    "print(n, m)\n",
    "\n",
    "lr_tf = LinearRegressionTF(eta, n_iter, display_step=50, batch_size=10)\n",
    "lr_tf = lr_tf.train(X_train, y_train)"
   ]
  },
  {
   "cell_type": "code",
   "execution_count": 29,
   "metadata": {
    "ExecuteTime": {
     "end_time": "2017-05-30T21:50:08.563030Z",
     "start_time": "2017-05-30T21:50:08.399787Z"
    }
   },
   "outputs": [
    {
     "data": {
      "image/png": "[encoded data removed]",
      "text/plain": [
       "<matplotlib.figure.Figure at 0x11a3f7a58>"
      ]
     },
     "metadata": {},
     "output_type": "display_data"
    }
   ],
   "source": [
    "plt.plot(range(1, lr_tf.epochs+1), lr_tf.cost_)\n",
    "plt.ylabel('RMSE')\n",
    "plt.xlabel('Epoch')\n",
    "plt.tight_layout()\n",
    "# plt.savefig('./figures/cost.png', dpi=300)\n",
    "plt.show()"
   ]
  },
  {
   "cell_type": "code",
   "execution_count": null,
   "metadata": {
    "collapsed": true
   },
   "outputs": [],
   "source": []
  }
 ],
 "metadata": {
  "kernelspec": {
   "display_name": "Python 3",
   "language": "python",
   "name": "python3"
  },
  "language_info": {
   "codemirror_mode": {
    "name": "ipython",
    "version": 3
   },
   "file_extension": ".py",
   "mimetype": "text/x-python",
   "name": "python",
   "nbconvert_exporter": "python",
   "pygments_lexer": "ipython3",
   "version": "3.6.1"
  }
 },
 "nbformat": 4,
 "nbformat_minor": 2
}
