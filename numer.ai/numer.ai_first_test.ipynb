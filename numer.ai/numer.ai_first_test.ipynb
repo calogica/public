{
 "cells": [
  {
   "cell_type": "code",
   "execution_count": 1,
   "metadata": {
    "collapsed": false
   },
   "outputs": [
    {
     "name": "stderr",
     "output_type": "stream",
     "text": [
      "/Users/claus/anaconda/lib/python2.7/site-packages/matplotlib/__init__.py:872: UserWarning: axes.color_cycle is deprecated and replaced with axes.prop_cycle; please use the latter.\n",
      "  warnings.warn(self.msg_depr % (key, alt_key))\n"
     ]
    }
   ],
   "source": [
    "import pandas as pd\n",
    "import numpy as np\n",
    "import datetime as dt\n",
    "import matplotlib.pyplot as plt\n",
    "import seaborn as sns\n",
    "import datetime\n",
    "\n",
    "pd.options.mode.chained_assignment = None\n",
    "\n",
    "sns.set(color_codes=True)\n",
    "\n",
    "%matplotlib inline"
   ]
  },
  {
   "cell_type": "code",
   "execution_count": 3,
   "metadata": {
    "collapsed": false
   },
   "outputs": [],
   "source": [
    "f = 'numerai_datasets/numerai_training_data.csv'\n",
    "d = pd.read_csv(f)"
   ]
  },
  {
   "cell_type": "code",
   "execution_count": 27,
   "metadata": {
    "collapsed": false
   },
   "outputs": [
    {
     "data": {
      "text/html": [
       "<div>\n",
       "<table border=\"1\" class=\"dataframe\">\n",
       "  <thead>\n",
       "    <tr style=\"text-align: right;\">\n",
       "      <th></th>\n",
       "      <th>f1</th>\n",
       "      <th>f2</th>\n",
       "      <th>f3</th>\n",
       "      <th>f4</th>\n",
       "      <th>f5</th>\n",
       "      <th>f6</th>\n",
       "      <th>f7</th>\n",
       "      <th>f8</th>\n",
       "      <th>f9</th>\n",
       "      <th>f10</th>\n",
       "      <th>...</th>\n",
       "      <th>c1_22</th>\n",
       "      <th>c1_23</th>\n",
       "      <th>c1_24</th>\n",
       "      <th>c1_3</th>\n",
       "      <th>c1_4</th>\n",
       "      <th>c1_5</th>\n",
       "      <th>c1_6</th>\n",
       "      <th>c1_7</th>\n",
       "      <th>c1_8</th>\n",
       "      <th>c1_9</th>\n",
       "    </tr>\n",
       "  </thead>\n",
       "  <tbody>\n",
       "    <tr>\n",
       "      <th>0</th>\n",
       "      <td>134182390</td>\n",
       "      <td>97300587</td>\n",
       "      <td>135824563</td>\n",
       "      <td>90767607</td>\n",
       "      <td>87687197</td>\n",
       "      <td>65148427</td>\n",
       "      <td>109834029</td>\n",
       "      <td>131613166</td>\n",
       "      <td>135533479</td>\n",
       "      <td>92106582</td>\n",
       "      <td>...</td>\n",
       "      <td>0</td>\n",
       "      <td>1</td>\n",
       "      <td>0</td>\n",
       "      <td>0</td>\n",
       "      <td>0</td>\n",
       "      <td>0</td>\n",
       "      <td>0</td>\n",
       "      <td>0</td>\n",
       "      <td>0</td>\n",
       "      <td>0</td>\n",
       "    </tr>\n",
       "    <tr>\n",
       "      <th>1</th>\n",
       "      <td>76630357</td>\n",
       "      <td>132348601</td>\n",
       "      <td>78121737</td>\n",
       "      <td>102794263</td>\n",
       "      <td>120848626</td>\n",
       "      <td>128752983</td>\n",
       "      <td>71827456</td>\n",
       "      <td>95945691</td>\n",
       "      <td>98115812</td>\n",
       "      <td>135285479</td>\n",
       "      <td>...</td>\n",
       "      <td>0</td>\n",
       "      <td>0</td>\n",
       "      <td>0</td>\n",
       "      <td>1</td>\n",
       "      <td>0</td>\n",
       "      <td>0</td>\n",
       "      <td>0</td>\n",
       "      <td>0</td>\n",
       "      <td>0</td>\n",
       "      <td>0</td>\n",
       "    </tr>\n",
       "    <tr>\n",
       "      <th>2</th>\n",
       "      <td>111610401</td>\n",
       "      <td>132186734</td>\n",
       "      <td>83887688</td>\n",
       "      <td>120772423</td>\n",
       "      <td>133722193</td>\n",
       "      <td>100560251</td>\n",
       "      <td>69916843</td>\n",
       "      <td>100459177</td>\n",
       "      <td>80742177</td>\n",
       "      <td>134884316</td>\n",
       "      <td>...</td>\n",
       "      <td>0</td>\n",
       "      <td>0</td>\n",
       "      <td>0</td>\n",
       "      <td>0</td>\n",
       "      <td>0</td>\n",
       "      <td>0</td>\n",
       "      <td>0</td>\n",
       "      <td>0</td>\n",
       "      <td>0</td>\n",
       "      <td>0</td>\n",
       "    </tr>\n",
       "    <tr>\n",
       "      <th>3</th>\n",
       "      <td>72896251</td>\n",
       "      <td>113365043</td>\n",
       "      <td>72912608</td>\n",
       "      <td>126007508</td>\n",
       "      <td>127949612</td>\n",
       "      <td>74975809</td>\n",
       "      <td>87833921</td>\n",
       "      <td>68438705</td>\n",
       "      <td>76021871</td>\n",
       "      <td>116126096</td>\n",
       "      <td>...</td>\n",
       "      <td>0</td>\n",
       "      <td>0</td>\n",
       "      <td>0</td>\n",
       "      <td>1</td>\n",
       "      <td>0</td>\n",
       "      <td>0</td>\n",
       "      <td>0</td>\n",
       "      <td>0</td>\n",
       "      <td>0</td>\n",
       "      <td>0</td>\n",
       "    </tr>\n",
       "    <tr>\n",
       "      <th>4</th>\n",
       "      <td>113253706</td>\n",
       "      <td>96665624</td>\n",
       "      <td>89391907</td>\n",
       "      <td>77862818</td>\n",
       "      <td>91855586</td>\n",
       "      <td>100094204</td>\n",
       "      <td>116150057</td>\n",
       "      <td>114434231</td>\n",
       "      <td>98567673</td>\n",
       "      <td>86510339</td>\n",
       "      <td>...</td>\n",
       "      <td>0</td>\n",
       "      <td>0</td>\n",
       "      <td>0</td>\n",
       "      <td>0</td>\n",
       "      <td>0</td>\n",
       "      <td>1</td>\n",
       "      <td>0</td>\n",
       "      <td>0</td>\n",
       "      <td>0</td>\n",
       "      <td>0</td>\n",
       "    </tr>\n",
       "  </tbody>\n",
       "</table>\n",
       "<p>5 rows × 40 columns</p>\n",
       "</div>"
      ],
      "text/plain": [
       "          f1         f2         f3         f4         f5         f6  \\\n",
       "0  134182390   97300587  135824563   90767607   87687197   65148427   \n",
       "1   76630357  132348601   78121737  102794263  120848626  128752983   \n",
       "2  111610401  132186734   83887688  120772423  133722193  100560251   \n",
       "3   72896251  113365043   72912608  126007508  127949612   74975809   \n",
       "4  113253706   96665624   89391907   77862818   91855586  100094204   \n",
       "\n",
       "          f7         f8         f9        f10  ...   c1_22  c1_23  c1_24  \\\n",
       "0  109834029  131613166  135533479   92106582  ...       0      1      0   \n",
       "1   71827456   95945691   98115812  135285479  ...       0      0      0   \n",
       "2   69916843  100459177   80742177  134884316  ...       0      0      0   \n",
       "3   87833921   68438705   76021871  116126096  ...       0      0      0   \n",
       "4  116150057  114434231   98567673   86510339  ...       0      0      0   \n",
       "\n",
       "   c1_3 c1_4  c1_5  c1_6  c1_7  c1_8  c1_9  \n",
       "0     0    0     0     0     0     0     0  \n",
       "1     1    0     0     0     0     0     0  \n",
       "2     0    0     0     0     0     0     0  \n",
       "3     1    0     0     0     0     0     0  \n",
       "4     0    0     1     0     0     0     0  \n",
       "\n",
       "[5 rows x 40 columns]"
      ]
     },
     "execution_count": 27,
     "metadata": {},
     "output_type": "execute_result"
    }
   ],
   "source": [
    "d.head()"
   ]
  },
  {
   "cell_type": "code",
   "execution_count": 26,
   "metadata": {
    "collapsed": false
   },
   "outputs": [],
   "source": [
    "c_cols = pd.get_dummies(d.c1)\n",
    "d = d.join(c_cols)"
   ]
  },
  {
   "cell_type": "code",
   "execution_count": 28,
   "metadata": {
    "collapsed": false
   },
   "outputs": [
    {
     "data": {
      "image/png": "[encoded data removed]",
      "text/plain": [
       "<matplotlib.figure.Figure at 0x13eb53650>"
      ]
     },
     "metadata": {},
     "output_type": "display_data"
    }
   ],
   "source": [
    "# g = sns.pairplot(d.iloc[:,:5])\n",
    "g = sns.pairplot(d[['c1_1', 'target']])"
   ]
  },
  {
   "cell_type": "code",
   "execution_count": 30,
   "metadata": {
    "collapsed": false
   },
   "outputs": [],
   "source": [
    "validation = d[d.validation == 1]"
   ]
  },
  {
   "cell_type": "code",
   "execution_count": 31,
   "metadata": {
    "collapsed": false
   },
   "outputs": [
    {
     "data": {
      "text/plain": [
       "14019"
      ]
     },
     "execution_count": 31,
     "metadata": {},
     "output_type": "execute_result"
    }
   ],
   "source": [
    "len(validation)"
   ]
  },
  {
   "cell_type": "code",
   "execution_count": 32,
   "metadata": {
    "collapsed": true
   },
   "outputs": [],
   "source": [
    "train = d[d.validation == 0]"
   ]
  },
  {
   "cell_type": "code",
   "execution_count": 33,
   "metadata": {
    "collapsed": false
   },
   "outputs": [
    {
     "data": {
      "text/plain": [
       "41019"
      ]
     },
     "execution_count": 33,
     "metadata": {},
     "output_type": "execute_result"
    }
   ],
   "source": [
    "len(train)"
   ]
  },
  {
   "cell_type": "code",
   "execution_count": 76,
   "metadata": {
    "collapsed": false
   },
   "outputs": [],
   "source": [
    "cols = list(train.columns.get_values())\n",
    "features = [x for x in cols if x not in ['c1', 'validation', 'target']]"
   ]
  },
  {
   "cell_type": "code",
   "execution_count": 82,
   "metadata": {
    "collapsed": false
   },
   "outputs": [],
   "source": [
    "X = train[features]\n",
    "y = train['target']"
   ]
  },
  {
   "cell_type": "code",
   "execution_count": 85,
   "metadata": {
    "collapsed": false
   },
   "outputs": [],
   "source": [
    "from sklearn.preprocessing import StandardScaler\n",
    "\n",
    "stdsc = StandardScaler()\n",
    "\n",
    "X = pd.DataFrame(stdsc.fit_transform(X), columns=features)"
   ]
  },
  {
   "cell_type": "code",
   "execution_count": 86,
   "metadata": {
    "collapsed": false
   },
   "outputs": [
    {
     "name": "stdout",
     "output_type": "stream",
     "text": [
      "(41019, 37)\n",
      "(41019,)\n"
     ]
    }
   ],
   "source": [
    "print X.shape\n",
    "print y.shape"
   ]
  },
  {
   "cell_type": "code",
   "execution_count": 87,
   "metadata": {
    "collapsed": true
   },
   "outputs": [],
   "source": [
    "from sklearn.cross_validation import cross_val_score\n",
    "from sklearn.metrics import roc_curve, auc\n",
    "from sklearn import metrics\n",
    "\n",
    "#models\n",
    "from sklearn.linear_model import LogisticRegression\n",
    "from sklearn.linear_model import LogisticRegressionCV\n"
   ]
  },
  {
   "cell_type": "code",
   "execution_count": 88,
   "metadata": {
    "collapsed": false
   },
   "outputs": [
    {
     "name": "stdout",
     "output_type": "stream",
     "text": [
      "C:  10\n",
      "Accuracy of model:\t0.526122041005\n",
      "MSE\t0.473877958995\n",
      "RMSE\t0.688387942221\n",
      "\n",
      "\n",
      "-----------------------------------------\n",
      "Scores:\n",
      "-----------------------------------------\n",
      "Train\t0.526122041005\n"
     ]
    },
    {
     "name": "stderr",
     "output_type": "stream",
     "text": [
      "/Users/claus/anaconda/lib/python2.7/site-packages/sklearn/utils/class_weight.py:62: DeprecationWarning: The class_weight='auto' heuristic is deprecated in 0.17 in favor of a new heuristic class_weight='balanced'. 'auto' will be removed in 0.19\n",
      "  \" 0.19\", DeprecationWarning)\n"
     ]
    }
   ],
   "source": [
    "model = LogisticRegressionCV(penalty='l2', class_weight='auto')\n",
    "\n",
    "#fit on training data\n",
    "fit = model.fit(X, y)\n",
    "\n",
    "print 'C: ', model.Cs\n",
    "\n",
    "# predict on test data\n",
    "y_pred = model.predict(X)\n",
    "accuracy = metrics.accuracy_score(y, y_pred)\n",
    "print \"Accuracy of model:\\t\", accuracy\n",
    "print 'MSE\\t', metrics.mean_squared_error(y, y_pred)\n",
    "print 'RMSE\\t', np.sqrt(metrics.mean_squared_error(y, y_pred))\n",
    "\n",
    "score_train = model.score(X, y)\n",
    "\n",
    "print '\\n'\n",
    "print '-----------------------------------------'\n",
    "print 'Scores:'\n",
    "print '-----------------------------------------'\n",
    "print 'Train\\t', score_train"
   ]
  },
  {
   "cell_type": "code",
   "execution_count": 89,
   "metadata": {
    "collapsed": false
   },
   "outputs": [
    {
     "name": "stdout",
     "output_type": "stream",
     "text": [
      "\n",
      "\n",
      "Coefficients for each X:\n",
      "\n"
     ]
    },
    {
     "data": {
      "text/html": [
       "<div>\n",
       "<table border=\"1\" class=\"dataframe\">\n",
       "  <thead>\n",
       "    <tr style=\"text-align: right;\">\n",
       "      <th></th>\n",
       "      <th>Feature</th>\n",
       "      <th>Weight</th>\n",
       "      <th>FeatureImportance</th>\n",
       "    </tr>\n",
       "  </thead>\n",
       "  <tbody>\n",
       "    <tr>\n",
       "      <th>6</th>\n",
       "      <td>f7</td>\n",
       "      <td>0.048443</td>\n",
       "      <td>0.078520</td>\n",
       "    </tr>\n",
       "    <tr>\n",
       "      <th>12</th>\n",
       "      <td>f13</td>\n",
       "      <td>0.038046</td>\n",
       "      <td>0.061667</td>\n",
       "    </tr>\n",
       "    <tr>\n",
       "      <th>4</th>\n",
       "      <td>f5</td>\n",
       "      <td>-0.032898</td>\n",
       "      <td>0.053322</td>\n",
       "    </tr>\n",
       "    <tr>\n",
       "      <th>15</th>\n",
       "      <td>c1_10</td>\n",
       "      <td>0.032170</td>\n",
       "      <td>0.052143</td>\n",
       "    </tr>\n",
       "    <tr>\n",
       "      <th>8</th>\n",
       "      <td>f9</td>\n",
       "      <td>0.030186</td>\n",
       "      <td>0.048926</td>\n",
       "    </tr>\n",
       "    <tr>\n",
       "      <th>9</th>\n",
       "      <td>f10</td>\n",
       "      <td>0.028264</td>\n",
       "      <td>0.045812</td>\n",
       "    </tr>\n",
       "    <tr>\n",
       "      <th>22</th>\n",
       "      <td>c1_17</td>\n",
       "      <td>-0.025796</td>\n",
       "      <td>0.041812</td>\n",
       "    </tr>\n",
       "    <tr>\n",
       "      <th>0</th>\n",
       "      <td>f1</td>\n",
       "      <td>0.025317</td>\n",
       "      <td>0.041035</td>\n",
       "    </tr>\n",
       "    <tr>\n",
       "      <th>1</th>\n",
       "      <td>f2</td>\n",
       "      <td>0.022428</td>\n",
       "      <td>0.036352</td>\n",
       "    </tr>\n",
       "    <tr>\n",
       "      <th>2</th>\n",
       "      <td>f3</td>\n",
       "      <td>0.020958</td>\n",
       "      <td>0.033970</td>\n",
       "    </tr>\n",
       "    <tr>\n",
       "      <th>34</th>\n",
       "      <td>c1_7</td>\n",
       "      <td>-0.020172</td>\n",
       "      <td>0.032696</td>\n",
       "    </tr>\n",
       "    <tr>\n",
       "      <th>20</th>\n",
       "      <td>c1_15</td>\n",
       "      <td>-0.019991</td>\n",
       "      <td>0.032402</td>\n",
       "    </tr>\n",
       "    <tr>\n",
       "      <th>11</th>\n",
       "      <td>f12</td>\n",
       "      <td>-0.019864</td>\n",
       "      <td>0.032197</td>\n",
       "    </tr>\n",
       "    <tr>\n",
       "      <th>30</th>\n",
       "      <td>c1_3</td>\n",
       "      <td>0.019333</td>\n",
       "      <td>0.031336</td>\n",
       "    </tr>\n",
       "    <tr>\n",
       "      <th>28</th>\n",
       "      <td>c1_23</td>\n",
       "      <td>-0.017237</td>\n",
       "      <td>0.027939</td>\n",
       "    </tr>\n",
       "    <tr>\n",
       "      <th>3</th>\n",
       "      <td>f4</td>\n",
       "      <td>0.017119</td>\n",
       "      <td>0.027748</td>\n",
       "    </tr>\n",
       "    <tr>\n",
       "      <th>26</th>\n",
       "      <td>c1_21</td>\n",
       "      <td>-0.016889</td>\n",
       "      <td>0.027375</td>\n",
       "    </tr>\n",
       "    <tr>\n",
       "      <th>7</th>\n",
       "      <td>f8</td>\n",
       "      <td>0.016757</td>\n",
       "      <td>0.027160</td>\n",
       "    </tr>\n",
       "    <tr>\n",
       "      <th>21</th>\n",
       "      <td>c1_16</td>\n",
       "      <td>0.016732</td>\n",
       "      <td>0.027120</td>\n",
       "    </tr>\n",
       "    <tr>\n",
       "      <th>5</th>\n",
       "      <td>f6</td>\n",
       "      <td>0.016472</td>\n",
       "      <td>0.026699</td>\n",
       "    </tr>\n",
       "    <tr>\n",
       "      <th>13</th>\n",
       "      <td>f14</td>\n",
       "      <td>-0.014843</td>\n",
       "      <td>0.024059</td>\n",
       "    </tr>\n",
       "    <tr>\n",
       "      <th>35</th>\n",
       "      <td>c1_8</td>\n",
       "      <td>-0.014129</td>\n",
       "      <td>0.022902</td>\n",
       "    </tr>\n",
       "    <tr>\n",
       "      <th>29</th>\n",
       "      <td>c1_24</td>\n",
       "      <td>-0.012742</td>\n",
       "      <td>0.020653</td>\n",
       "    </tr>\n",
       "    <tr>\n",
       "      <th>27</th>\n",
       "      <td>c1_22</td>\n",
       "      <td>0.011620</td>\n",
       "      <td>0.018834</td>\n",
       "    </tr>\n",
       "    <tr>\n",
       "      <th>31</th>\n",
       "      <td>c1_4</td>\n",
       "      <td>0.010641</td>\n",
       "      <td>0.017248</td>\n",
       "    </tr>\n",
       "    <tr>\n",
       "      <th>24</th>\n",
       "      <td>c1_19</td>\n",
       "      <td>-0.010395</td>\n",
       "      <td>0.016848</td>\n",
       "    </tr>\n",
       "    <tr>\n",
       "      <th>18</th>\n",
       "      <td>c1_13</td>\n",
       "      <td>-0.010301</td>\n",
       "      <td>0.016697</td>\n",
       "    </tr>\n",
       "    <tr>\n",
       "      <th>10</th>\n",
       "      <td>f11</td>\n",
       "      <td>0.009686</td>\n",
       "      <td>0.015700</td>\n",
       "    </tr>\n",
       "    <tr>\n",
       "      <th>33</th>\n",
       "      <td>c1_6</td>\n",
       "      <td>-0.009365</td>\n",
       "      <td>0.015180</td>\n",
       "    </tr>\n",
       "    <tr>\n",
       "      <th>25</th>\n",
       "      <td>c1_20</td>\n",
       "      <td>0.008577</td>\n",
       "      <td>0.013902</td>\n",
       "    </tr>\n",
       "    <tr>\n",
       "      <th>16</th>\n",
       "      <td>c1_11</td>\n",
       "      <td>0.007700</td>\n",
       "      <td>0.012481</td>\n",
       "    </tr>\n",
       "    <tr>\n",
       "      <th>32</th>\n",
       "      <td>c1_5</td>\n",
       "      <td>0.006106</td>\n",
       "      <td>0.009896</td>\n",
       "    </tr>\n",
       "    <tr>\n",
       "      <th>17</th>\n",
       "      <td>c1_12</td>\n",
       "      <td>-0.002093</td>\n",
       "      <td>0.003392</td>\n",
       "    </tr>\n",
       "    <tr>\n",
       "      <th>14</th>\n",
       "      <td>c1_1</td>\n",
       "      <td>-0.001345</td>\n",
       "      <td>0.002180</td>\n",
       "    </tr>\n",
       "    <tr>\n",
       "      <th>36</th>\n",
       "      <td>c1_9</td>\n",
       "      <td>0.000969</td>\n",
       "      <td>0.001571</td>\n",
       "    </tr>\n",
       "    <tr>\n",
       "      <th>23</th>\n",
       "      <td>c1_18</td>\n",
       "      <td>-0.000754</td>\n",
       "      <td>0.001222</td>\n",
       "    </tr>\n",
       "    <tr>\n",
       "      <th>19</th>\n",
       "      <td>c1_14</td>\n",
       "      <td>0.000620</td>\n",
       "      <td>0.001005</td>\n",
       "    </tr>\n",
       "  </tbody>\n",
       "</table>\n",
       "</div>"
      ],
      "text/plain": [
       "   Feature    Weight  FeatureImportance\n",
       "6       f7  0.048443           0.078520\n",
       "12     f13  0.038046           0.061667\n",
       "4       f5 -0.032898           0.053322\n",
       "15   c1_10  0.032170           0.052143\n",
       "8       f9  0.030186           0.048926\n",
       "9      f10  0.028264           0.045812\n",
       "22   c1_17 -0.025796           0.041812\n",
       "0       f1  0.025317           0.041035\n",
       "1       f2  0.022428           0.036352\n",
       "2       f3  0.020958           0.033970\n",
       "34    c1_7 -0.020172           0.032696\n",
       "20   c1_15 -0.019991           0.032402\n",
       "11     f12 -0.019864           0.032197\n",
       "30    c1_3  0.019333           0.031336\n",
       "28   c1_23 -0.017237           0.027939\n",
       "3       f4  0.017119           0.027748\n",
       "26   c1_21 -0.016889           0.027375\n",
       "7       f8  0.016757           0.027160\n",
       "21   c1_16  0.016732           0.027120\n",
       "5       f6  0.016472           0.026699\n",
       "13     f14 -0.014843           0.024059\n",
       "35    c1_8 -0.014129           0.022902\n",
       "29   c1_24 -0.012742           0.020653\n",
       "27   c1_22  0.011620           0.018834\n",
       "31    c1_4  0.010641           0.017248\n",
       "24   c1_19 -0.010395           0.016848\n",
       "18   c1_13 -0.010301           0.016697\n",
       "10     f11  0.009686           0.015700\n",
       "33    c1_6 -0.009365           0.015180\n",
       "25   c1_20  0.008577           0.013902\n",
       "16   c1_11  0.007700           0.012481\n",
       "32    c1_5  0.006106           0.009896\n",
       "17   c1_12 -0.002093           0.003392\n",
       "14    c1_1 -0.001345           0.002180\n",
       "36    c1_9  0.000969           0.001571\n",
       "23   c1_18 -0.000754           0.001222\n",
       "19   c1_14  0.000620           0.001005"
      ]
     },
     "execution_count": 89,
     "metadata": {},
     "output_type": "execute_result"
    }
   ],
   "source": [
    "print '\\n'\n",
    "print 'Coefficients for each X:\\n'\n",
    "coeff = pd.DataFrame(zip(features, model.coef_[0]), columns=['Feature', 'Weight'])\n",
    "coeff['FeatureImportance'] = np.abs(coeff.Weight)/np.abs(coeff.Weight).sum()\n",
    "coeff.sort_values(by='FeatureImportance', ascending=False)"
   ]
  },
  {
   "cell_type": "code",
   "execution_count": 90,
   "metadata": {
    "collapsed": true
   },
   "outputs": [],
   "source": [
    "false_positive_rate, true_positive_rate, thresholds = metrics.roc_curve(y, y_pred)"
   ]
  },
  {
   "cell_type": "code",
   "execution_count": 95,
   "metadata": {
    "collapsed": false
   },
   "outputs": [
    {
     "name": "stdout",
     "output_type": "stream",
     "text": [
      "thresholds: [2 1 0]\n",
      "AUC: 0.525814518438\n"
     ]
    },
    {
     "data": {
      "image/png": "[encoded data removed]",
      "text/plain": [
       "<matplotlib.figure.Figure at 0x14cf512d0>"
      ]
     },
     "metadata": {},
     "output_type": "display_data"
    }
   ],
   "source": [
    "roc_auc = metrics.auc(false_positive_rate, true_positive_rate)\n",
    "print \"thresholds:\", thresholds\n",
    "print \"AUC:\", roc_auc\n",
    "\n",
    "plt.figure(figsize=(9,6))\n",
    "plt.title('ROC')\n",
    "plt.plot(false_positive_rate, true_positive_rate, 'b', label='AUC = %0.6f'% roc_auc)\n",
    "plt.legend(loc='lower right')\n",
    "plt.plot([0,1],[0,1],'r--')\n",
    "plt.xlim([-0.1,1.2])\n",
    "plt.ylim([-0.1,1.2])\n",
    "plt.ylabel('True Positive Rate')\n",
    "plt.xlabel('False Positive Rate')\n",
    "plt.show()"
   ]
  },
  {
   "cell_type": "code",
   "execution_count": 96,
   "metadata": {
    "collapsed": false
   },
   "outputs": [
    {
     "data": {
      "image/png": "[encoded data removed]",
      "text/plain": [
       "<matplotlib.figure.Figure at 0x14cf51190>"
      ]
     },
     "metadata": {},
     "output_type": "display_data"
    }
   ],
   "source": [
    "p = model.predict_proba(X)\n",
    "f = plt.figure(figsize=(9,6))\n",
    "plt.title('Probabilities')\n",
    "ax = f.add_subplot(111)\n",
    "ax.hist(p[:,1], bins=10)\n",
    "plt.show()"
   ]
  },
  {
   "cell_type": "code",
   "execution_count": null,
   "metadata": {
    "collapsed": true
   },
   "outputs": [],
   "source": []
  }
 ],
 "metadata": {
  "kernelspec": {
   "display_name": "Python 2",
   "language": "python",
   "name": "python2"
  },
  "language_info": {
   "codemirror_mode": {
    "name": "ipython",
    "version": 2
   },
   "file_extension": ".py",
   "mimetype": "text/x-python",
   "name": "python",
   "nbconvert_exporter": "python",
   "pygments_lexer": "ipython2",
   "version": "2.7.11"
  }
 },
 "nbformat": 4,
 "nbformat_minor": 0
}
