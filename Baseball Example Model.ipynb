{
 "cells": [
  {
   "cell_type": "code",
   "execution_count": 4,
   "metadata": {},
   "outputs": [],
   "source": [
    "%matplotlib inline\n",
    "import pymc3 as pm\n",
    "import numpy as np\n",
    "import matplotlib.pyplot as plt\n",
    "import pandas as pd\n",
    "import theano.tensor as tt"
   ]
  },
  {
   "cell_type": "code",
   "execution_count": 2,
   "metadata": {},
   "outputs": [],
   "source": [
    "data = pd.read_table(pm.get_data('efron-morris-75-data.tsv'), sep=\"\\t\")\n",
    "at_bats, hits = data[['At-Bats', 'Hits']].values.T"
   ]
  },
  {
   "cell_type": "code",
   "execution_count": 3,
   "metadata": {},
   "outputs": [
    {
     "data": {
      "text/html": [
       "<div>\n",
       "<style scoped>\n",
       "    .dataframe tbody tr th:only-of-type {\n",
       "        vertical-align: middle;\n",
       "    }\n",
       "\n",
       "    .dataframe tbody tr th {\n",
       "        vertical-align: top;\n",
       "    }\n",
       "\n",
       "    .dataframe thead th {\n",
       "        text-align: right;\n",
       "    }\n",
       "</style>\n",
       "<table border=\"1\" class=\"dataframe\">\n",
       "  <thead>\n",
       "    <tr style=\"text-align: right;\">\n",
       "      <th></th>\n",
       "      <th>FirstName</th>\n",
       "      <th>LastName</th>\n",
       "      <th>At-Bats</th>\n",
       "      <th>Hits</th>\n",
       "      <th>BattingAverage</th>\n",
       "      <th>RemainingAt-Bats</th>\n",
       "      <th>RemainingAverage</th>\n",
       "      <th>SeasonAt-Bats</th>\n",
       "      <th>SeasonHits</th>\n",
       "      <th>SeasonAverage</th>\n",
       "    </tr>\n",
       "  </thead>\n",
       "  <tbody>\n",
       "    <tr>\n",
       "      <th>0</th>\n",
       "      <td>Roberto</td>\n",
       "      <td>Clemente</td>\n",
       "      <td>45</td>\n",
       "      <td>18</td>\n",
       "      <td>0.400</td>\n",
       "      <td>367</td>\n",
       "      <td>0.3460</td>\n",
       "      <td>412</td>\n",
       "      <td>145</td>\n",
       "      <td>0.352</td>\n",
       "    </tr>\n",
       "    <tr>\n",
       "      <th>1</th>\n",
       "      <td>Frank</td>\n",
       "      <td>Robinson</td>\n",
       "      <td>45</td>\n",
       "      <td>17</td>\n",
       "      <td>0.378</td>\n",
       "      <td>426</td>\n",
       "      <td>0.2981</td>\n",
       "      <td>471</td>\n",
       "      <td>144</td>\n",
       "      <td>0.306</td>\n",
       "    </tr>\n",
       "    <tr>\n",
       "      <th>2</th>\n",
       "      <td>Frank</td>\n",
       "      <td>Howard</td>\n",
       "      <td>45</td>\n",
       "      <td>16</td>\n",
       "      <td>0.356</td>\n",
       "      <td>521</td>\n",
       "      <td>0.2764</td>\n",
       "      <td>566</td>\n",
       "      <td>160</td>\n",
       "      <td>0.283</td>\n",
       "    </tr>\n",
       "    <tr>\n",
       "      <th>3</th>\n",
       "      <td>Jay</td>\n",
       "      <td>Johnstone</td>\n",
       "      <td>45</td>\n",
       "      <td>15</td>\n",
       "      <td>0.333</td>\n",
       "      <td>275</td>\n",
       "      <td>0.2218</td>\n",
       "      <td>320</td>\n",
       "      <td>76</td>\n",
       "      <td>0.238</td>\n",
       "    </tr>\n",
       "    <tr>\n",
       "      <th>4</th>\n",
       "      <td>Ken</td>\n",
       "      <td>Berry</td>\n",
       "      <td>45</td>\n",
       "      <td>14</td>\n",
       "      <td>0.311</td>\n",
       "      <td>418</td>\n",
       "      <td>0.2727</td>\n",
       "      <td>463</td>\n",
       "      <td>128</td>\n",
       "      <td>0.276</td>\n",
       "    </tr>\n",
       "    <tr>\n",
       "      <th>5</th>\n",
       "      <td>Jim</td>\n",
       "      <td>Spencer</td>\n",
       "      <td>45</td>\n",
       "      <td>14</td>\n",
       "      <td>0.311</td>\n",
       "      <td>466</td>\n",
       "      <td>0.2704</td>\n",
       "      <td>511</td>\n",
       "      <td>140</td>\n",
       "      <td>0.274</td>\n",
       "    </tr>\n",
       "    <tr>\n",
       "      <th>6</th>\n",
       "      <td>Don</td>\n",
       "      <td>Kessinger</td>\n",
       "      <td>45</td>\n",
       "      <td>13</td>\n",
       "      <td>0.289</td>\n",
       "      <td>586</td>\n",
       "      <td>0.2645</td>\n",
       "      <td>631</td>\n",
       "      <td>168</td>\n",
       "      <td>0.266</td>\n",
       "    </tr>\n",
       "    <tr>\n",
       "      <th>7</th>\n",
       "      <td>Luis</td>\n",
       "      <td>Alvarado</td>\n",
       "      <td>45</td>\n",
       "      <td>12</td>\n",
       "      <td>0.267</td>\n",
       "      <td>138</td>\n",
       "      <td>0.2101</td>\n",
       "      <td>183</td>\n",
       "      <td>41</td>\n",
       "      <td>0.224</td>\n",
       "    </tr>\n",
       "    <tr>\n",
       "      <th>8</th>\n",
       "      <td>Ron</td>\n",
       "      <td>Santo</td>\n",
       "      <td>45</td>\n",
       "      <td>11</td>\n",
       "      <td>0.244</td>\n",
       "      <td>510</td>\n",
       "      <td>0.2686</td>\n",
       "      <td>555</td>\n",
       "      <td>148</td>\n",
       "      <td>0.267</td>\n",
       "    </tr>\n",
       "    <tr>\n",
       "      <th>9</th>\n",
       "      <td>Ron</td>\n",
       "      <td>Swaboda</td>\n",
       "      <td>45</td>\n",
       "      <td>11</td>\n",
       "      <td>0.244</td>\n",
       "      <td>200</td>\n",
       "      <td>0.2300</td>\n",
       "      <td>245</td>\n",
       "      <td>57</td>\n",
       "      <td>0.233</td>\n",
       "    </tr>\n",
       "    <tr>\n",
       "      <th>10</th>\n",
       "      <td>Rico</td>\n",
       "      <td>Petrocelli</td>\n",
       "      <td>45</td>\n",
       "      <td>10</td>\n",
       "      <td>0.222</td>\n",
       "      <td>538</td>\n",
       "      <td>0.2639</td>\n",
       "      <td>583</td>\n",
       "      <td>152</td>\n",
       "      <td>0.261</td>\n",
       "    </tr>\n",
       "    <tr>\n",
       "      <th>11</th>\n",
       "      <td>Ellie</td>\n",
       "      <td>Rodriguez</td>\n",
       "      <td>45</td>\n",
       "      <td>10</td>\n",
       "      <td>0.222</td>\n",
       "      <td>186</td>\n",
       "      <td>0.2258</td>\n",
       "      <td>231</td>\n",
       "      <td>52</td>\n",
       "      <td>0.225</td>\n",
       "    </tr>\n",
       "    <tr>\n",
       "      <th>12</th>\n",
       "      <td>George</td>\n",
       "      <td>Scott</td>\n",
       "      <td>45</td>\n",
       "      <td>10</td>\n",
       "      <td>0.222</td>\n",
       "      <td>435</td>\n",
       "      <td>0.3034</td>\n",
       "      <td>480</td>\n",
       "      <td>142</td>\n",
       "      <td>0.296</td>\n",
       "    </tr>\n",
       "    <tr>\n",
       "      <th>13</th>\n",
       "      <td>Del</td>\n",
       "      <td>Unser</td>\n",
       "      <td>45</td>\n",
       "      <td>10</td>\n",
       "      <td>0.222</td>\n",
       "      <td>277</td>\n",
       "      <td>0.2635</td>\n",
       "      <td>322</td>\n",
       "      <td>83</td>\n",
       "      <td>0.258</td>\n",
       "    </tr>\n",
       "    <tr>\n",
       "      <th>14</th>\n",
       "      <td>Billy</td>\n",
       "      <td>Williams</td>\n",
       "      <td>45</td>\n",
       "      <td>10</td>\n",
       "      <td>0.222</td>\n",
       "      <td>591</td>\n",
       "      <td>0.3299</td>\n",
       "      <td>636</td>\n",
       "      <td>205</td>\n",
       "      <td>0.251</td>\n",
       "    </tr>\n",
       "    <tr>\n",
       "      <th>15</th>\n",
       "      <td>Bert</td>\n",
       "      <td>Campaneris</td>\n",
       "      <td>45</td>\n",
       "      <td>9</td>\n",
       "      <td>0.200</td>\n",
       "      <td>558</td>\n",
       "      <td>0.2849</td>\n",
       "      <td>603</td>\n",
       "      <td>168</td>\n",
       "      <td>0.279</td>\n",
       "    </tr>\n",
       "    <tr>\n",
       "      <th>16</th>\n",
       "      <td>Thurman</td>\n",
       "      <td>Munson</td>\n",
       "      <td>45</td>\n",
       "      <td>8</td>\n",
       "      <td>0.178</td>\n",
       "      <td>408</td>\n",
       "      <td>0.3162</td>\n",
       "      <td>453</td>\n",
       "      <td>137</td>\n",
       "      <td>0.302</td>\n",
       "    </tr>\n",
       "    <tr>\n",
       "      <th>17</th>\n",
       "      <td>Max</td>\n",
       "      <td>Alvis</td>\n",
       "      <td>45</td>\n",
       "      <td>7</td>\n",
       "      <td>0.156</td>\n",
       "      <td>70</td>\n",
       "      <td>0.2000</td>\n",
       "      <td>115</td>\n",
       "      <td>21</td>\n",
       "      <td>0.183</td>\n",
       "    </tr>\n",
       "  </tbody>\n",
       "</table>\n",
       "</div>"
      ],
      "text/plain": [
       "   FirstName    LastName  At-Bats  Hits  BattingAverage  RemainingAt-Bats  \\\n",
       "0    Roberto    Clemente       45    18           0.400               367   \n",
       "1      Frank    Robinson       45    17           0.378               426   \n",
       "2      Frank      Howard       45    16           0.356               521   \n",
       "3        Jay   Johnstone       45    15           0.333               275   \n",
       "4        Ken       Berry       45    14           0.311               418   \n",
       "5        Jim     Spencer       45    14           0.311               466   \n",
       "6        Don   Kessinger       45    13           0.289               586   \n",
       "7       Luis    Alvarado       45    12           0.267               138   \n",
       "8        Ron       Santo       45    11           0.244               510   \n",
       "9        Ron     Swaboda       45    11           0.244               200   \n",
       "10      Rico  Petrocelli       45    10           0.222               538   \n",
       "11     Ellie   Rodriguez       45    10           0.222               186   \n",
       "12    George       Scott       45    10           0.222               435   \n",
       "13       Del       Unser       45    10           0.222               277   \n",
       "14     Billy    Williams       45    10           0.222               591   \n",
       "15      Bert  Campaneris       45     9           0.200               558   \n",
       "16   Thurman      Munson       45     8           0.178               408   \n",
       "17       Max       Alvis       45     7           0.156                70   \n",
       "\n",
       "    RemainingAverage  SeasonAt-Bats  SeasonHits  SeasonAverage  \n",
       "0             0.3460            412         145          0.352  \n",
       "1             0.2981            471         144          0.306  \n",
       "2             0.2764            566         160          0.283  \n",
       "3             0.2218            320          76          0.238  \n",
       "4             0.2727            463         128          0.276  \n",
       "5             0.2704            511         140          0.274  \n",
       "6             0.2645            631         168          0.266  \n",
       "7             0.2101            183          41          0.224  \n",
       "8             0.2686            555         148          0.267  \n",
       "9             0.2300            245          57          0.233  \n",
       "10            0.2639            583         152          0.261  \n",
       "11            0.2258            231          52          0.225  \n",
       "12            0.3034            480         142          0.296  \n",
       "13            0.2635            322          83          0.258  \n",
       "14            0.3299            636         205          0.251  \n",
       "15            0.2849            603         168          0.279  \n",
       "16            0.3162            453         137          0.302  \n",
       "17            0.2000            115          21          0.183  "
      ]
     },
     "execution_count": 3,
     "metadata": {},
     "output_type": "execute_result"
    }
   ],
   "source": [
    "data"
   ]
  },
  {
   "cell_type": "code",
   "execution_count": 5,
   "metadata": {},
   "outputs": [],
   "source": [
    "N = len(hits)\n",
    "\n",
    "with pm.Model() as baseball_model:\n",
    "\n",
    "    phi = pm.Uniform('phi', lower=0.0, upper=1.0)\n",
    "\n",
    "    kappa_log = pm.Exponential('kappa_log', lam=1.5)\n",
    "    kappa = pm.Deterministic('kappa', tt.exp(kappa_log))\n",
    "\n",
    "    thetas = pm.Beta('thetas', alpha=phi*kappa, beta=(1.0-phi)*kappa, shape=N)\n",
    "    y = pm.Binomial('y', n=at_bats, p=thetas, observed=hits)"
   ]
  },
  {
   "cell_type": "code",
   "execution_count": 6,
   "metadata": {},
   "outputs": [
    {
     "data": {
      "text/latex": [
       "$$\n",
       "            \\begin{array}{rcl}\n",
       "            \\text{phi} &\\sim & \\text{Uniform}(\\mathit{lower}=f(),~\\mathit{upper}=f())\\\\\\text{kappa_log} &\\sim & \\text{Exponential}(\\mathit{lam}=1.5)\\\\\\text{kappa} &\\sim & \\text{Deterministic}(\\text{kappa_log_log__})\\\\\\text{thetas} &\\sim & \\text{Beta}(\\mathit{alpha}=f(\\text{phi},~\\text{kappa}),~\\mathit{alpha}=f(f(\\text{phi}),~\\text{kappa}))\\\\\\text{y} &\\sim & \\text{Binomial}(\\mathit{n}=array,~\\mathit{p}=\\text{thetas})\n",
       "            \\end{array}\n",
       "            $$"
      ],
      "text/plain": [
       "<pymc3.model.Model at 0x1c1930fef0>"
      ]
     },
     "execution_count": 6,
     "metadata": {},
     "output_type": "execute_result"
    }
   ],
   "source": [
    "baseball_model"
   ]
  },
  {
   "cell_type": "code",
   "execution_count": 7,
   "metadata": {},
   "outputs": [],
   "source": [
    "with baseball_model:\n",
    "\n",
    "    theta_new = pm.Beta('theta_new', alpha=phi*kappa, beta=(1.0-phi)*kappa)\n",
    "    y_new = pm.Binomial('y_new', n=4, p=theta_new, observed=0)"
   ]
  },
  {
   "cell_type": "code",
   "execution_count": 8,
   "metadata": {},
   "outputs": [
    {
     "data": {
      "text/latex": [
       "$$\n",
       "            \\begin{array}{rcl}\n",
       "            \\text{phi} &\\sim & \\text{Uniform}(\\mathit{lower}=f(),~\\mathit{upper}=f())\\\\\\text{kappa_log} &\\sim & \\text{Exponential}(\\mathit{lam}=1.5)\\\\\\text{kappa} &\\sim & \\text{Deterministic}(\\text{kappa_log_log__})\\\\\\text{thetas} &\\sim & \\text{Beta}(\\mathit{alpha}=f(\\text{phi},~\\text{kappa}),~\\mathit{alpha}=f(f(\\text{phi}),~\\text{kappa}))\\\\\\text{theta_new} &\\sim & \\text{Beta}(\\mathit{alpha}=f(\\text{phi},~\\text{kappa}),~\\mathit{alpha}=f(f(\\text{phi}),~\\text{kappa}))\\\\\\text{y} &\\sim & \\text{Binomial}(\\mathit{n}=array,~\\mathit{p}=\\text{thetas})\\\\\\text{y_new} &\\sim & \\text{Binomial}(\\mathit{n}=4,~\\mathit{p}=\\text{theta_new})\n",
       "            \\end{array}\n",
       "            $$"
      ],
      "text/plain": [
       "<pymc3.model.Model at 0x1c1930fef0>"
      ]
     },
     "execution_count": 8,
     "metadata": {},
     "output_type": "execute_result"
    }
   ],
   "source": [
    "baseball_model"
   ]
  },
  {
   "cell_type": "code",
   "execution_count": 9,
   "metadata": {},
   "outputs": [
    {
     "name": "stderr",
     "output_type": "stream",
     "text": [
      "Auto-assigning NUTS sampler...\n",
      "Initializing NUTS using jitter+adapt_diag...\n",
      "/Users/claus/anaconda3/lib/python3.6/site-packages/pymc3/model.py:384: FutureWarning: Conversion of the second argument of issubdtype from `float` to `np.floating` is deprecated. In future, it will be treated as `np.float64 == np.dtype(float).type`.\n",
      "  if not np.issubdtype(var.dtype, float):\n",
      "Multiprocess sampling (2 chains in 2 jobs)\n",
      "NUTS: [theta_new_logodds__, thetas_logodds__, kappa_log_log__, phi_interval__]\n",
      "100%|██████████| 3000/3000 [00:26<00:00, 113.11it/s]\n",
      "There were 2 divergences after tuning. Increase `target_accept` or reparameterize.\n",
      "There were 1 divergences after tuning. Increase `target_accept` or reparameterize.\n",
      "The number of effective samples is smaller than 25% for some parameters.\n"
     ]
    }
   ],
   "source": [
    "with baseball_model:\n",
    "    trace = pm.sample(2000, tune=1000, nchains=2,\n",
    "                      nuts_kwargs={'target_accept': 0.95})"
   ]
  },
  {
   "cell_type": "code",
   "execution_count": 10,
   "metadata": {},
   "outputs": [
    {
     "data": {
      "image/png": "[encoded data removed]",
      "text/plain": [
       "<matplotlib.figure.Figure at 0x1c1ca27c50>"
      ]
     },
     "metadata": {},
     "output_type": "display_data"
    }
   ],
   "source": [
    "pm.traceplot(trace, varnames=['phi', 'kappa']);"
   ]
  },
  {
   "cell_type": "code",
   "execution_count": 11,
   "metadata": {},
   "outputs": [
    {
     "data": {
      "text/plain": [
       "<matplotlib.gridspec.GridSpec at 0x1c1c8faa58>"
      ]
     },
     "execution_count": 11,
     "metadata": {},
     "output_type": "execute_result"
    },
    {
     "data": {
      "image/png": "[encoded data removed]",
      "text/plain": [
       "<matplotlib.figure.Figure at 0x1c1c8de908>"
      ]
     },
     "metadata": {},
     "output_type": "display_data"
    }
   ],
   "source": [
    "player_names = data.apply(lambda x: x.FirstName + ' ' + x.LastName, axis=1)\n",
    "pm.forestplot(trace, varnames=['thetas'], ylabels=player_names)"
   ]
  },
  {
   "cell_type": "code",
   "execution_count": null,
   "metadata": {},
   "outputs": [],
   "source": []
  }
 ],
 "metadata": {
  "kernelspec": {
   "display_name": "Python 3",
   "language": "python",
   "name": "python3"
  },
  "language_info": {
   "codemirror_mode": {
    "name": "ipython",
    "version": 3
   },
   "file_extension": ".py",
   "mimetype": "text/x-python",
   "name": "python",
   "nbconvert_exporter": "python",
   "pygments_lexer": "ipython3",
   "version": "3.6.4"
  }
 },
 "nbformat": 4,
 "nbformat_minor": 2
}
