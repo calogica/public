{
 "cells": [
  {
   "cell_type": "code",
   "execution_count": 19,
   "metadata": {
    "collapsed": false
   },
   "outputs": [],
   "source": [
    "import matplotlib.pyplot as plt\n",
    "import numpy as np\n",
    "import seaborn as sns\n",
    "from scipy.optimize import linprog\n",
    "\n",
    "plt.style.use('seaborn-white')\n",
    "# plt.xkcd()\n",
    "# print plt.style.available\n",
    "%matplotlib inline"
   ]
  },
  {
   "cell_type": "markdown",
   "metadata": {},
   "source": [
    "## Lending Club Minimization Problem"
   ]
  },
  {
   "cell_type": "markdown",
   "metadata": {},
   "source": [
    "I recently looked into investing with LendingClub, an online peer-to-peer lender\n",
    "and thought that would make a fitting cost minimization example. LendingClub\n",
    "offers investors a chance to invest in notes with grades based on risk from A\n",
    "through G, where an A note carries the lowest risk and pays the lowest interest\n",
    "rate.\n",
    "\n",
    " \n",
    "\n",
    "I want to earn at least \\$100 in interest per month, while investing in three\n",
    "times as many *B* notes as *A* notes, with no notes of lower grades. Investing\n",
    "in notes of \\$25 each, the total portfolio mix should add up to at least\n",
    "\\$2,800. Also, I want to invest in least 10 notes of each grade.\n",
    "\n",
    " \n",
    "\n",
    "While *A* notes pay \\$1.50 interest per note per month, *B* notes pay \\$3.50 per\n",
    "note per month. The expected cost of borrowers defaulting on A notes is \\$0.50,\n",
    "while B notes have an expected cost of default of \\$1.00.\n",
    "\n",
    " \n",
    "\n",
    "How many notes do I have to buy to minimize my cost of defaulted notes?\n",
    "\n",
    " \n",
    "\n",
    "| Cost of Default:  | 0.50x + 1.00y = z      |\n",
    "|-------------------|------------------------|\n",
    "| Interest/Month:   | 1.5x + 3.5y \\>= 100    |\n",
    "| Portfolio Mix:    | 3\\*25x + 25y \\>= 2,800 |\n",
    "|                   | x \\>= 10               |\n",
    "|                   | y \\>= 10               |\n",
    "\n",
    " \n",
    "\n",
    " \n"
   ]
  },
  {
   "cell_type": "code",
   "execution_count": 20,
   "metadata": {
    "collapsed": false
   },
   "outputs": [],
   "source": [
    "# z = Cost of Default\n",
    "# Minimize: z = .5*x[0] + 1.00*x[1]\n",
    "# Subject to: \n",
    "# interest payment\n",
    "# 1.5*x[0] + 3.5*x[1] >= 100\n",
    "# 75*x[0] + 25*x[1] >= 2800\n",
    "# x[0] >= 10\n",
    "# x[1] >= 10\n",
    "\n",
    "note_value = 25\n",
    "min_number_of_notes = 10.0\n",
    "a_loss = .5 \n",
    "b_loss = 1.0\n",
    "\n",
    "a_int_pmt = 1.5\n",
    "b_int_pmt = 3.5\n",
    "\n",
    "a_factor = 3\n",
    "min_interest_pmt = 100.0\n",
    "min_total_notes = 2800.0"
   ]
  },
  {
   "cell_type": "markdown",
   "metadata": {},
   "source": [
    "## Linear System\n",
    "We'll use sympy to solve our linear system to find the intersection of our two constraint functions. Later we'll try a couple of more options using Python below."
   ]
  },
  {
   "cell_type": "code",
   "execution_count": 4,
   "metadata": {
    "collapsed": false
   },
   "outputs": [
    {
     "name": "stdout",
     "output_type": "stream",
     "text": [
      "x: 32.4444444444444 y: 14.6666666666667\n",
      "x: 32.0 y: 15.0\n"
     ]
    }
   ],
   "source": [
    "from sympy import Matrix \n",
    "M = Matrix([\n",
    "        [a_int_pmt, b_int_pmt, min_interest_pmt], \n",
    "        [a_factor*note_value,note_value,min_total_notes]\n",
    "        ])\n",
    "R = M.rref()[0]\n",
    "\n",
    "x = R.row(0)[2]\n",
    "y = R.row(1)[2]\n",
    "\n",
    "print 'x:', x, 'y:', y\n",
    "x_r = round(x, 0)\n",
    "y_r = round(y, 0)\n",
    "print 'x:', x_r, 'y:', y_r"
   ]
  },
  {
   "cell_type": "markdown",
   "metadata": {},
   "source": [
    "So, now that we have our x & y, we can use that to calculate some relevant metrics:"
   ]
  },
  {
   "cell_type": "code",
   "execution_count": 5,
   "metadata": {
    "collapsed": false
   },
   "outputs": [
    {
     "name": "stdout",
     "output_type": "stream",
     "text": [
      "Minimum Default Cost (z): 30.8888888888889\n",
      "Minimum Default Cost (z): 31.0\n",
      "Expected interest(i): 100.5\n"
     ]
    }
   ],
   "source": [
    "z = a_loss*x + b_loss*y\n",
    "print 'Minimum Default Cost (z):', z\n",
    "\n",
    "z_int = a_loss*x_r + b_loss*y_r\n",
    "print 'Minimum Default Cost (z):', z_int\n",
    "\n",
    "i = a_int_pmt*x_r + b_int_pmt*y_r\n",
    "print 'Expected interest(i):', i"
   ]
  },
  {
   "cell_type": "markdown",
   "metadata": {},
   "source": [
    "## Graphical Solution\n",
    "Let's graph to see if our solution also makes sense visually."
   ]
  },
  {
   "cell_type": "code",
   "execution_count": 6,
   "metadata": {
    "collapsed": false
   },
   "outputs": [
    {
     "name": "stdout",
     "output_type": "stream",
     "text": [
      "corner points [(10, 1000), (10, 82.0), (32.4444444444444, 14.6666666666667), (43.333333333333336, 10), (1000, 10)]\n"
     ]
    },
    {
     "data": {
      "image/png": "[encoded data removed]",
      "text/plain": [
       "<matplotlib.figure.Figure at 0x110682990>"
      ]
     },
     "metadata": {},
     "output_type": "display_data"
    }
   ],
   "source": [
    "min_value = 1\n",
    "max_value = 120\n",
    "\n",
    "x_values = np.arange(min_value,max_value + 0.1,0.1)\n",
    "y_values = np.arange(min_value,max_value + 0.1,0.1)\n",
    "\n",
    "x0 = min_number_of_notes+0.0*y_values\n",
    "y0 = min_number_of_notes+0.0*x_values\n",
    "\n",
    "y1 = (min_interest_pmt/b_int_pmt) - (a_int_pmt/b_int_pmt)*x_values\n",
    "y2 = min_total_notes/note_value - a_factor*x_values\n",
    "y3 = (z - a_loss*x_values)/(b_loss)\n",
    "\n",
    "fig = plt.figure(figsize=(12, 9))\n",
    "ax = fig.add_subplot(1,1,1)\n",
    "\n",
    "plt.xlim(min_value,max_value)\n",
    "plt.ylim(min_value,max_value)\n",
    "plt.hlines(0,min_value,max_value,color='k')\n",
    "plt.vlines(0,min_value,max_value,color='k')\n",
    "plt.grid(True)\n",
    "\n",
    "plt.title('Default Cost Minimization')\n",
    "plt.xlabel('A Loans')\n",
    "plt.ylabel('B Loans')\n",
    "\n",
    "plt.plot(x_values, y1, color='b', label='Interest Payment 1.5x + 3.5y >= 100')\n",
    "plt.plot(x_values, y2, color='g', label='Portfolio Mix 75x + 25y >= 2800')\n",
    "plt.plot(x0, y_values,'r', label='Min. A Loans, x=10')\n",
    "plt.plot(x_values, y0,'r', label='Min. B Loans, y=10')\n",
    "plt.plot(x_values, y3,'k--', label='Default Cost, z=0.5*{0} + 1.0*{1}'.format(x_r, y_r))\n",
    "\n",
    "plt.legend(loc='best')\n",
    "\n",
    "c_2_y = min_total_notes/note_value - a_factor*min_number_of_notes\n",
    "c_4_x = (min_interest_pmt-b_int_pmt*min_number_of_notes)/a_int_pmt\n",
    "\n",
    "X = [10,   10,    x, c_4_x, 1000]\n",
    "Y = [1000, c_2_y, y, 10,    10]\n",
    "plt.scatter(X, Y, c='k')\n",
    "\n",
    "corner_points = zip(X, Y)\n",
    "\n",
    "for xy in corner_points[1:-1]:\n",
    "    ax.annotate('(%.1f, %.1f)' % xy, xy=xy)\n",
    "    \n",
    "plt.fill(X,Y, color='grey', alpha=0.2)\n",
    "\n",
    "print 'corner points', corner_points\n",
    "\n",
    "plt.show()"
   ]
  },
  {
   "cell_type": "code",
   "execution_count": 17,
   "metadata": {
    "collapsed": false
   },
   "outputs": [
    {
     "name": "stdout",
     "output_type": "stream",
     "text": [
      "Portfolio Mix x @ y=10:\t\t82.0\n",
      "Interest Payment x @ y=10:\t24.2857142857\n",
      "Interest Payment y @ x=10:\t43.3333333333\n"
     ]
    }
   ],
   "source": [
    "print 'Portfolio Mix x @ y=10:\\t\\t', min_total_notes/note_value - a_factor*min_number_of_notes\n",
    "\n",
    "# 75x + 25y = 2800\n",
    "print 'Interest Payment x @ y=10:\\t', (min_interest_pmt-a_int_pmt*min_number_of_notes)/b_int_pmt\n",
    "print 'Interest Payment y @ x=10:\\t', (min_interest_pmt-b_int_pmt*min_number_of_notes)/a_int_pmt"
   ]
  },
  {
   "cell_type": "markdown",
   "metadata": {},
   "source": [
    "Let's check the value at each corner point to confirm that the value at the minimum we calculated earlier is in the fact the lowest value"
   ]
  },
  {
   "cell_type": "code",
   "execution_count": 8,
   "metadata": {
    "collapsed": false
   },
   "outputs": [
    {
     "name": "stdout",
     "output_type": "stream",
     "text": [
      "Value of Objective Function at Each Corner Point:\n",
      "[[1005.0]\n",
      " [87.0]\n",
      " [30.8888888888889]\n",
      " [31.666666666666668]\n",
      " [510.0]]\n"
     ]
    }
   ],
   "source": [
    "obj = np.matrix([a_loss,b_loss])\n",
    "obj = np.transpose(obj)\n",
    "corners = np.matrix([X, Y])\n",
    "corners = np.transpose(corners)\n",
    "result = np.dot(corners,obj)\n",
    "print ('Value of Objective Function at Each Corner Point:\\n'), result"
   ]
  },
  {
   "cell_type": "markdown",
   "metadata": {},
   "source": [
    "## Calculation using minimize()"
   ]
  },
  {
   "cell_type": "code",
   "execution_count": 35,
   "metadata": {
    "collapsed": false
   },
   "outputs": [
    {
     "name": "stdout",
     "output_type": "stream",
     "text": [
      "  status: 0\n",
      " success: True\n",
      "    njev: 2\n",
      "    nfev: 10\n",
      "     fun: 30.888888888895117\n",
      "       x: array([ 32.44444444,  14.66666667,  10.        ])\n",
      " message: 'Optimization terminated successfully.'\n",
      "     jac: array([ 0.5,  1. ,  0. ,  0. ])\n",
      "     nit: 2\n",
      "fun 30.8888888889\n",
      "x 32.4444444445\n",
      "x 14.6666666667\n"
     ]
    }
   ],
   "source": [
    "from scipy.optimize import minimize\n",
    "\n",
    "w = lambda x: .5*x[0] + 1.00*x[1]\n",
    "\n",
    "constraints = (\n",
    "    {'type': 'ineq', 'fun': lambda x: 1.5*x[0] + 3.5*x[1] - 100},\n",
    "    {'type': 'ineq', 'fun': lambda x: 75.0*x[0] +25.0*x[1] - 2800}\n",
    ")\n",
    "bnds = ((0, None), (10, None), (10, None))\n",
    "res = minimize(w, (0, 0, 0), bounds=bnds, constraints=constraints)\n",
    "print res\n",
    "print 'fun', res['fun']\n",
    "print 'x', res['x'][0]\n",
    "print 'x', res['x'][1]"
   ]
  },
  {
   "cell_type": "markdown",
   "metadata": {},
   "source": [
    "## Calculation using PuPL"
   ]
  },
  {
   "cell_type": "code",
   "execution_count": 28,
   "metadata": {
    "collapsed": false
   },
   "outputs": [
    {
     "name": "stdout",
     "output_type": "stream",
     "text": [
      "fun 30.8889\n",
      "x 32.4444\n",
      "y 14.6667\n"
     ]
    }
   ],
   "source": [
    "from pulp import * \n",
    "\n",
    "# # Variables \n",
    "x = pulp.LpVariable(\"x\", 10, cat=LpContinuous) \n",
    "y = pulp.LpVariable(\"y\", 10, cat=LpContinuous) \n",
    "\n",
    "prob = LpProblem(\"DefaultCost\", LpMinimize) \n",
    "\n",
    "# # Objective \n",
    "prob += .5*x + 1.0*y, 'Cost'\n",
    "\n",
    "# # Constraints \n",
    "prob += 75*x+25*y >= 2800, 'Mix' \n",
    "prob += 1.5*x+3.5*y >= 100, 'Interest'\n",
    "# prob += -y+z == 7 \n",
    "\n",
    "prob.solve(pulp.GLPK())\n",
    "print 'fun', pulp.value(prob.objective)\n",
    "print 'x', x.varValue\n",
    "print 'y', y.varValue"
   ]
  },
  {
   "cell_type": "code",
   "execution_count": null,
   "metadata": {
    "collapsed": true
   },
   "outputs": [],
   "source": []
  }
 ],
 "metadata": {
  "kernelspec": {
   "display_name": "Python 2",
   "language": "python",
   "name": "python2"
  },
  "language_info": {
   "codemirror_mode": {
    "name": "ipython",
    "version": 2
   },
   "file_extension": ".py",
   "mimetype": "text/x-python",
   "name": "python",
   "nbconvert_exporter": "python",
   "pygments_lexer": "ipython2",
   "version": "2.7.11"
  }
 },
 "nbformat": 4,
 "nbformat_minor": 0
}
