{
 "cells": [
  {
   "cell_type": "code",
   "execution_count": 89,
   "metadata": {
    "collapsed": false
   },
   "outputs": [],
   "source": [
    "import pandas as pd\n",
    "import numpy as np\n",
    "import seaborn as sns\n",
    "import scipy.stats as stats\n",
    "\n",
    "import matplotlib.pyplot as plt\n",
    "\n",
    "pd.options.display.multi_sparse = False\n",
    "sns.set(color_codes=True)\n",
    "plt.style.use('fivethirtyeight')\n",
    "\n",
    "%matplotlib inline"
   ]
  },
  {
   "cell_type": "code",
   "execution_count": 2,
   "metadata": {
    "collapsed": true
   },
   "outputs": [],
   "source": [
    "data = pd.read_csv('GlobalElections_US_all.csv')"
   ]
  },
  {
   "cell_type": "markdown",
   "metadata": {},
   "source": [
    "We'll take only the relevant colums: year, type of election, district, total votes, and Democratic and Republican votes"
   ]
  },
  {
   "cell_type": "code",
   "execution_count": 4,
   "metadata": {
    "collapsed": false
   },
   "outputs": [],
   "source": [
    "elections = data[['year', 'legid', 'district', 'dtv', 'dm', 'p1s', 'p1v', 'p2s','p2v']]"
   ]
  },
  {
   "cell_type": "code",
   "execution_count": 6,
   "metadata": {
    "collapsed": false
   },
   "outputs": [
    {
     "data": {
      "text/html": [
       "<div>\n",
       "<table border=\"1\" class=\"dataframe\">\n",
       "  <thead>\n",
       "    <tr style=\"text-align: right;\">\n",
       "      <th></th>\n",
       "      <th>year</th>\n",
       "      <th>legid</th>\n",
       "      <th>district</th>\n",
       "      <th>dtv</th>\n",
       "      <th>dm</th>\n",
       "      <th>p1s</th>\n",
       "      <th>p1v</th>\n",
       "      <th>p2s</th>\n",
       "      <th>p2v</th>\n",
       "    </tr>\n",
       "  </thead>\n",
       "  <tbody>\n",
       "    <tr>\n",
       "      <th>0</th>\n",
       "      <td>1986</td>\n",
       "      <td>2</td>\n",
       "      <td>Wisconsin</td>\n",
       "      <td>1483174</td>\n",
       "      <td>1</td>\n",
       "      <td>0</td>\n",
       "      <td>702963</td>\n",
       "      <td>1</td>\n",
       "      <td>754573</td>\n",
       "    </tr>\n",
       "    <tr>\n",
       "      <th>1</th>\n",
       "      <td>1986</td>\n",
       "      <td>2</td>\n",
       "      <td>Washington</td>\n",
       "      <td>1337367</td>\n",
       "      <td>1</td>\n",
       "      <td>1</td>\n",
       "      <td>677471</td>\n",
       "      <td>0</td>\n",
       "      <td>650931</td>\n",
       "    </tr>\n",
       "    <tr>\n",
       "      <th>2</th>\n",
       "      <td>1986</td>\n",
       "      <td>2</td>\n",
       "      <td>Utah</td>\n",
       "      <td>435111</td>\n",
       "      <td>1</td>\n",
       "      <td>0</td>\n",
       "      <td>115523</td>\n",
       "      <td>1</td>\n",
       "      <td>314608</td>\n",
       "    </tr>\n",
       "    <tr>\n",
       "      <th>3</th>\n",
       "      <td>1986</td>\n",
       "      <td>2</td>\n",
       "      <td>Vermont</td>\n",
       "      <td>196532</td>\n",
       "      <td>1</td>\n",
       "      <td>1</td>\n",
       "      <td>124123</td>\n",
       "      <td>0</td>\n",
       "      <td>67798</td>\n",
       "    </tr>\n",
       "    <tr>\n",
       "      <th>4</th>\n",
       "      <td>1986</td>\n",
       "      <td>2</td>\n",
       "      <td>South Dakota</td>\n",
       "      <td>295830</td>\n",
       "      <td>1</td>\n",
       "      <td>1</td>\n",
       "      <td>152657</td>\n",
       "      <td>0</td>\n",
       "      <td>143173</td>\n",
       "    </tr>\n",
       "  </tbody>\n",
       "</table>\n",
       "</div>"
      ],
      "text/plain": [
       "   year  legid      district      dtv  dm  p1s     p1v  p2s     p2v\n",
       "0  1986      2     Wisconsin  1483174   1    0  702963    1  754573\n",
       "1  1986      2    Washington  1337367   1    1  677471    0  650931\n",
       "2  1986      2          Utah   435111   1    0  115523    1  314608\n",
       "3  1986      2       Vermont   196532   1    1  124123    0   67798\n",
       "4  1986      2  South Dakota   295830   1    1  152657    0  143173"
      ]
     },
     "execution_count": 6,
     "metadata": {},
     "output_type": "execute_result"
    }
   ],
   "source": [
    "elections.head(5)"
   ]
  },
  {
   "cell_type": "markdown",
   "metadata": {},
   "source": [
    "We'll parse out the state name from each district"
   ]
  },
  {
   "cell_type": "code",
   "execution_count": 9,
   "metadata": {
    "collapsed": false
   },
   "outputs": [],
   "source": [
    "elections.loc[:,'state'] = elections.loc[:,'district'].apply(lambda x: x.split('-')[0])"
   ]
  },
  {
   "cell_type": "code",
   "execution_count": 10,
   "metadata": {
    "collapsed": false
   },
   "outputs": [
    {
     "data": {
      "text/plain": [
       "array(['Wisconsin', 'Washington', 'Utah', 'Vermont', 'South Dakota',\n",
       "       'South Carolina', 'Pennsylvania', 'Oregon', 'Oklahoma', 'Ohio',\n",
       "       'North Dakota', 'New York', 'North Carolina', 'New Hampshire',\n",
       "       'Nevada', 'Missouri', 'Maryland', 'Louisiana', 'Kentucky', 'Kansas',\n",
       "       'Iowa', 'Indiana', 'Illinois', 'Hawaii', 'Idaho', 'Georgia',\n",
       "       'Florida', 'Connecticut', 'Colorado', 'California', 'Arkansas',\n",
       "       'Arizona', 'Alaska', 'Alabama', 'Wyoming', 'West Virginia',\n",
       "       'Virginia', 'Texas', 'Tennessee', 'Rhode Island', 'New Mexico',\n",
       "       'New Jersey', 'Nebraska', 'Montana', 'Mississippi', 'Minnesota',\n",
       "       'Michigan', 'Massachusetts', 'Maine', 'Delaware'], dtype=object)"
      ]
     },
     "execution_count": 10,
     "metadata": {},
     "output_type": "execute_result"
    }
   ],
   "source": [
    "elections['state'].unique()"
   ]
  },
  {
   "cell_type": "markdown",
   "metadata": {
    "collapsed": true
   },
   "source": [
    "We'll sum up all the votes per district in each state"
   ]
  },
  {
   "cell_type": "code",
   "execution_count": 13,
   "metadata": {
    "collapsed": false
   },
   "outputs": [],
   "source": [
    "state_elections = elections.groupby(['year', 'legid', 'state'], as_index=False).sum()"
   ]
  },
  {
   "cell_type": "markdown",
   "metadata": {},
   "source": [
    "Since each legid represent a type of election, we'll need to pivot this to the columns, so we can compare side by side later"
   ]
  },
  {
   "cell_type": "code",
   "execution_count": 14,
   "metadata": {
    "collapsed": false
   },
   "outputs": [],
   "source": [
    "state_elections_piv = pd.pivot_table(state_elections[['year', 'state', 'legid', 'p1v', 'p2v']],index=[\"year\", \"state\"], \n",
    "               columns=[\"legid\"],aggfunc=[np.sum])"
   ]
  },
  {
   "cell_type": "markdown",
   "metadata": {},
   "source": [
    "Let's give this columns some better names. First we'll flatten the multi-index, then assign new names "
   ]
  },
  {
   "cell_type": "code",
   "execution_count": 16,
   "metadata": {
    "collapsed": false
   },
   "outputs": [],
   "source": [
    "state_elections_piv.columns = state_elections_piv.columns.get_level_values(2)"
   ]
  },
  {
   "cell_type": "code",
   "execution_count": 17,
   "metadata": {
    "collapsed": false
   },
   "outputs": [
    {
     "data": {
      "text/plain": [
       "Int64Index([1, 2, 5, 1, 2, 5], dtype='int64', name=u'legid')"
      ]
     },
     "execution_count": 17,
     "metadata": {},
     "output_type": "execute_result"
    }
   ],
   "source": [
    "state_elections_piv.columns"
   ]
  },
  {
   "cell_type": "code",
   "execution_count": 18,
   "metadata": {
    "collapsed": false
   },
   "outputs": [],
   "source": [
    "cols = ['dem_congress', 'dem_senate', 'dem_president', \n",
    "        'rep_congress', 'rep_senate', 'rep_president']\n",
    "state_elections_piv.columns = ['dem_congress', 'dem_senate', 'dem_president', \n",
    "                               'rep_congress', 'rep_senate', 'rep_president']"
   ]
  },
  {
   "cell_type": "code",
   "execution_count": 19,
   "metadata": {
    "collapsed": false
   },
   "outputs": [],
   "source": [
    "elect = state_elections_piv.reset_index()"
   ]
  },
  {
   "cell_type": "markdown",
   "metadata": {},
   "source": [
    "We'll lag up the prior election so be able to look at the correlation"
   ]
  },
  {
   "cell_type": "code",
   "execution_count": 21,
   "metadata": {
    "collapsed": true
   },
   "outputs": [],
   "source": [
    "elect.sort_values(by=['state', 'year'], inplace=True)"
   ]
  },
  {
   "cell_type": "code",
   "execution_count": 22,
   "metadata": {
    "collapsed": false
   },
   "outputs": [],
   "source": [
    "elect.loc[:, 'prior_year'] = elect.groupby('state')['year'].shift(1)"
   ]
  },
  {
   "cell_type": "code",
   "execution_count": 23,
   "metadata": {
    "collapsed": false
   },
   "outputs": [],
   "source": [
    "for c in cols:\n",
    "    new_col = 'prior_' + c\n",
    "    elect[new_col] = elect.groupby('state')[c].shift(1)"
   ]
  },
  {
   "cell_type": "markdown",
   "metadata": {},
   "source": [
    "Let's compute margins etc"
   ]
  },
  {
   "cell_type": "code",
   "execution_count": 24,
   "metadata": {
    "collapsed": false
   },
   "outputs": [],
   "source": [
    "elect.loc[:,'senate_total'] = elect.loc[:,'rep_senate'] + elect.loc[:,'dem_senate']\n",
    "elect.loc[:,'congress_total'] = elect.loc[:,'rep_congress'] + elect.loc[:,'dem_congress']\n",
    "elect.loc[:,'prior_president_total'] = elect.loc[:,'prior_rep_president'] + elect.loc[:,'prior_dem_president']\n",
    "\n",
    "elect.loc[:,'rep_senate_margin'] = (elect.loc[:,'rep_senate']/\n",
    "                                    elect.loc[:,'senate_total']) - (elect.loc[:,'dem_senate']/\n",
    "                                                                    elect.loc[:,'senate_total'])\n",
    "\n",
    "elect.loc[:,'rep_congress_margin'] = (elect.loc[:,'rep_congress']/\n",
    "                                     elect.loc[:,'congress_total']) - (elect.loc[:,'dem_congress']/\n",
    "                                                                       elect.loc[:,'congress_total'])\n",
    "\n",
    "elect.loc[:,'prior_rep_president_margin'] = (elect.loc[:,'prior_rep_president']/\n",
    "                                         elect.loc[:,'prior_president_total']) - (elect.loc[:,'prior_dem_president']/\n",
    "                                                                                  elect.loc[:,'prior_president_total'])"
   ]
  },
  {
   "cell_type": "markdown",
   "metadata": {},
   "source": [
    "We'll look at only elections that had prior presidential elections"
   ]
  },
  {
   "cell_type": "code",
   "execution_count": 25,
   "metadata": {
    "collapsed": false
   },
   "outputs": [],
   "source": [
    "off_pres_cycle = elect[elect.prior_rep_president.notnull()]"
   ]
  },
  {
   "cell_type": "code",
   "execution_count": 26,
   "metadata": {
    "collapsed": false
   },
   "outputs": [
    {
     "data": {
      "text/plain": [
       "array([1990, 1994, 1998, 1996])"
      ]
     },
     "execution_count": 26,
     "metadata": {},
     "output_type": "execute_result"
    }
   ],
   "source": [
    "off_pres_cycle.year.unique()\n"
   ]
  },
  {
   "cell_type": "code",
   "execution_count": 28,
   "metadata": {
    "collapsed": false
   },
   "outputs": [],
   "source": [
    "off_pres_cycle.fillna(0,inplace=True)"
   ]
  },
  {
   "cell_type": "code",
   "execution_count": 29,
   "metadata": {
    "collapsed": false
   },
   "outputs": [],
   "source": [
    "years = off_pres_cycle.year.unique()\n",
    "x_cols = ['state', 'prior_rep_president_margin']\n",
    "y_cols = ['rep_congress_margin', 'rep_senate_margin']\n",
    "cols = x_cols + y_cols"
   ]
  },
  {
   "cell_type": "markdown",
   "metadata": {},
   "source": [
    "Let's look at these years one by one. (It'd be nice to just loop through the years, but matplotlib likes to just plot on the same graph if we loop)"
   ]
  },
  {
   "cell_type": "code",
   "execution_count": 75,
   "metadata": {
    "collapsed": false
   },
   "outputs": [],
   "source": [
    "def show_lin_relationship(data, year, cols):\n",
    "\n",
    "    df = data[data.year.isin([year])][cols]\n",
    "\n",
    "    X = df[cols[1]]\n",
    "    y = df[cols[2]]\n",
    "\n",
    "    slope, intercept, r_value, p_value, std_err = stats.linregress(X,y)\n",
    "\n",
    "    print '{0} {1}:{2}'.format(i, cols[1], cols[2])\n",
    "\n",
    "    print 'y = {0}x + {1}'.format(slope, intercept)\n",
    "    print 'p-value: \\t', p_value#, std_err, \n",
    "    print 'R2: \\t\\t', r_value**2\n",
    "    \n",
    "    return sns.regplot(x=X, y=y)"
   ]
  },
  {
   "cell_type": "markdown",
   "metadata": {},
   "source": [
    "#### 1996 Presidential > 1998 Senate Election"
   ]
  },
  {
   "cell_type": "code",
   "execution_count": 88,
   "metadata": {
    "collapsed": false
   },
   "outputs": [
    {
     "name": "stdout",
     "output_type": "stream",
     "text": [
      "1998 prior_rep_president_margin:rep_senate_margin\n",
      "y = 0.793088544496x + 0.0517908029185\n",
      "p-value: \t0.000333346295318\n",
      "R2: \t\t0.237331982364\n"
     ]
    },
    {
     "data": {
      "text/plain": [
       "<matplotlib.axes._subplots.AxesSubplot at 0x113e96290>"
      ]
     },
     "execution_count": 88,
     "metadata": {},
     "output_type": "execute_result"
    },
    {
     "data": {
      "image/png": "[encoded data removed]",
      "text/plain": [
       "<matplotlib.figure.Figure at 0x1140cba50>"
      ]
     },
     "metadata": {},
     "output_type": "display_data"
    }
   ],
   "source": [
    "i = 1998\n",
    "cols = ['state', 'prior_rep_president_margin', 'rep_senate_margin']\n",
    "show_lin_relationship(off_pres_cycle, i, cols)"
   ]
  },
  {
   "cell_type": "markdown",
   "metadata": {},
   "source": [
    "#### 1996 Presidential > 1998 Congressional Election"
   ]
  },
  {
   "cell_type": "code",
   "execution_count": 76,
   "metadata": {
    "collapsed": false,
    "scrolled": true
   },
   "outputs": [
    {
     "name": "stdout",
     "output_type": "stream",
     "text": [
      "1998 prior_rep_president_margin:rep_congress_margin\n",
      "y = 1.09115309147x + 0.104243308174\n",
      "p-value: \t9.51103543251e-07\n",
      "R2: \t\t0.396814518953\n"
     ]
    },
    {
     "data": {
      "text/plain": [
       "<matplotlib.axes._subplots.AxesSubplot at 0x1130095d0>"
      ]
     },
     "execution_count": 76,
     "metadata": {},
     "output_type": "execute_result"
    },
    {
     "data": {
      "image/png": "[encoded data removed]",
      "text/plain": [
       "<matplotlib.figure.Figure at 0x112175690>"
      ]
     },
     "metadata": {},
     "output_type": "display_data"
    }
   ],
   "source": [
    "i = 1998\n",
    "cols = ['state', 'prior_rep_president_margin', 'rep_congress_margin']\n",
    "\n",
    "show_lin_relationship(off_pres_cycle, i, cols)"
   ]
  },
  {
   "cell_type": "markdown",
   "metadata": {},
   "source": [
    "#### 1992 Presidential > 1994 Congressional Election"
   ]
  },
  {
   "cell_type": "code",
   "execution_count": 78,
   "metadata": {
    "collapsed": false
   },
   "outputs": [
    {
     "name": "stdout",
     "output_type": "stream",
     "text": [
      "1994 prior_rep_president_margin:rep_congress_margin\n",
      "y = 0.623287687321x + 0.0967130483032\n",
      "p-value: \t0.00163571700308\n",
      "R2: \t\t0.192054837709\n"
     ]
    },
    {
     "data": {
      "text/plain": [
       "<matplotlib.axes._subplots.AxesSubplot at 0x1132559d0>"
      ]
     },
     "execution_count": 78,
     "metadata": {},
     "output_type": "execute_result"
    },
    {
     "data": {
      "image/png": "[encoded data removed]",
      "text/plain": [
       "<matplotlib.figure.Figure at 0x113009910>"
      ]
     },
     "metadata": {},
     "output_type": "display_data"
    }
   ],
   "source": [
    "i = 1994\n",
    "cols = ['state', 'prior_rep_president_margin', 'rep_congress_margin']\n",
    "\n",
    "show_lin_relationship(off_pres_cycle, i, cols)"
   ]
  },
  {
   "cell_type": "markdown",
   "metadata": {},
   "source": [
    "#### 1992 Presidential > 1994 Senate Election"
   ]
  },
  {
   "cell_type": "code",
   "execution_count": 84,
   "metadata": {
    "collapsed": false
   },
   "outputs": [
    {
     "name": "stdout",
     "output_type": "stream",
     "text": [
      "1994 prior_rep_president_margin:rep_senate_margin\n",
      "y = 0.423862521796x + 0.0553155343235\n",
      "p-value: \t0.048572936784\n",
      "R2: \t\t0.0802431322867\n"
     ]
    },
    {
     "data": {
      "text/plain": [
       "<matplotlib.axes._subplots.AxesSubplot at 0x1138c5ed0>"
      ]
     },
     "execution_count": 84,
     "metadata": {},
     "output_type": "execute_result"
    },
    {
     "data": {
      "image/png": "[encoded data removed]",
      "text/plain": [
       "<matplotlib.figure.Figure at 0x113a5a210>"
      ]
     },
     "metadata": {},
     "output_type": "display_data"
    }
   ],
   "source": [
    "i = 1994\n",
    "cols = ['state', 'prior_rep_president_margin', 'rep_senate_margin']\n",
    "\n",
    "show_lin_relationship(off_pres_cycle, i, cols)"
   ]
  },
  {
   "cell_type": "markdown",
   "metadata": {},
   "source": [
    "#### 1998 Presidential > 1990 Senate Election"
   ]
  },
  {
   "cell_type": "code",
   "execution_count": 86,
   "metadata": {
    "collapsed": false
   },
   "outputs": [
    {
     "name": "stdout",
     "output_type": "stream",
     "text": [
      "1990 prior_rep_president_margin:rep_senate_margin\n",
      "y = 0.511164099099x + -0.0559237978217\n",
      "p-value: \t0.0603594946142\n",
      "R2: \t\t0.0715639454839\n"
     ]
    },
    {
     "data": {
      "text/plain": [
       "<matplotlib.axes._subplots.AxesSubplot at 0x113c96790>"
      ]
     },
     "execution_count": 86,
     "metadata": {},
     "output_type": "execute_result"
    },
    {
     "data": {
      "image/png": "[encoded data removed]",
      "text/plain": [
       "<matplotlib.figure.Figure at 0x113d59690>"
      ]
     },
     "metadata": {},
     "output_type": "display_data"
    }
   ],
   "source": [
    "i = 1990\n",
    "cols = ['state', 'prior_rep_president_margin', 'rep_senate_margin']\n",
    "show_lin_relationship(off_pres_cycle, i, cols)"
   ]
  },
  {
   "cell_type": "markdown",
   "metadata": {},
   "source": [
    "#### 1998 Presidential > 1990 Congressional Election"
   ]
  },
  {
   "cell_type": "code",
   "execution_count": 87,
   "metadata": {
    "collapsed": false
   },
   "outputs": [
    {
     "name": "stdout",
     "output_type": "stream",
     "text": [
      "1990 prior_rep_president_margin:rep_congress_margin\n",
      "y = 0.0541455369402x + -0.0865152195732\n",
      "p-value: \t0.8436514397\n",
      "R2: \t\t0.000818518145681\n"
     ]
    },
    {
     "data": {
      "text/plain": [
       "<matplotlib.axes._subplots.AxesSubplot at 0x113e2a550>"
      ]
     },
     "execution_count": 87,
     "metadata": {},
     "output_type": "execute_result"
    },
    {
     "data": {
      "image/png": "[encoded data removed]",
      "text/plain": [
       "<matplotlib.figure.Figure at 0x113e9f2d0>"
      ]
     },
     "metadata": {},
     "output_type": "display_data"
    }
   ],
   "source": [
    "i = 1990\n",
    "cols = ['state', 'prior_rep_president_margin', 'rep_congress_margin']\n",
    "show_lin_relationship(off_pres_cycle, i, cols)"
   ]
  },
  {
   "cell_type": "code",
   "execution_count": null,
   "metadata": {
    "collapsed": true
   },
   "outputs": [],
   "source": []
  }
 ],
 "metadata": {
  "kernelspec": {
   "display_name": "Python 2",
   "language": "python",
   "name": "python2"
  },
  "language_info": {
   "codemirror_mode": {
    "name": "ipython",
    "version": 2
   },
   "file_extension": ".py",
   "mimetype": "text/x-python",
   "name": "python",
   "nbconvert_exporter": "python",
   "pygments_lexer": "ipython2",
   "version": "2.7.11"
  }
 },
 "nbformat": 4,
 "nbformat_minor": 0
}
