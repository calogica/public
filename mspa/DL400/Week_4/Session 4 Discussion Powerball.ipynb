{
 "cells": [
  {
   "cell_type": "code",
   "execution_count": 57,
   "metadata": {
    "collapsed": false
   },
   "outputs": [],
   "source": [
    "import numpy as np\n",
    "import scipy.stats\n",
    "import scipy.misc\n",
    "import matplotlib.pyplot as plt\n",
    "import seaborn as sns\n",
    "\n",
    "plt.style.use('seaborn-white')\n",
    "\n",
    "%matplotlib inline"
   ]
  },
  {
   "cell_type": "markdown",
   "metadata": {},
   "source": [
    "# Week 4 Probabilities in the Powerball Lottery\n",
    "For this week's discussion, I thought I'd take a look at probabilities and odds for Powerball. With the recent Powerball craze surrounding record breaking jackpots, there were numerous articles discussing the ever-so-distant chances at winning the $1.5 billion jackpot. \n",
    "\n",
    "Specifically, I liked [this article in Wired](http://www.wired.com/2016/01/the-fascinating-math-behind-why-you-wont-win-powerball/) on 'Why You Won't Win Powerball' that also took a look at expected value of a $2 Powerball ticket. In addition, of course, FiveThirtyEight had a [number of good articles](http://fivethirtyeight.com/features/billion-dollar-powerball-lottery/). Lastly, the [Powerball website](http://www.powerball.com/powerball/pb_prizes.asp) had some interesting odds to check out.\n",
    "\n",
    "For off, I wanted to verify the calculation of the overall odds of winning the jackpot, which is often quoted as 1 in more than 292 million. To do that I had to snoop in chapter 8 a little bit to get the number of possible combinations. To win the grand prize in Powerball, you need to get all 5 white balls correct, which have values from 1 to 69, as well as the Powerball which has values from 1 to 26.\n",
    "\n",
    "So, with a bit of Python, we can see that the Powerball jackpot has indeed odds of winning of 1 in 292,201,338  or 0.0000000034%.  Or, in other words, the odds are 292,201,337 to 1 against you winning the jackpot."
   ]
  },
  {
   "cell_type": "markdown",
   "metadata": {},
   "source": [
    "### Odds of a Winning Combination"
   ]
  },
  {
   "cell_type": "code",
   "execution_count": 3,
   "metadata": {
    "collapsed": false,
    "scrolled": true
   },
   "outputs": [],
   "source": [
    "white_balls = 5\n",
    "white_numbers = 69\n",
    "power_balls = 1\n",
    "power_numbers = 26\n",
    "\n",
    "white_combinations = int(scipy.misc.comb(white_numbers, white_balls))\n",
    "power_combinations = int(scipy.misc.comb(power_numbers, power_balls))\n",
    "total_combinations = white_combinations*power_combinations"
   ]
  },
  {
   "cell_type": "code",
   "execution_count": 4,
   "metadata": {
    "collapsed": false,
    "scrolled": true
   },
   "outputs": [
    {
     "name": "stdout",
     "output_type": "stream",
     "text": [
      "white_combinations \t11,238,513\n",
      "power_combinations \t26\n",
      "total_combinations \t292,201,338\n",
      "probability \t\t0.0000000034%\n",
      "\t\t\t1 in 292,201,338\n",
      "odds \t\t\t292,201,337 to 1\n"
     ]
    }
   ],
   "source": [
    "print 'white_combinations \\t{0:,}'.format(white_combinations)\n",
    "print 'power_combinations \\t{0:,}'.format(power_combinations)\n",
    "print 'total_combinations \\t{0:,}'.format(total_combinations)\n",
    "print 'probability \\t\\t{0:.10f}%'.format(1.0/total_combinations)\n",
    "print '\\t\\t\\t1 in {0:,}'.format(total_combinations)\n",
    "print 'odds \\t\\t\\t{0:,} to 1'.format(total_combinations-1)"
   ]
  },
  {
   "cell_type": "markdown",
   "metadata": {},
   "source": [
    "### Odds of winning \\$1MM\n",
    "I was also intrigued by the stats on the Powerball website re: the probability of winning their \n",
    "\\$1MM prize, which requires all 5 white balls to be correct, but not the Powerball. They claim that you have a '1 in 11,688,053.52' chance of winning \\$1MM. Since this precludes you also getting the Powerball correct, I figure we should calculate this as the probability of getting all 5 white balls correct x the probability of not getting the Powerball (i.e. the complement to getting the Powerball):\n",
    "\n",
    "M: winning the million dollar prize, W: getting all five white balls correct, PB: getting the Powerball correct\n",
    "\n",
    "$P(M) = P(W) P(PB') = P(W) (1-P(PB))$\n",
    "\n",
    "So,"
   ]
  },
  {
   "cell_type": "code",
   "execution_count": 5,
   "metadata": {
    "collapsed": false
   },
   "outputs": [
    {
     "name": "stdout",
     "output_type": "stream",
     "text": [
      "probability\t 0.0000000856%\n",
      "\t\t 1 in 11,688,053.52\n"
     ]
    }
   ],
   "source": [
    "# odds of $1MM\n",
    "mm = (1.0/white_combinations)*(1-1.0/power_combinations)\n",
    "print 'probability\\t {0:.10f}%'.format(mm)\n",
    "print '\\t\\t 1 in {0:,}'.format(1./mm)"
   ]
  },
  {
   "cell_type": "markdown",
   "metadata": {},
   "source": [
    "## Odds of splitting the jackpot\n",
    "Lastly, the FireThirtyEight article also worked through the odds of having to split the jackpot, i.e. there is more than one winning ticket. This depends on the number of tickets sold, and given the hype surrounding this jackpot, a record number of tickets was expected to be sold. Through extrapolation from prior drawings, the authors arrived at an estimate of just over 1 billion tickets sold (which might be admittedly high). Based on this number, they claim a 97% chance of at least one winner.\n",
    "\n",
    "From some of the article commentary surrounding this stat, I learned that this was likely computed using a [binomial distribution](https://www.wikiwand.com/en/Binomial_distribution), so using Python's [scipy](http://docs.scipy.org/doc/scipy-0.16.1/reference/generated/scipy.stats.binom.html) module I wanted to see if we can get close to this by computing the chances of having no winner:"
   ]
  },
  {
   "cell_type": "code",
   "execution_count": 9,
   "metadata": {
    "collapsed": false
   },
   "outputs": [],
   "source": [
    "from scipy.stats import binom\n",
    "\n",
    "# estimated tickets sold\n",
    "n = 1.008*1e9 \n",
    "k = 1\n",
    "p = 1.0/total_combinations"
   ]
  },
  {
   "cell_type": "code",
   "execution_count": 10,
   "metadata": {
    "collapsed": false
   },
   "outputs": [
    {
     "name": "stdout",
     "output_type": "stream",
     "text": [
      "3.44967619553 3.44967618372 0.538407166358 0.289882274802\n"
     ]
    }
   ],
   "source": [
    "mean, var, skew, kurt = binom.stats(n, p, moments='mvsk')\n",
    "print mean, var, skew, kurt"
   ]
  },
  {
   "cell_type": "code",
   "execution_count": 11,
   "metadata": {
    "collapsed": false
   },
   "outputs": [
    {
     "name": "stdout",
     "output_type": "stream",
     "text": [
      "probability of 0 winners:\t\t3.1756%\n",
      "probability of 1 winner:\t\t10.9547%\n",
      "probability of at least 1 winner:\t96.8244%\n",
      "probability of 2 winners:\t\t18.8952%\n"
     ]
    }
   ],
   "source": [
    "print 'probability of 0 winners:\\t\\t{0:.4f}%'.format(binom.pmf(0, n, p)*100)\n",
    "print 'probability of 1 winner:\\t\\t{0:.4f}%'.format(binom.pmf(1, n, p)*100)\n",
    "print 'probability of at least 1 winner:\\t{0:.4f}%'.format((1-binom.pmf(0, n, p))*100)\n",
    "print 'probability of 2 winners:\\t\\t{0:.4f}%'.format(binom.pmf(2, n, p)*100)"
   ]
  },
  {
   "cell_type": "markdown",
   "metadata": {},
   "source": [
    "#### Binomial Distribution Plot\n",
    "First, we'll take a look at the binomial distribution for our Powerball probabilities "
   ]
  },
  {
   "cell_type": "code",
   "execution_count": 66,
   "metadata": {
    "collapsed": false
   },
   "outputs": [
    {
     "data": {
      "image/png": "[encoded data removed]",
      "text/plain": [
       "<matplotlib.figure.Figure at 0x10cc29190>"
      ]
     },
     "metadata": {},
     "output_type": "display_data"
    }
   ],
   "source": [
    "fig = plt.figure(figsize=(9, 6))\n",
    "\n",
    "plt.grid(True)\n",
    "\n",
    "x = np.arange(binom.ppf(0.01, n, p), binom.ppf(0.999999, n, p))\n",
    "plt.xlim(-.1, binom.ppf(0.999999, n, p) + .1)\n",
    "plt.xticks(x)\n",
    "plt.plot(x, binom.pmf(x, n, p), 'bo', ms=8, label='binom pmf')\n",
    "plt.vlines(x, 0, binom.pmf(x, n, p), colors='b', lw=5, alpha=0.5)\n",
    "plt.show()"
   ]
  },
  {
   "cell_type": "markdown",
   "metadata": {},
   "source": [
    "Then, we can compute the probability of having to spit the jackpot with at least one more winner by finding complemenet to the probabilities of having exactly 0 and 1 winners: "
   ]
  },
  {
   "cell_type": "code",
   "execution_count": 14,
   "metadata": {
    "collapsed": false
   },
   "outputs": [],
   "source": [
    "prob_0_winners = binom.pmf(0, n, p)\n",
    "prob_1_winner = binom.pmf(1, n, p)\n",
    "prob_2_winners = 1 - (prob_0_winners + prob_1_winner)"
   ]
  },
  {
   "cell_type": "code",
   "execution_count": 15,
   "metadata": {
    "collapsed": false
   },
   "outputs": [
    {
     "name": "stdout",
     "output_type": "stream",
     "text": [
      "probability\t 85.87%\n",
      "odds \t\t 1 in 1.1645555349\n"
     ]
    }
   ],
   "source": [
    "print 'probability\\t {0:.2f}%'.format(prob_2_winners*100)\n",
    "print 'odds \\t\\t 1 in {0:,}'.format(1./prob_2_winners)"
   ]
  },
  {
   "cell_type": "markdown",
   "metadata": {},
   "source": [
    "Thus based on the estimated 1.008 billion tickets sold, there's an 86% chance a winner would have to split the jackpot with at least one more person.\n",
    "\n",
    "Another way to think of the probability of having more than 1 winner is to look at the cumulative probability distribution:"
   ]
  },
  {
   "cell_type": "markdown",
   "metadata": {},
   "source": [
    "#### Cumulative Binomial Distribution"
   ]
  },
  {
   "cell_type": "code",
   "execution_count": 16,
   "metadata": {
    "collapsed": false
   },
   "outputs": [
    {
     "data": {
      "text/plain": [
       "array([ 0.03175592,  0.14130354,  0.3302555 ,  0.54752981,  0.73491133,\n",
       "        0.86419244,  0.9385221 ,  0.97515256,  0.99094797,  0.99700231,\n",
       "        0.99909086,  0.99974584,  0.99993413,  0.99998409,  0.99999641])"
      ]
     },
     "execution_count": 16,
     "metadata": {},
     "output_type": "execute_result"
    }
   ],
   "source": [
    "binom.cdf(x, n, p)"
   ]
  },
  {
   "cell_type": "code",
   "execution_count": 18,
   "metadata": {
    "collapsed": false
   },
   "outputs": [
    {
     "data": {
      "image/png": "[encoded data removed]",
      "text/plain": [
       "<matplotlib.figure.Figure at 0x10bedf5d0>"
      ]
     },
     "metadata": {},
     "output_type": "display_data"
    }
   ],
   "source": [
    "fig, ax = plt.subplots(1, 1)\n",
    "# plt.xlim(-.1, 4.1)\n",
    "plt.grid(True)\n",
    "\n",
    "ax.plot(x, binom.cdf(x, n, p), 'bo', ms=8, label='binom cdf')\n",
    "ax.vlines(x, 0, binom.cdf(x, n, p), colors='b', lw=5, alpha=0.5)\n",
    "plt.show()"
   ]
  },
  {
   "cell_type": "code",
   "execution_count": 17,
   "metadata": {
    "collapsed": false
   },
   "outputs": [
    {
     "data": {
      "text/plain": [
       "0.85869645564152686"
      ]
     },
     "execution_count": 17,
     "metadata": {},
     "output_type": "execute_result"
    }
   ],
   "source": [
    "(1 - binom.cdf(1, n, p))"
   ]
  },
  {
   "cell_type": "markdown",
   "metadata": {},
   "source": [
    "Which gives us the same result:  0.8586"
   ]
  },
  {
   "cell_type": "markdown",
   "metadata": {},
   "source": [
    "### Probability of Winners by # of Tickets Sold\n",
    "We can also graph the distribution functions for 0, 1 and more than 1 winner by tickets sold. To do that, I set up a range up to the maximum tickets sold (estimated anyway) of 1 billion and pass that into the respective functions to get the probability for 0, 1, and more than 1 for that level of tickets (assuming our previously calculated probability of winning the jackpot)"
   ]
  },
  {
   "cell_type": "code",
   "execution_count": 19,
   "metadata": {
    "collapsed": false
   },
   "outputs": [
    {
     "data": {
      "image/png": "[encoded data removed]",
      "text/plain": [
       "<matplotlib.figure.Figure at 0x10c2e78d0>"
      ]
     },
     "metadata": {},
     "output_type": "display_data"
    }
   ],
   "source": [
    "tickets = np.arange(1000000, n, 1000)\n",
    "\n",
    "fig = plt.figure(figsize=(9, 6))\n",
    "\n",
    "plt.grid(True)\n",
    "\n",
    "plt.xlabel('Tickets Sold')\n",
    "plt.ylabel('Probability of 0 Winners')\n",
    "\n",
    "plt.plot(tickets, binom.pmf(0, tickets, p), '-', label='No Winner')\n",
    "plt.plot(tickets, binom.pmf(1, tickets, p), '-', label='Only 1 Winner')\n",
    "plt.plot(tickets, 1 - binom.cdf(1, tickets, p), '-', label='More than 1 Winner')\n",
    "\n",
    "plt.legend(loc='best')\n",
    "plt.show()"
   ]
  },
  {
   "cell_type": "markdown",
   "metadata": {},
   "source": [
    "### Expected Value\n",
    "Another topic I wanted to explore is what is the expected value of a Powerball given a certain jackpot?\n",
    "\n",
    "Using the tax assumptions from [this article on CNBC](http://www.cnbc.com/2016/01/11/tallying-the-big-tax-bite-of-a-14b-powerball-win.html), and the jackpot amount from above, it looks like that once you factor in the discount inherent in taking the lumpsum amount, taxes etc, even this record jackpot has a negative net expected value of around \\$1.73 for a \\$2 ticket.\n",
    "\n",
    "Obviously we can play around with the assumptions, but while the raw expected value looks great at this level, and the breakeven for a \\$2 given our probabilities calculated earlier looks to be around a \\$600 jackpot, the net expected value never approaches the breakeven line."
   ]
  },
  {
   "cell_type": "code",
   "execution_count": 56,
   "metadata": {
    "collapsed": false
   },
   "outputs": [
    {
     "name": "stdout",
     "output_type": "stream",
     "text": [
      "expected value \t\t$5.43\n",
      "net expected value \t$1.73\n",
      "take-home jackpot\t$504,836,488.0\n"
     ]
    }
   ],
   "source": [
    "jackpot = 1586000000\n",
    "lump_sum_discount = (1-.38)\n",
    "federal_tax = .396\n",
    "state_local_tax = .15\n",
    "\n",
    "\n",
    "print 'expected value \\t\\t${0:.2f}'.format(1.0/total_combinations * jackpot)\n",
    "print 'net expected value \\t${0:.2f}'.format(1.0/total_combinations * jackpot * lump_sum_discount * \n",
    "                                             (1-federal_tax) * (1-state_local_tax))\n",
    "\n",
    "print 'take-home jackpot\\t${0:,}'.format(jackpot * lump_sum_discount * (1-federal_tax) * (1-state_local_tax))"
   ]
  },
  {
   "cell_type": "markdown",
   "metadata": {},
   "source": [
    "Plotting expected value of a ticket against a range of possible jackpots from $100 million to the latest record jackpot:"
   ]
  },
  {
   "cell_type": "code",
   "execution_count": 47,
   "metadata": {
    "collapsed": false
   },
   "outputs": [
    {
     "data": {
      "image/png": "[encoded data removed]",
      "text/plain": [
       "<matplotlib.figure.Figure at 0x10ef75410>"
      ]
     },
     "metadata": {},
     "output_type": "display_data"
    }
   ],
   "source": [
    "jackpots = np.arange(100000000, jackpot, 1000000)\n",
    "\n",
    "fig = plt.figure(figsize=(9, 6))\n",
    "\n",
    "ev = 1.0/total_combinations * jackpots\n",
    "ev_net = ev * lump_sum_discount * (1-federal_tax) * (1-gambling_tax)\n",
    "plt.grid(True)\n",
    "\n",
    "plt.xlabel('Jackpot')\n",
    "plt.ylabel('Expected Value')\n",
    "\n",
    "plt.plot(jackpots, ev, '-', label='Expected Value')\n",
    "plt.plot(jackpots, ev_net, '-', label='Net Expected Value')\n",
    "plt.plot(jackpots, jackpots * 0 + 2, '--', label='$ Breakeven')\n",
    "# plt.plot(tickets, 1 - binom.cdf(1, tickets, p), '-', label='More than 1 Winner')\n",
    "\n",
    "plt.legend(loc='best')\n",
    "plt.show()"
   ]
  },
  {
   "cell_type": "code",
   "execution_count": null,
   "metadata": {
    "collapsed": true
   },
   "outputs": [],
   "source": []
  }
 ],
 "metadata": {
  "kernelspec": {
   "display_name": "Python 2",
   "language": "python",
   "name": "python2"
  },
  "language_info": {
   "codemirror_mode": {
    "name": "ipython",
    "version": 2
   },
   "file_extension": ".py",
   "mimetype": "text/x-python",
   "name": "python",
   "nbconvert_exporter": "python",
   "pygments_lexer": "ipython2",
   "version": "2.7.11"
  }
 },
 "nbformat": 4,
 "nbformat_minor": 0
}
