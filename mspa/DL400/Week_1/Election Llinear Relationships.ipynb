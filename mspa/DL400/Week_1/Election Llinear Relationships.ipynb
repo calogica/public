{
 "cells": [
  {
   "cell_type": "code",
   "execution_count": 7,
   "metadata": {
    "collapsed": false
   },
   "outputs": [],
   "source": [
    "import pandas as pd\n",
    "import numpy as np\n",
    "import seaborn as sns\n",
    "import scipy.stats as stats\n",
    "\n",
    "import matplotlib.pyplot as plt\n",
    "\n",
    "pd.options.display.multi_sparse = False\n",
    "sns.set(color_codes=True)\n",
    "plt.style.use('fivethirtyeight')\n",
    "\n",
    "%matplotlib inline"
   ]
  },
  {
   "cell_type": "code",
   "execution_count": 8,
   "metadata": {
    "collapsed": true
   },
   "outputs": [],
   "source": [
    "data = pd.read_csv('GlobalElections_US_all.csv')"
   ]
  },
  {
   "cell_type": "markdown",
   "metadata": {},
   "source": [
    "We'll take only the relevant colums: year, type of election, district, total votes, and Democratic and Republican votes"
   ]
  },
  {
   "cell_type": "code",
   "execution_count": 9,
   "metadata": {
    "collapsed": false
   },
   "outputs": [],
   "source": [
    "elections = data[['year', 'legid', 'district', 'dtv', 'dm', 'p1s', 'p1v', 'p2s','p2v']]"
   ]
  },
  {
   "cell_type": "code",
   "execution_count": 10,
   "metadata": {
    "collapsed": false
   },
   "outputs": [
    {
     "data": {
      "text/html": [
       "<div>\n",
       "<table border=\"1\" class=\"dataframe\">\n",
       "  <thead>\n",
       "    <tr style=\"text-align: right;\">\n",
       "      <th></th>\n",
       "      <th>year</th>\n",
       "      <th>legid</th>\n",
       "      <th>district</th>\n",
       "      <th>dtv</th>\n",
       "      <th>dm</th>\n",
       "      <th>p1s</th>\n",
       "      <th>p1v</th>\n",
       "      <th>p2s</th>\n",
       "      <th>p2v</th>\n",
       "    </tr>\n",
       "  </thead>\n",
       "  <tbody>\n",
       "    <tr>\n",
       "      <th>0</th>\n",
       "      <td>1986</td>\n",
       "      <td>2</td>\n",
       "      <td>Wisconsin</td>\n",
       "      <td>1483174</td>\n",
       "      <td>1</td>\n",
       "      <td>0</td>\n",
       "      <td>702963</td>\n",
       "      <td>1</td>\n",
       "      <td>754573</td>\n",
       "    </tr>\n",
       "    <tr>\n",
       "      <th>1</th>\n",
       "      <td>1986</td>\n",
       "      <td>2</td>\n",
       "      <td>Washington</td>\n",
       "      <td>1337367</td>\n",
       "      <td>1</td>\n",
       "      <td>1</td>\n",
       "      <td>677471</td>\n",
       "      <td>0</td>\n",
       "      <td>650931</td>\n",
       "    </tr>\n",
       "    <tr>\n",
       "      <th>2</th>\n",
       "      <td>1986</td>\n",
       "      <td>2</td>\n",
       "      <td>Utah</td>\n",
       "      <td>435111</td>\n",
       "      <td>1</td>\n",
       "      <td>0</td>\n",
       "      <td>115523</td>\n",
       "      <td>1</td>\n",
       "      <td>314608</td>\n",
       "    </tr>\n",
       "    <tr>\n",
       "      <th>3</th>\n",
       "      <td>1986</td>\n",
       "      <td>2</td>\n",
       "      <td>Vermont</td>\n",
       "      <td>196532</td>\n",
       "      <td>1</td>\n",
       "      <td>1</td>\n",
       "      <td>124123</td>\n",
       "      <td>0</td>\n",
       "      <td>67798</td>\n",
       "    </tr>\n",
       "    <tr>\n",
       "      <th>4</th>\n",
       "      <td>1986</td>\n",
       "      <td>2</td>\n",
       "      <td>South Dakota</td>\n",
       "      <td>295830</td>\n",
       "      <td>1</td>\n",
       "      <td>1</td>\n",
       "      <td>152657</td>\n",
       "      <td>0</td>\n",
       "      <td>143173</td>\n",
       "    </tr>\n",
       "  </tbody>\n",
       "</table>\n",
       "</div>"
      ],
      "text/plain": [
       "   year  legid      district      dtv  dm  p1s     p1v  p2s     p2v\n",
       "0  1986      2     Wisconsin  1483174   1    0  702963    1  754573\n",
       "1  1986      2    Washington  1337367   1    1  677471    0  650931\n",
       "2  1986      2          Utah   435111   1    0  115523    1  314608\n",
       "3  1986      2       Vermont   196532   1    1  124123    0   67798\n",
       "4  1986      2  South Dakota   295830   1    1  152657    0  143173"
      ]
     },
     "execution_count": 10,
     "metadata": {},
     "output_type": "execute_result"
    }
   ],
   "source": [
    "elections.head(5)"
   ]
  },
  {
   "cell_type": "markdown",
   "metadata": {},
   "source": [
    "We'll parse out the state name from each district"
   ]
  },
  {
   "cell_type": "code",
   "execution_count": 11,
   "metadata": {
    "collapsed": false
   },
   "outputs": [],
   "source": [
    "elections.loc[:,'state'] = elections.loc[:,'district'].apply(lambda x: x.split('-')[0])"
   ]
  },
  {
   "cell_type": "code",
   "execution_count": 22,
   "metadata": {
    "collapsed": false
   },
   "outputs": [
    {
     "data": {
      "text/plain": [
       "['Alabama',\n",
       " 'Alaska',\n",
       " 'Arizona',\n",
       " 'Arkansas',\n",
       " 'California',\n",
       " 'Colorado',\n",
       " 'Connecticut',\n",
       " 'Delaware',\n",
       " 'Florida',\n",
       " 'Georgia',\n",
       " 'Hawaii',\n",
       " 'Idaho',\n",
       " 'Illinois',\n",
       " 'Indiana',\n",
       " 'Iowa',\n",
       " 'Kansas',\n",
       " 'Kentucky',\n",
       " 'Louisiana',\n",
       " 'Maine',\n",
       " 'Maryland',\n",
       " 'Massachusetts',\n",
       " 'Michigan',\n",
       " 'Minnesota',\n",
       " 'Mississippi',\n",
       " 'Missouri',\n",
       " 'Montana',\n",
       " 'Nebraska',\n",
       " 'Nevada',\n",
       " 'New Hampshire',\n",
       " 'New Jersey',\n",
       " 'New Mexico',\n",
       " 'New York',\n",
       " 'North Carolina',\n",
       " 'North Dakota',\n",
       " 'Ohio',\n",
       " 'Oklahoma',\n",
       " 'Oregon',\n",
       " 'Pennsylvania',\n",
       " 'Rhode Island',\n",
       " 'South Carolina',\n",
       " 'South Dakota',\n",
       " 'Tennessee',\n",
       " 'Texas',\n",
       " 'Utah',\n",
       " 'Vermont',\n",
       " 'Virginia',\n",
       " 'Washington',\n",
       " 'West Virginia',\n",
       " 'Wisconsin',\n",
       " 'Wyoming']"
      ]
     },
     "execution_count": 22,
     "metadata": {},
     "output_type": "execute_result"
    }
   ],
   "source": [
    "states = list(elections['state'].unique())\n",
    "sorted(states)"
   ]
  },
  {
   "cell_type": "markdown",
   "metadata": {
    "collapsed": true
   },
   "source": [
    "We'll sum up all the votes per district in each state"
   ]
  },
  {
   "cell_type": "code",
   "execution_count": 23,
   "metadata": {
    "collapsed": false
   },
   "outputs": [],
   "source": [
    "state_elections = elections.groupby(['year', 'legid', 'state'], as_index=False).sum()"
   ]
  },
  {
   "cell_type": "markdown",
   "metadata": {},
   "source": [
    "Since each legid represent a type of election, we'll need to pivot this to the columns, so we can compare side by side later"
   ]
  },
  {
   "cell_type": "code",
   "execution_count": 24,
   "metadata": {
    "collapsed": false
   },
   "outputs": [],
   "source": [
    "state_elections_piv = pd.pivot_table(state_elections[['year', 'state', 'legid', 'p1v', 'p2v']],index=[\"year\", \"state\"], \n",
    "               columns=[\"legid\"],aggfunc=[np.sum])"
   ]
  },
  {
   "cell_type": "markdown",
   "metadata": {},
   "source": [
    "Let's give this columns some better names. First we'll flatten the multi-index, then assign new names "
   ]
  },
  {
   "cell_type": "code",
   "execution_count": 25,
   "metadata": {
    "collapsed": false
   },
   "outputs": [],
   "source": [
    "state_elections_piv.columns = state_elections_piv.columns.get_level_values(2)"
   ]
  },
  {
   "cell_type": "code",
   "execution_count": 26,
   "metadata": {
    "collapsed": false
   },
   "outputs": [
    {
     "data": {
      "text/plain": [
       "Int64Index([1, 2, 5, 1, 2, 5], dtype='int64', name=u'legid')"
      ]
     },
     "execution_count": 26,
     "metadata": {},
     "output_type": "execute_result"
    }
   ],
   "source": [
    "state_elections_piv.columns"
   ]
  },
  {
   "cell_type": "code",
   "execution_count": 27,
   "metadata": {
    "collapsed": false
   },
   "outputs": [],
   "source": [
    "cols = ['dem_congress', 'dem_senate', 'dem_president', \n",
    "        'rep_congress', 'rep_senate', 'rep_president']\n",
    "state_elections_piv.columns = ['dem_congress', 'dem_senate', 'dem_president', \n",
    "                               'rep_congress', 'rep_senate', 'rep_president']"
   ]
  },
  {
   "cell_type": "code",
   "execution_count": 28,
   "metadata": {
    "collapsed": false
   },
   "outputs": [],
   "source": [
    "elect = state_elections_piv.reset_index()"
   ]
  },
  {
   "cell_type": "markdown",
   "metadata": {},
   "source": [
    "We'll lag up the prior election so be able to look at the correlation"
   ]
  },
  {
   "cell_type": "code",
   "execution_count": 29,
   "metadata": {
    "collapsed": true
   },
   "outputs": [],
   "source": [
    "elect.sort_values(by=['state', 'year'], inplace=True)"
   ]
  },
  {
   "cell_type": "code",
   "execution_count": 30,
   "metadata": {
    "collapsed": false
   },
   "outputs": [],
   "source": [
    "elect.loc[:, 'prior_year'] = elect.groupby('state')['year'].shift(1)"
   ]
  },
  {
   "cell_type": "code",
   "execution_count": 31,
   "metadata": {
    "collapsed": false
   },
   "outputs": [],
   "source": [
    "for c in cols:\n",
    "    new_col = 'prior_' + c\n",
    "    elect[new_col] = elect.groupby('state')[c].shift(1)"
   ]
  },
  {
   "cell_type": "markdown",
   "metadata": {},
   "source": [
    "Let's compute margins etc"
   ]
  },
  {
   "cell_type": "code",
   "execution_count": 32,
   "metadata": {
    "collapsed": false
   },
   "outputs": [],
   "source": [
    "elect.loc[:,'senate_total'] = elect.loc[:,'rep_senate'] + elect.loc[:,'dem_senate']\n",
    "elect.loc[:,'congress_total'] = elect.loc[:,'rep_congress'] + elect.loc[:,'dem_congress']\n",
    "elect.loc[:,'prior_president_total'] = elect.loc[:,'prior_rep_president'] + elect.loc[:,'prior_dem_president']\n",
    "\n",
    "elect.loc[:,'rep_senate_margin'] = (elect.loc[:,'rep_senate']/\n",
    "                                    elect.loc[:,'senate_total']) - (elect.loc[:,'dem_senate']/\n",
    "                                                                    elect.loc[:,'senate_total'])\n",
    "\n",
    "elect.loc[:,'rep_congress_margin'] = (elect.loc[:,'rep_congress']/\n",
    "                                     elect.loc[:,'congress_total']) - (elect.loc[:,'dem_congress']/\n",
    "                                                                       elect.loc[:,'congress_total'])\n",
    "\n",
    "elect.loc[:,'prior_rep_president_margin'] = (elect.loc[:,'prior_rep_president']/\n",
    "                                         elect.loc[:,'prior_president_total']) - (elect.loc[:,'prior_dem_president']/\n",
    "                                                                                  elect.loc[:,'prior_president_total'])"
   ]
  },
  {
   "cell_type": "markdown",
   "metadata": {},
   "source": [
    "We'll look at only elections that had prior presidential elections"
   ]
  },
  {
   "cell_type": "code",
   "execution_count": 33,
   "metadata": {
    "collapsed": false
   },
   "outputs": [],
   "source": [
    "off_pres_cycle = elect[elect.prior_rep_president.notnull()]"
   ]
  },
  {
   "cell_type": "code",
   "execution_count": 34,
   "metadata": {
    "collapsed": false
   },
   "outputs": [
    {
     "data": {
      "text/plain": [
       "[1990, 1994, 1996, 1998]"
      ]
     },
     "execution_count": 34,
     "metadata": {},
     "output_type": "execute_result"
    }
   ],
   "source": [
    "sorted(off_pres_cycle.year.unique())"
   ]
  },
  {
   "cell_type": "code",
   "execution_count": 36,
   "metadata": {
    "collapsed": false
   },
   "outputs": [],
   "source": [
    "off_pres_cycle.fillna(0,inplace=True)"
   ]
  },
  {
   "cell_type": "code",
   "execution_count": 50,
   "metadata": {
    "collapsed": false
   },
   "outputs": [],
   "source": [
    "years = sorted(off_pres_cycle.year.unique())\n",
    "x_cols = ['state', 'prior_rep_president_margin']\n",
    "y_cols = ['rep_congress_margin', 'rep_senate_margin']\n",
    "cols = x_cols + y_cols"
   ]
  },
  {
   "cell_type": "markdown",
   "metadata": {},
   "source": [
    "Let's look at these years one by one. (It'd be nice to just loop through the years, but matplotlib likes to just plot on the same graph if we loop)"
   ]
  },
  {
   "cell_type": "code",
   "execution_count": 116,
   "metadata": {
    "collapsed": false
   },
   "outputs": [],
   "source": [
    "def show_lin_relationship(data, year, cols):\n",
    "\n",
    "    df = data[data.year.isin([year])][cols + ['prior_year']]\n",
    "\n",
    "    prior_year = int(df['prior_year'].unique()[0])\n",
    "    x = df[cols[1]]\n",
    "    y = df[cols[2]]\n",
    "\n",
    "    print '{0} {1}:{2}'.format(i, cols[1], cols[2])\n",
    "    \n",
    "    formula = 'y = {0}x + {1}'.format(slope, intercept)\n",
    "    r2 = r_value**2\n",
    "    print formula\n",
    "    print 'p-value: \\t', p_value#, std_err, \n",
    "    print 'R2: \\t\\t', r2\n",
    "        \n",
    "    plt.scatter(x, y, label='')\n",
    "    plt.plot(x, slope*x + intercept, '-', label='{0}\\nr2={1}'.format(formula, r2))\n",
    "    plt.xlabel('{0} {1}'.format(prior_year, cols[1]))\n",
    "    plt.ylabel('{0} {1}'.format(year, cols[2]))\n",
    "    \n",
    "    plt.legend(loc='lower right')\n",
    "\n",
    "#     return sns.regplot(x=X, y=y)\n",
    "    "
   ]
  },
  {
   "cell_type": "markdown",
   "metadata": {},
   "source": [
    "#### 1996 Presidential > 1998 Senate Election"
   ]
  },
  {
   "cell_type": "code",
   "execution_count": 117,
   "metadata": {
    "collapsed": false
   },
   "outputs": [
    {
     "name": "stdout",
     "output_type": "stream",
     "text": [
      "1998 prior_rep_president_margin:rep_senate_margin\n",
      "y = 0.793088544496x + 0.0517908029185\n",
      "p-value: \t0.000333346295318\n",
      "R2: \t\t0.237331982364\n"
     ]
    },
    {
     "data": {
      "image/png": "[encoded data removed]",
      "text/plain": [
       "<matplotlib.figure.Figure at 0x10cc1c9d0>"
      ]
     },
     "metadata": {},
     "output_type": "display_data"
    }
   ],
   "source": [
    "i = 1998\n",
    "cols = ['state', 'prior_rep_president_margin', 'rep_senate_margin']\n",
    "show_lin_relationship(off_pres_cycle, i, cols)"
   ]
  },
  {
   "cell_type": "markdown",
   "metadata": {},
   "source": [
    "#### 1996 Presidential > 1998 Congressional Election"
   ]
  },
  {
   "cell_type": "code",
   "execution_count": 118,
   "metadata": {
    "collapsed": false,
    "scrolled": true
   },
   "outputs": [
    {
     "name": "stdout",
     "output_type": "stream",
     "text": [
      "1998 prior_rep_president_margin:rep_congress_margin\n",
      "y = 1.09115309147x + 0.104243308174\n",
      "p-value: \t9.51103543251e-07\n",
      "R2: \t\t0.396814518953\n"
     ]
    },
    {
     "data": {
      "image/png": "[encoded data removed]",
      "text/plain": [
       "<matplotlib.figure.Figure at 0x10c7cd9d0>"
      ]
     },
     "metadata": {},
     "output_type": "display_data"
    }
   ],
   "source": [
    "i = 1998\n",
    "cols = ['state', 'prior_rep_president_margin', 'rep_congress_margin']\n",
    "\n",
    "show_lin_relationship(off_pres_cycle, i, cols)"
   ]
  },
  {
   "cell_type": "markdown",
   "metadata": {},
   "source": [
    "#### 1992 Presidential > 1994 Congressional Election"
   ]
  },
  {
   "cell_type": "code",
   "execution_count": 119,
   "metadata": {
    "collapsed": false
   },
   "outputs": [
    {
     "name": "stdout",
     "output_type": "stream",
     "text": [
      "1994 prior_rep_president_margin:rep_congress_margin\n",
      "y = 0.623287687321x + 0.0967130483032\n",
      "p-value: \t0.00163571700308\n",
      "R2: \t\t0.192054837709\n"
     ]
    },
    {
     "data": {
      "image/png": "[encoded data removed]",
      "text/plain": [
       "<matplotlib.figure.Figure at 0x10cc9ef90>"
      ]
     },
     "metadata": {},
     "output_type": "display_data"
    }
   ],
   "source": [
    "i = 1994\n",
    "cols = ['state', 'prior_rep_president_margin', 'rep_congress_margin']\n",
    "\n",
    "show_lin_relationship(off_pres_cycle, i, cols)"
   ]
  },
  {
   "cell_type": "markdown",
   "metadata": {},
   "source": [
    "#### 1992 Presidential > 1994 Senate Election"
   ]
  },
  {
   "cell_type": "code",
   "execution_count": 120,
   "metadata": {
    "collapsed": false
   },
   "outputs": [
    {
     "name": "stdout",
     "output_type": "stream",
     "text": [
      "1994 prior_rep_president_margin:rep_senate_margin\n",
      "y = 0.423862521796x + 0.0553155343235\n",
      "p-value: \t0.048572936784\n",
      "R2: \t\t0.0802431322867\n"
     ]
    },
    {
     "data": {
      "image/png": "[encoded data removed]",
      "text/plain": [
       "<matplotlib.figure.Figure at 0x10cc40b90>"
      ]
     },
     "metadata": {},
     "output_type": "display_data"
    }
   ],
   "source": [
    "i = 1994\n",
    "cols = ['state', 'prior_rep_president_margin', 'rep_senate_margin']\n",
    "\n",
    "show_lin_relationship(off_pres_cycle, i, cols)"
   ]
  },
  {
   "cell_type": "markdown",
   "metadata": {},
   "source": [
    "#### 1998 Presidential > 1990 Senate Election"
   ]
  },
  {
   "cell_type": "code",
   "execution_count": 121,
   "metadata": {
    "collapsed": false
   },
   "outputs": [
    {
     "name": "stdout",
     "output_type": "stream",
     "text": [
      "1990 prior_rep_president_margin:rep_senate_margin\n",
      "y = 0.511164099099x + -0.0559237978217\n",
      "p-value: \t0.0603594946142\n",
      "R2: \t\t0.0715639454839\n"
     ]
    },
    {
     "data": {
      "image/png": "[encoded data removed]",
      "text/plain": [
       "<matplotlib.figure.Figure at 0x10c5038d0>"
      ]
     },
     "metadata": {},
     "output_type": "display_data"
    }
   ],
   "source": [
    "i = 1990\n",
    "cols = ['state', 'prior_rep_president_margin', 'rep_senate_margin']\n",
    "show_lin_relationship(off_pres_cycle, i, cols)"
   ]
  },
  {
   "cell_type": "markdown",
   "metadata": {},
   "source": [
    "#### 1998 Presidential > 1990 Congressional Election"
   ]
  },
  {
   "cell_type": "code",
   "execution_count": 122,
   "metadata": {
    "collapsed": false
   },
   "outputs": [
    {
     "name": "stdout",
     "output_type": "stream",
     "text": [
      "1990 prior_rep_president_margin:rep_congress_margin\n",
      "y = 0.0541455369402x + -0.0865152195732\n",
      "p-value: \t0.8436514397\n",
      "R2: \t\t0.000818518145681\n"
     ]
    },
    {
     "data": {
      "image/png": "[encoded data removed]",
      "text/plain": [
       "<matplotlib.figure.Figure at 0x10bfe1510>"
      ]
     },
     "metadata": {},
     "output_type": "display_data"
    }
   ],
   "source": [
    "i = 1990\n",
    "cols = ['state', 'prior_rep_president_margin', 'rep_congress_margin']\n",
    "show_lin_relationship(off_pres_cycle, i, cols)"
   ]
  }
 ],
 "metadata": {
  "kernelspec": {
   "display_name": "Python 2",
   "language": "python",
   "name": "python2"
  },
  "language_info": {
   "codemirror_mode": {
    "name": "ipython",
    "version": 2
   },
   "file_extension": ".py",
   "mimetype": "text/x-python",
   "name": "python",
   "nbconvert_exporter": "python",
   "pygments_lexer": "ipython2",
   "version": "2.7.11"
  }
 },
 "nbformat": 4,
 "nbformat_minor": 0
}
